{
 "cells": [
  {
   "cell_type": "markdown",
   "metadata": {},
   "source": [
    "### Null checks"
   ]
  },
  {
   "cell_type": "code",
   "execution_count": 1,
   "metadata": {},
   "outputs": [
    {
     "name": "stdout",
     "output_type": "stream",
     "text": [
      "42\n",
      "42\n"
     ]
    }
   ],
   "source": [
    "# Null check: OK version 🤔 - Explicit \"if x is not None\" ❌\n",
    "\n",
    "n=42\n",
    "\n",
    "if n is not None:\n",
    "    print(n)\n",
    "\n",
    "# Alternate Code \n",
    "if n:\n",
    "    print(n)"
   ]
  },
  {
   "cell_type": "markdown",
   "metadata": {},
   "source": [
    "### Included values"
   ]
  },
  {
   "cell_type": "code",
   "execution_count": 2,
   "metadata": {},
   "outputs": [
    {
     "name": "stdout",
     "output_type": "stream",
     "text": [
      "Rust is in the list\n",
      "Rust is in the list\n"
     ]
    }
   ],
   "source": [
    "# Check if a value is contained in a list\n",
    "\n",
    "L = ['Javascript', 'Python', 'Java', 'C++', 'C#', 'Ruby', 'PHP', 'Swift', 'Go', 'Rust']\n",
    "x = 'Rust'\n",
    "\n",
    "for i in range(len(L)):\n",
    "    if x == L[i]:\n",
    "        print(f'{x} is in the list')\n",
    "\n",
    "# Alternate Code\n",
    "if x in L:\n",
    "    print(f'{x} is in the list')"
   ]
  },
  {
   "cell_type": "markdown",
   "metadata": {},
   "source": [
    "### List Comprehensions"
   ]
  },
  {
   "cell_type": "code",
   "execution_count": 5,
   "metadata": {},
   "outputs": [],
   "source": [
    "# OK version 🤔 - For loop and append ❌ \n",
    "\n",
    "squares = []\n",
    "for i in range(5):\n",
    "    squares.append(i**2)\n",
    "\n",
    "# Alternate Code (Use list comprehension)\n",
    "squares = [i**2 for i in range(5)]\n",
    "\n",
    "# Bonus Tip 💡: You can also use dictionary, set, and generator comprehensions\n",
    "squares_dict = {i: i**2 for i in range(5)}\n",
    "squares_set = {i**2 for i in range(5)}\n",
    "squares_gen = (i**2 for i in range(5))"
   ]
  },
  {
   "cell_type": "markdown",
   "metadata": {},
   "source": [
    "### Using Any/All"
   ]
  },
  {
   "cell_type": "code",
   "execution_count": 9,
   "metadata": {},
   "outputs": [
    {
     "name": "stdout",
     "output_type": "stream",
     "text": [
      "True\n",
      "False\n"
     ]
    }
   ],
   "source": [
    "nums = [1,2,3,4,5,-6,-9,-3,-2,10,11]\n",
    "is_true = False\n",
    "\n",
    "for i in nums:\n",
    "    if i<0:\n",
    "        is_true = True\n",
    "\n",
    "# Alternate Code\n",
    "contains_neg = any(i<0 for i in nums)\n",
    "print(contains_neg)\n",
    "\n",
    "# Python also has built in all-function\n",
    "all_neg = all(i<0 for i in nums)\n",
    "print(all_neg)"
   ]
  },
  {
   "cell_type": "markdown",
   "metadata": {},
   "source": [
    "### Iterations\n"
   ]
  },
  {
   "cell_type": "code",
   "execution_count": 4,
   "metadata": {},
   "outputs": [
    {
     "name": "stdout",
     "output_type": "stream",
     "text": [
      "0 Hello\n",
      "1 How\n",
      "2 Are\n",
      "3 You\n",
      "0 Hello\n",
      "1 How\n",
      "2 Are\n",
      "3 You\n"
     ]
    }
   ],
   "source": [
    "L = [\"Hello\",\"How\",\"Are\",\"You\"]\n",
    "\n",
    "for i in range(len(L)):\n",
    "    val = L[i]\n",
    "    print(i,val)\n",
    "\n",
    "# Alternate Code\n",
    "for i , val in enumerate(L):\n",
    "    print(i, val    )"
   ]
  },
  {
   "cell_type": "markdown",
   "metadata": {},
   "source": [
    "* Bonus Tip: These ideas also apply when iterating over multiple lists. We can iterate directly over values in two collections using zip. If an index is required, we can use a combination of enumerate and zip"
   ]
  },
  {
   "cell_type": "code",
   "execution_count": 9,
   "metadata": {},
   "outputs": [
    {
     "name": "stdout",
     "output_type": "stream",
     "text": [
      "Hello 1\n",
      "How 2\n",
      "Are 3\n",
      "You 4\n",
      "Hello 1\n",
      "How 2\n",
      "Are 3\n",
      "You 4\n",
      "0 Hello 1\n",
      "1 How 2\n",
      "2 Are 3\n",
      "3 You 4\n"
     ]
    }
   ],
   "source": [
    "L = [\"Hello\", \"How\", \"Are\", \"You\"]\n",
    "B = [\"1\", \"2\", \"3\", \"4\"]\n",
    "\n",
    "for i in range(len(L)):\n",
    "    va, vb = L[i], B[i]\n",
    "    print( va, vb)\n",
    "\n",
    "# Now using the pythonic version using zip\n",
    "\n",
    "for va, vb in zip(L, B):\n",
    "    print(va, vb)\n",
    "\n",
    "# Now using a combination of zip and enumerate to get the index also\n",
    "for i,(va,vb) in enumerate(zip(L,B)):\n",
    "    print(i , va , vb)"
   ]
  },
  {
   "cell_type": "markdown",
   "metadata": {},
   "source": [
    "### Tuple Unpacking"
   ]
  },
  {
   "cell_type": "code",
   "execution_count": 10,
   "metadata": {},
   "outputs": [],
   "source": [
    "some_tuples = (1,2,3)\n",
    "\n",
    "x = some_tuples[0]\n",
    "y = some_tuples[1]\n",
    "z= some_tuples[2]\n",
    "\n",
    "# Alternate code\n",
    "\n",
    "x ,y,z = some_tuples"
   ]
  },
  {
   "cell_type": "markdown",
   "metadata": {},
   "source": [
    "### Ternary Operators"
   ]
  },
  {
   "cell_type": "code",
   "execution_count": 12,
   "metadata": {},
   "outputs": [
    {
     "name": "stdout",
     "output_type": "stream",
     "text": [
      "negative\n"
     ]
    }
   ],
   "source": [
    "a = -32\n",
    "\n",
    "\n",
    "\n",
    "if a > 0:\n",
    "    sign = \"positive\"\n",
    "else:\n",
    "    sign = \"negative\"\n",
    "\n",
    "# Alternate code\n",
    "\n",
    "sign = \"positive\" if (a>0) else \"negative\"\n",
    "print(sign)"
   ]
  },
  {
   "cell_type": "markdown",
   "metadata": {},
   "source": [
    "### Generators"
   ]
  },
  {
   "cell_type": "code",
   "execution_count": null,
   "metadata": {},
   "outputs": [
    {
     "name": "stdout",
     "output_type": "stream",
     "text": [
      "933098400\n",
      "351064\n",
      "933098400\n",
      "192\n"
     ]
    }
   ],
   "source": [
    "from sys import getsizeof\n",
    "\n",
    "L = [n for n in range(43_200)]\n",
    "print(sum(L))\n",
    "print(getsizeof(L)) # 351064 bytes of memory \n",
    "\n",
    "# Alternatively using a generator instead of a List\n",
    "L = (n for n in range(43_200))\n",
    "print(sum(L))\n",
    "print(getsizeof(L)) # 192 bytes of memory "
   ]
  },
  {
   "cell_type": "markdown",
   "metadata": {},
   "source": [
    "### Mutable Default Arguments"
   ]
  },
  {
   "cell_type": "code",
   "execution_count": 2,
   "metadata": {},
   "outputs": [
    {
     "name": "stdout",
     "output_type": "stream",
     "text": [
      "[22, 56]\n",
      "[22, 56]\n",
      "[43]\n",
      "[78]\n"
     ]
    }
   ],
   "source": [
    "def append_element(elem , L = []):\n",
    "    L.append(elem)\n",
    "    return L\n",
    "\n",
    "a = append_element(22)\n",
    "b = append_element(56)\n",
    "print(a)\n",
    "print(b)\n",
    "\n",
    "# Alternate code to it \n",
    "def append_element1(elem , L=None):\n",
    "    if L is None:\n",
    "        L = []\n",
    "    L.append(elem)\n",
    "    return L\n",
    "\n",
    "a1 = append_element1(43)\n",
    "a2 = append_element1(78)\n",
    "print(a1)\n",
    "print(a2)"
   ]
  },
  {
   "cell_type": "markdown",
   "metadata": {},
   "source": [
    "### Context Managers"
   ]
  },
  {
   "cell_type": "code",
   "execution_count": 7,
   "metadata": {},
   "outputs": [],
   "source": [
    "# Managing files - using open and f.close() ❌\n",
    "\n",
    "file = open(\"file.txt\",'w')\n",
    "file.write(\"Hello Mom!!\")\n",
    "file.close()\n",
    "\n",
    "# Managing this with a context manager\n",
    "\n",
    "with open(\"file.txt\",'w') as file:\n",
    "    file.write(\"Hello SIS!!\")\n"
   ]
  }
 ],
 "metadata": {
  "kernelspec": {
   "display_name": "smit-env",
   "language": "python",
   "name": "python3"
  },
  "language_info": {
   "codemirror_mode": {
    "name": "ipython",
    "version": 3
   },
   "file_extension": ".py",
   "mimetype": "text/x-python",
   "name": "python",
   "nbconvert_exporter": "python",
   "pygments_lexer": "ipython3",
   "version": "3.12.8"
  }
 },
 "nbformat": 4,
 "nbformat_minor": 2
}
