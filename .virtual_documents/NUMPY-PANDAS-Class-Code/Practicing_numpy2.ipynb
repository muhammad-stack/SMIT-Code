





import numpy as np
a = np.zeros((4,4))
b = np.ones((4,4))



a


b


np.hstack((a,b))


np.vstack((a,b))


np.dstack((a,b))


import numpy as np
a = np.arange(16).reshape(4,4)
b = np.arange(16,32).reshape(4,4)

np.dstack((a,b))


np.concatenate((a,b),axis =1)


np.concatenate((a,b),axis =0)


np.hstack((a,b))


np.vstack((a,b))








a


np.split(a,2)


np.hsplit(a,2)



np.vsplit(a,2)


print(np.split(a,2,axis=1))
print('-------------------------------------------')
print(np.split(a,2,axis=0))





m = np.arange(10,19).reshape(3,3)


m


print("{} min of the entire matrix".format(m.min()))


print("{} max of the entire matrix".format(m.max()))


print("{} min args of the entire matrix".format(m.argmin()))


print("{} max arg of the entire matrix".format(m.argmax()))


print("{} min row of the entire matrix".format(m.min(axis = 0)))


print("{} min col of the entire matrix".format(m.min(axis=1)))


m.mean()


m.std()


m.var()





m.sum()


m.prod()


m.cumsum()


print(m.cumsum(axis=0))
print('-------------------------------------------')
print(m.cumsum(axis=1))


(m > 5).any() , (m<10).all()





a = np.arange(9).reshape(3,3)
a


a[[1,0,2],[0,1,2]] # fancy indexing


# For supposition i first want second col then first col

a[:,[2,1]] # fancy indexing





arr = np.arange(15).reshape(3,5)
arr


arr.T


# It multiplies the matrix with its transpose
np.dot(arr,arr.T)


# The @ infix operator is another way to do matrix multiplication:
arr @ arr.T


# ndarray has also a special method for swqpping axes if needed:
# This is useful for multidimensional arrays, but in this case it is equivalent to the transpose:
arr.swapaxes(0,1)





samples = np.random.standard_normal(size = (4,4))


samples





arr = np.arange(9)
arr


# These are called as ufuncs or universal functions as it performs elements wise operation on nd-arrays
np.sqrt(arr)


np.exp(arr)


# These are referred to as unary funcs 
rng = np.random.default_rng(seed=1234)

x = rng.standard_normal(8)
y = rng.standard_normal(8)

print(x)
print(y)

np.maximum(x,y)


help(np.maximum)


arr = rng.standard_normal(7) * 5
arr


remainder , whole_part = np.modf(arr)

remainder


whole_part


out = np.zeros_like(arr)
out


np.add(arr,1)


np.add(arr,1,out=out)


arr


out


help(np.floor)





#                start        stop     step  
points = np.arange(-5,5,0.01)

# The mesh grid function takes two one-d-arrays and produces two two-dimensional matrices corresponding to all pairs of (x,y) in the 
# two arrays
xs , ys = np.meshgrid(points,points)

display(np.size(ys))
display(ys)


# Points is a one d-array
np.ndim(points)


z = np.sqrt(xs ** 2 + ys ** 2)
z


!pip install matplotlib


import matplotlib.pyplot as plt

plt.imshow(z , cmap =plt.cm.gray , extent=[-5,5,-5,5])

plt.colorbar()

plt.title("Image plot of $\sqrt{x^2 + y^2}$ for a grid of values")


plt.close('all')





# The np.where function is a vectorized version of the ternary expression `x if condition else y`

xarr = np.array([1.1, 1.2, 1.3, 1.4, 1.5])
yarr = np.array([2.1, 2.2, 2.3, 2.4, 2.5])

cond = np.array([True, False, True, True, False])


# Traditional Method Using List Comprehensions
    # -Pitfall (cannot Handle multi-dimensional arrays) and takes larger time with big arrays
result = [(x if c else y) for x,c,y in zip(xarr,cond,yarr)]


result


# Using the np.where method
result = np.where(cond,xarr,yarr)
result


arr= rng.standard_normal((4,4))
arr


arr > 0


np.where(arr > 0,2,-2)


np.where(arr>0 ,2,arr)


# Generating some normally distributed random data and computing some statisitics
# on it

arr = rng.standard_normal((5,4))
arr


arr.mean()


np.mean(arr)


arr.sum()


arr.mean(axis=1)


arr.mean(axis=0)


arr = np.array([6,1,2,3,4,5,6,7])

arr.cumsum()


arr.cumprod()


arr = np.array([[0,1,2],[3,4,5],[6,7,8]])
arr


arr.cumsum(axis=0)


arr.std()


arr.var()


arr.min()


arr.argmax()





arr = rng.standard_normal(100)



(arr>0).sum()


(arr<0).sum()


bools = np.array([True,False,False,True,False])

bools.any()


bools.all()





arr = rng.standard_normal(6)
arr


arr.sort()


arr


arr = rng.standard_normal((5,3))
arr


# In sort axis 0 sort the values within each column while axis 1 sort values within each rows
arr.sort(axis=0)


arr





arr2 = np.array([5, -10, 7, 1, 0, -3])
sortedarr_2 = np.sort(arr2)
sortedarr_2





names = np.array(["Bob", "Will", "Joe", "Bob", "Will", "Joe","Joe"])
np.unique(names)


# The unique func in numpy is alternate to this in python
sorted(set(names))


# Another func , numpy.in1d tests membership of the values in one array in another,returning a Boolean Array

arr = [1,7,8,9,0,0,4,5,4,5,7,67,6,4,3]

np.in1d(arr,[2,3,5])






import numpy as np

arr = np.arange(5)

np.save("some_arr",arr)


np.load("some_arr.npy")



