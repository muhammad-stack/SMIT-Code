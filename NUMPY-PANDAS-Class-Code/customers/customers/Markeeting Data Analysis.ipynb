{
 "cells": [
  {
   "cell_type": "code",
   "execution_count": 2,
   "id": "f088c438-4f11-49bd-937e-e421b564a675",
   "metadata": {},
   "outputs": [],
   "source": [
    "import pandas as pd"
   ]
  },
  {
   "cell_type": "markdown",
   "id": "441eab0b-24d1-4db7-ba83-588d0f17b096",
   "metadata": {},
   "source": [
    "# 1- Customer Data"
   ]
  },
  {
   "cell_type": "code",
   "execution_count": 3,
   "id": "9931e460-b423-4871-8c07-675258c56da8",
   "metadata": {},
   "outputs": [
    {
     "data": {
      "text/html": [
       "<div>\n",
       "<style scoped>\n",
       "    .dataframe tbody tr th:only-of-type {\n",
       "        vertical-align: middle;\n",
       "    }\n",
       "\n",
       "    .dataframe tbody tr th {\n",
       "        vertical-align: top;\n",
       "    }\n",
       "\n",
       "    .dataframe thead th {\n",
       "        text-align: right;\n",
       "    }\n",
       "</style>\n",
       "<table border=\"1\" class=\"dataframe\">\n",
       "  <thead>\n",
       "    <tr style=\"text-align: right;\">\n",
       "      <th></th>\n",
       "      <th>CustomerID</th>\n",
       "      <th>CustomerName</th>\n",
       "      <th>Email</th>\n",
       "      <th>Gender</th>\n",
       "      <th>Age</th>\n",
       "      <th>GeographyID</th>\n",
       "    </tr>\n",
       "  </thead>\n",
       "  <tbody>\n",
       "    <tr>\n",
       "      <th>0</th>\n",
       "      <td>1</td>\n",
       "      <td>Emma Anderson</td>\n",
       "      <td>emma.anderson@example.com</td>\n",
       "      <td>Male</td>\n",
       "      <td>50</td>\n",
       "      <td>2</td>\n",
       "    </tr>\n",
       "    <tr>\n",
       "      <th>1</th>\n",
       "      <td>2</td>\n",
       "      <td>Sarah Brown</td>\n",
       "      <td>sarah.brown@example.com</td>\n",
       "      <td>Female</td>\n",
       "      <td>37</td>\n",
       "      <td>4</td>\n",
       "    </tr>\n",
       "    <tr>\n",
       "      <th>2</th>\n",
       "      <td>3</td>\n",
       "      <td>Robert Hernandez</td>\n",
       "      <td>robert.hernandez@example.com</td>\n",
       "      <td>Female</td>\n",
       "      <td>26</td>\n",
       "      <td>6</td>\n",
       "    </tr>\n",
       "    <tr>\n",
       "      <th>3</th>\n",
       "      <td>4</td>\n",
       "      <td>David Garcia</td>\n",
       "      <td>david.garcia@example.com</td>\n",
       "      <td>Male</td>\n",
       "      <td>25</td>\n",
       "      <td>8</td>\n",
       "    </tr>\n",
       "    <tr>\n",
       "      <th>4</th>\n",
       "      <td>5</td>\n",
       "      <td>Emma Miller</td>\n",
       "      <td>emma.miller@example.com</td>\n",
       "      <td>Female</td>\n",
       "      <td>41</td>\n",
       "      <td>4</td>\n",
       "    </tr>\n",
       "    <tr>\n",
       "      <th>...</th>\n",
       "      <td>...</td>\n",
       "      <td>...</td>\n",
       "      <td>...</td>\n",
       "      <td>...</td>\n",
       "      <td>...</td>\n",
       "      <td>...</td>\n",
       "    </tr>\n",
       "    <tr>\n",
       "      <th>95</th>\n",
       "      <td>96</td>\n",
       "      <td>Emily Gonzalez</td>\n",
       "      <td>emily.gonzalez@example.com</td>\n",
       "      <td>Female</td>\n",
       "      <td>38</td>\n",
       "      <td>10</td>\n",
       "    </tr>\n",
       "    <tr>\n",
       "      <th>96</th>\n",
       "      <td>97</td>\n",
       "      <td>Emily Rodriguez</td>\n",
       "      <td>emily.rodriguez@example.com</td>\n",
       "      <td>Female</td>\n",
       "      <td>51</td>\n",
       "      <td>3</td>\n",
       "    </tr>\n",
       "    <tr>\n",
       "      <th>97</th>\n",
       "      <td>98</td>\n",
       "      <td>Chris Lopez</td>\n",
       "      <td>chris.lopez@example.com</td>\n",
       "      <td>Female</td>\n",
       "      <td>55</td>\n",
       "      <td>10</td>\n",
       "    </tr>\n",
       "    <tr>\n",
       "      <th>98</th>\n",
       "      <td>99</td>\n",
       "      <td>Laura Hernandez</td>\n",
       "      <td>laura.hernandez@example.com</td>\n",
       "      <td>Male</td>\n",
       "      <td>41</td>\n",
       "      <td>5</td>\n",
       "    </tr>\n",
       "    <tr>\n",
       "      <th>99</th>\n",
       "      <td>100</td>\n",
       "      <td>Jane Brown</td>\n",
       "      <td>jane.brown@example.com</td>\n",
       "      <td>Female</td>\n",
       "      <td>45</td>\n",
       "      <td>10</td>\n",
       "    </tr>\n",
       "  </tbody>\n",
       "</table>\n",
       "<p>100 rows × 6 columns</p>\n",
       "</div>"
      ],
      "text/plain": [
       "    CustomerID      CustomerName                         Email  Gender  Age  \\\n",
       "0            1     Emma Anderson     emma.anderson@example.com    Male   50   \n",
       "1            2       Sarah Brown       sarah.brown@example.com  Female   37   \n",
       "2            3  Robert Hernandez  robert.hernandez@example.com  Female   26   \n",
       "3            4      David Garcia      david.garcia@example.com    Male   25   \n",
       "4            5       Emma Miller       emma.miller@example.com  Female   41   \n",
       "..         ...               ...                           ...     ...  ...   \n",
       "95          96    Emily Gonzalez    emily.gonzalez@example.com  Female   38   \n",
       "96          97   Emily Rodriguez   emily.rodriguez@example.com  Female   51   \n",
       "97          98       Chris Lopez       chris.lopez@example.com  Female   55   \n",
       "98          99   Laura Hernandez   laura.hernandez@example.com    Male   41   \n",
       "99         100        Jane Brown        jane.brown@example.com  Female   45   \n",
       "\n",
       "    GeographyID  \n",
       "0             2  \n",
       "1             4  \n",
       "2             6  \n",
       "3             8  \n",
       "4             4  \n",
       "..          ...  \n",
       "95           10  \n",
       "96            3  \n",
       "97           10  \n",
       "98            5  \n",
       "99           10  \n",
       "\n",
       "[100 rows x 6 columns]"
      ]
     },
     "execution_count": 3,
     "metadata": {},
     "output_type": "execute_result"
    }
   ],
   "source": [
    "customers = pd.read_csv(\"customers.csv\")\n",
    "customers"
   ]
  },
  {
   "cell_type": "code",
   "execution_count": 4,
   "id": "42773776-e4f2-4ab0-ae99-e74c67b6aa6f",
   "metadata": {},
   "outputs": [
    {
     "data": {
      "text/plain": [
       "(100, 6)"
      ]
     },
     "execution_count": 4,
     "metadata": {},
     "output_type": "execute_result"
    }
   ],
   "source": [
    "customers.shape"
   ]
  },
  {
   "cell_type": "code",
   "execution_count": 5,
   "id": "0138ad70-4c01-4f8f-b435-3716585a7055",
   "metadata": {},
   "outputs": [
    {
     "name": "stdout",
     "output_type": "stream",
     "text": [
      "<class 'pandas.core.frame.DataFrame'>\n",
      "RangeIndex: 100 entries, 0 to 99\n",
      "Data columns (total 6 columns):\n",
      " #   Column        Non-Null Count  Dtype \n",
      "---  ------        --------------  ----- \n",
      " 0   CustomerID    100 non-null    int64 \n",
      " 1   CustomerName  100 non-null    object\n",
      " 2   Email         100 non-null    object\n",
      " 3   Gender        100 non-null    object\n",
      " 4   Age           100 non-null    int64 \n",
      " 5   GeographyID   100 non-null    int64 \n",
      "dtypes: int64(3), object(3)\n",
      "memory usage: 4.8+ KB\n"
     ]
    }
   ],
   "source": [
    "customers.info()"
   ]
  },
  {
   "cell_type": "code",
   "execution_count": 6,
   "id": "7dcbb4e3-f60d-44b9-ae11-0cbde317e565",
   "metadata": {},
   "outputs": [
    {
     "data": {
      "text/plain": [
       "0"
      ]
     },
     "execution_count": 6,
     "metadata": {},
     "output_type": "execute_result"
    }
   ],
   "source": [
    "customers.duplicated().sum()"
   ]
  },
  {
   "cell_type": "code",
   "execution_count": 7,
   "id": "35adc315-eedd-490b-b409-03da41ad8f51",
   "metadata": {},
   "outputs": [
    {
     "data": {
      "text/plain": [
       "CustomerID      0\n",
       "CustomerName    0\n",
       "Email           0\n",
       "Gender          0\n",
       "Age             0\n",
       "GeographyID     0\n",
       "dtype: int64"
      ]
     },
     "execution_count": 7,
     "metadata": {},
     "output_type": "execute_result"
    }
   ],
   "source": [
    "customers.isna().sum()"
   ]
  },
  {
   "cell_type": "code",
   "execution_count": 8,
   "id": "3262d851-c3a1-4908-8030-6cd26407f911",
   "metadata": {},
   "outputs": [
    {
     "data": {
      "text/plain": [
       "Gender\n",
       "Female    54\n",
       "Male      46\n",
       "Name: count, dtype: int64"
      ]
     },
     "execution_count": 8,
     "metadata": {},
     "output_type": "execute_result"
    }
   ],
   "source": [
    "customers.Gender.value_counts()"
   ]
  },
  {
   "cell_type": "code",
   "execution_count": 9,
   "id": "7c6f85a6-14e9-4762-9047-dc6c7dd74721",
   "metadata": {},
   "outputs": [
    {
     "data": {
      "text/plain": [
       "(18, 69, 41.99)"
      ]
     },
     "execution_count": 9,
     "metadata": {},
     "output_type": "execute_result"
    }
   ],
   "source": [
    "customers.Age.min(), customers.Age.max(), customers.Age.mean()"
   ]
  },
  {
   "cell_type": "markdown",
   "id": "da57c50f-1c54-4019-9748-9d14e968ef4c",
   "metadata": {},
   "source": [
    "# 2- Products Data "
   ]
  },
  {
   "cell_type": "code",
   "execution_count": 10,
   "id": "17f479eb-ff43-4cd1-b3b8-260dbc96a4c2",
   "metadata": {},
   "outputs": [
    {
     "data": {
      "text/html": [
       "<div>\n",
       "<style scoped>\n",
       "    .dataframe tbody tr th:only-of-type {\n",
       "        vertical-align: middle;\n",
       "    }\n",
       "\n",
       "    .dataframe tbody tr th {\n",
       "        vertical-align: top;\n",
       "    }\n",
       "\n",
       "    .dataframe thead th {\n",
       "        text-align: right;\n",
       "    }\n",
       "</style>\n",
       "<table border=\"1\" class=\"dataframe\">\n",
       "  <thead>\n",
       "    <tr style=\"text-align: right;\">\n",
       "      <th></th>\n",
       "      <th>ProductID</th>\n",
       "      <th>ProductName</th>\n",
       "      <th>Category</th>\n",
       "      <th>Price</th>\n",
       "    </tr>\n",
       "  </thead>\n",
       "  <tbody>\n",
       "    <tr>\n",
       "      <th>0</th>\n",
       "      <td>1</td>\n",
       "      <td>Running Shoes</td>\n",
       "      <td>Sports</td>\n",
       "      <td>223.75</td>\n",
       "    </tr>\n",
       "    <tr>\n",
       "      <th>1</th>\n",
       "      <td>2</td>\n",
       "      <td>Fitness Tracker</td>\n",
       "      <td>Sports</td>\n",
       "      <td>196.68</td>\n",
       "    </tr>\n",
       "    <tr>\n",
       "      <th>2</th>\n",
       "      <td>3</td>\n",
       "      <td>Yoga Mat</td>\n",
       "      <td>Sports</td>\n",
       "      <td>485.32</td>\n",
       "    </tr>\n",
       "    <tr>\n",
       "      <th>3</th>\n",
       "      <td>4</td>\n",
       "      <td>Dumbbells</td>\n",
       "      <td>Sports</td>\n",
       "      <td>26.21</td>\n",
       "    </tr>\n",
       "    <tr>\n",
       "      <th>4</th>\n",
       "      <td>5</td>\n",
       "      <td>Soccer Ball</td>\n",
       "      <td>Sports</td>\n",
       "      <td>41.26</td>\n",
       "    </tr>\n",
       "    <tr>\n",
       "      <th>5</th>\n",
       "      <td>6</td>\n",
       "      <td>Tennis Racket</td>\n",
       "      <td>Sports</td>\n",
       "      <td>36.07</td>\n",
       "    </tr>\n",
       "    <tr>\n",
       "      <th>6</th>\n",
       "      <td>7</td>\n",
       "      <td>Basketball</td>\n",
       "      <td>Sports</td>\n",
       "      <td>225.12</td>\n",
       "    </tr>\n",
       "    <tr>\n",
       "      <th>7</th>\n",
       "      <td>8</td>\n",
       "      <td>Football Helmet</td>\n",
       "      <td>Sports</td>\n",
       "      <td>44.75</td>\n",
       "    </tr>\n",
       "    <tr>\n",
       "      <th>8</th>\n",
       "      <td>9</td>\n",
       "      <td>Baseball Glove</td>\n",
       "      <td>Sports</td>\n",
       "      <td>327.36</td>\n",
       "    </tr>\n",
       "    <tr>\n",
       "      <th>9</th>\n",
       "      <td>10</td>\n",
       "      <td>Golf Clubs</td>\n",
       "      <td>Sports</td>\n",
       "      <td>81.59</td>\n",
       "    </tr>\n",
       "    <tr>\n",
       "      <th>10</th>\n",
       "      <td>11</td>\n",
       "      <td>Ski Boots</td>\n",
       "      <td>Sports</td>\n",
       "      <td>340.20</td>\n",
       "    </tr>\n",
       "    <tr>\n",
       "      <th>11</th>\n",
       "      <td>12</td>\n",
       "      <td>Ice Skates</td>\n",
       "      <td>Sports</td>\n",
       "      <td>37.56</td>\n",
       "    </tr>\n",
       "    <tr>\n",
       "      <th>12</th>\n",
       "      <td>13</td>\n",
       "      <td>Swim Goggles</td>\n",
       "      <td>Sports</td>\n",
       "      <td>145.97</td>\n",
       "    </tr>\n",
       "    <tr>\n",
       "      <th>13</th>\n",
       "      <td>14</td>\n",
       "      <td>Cycling Helmet</td>\n",
       "      <td>Sports</td>\n",
       "      <td>472.32</td>\n",
       "    </tr>\n",
       "    <tr>\n",
       "      <th>14</th>\n",
       "      <td>15</td>\n",
       "      <td>Climbing Rope</td>\n",
       "      <td>Sports</td>\n",
       "      <td>410.17</td>\n",
       "    </tr>\n",
       "    <tr>\n",
       "      <th>15</th>\n",
       "      <td>16</td>\n",
       "      <td>Kayak</td>\n",
       "      <td>Sports</td>\n",
       "      <td>259.40</td>\n",
       "    </tr>\n",
       "    <tr>\n",
       "      <th>16</th>\n",
       "      <td>17</td>\n",
       "      <td>Surfboard</td>\n",
       "      <td>Sports</td>\n",
       "      <td>275.43</td>\n",
       "    </tr>\n",
       "    <tr>\n",
       "      <th>17</th>\n",
       "      <td>18</td>\n",
       "      <td>Volleyball</td>\n",
       "      <td>Sports</td>\n",
       "      <td>42.80</td>\n",
       "    </tr>\n",
       "    <tr>\n",
       "      <th>18</th>\n",
       "      <td>19</td>\n",
       "      <td>Hockey Stick</td>\n",
       "      <td>Sports</td>\n",
       "      <td>173.83</td>\n",
       "    </tr>\n",
       "    <tr>\n",
       "      <th>19</th>\n",
       "      <td>20</td>\n",
       "      <td>Boxing Gloves</td>\n",
       "      <td>Sports</td>\n",
       "      <td>262.32</td>\n",
       "    </tr>\n",
       "  </tbody>\n",
       "</table>\n",
       "</div>"
      ],
      "text/plain": [
       "    ProductID      ProductName Category   Price\n",
       "0           1    Running Shoes   Sports  223.75\n",
       "1           2  Fitness Tracker   Sports  196.68\n",
       "2           3         Yoga Mat   Sports  485.32\n",
       "3           4        Dumbbells   Sports   26.21\n",
       "4           5      Soccer Ball   Sports   41.26\n",
       "5           6    Tennis Racket   Sports   36.07\n",
       "6           7       Basketball   Sports  225.12\n",
       "7           8  Football Helmet   Sports   44.75\n",
       "8           9   Baseball Glove   Sports  327.36\n",
       "9          10       Golf Clubs   Sports   81.59\n",
       "10         11        Ski Boots   Sports  340.20\n",
       "11         12       Ice Skates   Sports   37.56\n",
       "12         13     Swim Goggles   Sports  145.97\n",
       "13         14   Cycling Helmet   Sports  472.32\n",
       "14         15    Climbing Rope   Sports  410.17\n",
       "15         16            Kayak   Sports  259.40\n",
       "16         17        Surfboard   Sports  275.43\n",
       "17         18       Volleyball   Sports   42.80\n",
       "18         19     Hockey Stick   Sports  173.83\n",
       "19         20    Boxing Gloves   Sports  262.32"
      ]
     },
     "execution_count": 10,
     "metadata": {},
     "output_type": "execute_result"
    }
   ],
   "source": [
    "products = pd.read_excel(\"products.xlsx\")\n",
    "products"
   ]
  },
  {
   "cell_type": "code",
   "execution_count": 11,
   "id": "a36befe1-8e8a-4eec-86aa-de2f11e2ab87",
   "metadata": {},
   "outputs": [
    {
     "data": {
      "text/plain": [
       "array(['Running Shoes', 'Fitness Tracker', 'Yoga Mat', 'Dumbbells',\n",
       "       'Soccer Ball', 'Tennis Racket', 'Basketball', 'Football Helmet',\n",
       "       'Baseball Glove', 'Golf Clubs', 'Ski Boots', 'Ice Skates',\n",
       "       'Swim Goggles', 'Cycling Helmet', 'Climbing Rope', 'Kayak',\n",
       "       'Surfboard', 'Volleyball', 'Hockey Stick', 'Boxing Gloves'],\n",
       "      dtype=object)"
      ]
     },
     "execution_count": 11,
     "metadata": {},
     "output_type": "execute_result"
    }
   ],
   "source": [
    "products.ProductName.unique()"
   ]
  },
  {
   "cell_type": "code",
   "execution_count": 12,
   "id": "91ec874f-2967-44c5-a358-dc13c5b7c21c",
   "metadata": {},
   "outputs": [
    {
     "data": {
      "text/plain": [
       "array(['Sports'], dtype=object)"
      ]
     },
     "execution_count": 12,
     "metadata": {},
     "output_type": "execute_result"
    }
   ],
   "source": [
    "products.Category.unique()"
   ]
  },
  {
   "cell_type": "code",
   "execution_count": 13,
   "id": "fd849da7-9470-4d5e-923a-ce73c88cd86d",
   "metadata": {},
   "outputs": [
    {
     "data": {
      "text/plain": [
       "0"
      ]
     },
     "execution_count": 13,
     "metadata": {},
     "output_type": "execute_result"
    }
   ],
   "source": [
    "products.duplicated().sum()"
   ]
  },
  {
   "cell_type": "code",
   "execution_count": 14,
   "id": "e9d4af72-51ff-442e-842b-b9153b8aa38d",
   "metadata": {},
   "outputs": [
    {
     "data": {
      "text/plain": [
       "ProductID      0\n",
       "ProductName    0\n",
       "Category       0\n",
       "Price          0\n",
       "dtype: int64"
      ]
     },
     "execution_count": 14,
     "metadata": {},
     "output_type": "execute_result"
    }
   ],
   "source": [
    "products.isna().sum()"
   ]
  },
  {
   "cell_type": "code",
   "execution_count": 15,
   "id": "b3432612-bef6-491b-be11-ca2181191214",
   "metadata": {},
   "outputs": [
    {
     "data": {
      "text/plain": [
       "(20, 4)"
      ]
     },
     "execution_count": 15,
     "metadata": {},
     "output_type": "execute_result"
    }
   ],
   "source": [
    "products.shape"
   ]
  },
  {
   "cell_type": "markdown",
   "id": "4317188e-53be-49b7-8200-2210a4e6fc30",
   "metadata": {},
   "source": [
    "# 3- Customers' Geography Data"
   ]
  },
  {
   "cell_type": "code",
   "execution_count": 16,
   "id": "634ab1a2-a2e0-45d7-b11b-eda6f70c60cd",
   "metadata": {},
   "outputs": [
    {
     "data": {
      "text/html": [
       "<div>\n",
       "<style scoped>\n",
       "    .dataframe tbody tr th:only-of-type {\n",
       "        vertical-align: middle;\n",
       "    }\n",
       "\n",
       "    .dataframe tbody tr th {\n",
       "        vertical-align: top;\n",
       "    }\n",
       "\n",
       "    .dataframe thead th {\n",
       "        text-align: right;\n",
       "    }\n",
       "</style>\n",
       "<table border=\"1\" class=\"dataframe\">\n",
       "  <thead>\n",
       "    <tr style=\"text-align: right;\">\n",
       "      <th></th>\n",
       "      <th>1</th>\n",
       "      <th>UK</th>\n",
       "      <th>London</th>\n",
       "    </tr>\n",
       "  </thead>\n",
       "  <tbody>\n",
       "    <tr>\n",
       "      <th>0</th>\n",
       "      <td>2</td>\n",
       "      <td>Germany</td>\n",
       "      <td>Berlin</td>\n",
       "    </tr>\n",
       "    <tr>\n",
       "      <th>1</th>\n",
       "      <td>3</td>\n",
       "      <td>France</td>\n",
       "      <td>Paris</td>\n",
       "    </tr>\n",
       "    <tr>\n",
       "      <th>2</th>\n",
       "      <td>4</td>\n",
       "      <td>Spain</td>\n",
       "      <td>Madrid</td>\n",
       "    </tr>\n",
       "    <tr>\n",
       "      <th>3</th>\n",
       "      <td>5</td>\n",
       "      <td>Italy</td>\n",
       "      <td>Rome</td>\n",
       "    </tr>\n",
       "    <tr>\n",
       "      <th>4</th>\n",
       "      <td>6</td>\n",
       "      <td>Netherlands</td>\n",
       "      <td>Amsterdam</td>\n",
       "    </tr>\n",
       "    <tr>\n",
       "      <th>5</th>\n",
       "      <td>7</td>\n",
       "      <td>Belgium</td>\n",
       "      <td>Brussels</td>\n",
       "    </tr>\n",
       "    <tr>\n",
       "      <th>6</th>\n",
       "      <td>8</td>\n",
       "      <td>Sweden</td>\n",
       "      <td>Stockholm</td>\n",
       "    </tr>\n",
       "    <tr>\n",
       "      <th>7</th>\n",
       "      <td>9</td>\n",
       "      <td>Switzerland</td>\n",
       "      <td>Zurich</td>\n",
       "    </tr>\n",
       "    <tr>\n",
       "      <th>8</th>\n",
       "      <td>10</td>\n",
       "      <td>Austria</td>\n",
       "      <td>Vienna</td>\n",
       "    </tr>\n",
       "  </tbody>\n",
       "</table>\n",
       "</div>"
      ],
      "text/plain": [
       "    1           UK     London\n",
       "0   2      Germany     Berlin\n",
       "1   3       France      Paris\n",
       "2   4        Spain     Madrid\n",
       "3   5        Italy       Rome\n",
       "4   6  Netherlands  Amsterdam\n",
       "5   7      Belgium   Brussels\n",
       "6   8       Sweden  Stockholm\n",
       "7   9  Switzerland     Zurich\n",
       "8  10      Austria     Vienna"
      ]
     },
     "execution_count": 16,
     "metadata": {},
     "output_type": "execute_result"
    }
   ],
   "source": [
    "geography = pd.read_csv(\"geography.csv\")\n",
    "geography"
   ]
  },
  {
   "cell_type": "markdown",
   "id": "39a1ab62-18cb-4691-b2ee-bfd3cc9949d3",
   "metadata": {},
   "source": [
    "# 4- Customers' Review Data"
   ]
  },
  {
   "cell_type": "code",
   "execution_count": 17,
   "id": "8756dbff-d6ac-41f4-a85e-8cac643850cb",
   "metadata": {},
   "outputs": [
    {
     "data": {
      "text/html": [
       "<div>\n",
       "<style scoped>\n",
       "    .dataframe tbody tr th:only-of-type {\n",
       "        vertical-align: middle;\n",
       "    }\n",
       "\n",
       "    .dataframe tbody tr th {\n",
       "        vertical-align: top;\n",
       "    }\n",
       "\n",
       "    .dataframe thead th {\n",
       "        text-align: right;\n",
       "    }\n",
       "</style>\n",
       "<table border=\"1\" class=\"dataframe\">\n",
       "  <thead>\n",
       "    <tr style=\"text-align: right;\">\n",
       "      <th></th>\n",
       "      <th>ReviewID</th>\n",
       "      <th>CustomerID</th>\n",
       "      <th>ProductID</th>\n",
       "      <th>ReviewDate</th>\n",
       "      <th>Rating</th>\n",
       "      <th>ReviewText</th>\n",
       "    </tr>\n",
       "  </thead>\n",
       "  <tbody>\n",
       "    <tr>\n",
       "      <th>0</th>\n",
       "      <td>1</td>\n",
       "      <td>77</td>\n",
       "      <td>18</td>\n",
       "      <td>12/23/2023</td>\n",
       "      <td>3</td>\n",
       "      <td>Average  experience,  nothing  special.</td>\n",
       "    </tr>\n",
       "    <tr>\n",
       "      <th>1</th>\n",
       "      <td>2</td>\n",
       "      <td>80</td>\n",
       "      <td>19</td>\n",
       "      <td>12/25/2024</td>\n",
       "      <td>5</td>\n",
       "      <td>The  quality  is    top-notch.</td>\n",
       "    </tr>\n",
       "    <tr>\n",
       "      <th>2</th>\n",
       "      <td>3</td>\n",
       "      <td>50</td>\n",
       "      <td>13</td>\n",
       "      <td>1/26/2025</td>\n",
       "      <td>4</td>\n",
       "      <td>Five  stars  for  the  quick  delivery.</td>\n",
       "    </tr>\n",
       "    <tr>\n",
       "      <th>3</th>\n",
       "      <td>4</td>\n",
       "      <td>78</td>\n",
       "      <td>15</td>\n",
       "      <td>4/21/2025</td>\n",
       "      <td>3</td>\n",
       "      <td>Good  quality,  but  could  be  cheaper.</td>\n",
       "    </tr>\n",
       "    <tr>\n",
       "      <th>4</th>\n",
       "      <td>5</td>\n",
       "      <td>64</td>\n",
       "      <td>2</td>\n",
       "      <td>7/16/2023</td>\n",
       "      <td>3</td>\n",
       "      <td>Average  experience,  nothing  special.</td>\n",
       "    </tr>\n",
       "    <tr>\n",
       "      <th>...</th>\n",
       "      <td>...</td>\n",
       "      <td>...</td>\n",
       "      <td>...</td>\n",
       "      <td>...</td>\n",
       "      <td>...</td>\n",
       "      <td>...</td>\n",
       "    </tr>\n",
       "    <tr>\n",
       "      <th>1358</th>\n",
       "      <td>1359</td>\n",
       "      <td>28</td>\n",
       "      <td>4</td>\n",
       "      <td>5/25/2023</td>\n",
       "      <td>3</td>\n",
       "      <td>Not  worth  the  money.</td>\n",
       "    </tr>\n",
       "    <tr>\n",
       "      <th>1359</th>\n",
       "      <td>1360</td>\n",
       "      <td>58</td>\n",
       "      <td>12</td>\n",
       "      <td>11/13/2023</td>\n",
       "      <td>2</td>\n",
       "      <td>Average    experience,  nothing  special.</td>\n",
       "    </tr>\n",
       "    <tr>\n",
       "      <th>1360</th>\n",
       "      <td>1361</td>\n",
       "      <td>96</td>\n",
       "      <td>15</td>\n",
       "      <td>3/7/2023</td>\n",
       "      <td>5</td>\n",
       "      <td>Customer  support  was  very  helpful.</td>\n",
       "    </tr>\n",
       "    <tr>\n",
       "      <th>1361</th>\n",
       "      <td>1362</td>\n",
       "      <td>99</td>\n",
       "      <td>2</td>\n",
       "      <td>12/3/2025</td>\n",
       "      <td>1</td>\n",
       "      <td>Product  did  not  meet  my  expectations.</td>\n",
       "    </tr>\n",
       "    <tr>\n",
       "      <th>1362</th>\n",
       "      <td>1363</td>\n",
       "      <td>16</td>\n",
       "      <td>4</td>\n",
       "      <td>7/16/2024</td>\n",
       "      <td>2</td>\n",
       "      <td>The  product  arrived  late.</td>\n",
       "    </tr>\n",
       "  </tbody>\n",
       "</table>\n",
       "<p>1363 rows × 6 columns</p>\n",
       "</div>"
      ],
      "text/plain": [
       "      ReviewID  CustomerID  ProductID  ReviewDate  Rating  \\\n",
       "0            1          77         18  12/23/2023       3   \n",
       "1            2          80         19  12/25/2024       5   \n",
       "2            3          50         13   1/26/2025       4   \n",
       "3            4          78         15   4/21/2025       3   \n",
       "4            5          64          2   7/16/2023       3   \n",
       "...        ...         ...        ...         ...     ...   \n",
       "1358      1359          28          4   5/25/2023       3   \n",
       "1359      1360          58         12  11/13/2023       2   \n",
       "1360      1361          96         15    3/7/2023       5   \n",
       "1361      1362          99          2   12/3/2025       1   \n",
       "1362      1363          16          4   7/16/2024       2   \n",
       "\n",
       "                                      ReviewText  \n",
       "0        Average  experience,  nothing  special.  \n",
       "1                 The  quality  is    top-notch.  \n",
       "2        Five  stars  for  the  quick  delivery.  \n",
       "3       Good  quality,  but  could  be  cheaper.  \n",
       "4        Average  experience,  nothing  special.  \n",
       "...                                          ...  \n",
       "1358                     Not  worth  the  money.  \n",
       "1359   Average    experience,  nothing  special.  \n",
       "1360      Customer  support  was  very  helpful.  \n",
       "1361  Product  did  not  meet  my  expectations.  \n",
       "1362                The  product  arrived  late.  \n",
       "\n",
       "[1363 rows x 6 columns]"
      ]
     },
     "execution_count": 17,
     "metadata": {},
     "output_type": "execute_result"
    }
   ],
   "source": [
    "reviews  = pd.read_csv(\"customer_reviews.csv\")\n",
    "reviews"
   ]
  },
  {
   "cell_type": "code",
   "execution_count": 18,
   "id": "9bde0dc4-c4f5-4352-99d4-d59375903b39",
   "metadata": {},
   "outputs": [
    {
     "data": {
      "text/plain": [
       "0"
      ]
     },
     "execution_count": 18,
     "metadata": {},
     "output_type": "execute_result"
    }
   ],
   "source": [
    "reviews.duplicated().sum()"
   ]
  },
  {
   "cell_type": "code",
   "execution_count": 19,
   "id": "6f47a2e5-15af-40bb-818a-3f6d226478f8",
   "metadata": {},
   "outputs": [
    {
     "data": {
      "text/plain": [
       "ReviewID      0\n",
       "CustomerID    0\n",
       "ProductID     0\n",
       "ReviewDate    0\n",
       "Rating        0\n",
       "ReviewText    0\n",
       "dtype: int64"
      ]
     },
     "execution_count": 19,
     "metadata": {},
     "output_type": "execute_result"
    }
   ],
   "source": [
    "reviews.isna().sum()"
   ]
  },
  {
   "cell_type": "markdown",
   "id": "96743376-4e6a-440b-b259-6ed8f329a150",
   "metadata": {},
   "source": [
    "# 5- Customers' Engagement Data"
   ]
  },
  {
   "cell_type": "code",
   "execution_count": 20,
   "id": "976ef0fc-0cb6-4d08-9cef-3cb1e822e4c3",
   "metadata": {},
   "outputs": [
    {
     "data": {
      "text/html": [
       "<div>\n",
       "<style scoped>\n",
       "    .dataframe tbody tr th:only-of-type {\n",
       "        vertical-align: middle;\n",
       "    }\n",
       "\n",
       "    .dataframe tbody tr th {\n",
       "        vertical-align: top;\n",
       "    }\n",
       "\n",
       "    .dataframe thead th {\n",
       "        text-align: right;\n",
       "    }\n",
       "</style>\n",
       "<table border=\"1\" class=\"dataframe\">\n",
       "  <thead>\n",
       "    <tr style=\"text-align: right;\">\n",
       "      <th></th>\n",
       "      <th>EngagementID</th>\n",
       "      <th>ContentID</th>\n",
       "      <th>ContentType</th>\n",
       "      <th>Likes</th>\n",
       "      <th>EngagementDate</th>\n",
       "      <th>CompaignID</th>\n",
       "      <th>ProductID</th>\n",
       "      <th>ViewsClickCombined</th>\n",
       "    </tr>\n",
       "  </thead>\n",
       "  <tbody>\n",
       "    <tr>\n",
       "      <th>0</th>\n",
       "      <td>1</td>\n",
       "      <td>39</td>\n",
       "      <td>Blog</td>\n",
       "      <td>190</td>\n",
       "      <td>8/30/2023</td>\n",
       "      <td>1</td>\n",
       "      <td>9</td>\n",
       "      <td>1883-671</td>\n",
       "    </tr>\n",
       "    <tr>\n",
       "      <th>1</th>\n",
       "      <td>2</td>\n",
       "      <td>48</td>\n",
       "      <td>Blog</td>\n",
       "      <td>114</td>\n",
       "      <td>3/28/2023</td>\n",
       "      <td>18</td>\n",
       "      <td>20</td>\n",
       "      <td>5280-532</td>\n",
       "    </tr>\n",
       "    <tr>\n",
       "      <th>2</th>\n",
       "      <td>3</td>\n",
       "      <td>16</td>\n",
       "      <td>video</td>\n",
       "      <td>32</td>\n",
       "      <td>12/8/2023</td>\n",
       "      <td>7</td>\n",
       "      <td>14</td>\n",
       "      <td>1905-204</td>\n",
       "    </tr>\n",
       "    <tr>\n",
       "      <th>3</th>\n",
       "      <td>4</td>\n",
       "      <td>43</td>\n",
       "      <td>Video</td>\n",
       "      <td>17</td>\n",
       "      <td>1/21/2025</td>\n",
       "      <td>19</td>\n",
       "      <td>20</td>\n",
       "      <td>2766-257</td>\n",
       "    </tr>\n",
       "    <tr>\n",
       "      <th>4</th>\n",
       "      <td>5</td>\n",
       "      <td>16</td>\n",
       "      <td>newsletter</td>\n",
       "      <td>306</td>\n",
       "      <td>2/21/2024</td>\n",
       "      <td>6</td>\n",
       "      <td>15</td>\n",
       "      <td>5116-1524</td>\n",
       "    </tr>\n",
       "    <tr>\n",
       "      <th>...</th>\n",
       "      <td>...</td>\n",
       "      <td>...</td>\n",
       "      <td>...</td>\n",
       "      <td>...</td>\n",
       "      <td>...</td>\n",
       "      <td>...</td>\n",
       "      <td>...</td>\n",
       "      <td>...</td>\n",
       "    </tr>\n",
       "    <tr>\n",
       "      <th>4618</th>\n",
       "      <td>4619</td>\n",
       "      <td>31</td>\n",
       "      <td>Video</td>\n",
       "      <td>270</td>\n",
       "      <td>5/21/2023</td>\n",
       "      <td>3</td>\n",
       "      <td>19</td>\n",
       "      <td>8115-1872</td>\n",
       "    </tr>\n",
       "    <tr>\n",
       "      <th>4619</th>\n",
       "      <td>4620</td>\n",
       "      <td>46</td>\n",
       "      <td>newsletter</td>\n",
       "      <td>209</td>\n",
       "      <td>7/17/2023</td>\n",
       "      <td>8</td>\n",
       "      <td>4</td>\n",
       "      <td>1273-516</td>\n",
       "    </tr>\n",
       "    <tr>\n",
       "      <th>4620</th>\n",
       "      <td>4621</td>\n",
       "      <td>10</td>\n",
       "      <td>video</td>\n",
       "      <td>78</td>\n",
       "      <td>5/24/2023</td>\n",
       "      <td>20</td>\n",
       "      <td>7</td>\n",
       "      <td>1609-599</td>\n",
       "    </tr>\n",
       "    <tr>\n",
       "      <th>4621</th>\n",
       "      <td>4622</td>\n",
       "      <td>6</td>\n",
       "      <td>socialmedia</td>\n",
       "      <td>50</td>\n",
       "      <td>4/14/2024</td>\n",
       "      <td>18</td>\n",
       "      <td>2</td>\n",
       "      <td>3052-374</td>\n",
       "    </tr>\n",
       "    <tr>\n",
       "      <th>4622</th>\n",
       "      <td>4623</td>\n",
       "      <td>31</td>\n",
       "      <td>BLOG</td>\n",
       "      <td>133</td>\n",
       "      <td>9/1/2023</td>\n",
       "      <td>2</td>\n",
       "      <td>17</td>\n",
       "      <td>2458-457</td>\n",
       "    </tr>\n",
       "  </tbody>\n",
       "</table>\n",
       "<p>4623 rows × 8 columns</p>\n",
       "</div>"
      ],
      "text/plain": [
       "      EngagementID  ContentID  ContentType  Likes EngagementDate  CompaignID  \\\n",
       "0                1         39         Blog    190      8/30/2023           1   \n",
       "1                2         48         Blog    114      3/28/2023          18   \n",
       "2                3         16        video     32      12/8/2023           7   \n",
       "3                4         43        Video     17      1/21/2025          19   \n",
       "4                5         16   newsletter    306      2/21/2024           6   \n",
       "...            ...        ...          ...    ...            ...         ...   \n",
       "4618          4619         31        Video    270      5/21/2023           3   \n",
       "4619          4620         46   newsletter    209      7/17/2023           8   \n",
       "4620          4621         10        video     78      5/24/2023          20   \n",
       "4621          4622          6  socialmedia     50      4/14/2024          18   \n",
       "4622          4623         31         BLOG    133       9/1/2023           2   \n",
       "\n",
       "      ProductID ViewsClickCombined  \n",
       "0             9           1883-671  \n",
       "1            20           5280-532  \n",
       "2            14           1905-204  \n",
       "3            20           2766-257  \n",
       "4            15          5116-1524  \n",
       "...         ...                ...  \n",
       "4618         19          8115-1872  \n",
       "4619          4           1273-516  \n",
       "4620          7           1609-599  \n",
       "4621          2           3052-374  \n",
       "4622         17           2458-457  \n",
       "\n",
       "[4623 rows x 8 columns]"
      ]
     },
     "execution_count": 20,
     "metadata": {},
     "output_type": "execute_result"
    }
   ],
   "source": [
    "engagement = pd.read_csv(\"engagement_data.csv\")\n",
    "engagement"
   ]
  },
  {
   "cell_type": "code",
   "execution_count": 21,
   "id": "2bd03069-de88-4ff0-b285-4a27c4fb3dda",
   "metadata": {},
   "outputs": [
    {
     "data": {
      "text/plain": [
       "0"
      ]
     },
     "execution_count": 21,
     "metadata": {},
     "output_type": "execute_result"
    }
   ],
   "source": [
    "engagement.duplicated().sum()"
   ]
  },
  {
   "cell_type": "code",
   "execution_count": 22,
   "id": "d520adde-dd96-4298-870c-b77efc6c2d41",
   "metadata": {},
   "outputs": [
    {
     "data": {
      "text/plain": [
       "EngagementID          0\n",
       "ContentID             0\n",
       "ContentType           0\n",
       "Likes                 0\n",
       "EngagementDate        0\n",
       "CompaignID            0\n",
       "ProductID             0\n",
       "ViewsClickCombined    0\n",
       "dtype: int64"
      ]
     },
     "execution_count": 22,
     "metadata": {},
     "output_type": "execute_result"
    }
   ],
   "source": [
    "engagement.isna().sum()"
   ]
  },
  {
   "cell_type": "markdown",
   "id": "e4c8ce64-0c82-4a39-b954-951a071daa8a",
   "metadata": {},
   "source": [
    "# Customers' Journey"
   ]
  },
  {
   "cell_type": "code",
   "execution_count": 36,
   "id": "06da2f44-0404-4582-889f-f2a8330788ea",
   "metadata": {},
   "outputs": [
    {
     "data": {
      "text/plain": [
       "(4011, 7)"
      ]
     },
     "execution_count": 36,
     "metadata": {},
     "output_type": "execute_result"
    }
   ],
   "source": [
    "# Load the dataset\n",
    "customer_journey_df = pd.read_excel('customer_journey.xlsx')\n",
    "customer_journey_df.shape"
   ]
  },
  {
   "cell_type": "code",
   "execution_count": 37,
   "id": "1eefc35c-6f7b-432d-8698-6cd0f2fc28f0",
   "metadata": {},
   "outputs": [
    {
     "data": {
      "text/plain": [
       "71"
      ]
     },
     "execution_count": 37,
     "metadata": {},
     "output_type": "execute_result"
    }
   ],
   "source": [
    "customer_journey_df.duplicated().sum()"
   ]
  },
  {
   "cell_type": "code",
   "execution_count": 38,
   "id": "949045fc-df47-4575-9f12-df4ec162cba2",
   "metadata": {},
   "outputs": [
    {
     "data": {
      "text/html": [
       "<div>\n",
       "<style scoped>\n",
       "    .dataframe tbody tr th:only-of-type {\n",
       "        vertical-align: middle;\n",
       "    }\n",
       "\n",
       "    .dataframe tbody tr th {\n",
       "        vertical-align: top;\n",
       "    }\n",
       "\n",
       "    .dataframe thead th {\n",
       "        text-align: right;\n",
       "    }\n",
       "</style>\n",
       "<table border=\"1\" class=\"dataframe\">\n",
       "  <thead>\n",
       "    <tr style=\"text-align: right;\">\n",
       "      <th></th>\n",
       "      <th>JourneyID</th>\n",
       "      <th>CustomerID</th>\n",
       "      <th>ProductId</th>\n",
       "      <th>VisitDate</th>\n",
       "      <th>Stage</th>\n",
       "      <th>Actiob</th>\n",
       "      <th>Duration</th>\n",
       "    </tr>\n",
       "  </thead>\n",
       "  <tbody>\n",
       "    <tr>\n",
       "      <th>3993</th>\n",
       "      <td>23</td>\n",
       "      <td>58</td>\n",
       "      <td>1</td>\n",
       "      <td>2023-07-05</td>\n",
       "      <td>Homepage</td>\n",
       "      <td>View</td>\n",
       "      <td>48.0</td>\n",
       "    </tr>\n",
       "    <tr>\n",
       "      <th>3939</th>\n",
       "      <td>203</td>\n",
       "      <td>44</td>\n",
       "      <td>11</td>\n",
       "      <td>2024-12-28</td>\n",
       "      <td>Homepage</td>\n",
       "      <td>View</td>\n",
       "      <td>230.0</td>\n",
       "    </tr>\n",
       "    <tr>\n",
       "      <th>3940</th>\n",
       "      <td>404</td>\n",
       "      <td>30</td>\n",
       "      <td>13</td>\n",
       "      <td>2023-04-22</td>\n",
       "      <td>Homepage</td>\n",
       "      <td>View</td>\n",
       "      <td>112.0</td>\n",
       "    </tr>\n",
       "    <tr>\n",
       "      <th>3979</th>\n",
       "      <td>443</td>\n",
       "      <td>98</td>\n",
       "      <td>5</td>\n",
       "      <td>2023-09-04</td>\n",
       "      <td>Checkout</td>\n",
       "      <td>Drop-off</td>\n",
       "      <td>NaN</td>\n",
       "    </tr>\n",
       "    <tr>\n",
       "      <th>3995</th>\n",
       "      <td>494</td>\n",
       "      <td>29</td>\n",
       "      <td>6</td>\n",
       "      <td>2024-10-27</td>\n",
       "      <td>Checkout</td>\n",
       "      <td>Drop-off</td>\n",
       "      <td>NaN</td>\n",
       "    </tr>\n",
       "    <tr>\n",
       "      <th>...</th>\n",
       "      <td>...</td>\n",
       "      <td>...</td>\n",
       "      <td>...</td>\n",
       "      <td>...</td>\n",
       "      <td>...</td>\n",
       "      <td>...</td>\n",
       "      <td>...</td>\n",
       "    </tr>\n",
       "    <tr>\n",
       "      <th>3967</th>\n",
       "      <td>3781</td>\n",
       "      <td>54</td>\n",
       "      <td>8</td>\n",
       "      <td>2025-04-14</td>\n",
       "      <td>Homepage</td>\n",
       "      <td>View</td>\n",
       "      <td>250.0</td>\n",
       "    </tr>\n",
       "    <tr>\n",
       "      <th>3983</th>\n",
       "      <td>3852</td>\n",
       "      <td>99</td>\n",
       "      <td>5</td>\n",
       "      <td>2025-09-07</td>\n",
       "      <td>ProductPage</td>\n",
       "      <td>View</td>\n",
       "      <td>205.0</td>\n",
       "    </tr>\n",
       "    <tr>\n",
       "      <th>3941</th>\n",
       "      <td>3881</td>\n",
       "      <td>58</td>\n",
       "      <td>18</td>\n",
       "      <td>2024-08-27</td>\n",
       "      <td>Checkout</td>\n",
       "      <td>Drop-off</td>\n",
       "      <td>NaN</td>\n",
       "    </tr>\n",
       "    <tr>\n",
       "      <th>3938</th>\n",
       "      <td>3912</td>\n",
       "      <td>99</td>\n",
       "      <td>9</td>\n",
       "      <td>2025-06-13</td>\n",
       "      <td>Homepage</td>\n",
       "      <td>Click</td>\n",
       "      <td>143.0</td>\n",
       "    </tr>\n",
       "    <tr>\n",
       "      <th>3957</th>\n",
       "      <td>3930</td>\n",
       "      <td>2</td>\n",
       "      <td>9</td>\n",
       "      <td>2024-09-22</td>\n",
       "      <td>Homepage</td>\n",
       "      <td>Click</td>\n",
       "      <td>260.0</td>\n",
       "    </tr>\n",
       "  </tbody>\n",
       "</table>\n",
       "<p>71 rows × 7 columns</p>\n",
       "</div>"
      ],
      "text/plain": [
       "      JourneyID  CustomerID  ProductId  VisitDate        Stage    Actiob  \\\n",
       "3993         23          58          1 2023-07-05     Homepage      View   \n",
       "3939        203          44         11 2024-12-28     Homepage      View   \n",
       "3940        404          30         13 2023-04-22     Homepage      View   \n",
       "3979        443          98          5 2023-09-04     Checkout  Drop-off   \n",
       "3995        494          29          6 2024-10-27     Checkout  Drop-off   \n",
       "...         ...         ...        ...        ...          ...       ...   \n",
       "3967       3781          54          8 2025-04-14     Homepage      View   \n",
       "3983       3852          99          5 2025-09-07  ProductPage      View   \n",
       "3941       3881          58         18 2024-08-27     Checkout  Drop-off   \n",
       "3938       3912          99          9 2025-06-13     Homepage     Click   \n",
       "3957       3930           2          9 2024-09-22     Homepage     Click   \n",
       "\n",
       "      Duration  \n",
       "3993      48.0  \n",
       "3939     230.0  \n",
       "3940     112.0  \n",
       "3979       NaN  \n",
       "3995       NaN  \n",
       "...        ...  \n",
       "3967     250.0  \n",
       "3983     205.0  \n",
       "3941       NaN  \n",
       "3938     143.0  \n",
       "3957     260.0  \n",
       "\n",
       "[71 rows x 7 columns]"
      ]
     },
     "execution_count": 38,
     "metadata": {},
     "output_type": "execute_result"
    }
   ],
   "source": [
    "customer_journey_df[customer_journey_df.duplicated()].sort_values(by=\"JourneyID\")"
   ]
  },
  {
   "cell_type": "code",
   "execution_count": 39,
   "id": "45213f1b-327a-4408-b031-29de3c332c19",
   "metadata": {},
   "outputs": [],
   "source": [
    "customer_journey_df.drop_duplicates(keep='first', inplace=True)"
   ]
  },
  {
   "cell_type": "code",
   "execution_count": 40,
   "id": "08ee4a9d-2628-4776-bb0b-db794bbd1bd1",
   "metadata": {},
   "outputs": [
    {
     "data": {
      "text/plain": [
       "JourneyID       0\n",
       "CustomerID      0\n",
       "ProductId       0\n",
       "VisitDate       0\n",
       "Stage           0\n",
       "Actiob          0\n",
       "Duration      599\n",
       "dtype: int64"
      ]
     },
     "execution_count": 40,
     "metadata": {},
     "output_type": "execute_result"
    }
   ],
   "source": [
    "customer_journey_df.isna().sum()"
   ]
  },
  {
   "cell_type": "code",
   "execution_count": 41,
   "id": "cb68aaca-99c4-4f35-b8c6-939e0f4ab721",
   "metadata": {},
   "outputs": [],
   "source": [
    "# Rename columns \n",
    "customer_journey_df.columns = [\n",
    "    \"JourneyID\", \"CustomerID\", \"ProductID\", \"VisitDate\", \n",
    "    \"Stage\", \"Action\", \"Duration\"\n",
    "]"
   ]
  },
  {
   "cell_type": "code",
   "execution_count": 42,
   "id": "fbd2fe2c-4fd3-4890-ab71-e9b9002c2084",
   "metadata": {},
   "outputs": [],
   "source": [
    "# Convert VisitDate to datetime and Duration to numeric\n",
    "customer_journey_df['VisitDate'] = pd.to_datetime(customer_journey_df['VisitDate'], errors='coerce')\n",
    "customer_journey_df['Duration'] = pd.to_numeric(customer_journey_df['Duration'], errors='coerce')"
   ]
  },
  {
   "cell_type": "code",
   "execution_count": 43,
   "id": "1a52b4ff-c7dc-4947-a068-03c79394dd21",
   "metadata": {},
   "outputs": [
    {
     "data": {
      "text/html": [
       "<div>\n",
       "<style scoped>\n",
       "    .dataframe tbody tr th:only-of-type {\n",
       "        vertical-align: middle;\n",
       "    }\n",
       "\n",
       "    .dataframe tbody tr th {\n",
       "        vertical-align: top;\n",
       "    }\n",
       "\n",
       "    .dataframe thead th {\n",
       "        text-align: right;\n",
       "    }\n",
       "</style>\n",
       "<table border=\"1\" class=\"dataframe\">\n",
       "  <thead>\n",
       "    <tr style=\"text-align: right;\">\n",
       "      <th></th>\n",
       "      <th>JourneyID</th>\n",
       "      <th>CustomerID</th>\n",
       "      <th>ProductID</th>\n",
       "      <th>VisitDate</th>\n",
       "      <th>Stage</th>\n",
       "      <th>Action</th>\n",
       "      <th>Duration</th>\n",
       "    </tr>\n",
       "  </thead>\n",
       "  <tbody>\n",
       "    <tr>\n",
       "      <th>0</th>\n",
       "      <td>1</td>\n",
       "      <td>64</td>\n",
       "      <td>18</td>\n",
       "      <td>2024-06-10</td>\n",
       "      <td>Checkout</td>\n",
       "      <td>Drop-off</td>\n",
       "      <td>NaN</td>\n",
       "    </tr>\n",
       "    <tr>\n",
       "      <th>1</th>\n",
       "      <td>2</td>\n",
       "      <td>94</td>\n",
       "      <td>11</td>\n",
       "      <td>2025-07-09</td>\n",
       "      <td>Checkout</td>\n",
       "      <td>Drop-off</td>\n",
       "      <td>NaN</td>\n",
       "    </tr>\n",
       "    <tr>\n",
       "      <th>2</th>\n",
       "      <td>3</td>\n",
       "      <td>34</td>\n",
       "      <td>8</td>\n",
       "      <td>2024-06-14</td>\n",
       "      <td>ProductPage</td>\n",
       "      <td>View</td>\n",
       "      <td>235.0</td>\n",
       "    </tr>\n",
       "    <tr>\n",
       "      <th>3</th>\n",
       "      <td>4</td>\n",
       "      <td>33</td>\n",
       "      <td>18</td>\n",
       "      <td>2025-05-28</td>\n",
       "      <td>Checkout</td>\n",
       "      <td>Drop-off</td>\n",
       "      <td>NaN</td>\n",
       "    </tr>\n",
       "    <tr>\n",
       "      <th>4</th>\n",
       "      <td>5</td>\n",
       "      <td>91</td>\n",
       "      <td>10</td>\n",
       "      <td>2023-02-11</td>\n",
       "      <td>Homepage</td>\n",
       "      <td>Click</td>\n",
       "      <td>156.0</td>\n",
       "    </tr>\n",
       "    <tr>\n",
       "      <th>...</th>\n",
       "      <td>...</td>\n",
       "      <td>...</td>\n",
       "      <td>...</td>\n",
       "      <td>...</td>\n",
       "      <td>...</td>\n",
       "      <td>...</td>\n",
       "      <td>...</td>\n",
       "    </tr>\n",
       "    <tr>\n",
       "      <th>3984</th>\n",
       "      <td>2655</td>\n",
       "      <td>84</td>\n",
       "      <td>4</td>\n",
       "      <td>2023-10-09</td>\n",
       "      <td>Homepage</td>\n",
       "      <td>View</td>\n",
       "      <td>146.0</td>\n",
       "    </tr>\n",
       "    <tr>\n",
       "      <th>3991</th>\n",
       "      <td>2653</td>\n",
       "      <td>86</td>\n",
       "      <td>2</td>\n",
       "      <td>2023-06-08</td>\n",
       "      <td>productpage</td>\n",
       "      <td>Click</td>\n",
       "      <td>247.0</td>\n",
       "    </tr>\n",
       "    <tr>\n",
       "      <th>3997</th>\n",
       "      <td>97</td>\n",
       "      <td>92</td>\n",
       "      <td>19</td>\n",
       "      <td>2025-05-26</td>\n",
       "      <td>Homepage</td>\n",
       "      <td>View</td>\n",
       "      <td>203.0</td>\n",
       "    </tr>\n",
       "    <tr>\n",
       "      <th>4005</th>\n",
       "      <td>3531</td>\n",
       "      <td>70</td>\n",
       "      <td>5</td>\n",
       "      <td>2025-08-04</td>\n",
       "      <td>checkout</td>\n",
       "      <td>Drop-off</td>\n",
       "      <td>NaN</td>\n",
       "    </tr>\n",
       "    <tr>\n",
       "      <th>4007</th>\n",
       "      <td>1248</td>\n",
       "      <td>17</td>\n",
       "      <td>8</td>\n",
       "      <td>2023-12-13</td>\n",
       "      <td>homepage</td>\n",
       "      <td>Click</td>\n",
       "      <td>153.0</td>\n",
       "    </tr>\n",
       "  </tbody>\n",
       "</table>\n",
       "<p>3940 rows × 7 columns</p>\n",
       "</div>"
      ],
      "text/plain": [
       "      JourneyID  CustomerID  ProductID  VisitDate        Stage    Action  \\\n",
       "0             1          64         18 2024-06-10     Checkout  Drop-off   \n",
       "1             2          94         11 2025-07-09     Checkout  Drop-off   \n",
       "2             3          34          8 2024-06-14  ProductPage      View   \n",
       "3             4          33         18 2025-05-28     Checkout  Drop-off   \n",
       "4             5          91         10 2023-02-11     Homepage     Click   \n",
       "...         ...         ...        ...        ...          ...       ...   \n",
       "3984       2655          84          4 2023-10-09     Homepage      View   \n",
       "3991       2653          86          2 2023-06-08  productpage     Click   \n",
       "3997         97          92         19 2025-05-26     Homepage      View   \n",
       "4005       3531          70          5 2025-08-04     checkout  Drop-off   \n",
       "4007       1248          17          8 2023-12-13     homepage     Click   \n",
       "\n",
       "      Duration  \n",
       "0          NaN  \n",
       "1          NaN  \n",
       "2        235.0  \n",
       "3          NaN  \n",
       "4        156.0  \n",
       "...        ...  \n",
       "3984     146.0  \n",
       "3991     247.0  \n",
       "3997     203.0  \n",
       "4005       NaN  \n",
       "4007     153.0  \n",
       "\n",
       "[3940 rows x 7 columns]"
      ]
     },
     "execution_count": 43,
     "metadata": {},
     "output_type": "execute_result"
    }
   ],
   "source": [
    "customer_journey_df"
   ]
  },
  {
   "cell_type": "code",
   "execution_count": 44,
   "id": "114db9dd-4a64-4392-925e-2639d4cce988",
   "metadata": {},
   "outputs": [
    {
     "data": {
      "text/plain": [
       "0       132.333333\n",
       "1       169.250000\n",
       "2       184.250000\n",
       "3        12.000000\n",
       "4       104.600000\n",
       "           ...    \n",
       "3984    147.000000\n",
       "3991    214.000000\n",
       "3997    162.000000\n",
       "4005    203.000000\n",
       "4007    141.250000\n",
       "Name: Duration, Length: 3940, dtype: float64"
      ]
     },
     "execution_count": 44,
     "metadata": {},
     "output_type": "execute_result"
    }
   ],
   "source": [
    "# it calculates the average duration and fill against each group occurance\n",
    "customer_journey_df.groupby('VisitDate')['Duration'].transform('mean')"
   ]
  },
  {
   "cell_type": "code",
   "execution_count": 3,
   "id": "de13fa7b-2cd7-4e4e-9c10-665688fd5622",
   "metadata": {},
   "outputs": [
    {
     "data": {
      "text/html": [
       "<div>\n",
       "<style scoped>\n",
       "    .dataframe tbody tr th:only-of-type {\n",
       "        vertical-align: middle;\n",
       "    }\n",
       "\n",
       "    .dataframe tbody tr th {\n",
       "        vertical-align: top;\n",
       "    }\n",
       "\n",
       "    .dataframe thead th {\n",
       "        text-align: right;\n",
       "    }\n",
       "</style>\n",
       "<table border=\"1\" class=\"dataframe\">\n",
       "  <thead>\n",
       "    <tr style=\"text-align: right;\">\n",
       "      <th></th>\n",
       "      <th>Animal</th>\n",
       "      <th>Max Speed</th>\n",
       "    </tr>\n",
       "  </thead>\n",
       "  <tbody>\n",
       "    <tr>\n",
       "      <th>0</th>\n",
       "      <td>Parrot</td>\n",
       "      <td>380.0</td>\n",
       "    </tr>\n",
       "    <tr>\n",
       "      <th>1</th>\n",
       "      <td>Falcon</td>\n",
       "      <td>370.0</td>\n",
       "    </tr>\n",
       "    <tr>\n",
       "      <th>2</th>\n",
       "      <td>Falcon</td>\n",
       "      <td>NaN</td>\n",
       "    </tr>\n",
       "    <tr>\n",
       "      <th>3</th>\n",
       "      <td>Parrot</td>\n",
       "      <td>24.0</td>\n",
       "    </tr>\n",
       "    <tr>\n",
       "      <th>4</th>\n",
       "      <td>Parrot</td>\n",
       "      <td>26.0</td>\n",
       "    </tr>\n",
       "    <tr>\n",
       "      <th>5</th>\n",
       "      <td>Falcon</td>\n",
       "      <td>NaN</td>\n",
       "    </tr>\n",
       "    <tr>\n",
       "      <th>6</th>\n",
       "      <td>Parrot</td>\n",
       "      <td>NaN</td>\n",
       "    </tr>\n",
       "  </tbody>\n",
       "</table>\n",
       "</div>"
      ],
      "text/plain": [
       "   Animal  Max Speed\n",
       "0  Parrot      380.0\n",
       "1  Falcon      370.0\n",
       "2  Falcon        NaN\n",
       "3  Parrot       24.0\n",
       "4  Parrot       26.0\n",
       "5  Falcon        NaN\n",
       "6  Parrot        NaN"
      ]
     },
     "execution_count": 3,
     "metadata": {},
     "output_type": "execute_result"
    }
   ],
   "source": [
    "import numpy as np\n",
    "df = pd.DataFrame({'Animal': ['Parrot','Falcon', 'Falcon',\n",
    "                              'Parrot', 'Parrot', 'Falcon','Parrot'],\n",
    "                   'Max Speed': [380., 370.,np.nan, 24., 26.,np.nan,np.nan]})\n",
    "df"
   ]
  },
  {
   "cell_type": "code",
   "execution_count": 4,
   "id": "828d3411-10b7-4201-8956-2681c2a86bd0",
   "metadata": {},
   "outputs": [
    {
     "data": {
      "text/html": [
       "<div>\n",
       "<style scoped>\n",
       "    .dataframe tbody tr th:only-of-type {\n",
       "        vertical-align: middle;\n",
       "    }\n",
       "\n",
       "    .dataframe tbody tr th {\n",
       "        vertical-align: top;\n",
       "    }\n",
       "\n",
       "    .dataframe thead th {\n",
       "        text-align: right;\n",
       "    }\n",
       "</style>\n",
       "<table border=\"1\" class=\"dataframe\">\n",
       "  <thead>\n",
       "    <tr style=\"text-align: right;\">\n",
       "      <th></th>\n",
       "      <th>Max Speed</th>\n",
       "    </tr>\n",
       "    <tr>\n",
       "      <th>Animal</th>\n",
       "      <th></th>\n",
       "    </tr>\n",
       "  </thead>\n",
       "  <tbody>\n",
       "    <tr>\n",
       "      <th>Falcon</th>\n",
       "      <td>370.000000</td>\n",
       "    </tr>\n",
       "    <tr>\n",
       "      <th>Parrot</th>\n",
       "      <td>143.333333</td>\n",
       "    </tr>\n",
       "  </tbody>\n",
       "</table>\n",
       "</div>"
      ],
      "text/plain": [
       "         Max Speed\n",
       "Animal            \n",
       "Falcon  370.000000\n",
       "Parrot  143.333333"
      ]
     },
     "execution_count": 4,
     "metadata": {},
     "output_type": "execute_result"
    }
   ],
   "source": [
    "df.groupby(['Animal']).mean()"
   ]
  },
  {
   "cell_type": "code",
   "execution_count": 5,
   "id": "02e997b0-5640-4eb6-b396-c5cd6d6f3139",
   "metadata": {},
   "outputs": [
    {
     "data": {
      "text/html": [
       "<div>\n",
       "<style scoped>\n",
       "    .dataframe tbody tr th:only-of-type {\n",
       "        vertical-align: middle;\n",
       "    }\n",
       "\n",
       "    .dataframe tbody tr th {\n",
       "        vertical-align: top;\n",
       "    }\n",
       "\n",
       "    .dataframe thead th {\n",
       "        text-align: right;\n",
       "    }\n",
       "</style>\n",
       "<table border=\"1\" class=\"dataframe\">\n",
       "  <thead>\n",
       "    <tr style=\"text-align: right;\">\n",
       "      <th></th>\n",
       "      <th>Animal</th>\n",
       "      <th>Max Speed</th>\n",
       "      <th>avg_spd</th>\n",
       "    </tr>\n",
       "  </thead>\n",
       "  <tbody>\n",
       "    <tr>\n",
       "      <th>0</th>\n",
       "      <td>Parrot</td>\n",
       "      <td>380.0</td>\n",
       "      <td>143.333333</td>\n",
       "    </tr>\n",
       "    <tr>\n",
       "      <th>1</th>\n",
       "      <td>Falcon</td>\n",
       "      <td>370.0</td>\n",
       "      <td>370.000000</td>\n",
       "    </tr>\n",
       "    <tr>\n",
       "      <th>2</th>\n",
       "      <td>Falcon</td>\n",
       "      <td>NaN</td>\n",
       "      <td>370.000000</td>\n",
       "    </tr>\n",
       "    <tr>\n",
       "      <th>3</th>\n",
       "      <td>Parrot</td>\n",
       "      <td>24.0</td>\n",
       "      <td>143.333333</td>\n",
       "    </tr>\n",
       "    <tr>\n",
       "      <th>4</th>\n",
       "      <td>Parrot</td>\n",
       "      <td>26.0</td>\n",
       "      <td>143.333333</td>\n",
       "    </tr>\n",
       "    <tr>\n",
       "      <th>5</th>\n",
       "      <td>Falcon</td>\n",
       "      <td>NaN</td>\n",
       "      <td>370.000000</td>\n",
       "    </tr>\n",
       "    <tr>\n",
       "      <th>6</th>\n",
       "      <td>Parrot</td>\n",
       "      <td>NaN</td>\n",
       "      <td>143.333333</td>\n",
       "    </tr>\n",
       "  </tbody>\n",
       "</table>\n",
       "</div>"
      ],
      "text/plain": [
       "   Animal  Max Speed     avg_spd\n",
       "0  Parrot      380.0  143.333333\n",
       "1  Falcon      370.0  370.000000\n",
       "2  Falcon        NaN  370.000000\n",
       "3  Parrot       24.0  143.333333\n",
       "4  Parrot       26.0  143.333333\n",
       "5  Falcon        NaN  370.000000\n",
       "6  Parrot        NaN  143.333333"
      ]
     },
     "execution_count": 5,
     "metadata": {},
     "output_type": "execute_result"
    }
   ],
   "source": [
    "df['avg_spd']=df.groupby(['Animal']).transform('mean')\n",
    "df"
   ]
  },
  {
   "cell_type": "code",
   "execution_count": 6,
   "id": "6f7c15bd-1fba-4193-8f87-6a81dc262edd",
   "metadata": {},
   "outputs": [
    {
     "data": {
      "text/plain": [
       "0    380.000000\n",
       "1    370.000000\n",
       "2    370.000000\n",
       "3     24.000000\n",
       "4     26.000000\n",
       "5    370.000000\n",
       "6    143.333333\n",
       "Name: Max Speed, dtype: float64"
      ]
     },
     "execution_count": 6,
     "metadata": {},
     "output_type": "execute_result"
    }
   ],
   "source": [
    "df['Max Speed'].fillna(df['avg_spd'])"
   ]
  },
  {
   "cell_type": "code",
   "execution_count": 45,
   "id": "89ee9b44-5541-4819-8234-b2fbf7c37573",
   "metadata": {},
   "outputs": [],
   "source": [
    "# Step 4: Replace missing Duration values with the average for each VisitDate\n",
    "customer_journey_df['avg_duration'] = customer_journey_df.groupby('VisitDate')['Duration'].transform('mean')\n",
    "customer_journey_df['Duration'] = customer_journey_df['Duration'].fillna(customer_journey_df['avg_duration'])"
   ]
  },
  {
   "cell_type": "code",
   "execution_count": 47,
   "id": "71a7c8be-363a-4886-941e-1a9c7f45425e",
   "metadata": {},
   "outputs": [],
   "source": [
    "# Step 5: Convert Stage to uppercase for consistency\n",
    "customer_journey_df['Stage'] = customer_journey_df['Stage'].str.upper()"
   ]
  },
  {
   "cell_type": "code",
   "execution_count": 48,
   "id": "c04dac99-e1b8-49b1-9e4e-9b0067d8c1f6",
   "metadata": {},
   "outputs": [
    {
     "data": {
      "text/html": [
       "<div>\n",
       "<style scoped>\n",
       "    .dataframe tbody tr th:only-of-type {\n",
       "        vertical-align: middle;\n",
       "    }\n",
       "\n",
       "    .dataframe tbody tr th {\n",
       "        vertical-align: top;\n",
       "    }\n",
       "\n",
       "    .dataframe thead th {\n",
       "        text-align: right;\n",
       "    }\n",
       "</style>\n",
       "<table border=\"1\" class=\"dataframe\">\n",
       "  <thead>\n",
       "    <tr style=\"text-align: right;\">\n",
       "      <th></th>\n",
       "      <th>JourneyID</th>\n",
       "      <th>CustomerID</th>\n",
       "      <th>ProductID</th>\n",
       "      <th>VisitDate</th>\n",
       "      <th>Stage</th>\n",
       "      <th>Action</th>\n",
       "      <th>Duration</th>\n",
       "      <th>avg_duration</th>\n",
       "    </tr>\n",
       "  </thead>\n",
       "  <tbody>\n",
       "    <tr>\n",
       "      <th>0</th>\n",
       "      <td>1</td>\n",
       "      <td>64</td>\n",
       "      <td>18</td>\n",
       "      <td>2024-06-10</td>\n",
       "      <td>CHECKOUT</td>\n",
       "      <td>Drop-off</td>\n",
       "      <td>132.333333</td>\n",
       "      <td>132.333333</td>\n",
       "    </tr>\n",
       "    <tr>\n",
       "      <th>1</th>\n",
       "      <td>2</td>\n",
       "      <td>94</td>\n",
       "      <td>11</td>\n",
       "      <td>2025-07-09</td>\n",
       "      <td>CHECKOUT</td>\n",
       "      <td>Drop-off</td>\n",
       "      <td>169.250000</td>\n",
       "      <td>169.250000</td>\n",
       "    </tr>\n",
       "    <tr>\n",
       "      <th>2</th>\n",
       "      <td>3</td>\n",
       "      <td>34</td>\n",
       "      <td>8</td>\n",
       "      <td>2024-06-14</td>\n",
       "      <td>PRODUCTPAGE</td>\n",
       "      <td>View</td>\n",
       "      <td>235.000000</td>\n",
       "      <td>184.250000</td>\n",
       "    </tr>\n",
       "    <tr>\n",
       "      <th>3</th>\n",
       "      <td>4</td>\n",
       "      <td>33</td>\n",
       "      <td>18</td>\n",
       "      <td>2025-05-28</td>\n",
       "      <td>CHECKOUT</td>\n",
       "      <td>Drop-off</td>\n",
       "      <td>12.000000</td>\n",
       "      <td>12.000000</td>\n",
       "    </tr>\n",
       "    <tr>\n",
       "      <th>4</th>\n",
       "      <td>5</td>\n",
       "      <td>91</td>\n",
       "      <td>10</td>\n",
       "      <td>2023-02-11</td>\n",
       "      <td>HOMEPAGE</td>\n",
       "      <td>Click</td>\n",
       "      <td>156.000000</td>\n",
       "      <td>104.600000</td>\n",
       "    </tr>\n",
       "    <tr>\n",
       "      <th>...</th>\n",
       "      <td>...</td>\n",
       "      <td>...</td>\n",
       "      <td>...</td>\n",
       "      <td>...</td>\n",
       "      <td>...</td>\n",
       "      <td>...</td>\n",
       "      <td>...</td>\n",
       "      <td>...</td>\n",
       "    </tr>\n",
       "    <tr>\n",
       "      <th>3984</th>\n",
       "      <td>2655</td>\n",
       "      <td>84</td>\n",
       "      <td>4</td>\n",
       "      <td>2023-10-09</td>\n",
       "      <td>HOMEPAGE</td>\n",
       "      <td>View</td>\n",
       "      <td>146.000000</td>\n",
       "      <td>147.000000</td>\n",
       "    </tr>\n",
       "    <tr>\n",
       "      <th>3991</th>\n",
       "      <td>2653</td>\n",
       "      <td>86</td>\n",
       "      <td>2</td>\n",
       "      <td>2023-06-08</td>\n",
       "      <td>PRODUCTPAGE</td>\n",
       "      <td>Click</td>\n",
       "      <td>247.000000</td>\n",
       "      <td>214.000000</td>\n",
       "    </tr>\n",
       "    <tr>\n",
       "      <th>3997</th>\n",
       "      <td>97</td>\n",
       "      <td>92</td>\n",
       "      <td>19</td>\n",
       "      <td>2025-05-26</td>\n",
       "      <td>HOMEPAGE</td>\n",
       "      <td>View</td>\n",
       "      <td>203.000000</td>\n",
       "      <td>162.000000</td>\n",
       "    </tr>\n",
       "    <tr>\n",
       "      <th>4005</th>\n",
       "      <td>3531</td>\n",
       "      <td>70</td>\n",
       "      <td>5</td>\n",
       "      <td>2025-08-04</td>\n",
       "      <td>CHECKOUT</td>\n",
       "      <td>Drop-off</td>\n",
       "      <td>203.000000</td>\n",
       "      <td>203.000000</td>\n",
       "    </tr>\n",
       "    <tr>\n",
       "      <th>4007</th>\n",
       "      <td>1248</td>\n",
       "      <td>17</td>\n",
       "      <td>8</td>\n",
       "      <td>2023-12-13</td>\n",
       "      <td>HOMEPAGE</td>\n",
       "      <td>Click</td>\n",
       "      <td>153.000000</td>\n",
       "      <td>141.250000</td>\n",
       "    </tr>\n",
       "  </tbody>\n",
       "</table>\n",
       "<p>3940 rows × 8 columns</p>\n",
       "</div>"
      ],
      "text/plain": [
       "      JourneyID  CustomerID  ProductID  VisitDate        Stage    Action  \\\n",
       "0             1          64         18 2024-06-10     CHECKOUT  Drop-off   \n",
       "1             2          94         11 2025-07-09     CHECKOUT  Drop-off   \n",
       "2             3          34          8 2024-06-14  PRODUCTPAGE      View   \n",
       "3             4          33         18 2025-05-28     CHECKOUT  Drop-off   \n",
       "4             5          91         10 2023-02-11     HOMEPAGE     Click   \n",
       "...         ...         ...        ...        ...          ...       ...   \n",
       "3984       2655          84          4 2023-10-09     HOMEPAGE      View   \n",
       "3991       2653          86          2 2023-06-08  PRODUCTPAGE     Click   \n",
       "3997         97          92         19 2025-05-26     HOMEPAGE      View   \n",
       "4005       3531          70          5 2025-08-04     CHECKOUT  Drop-off   \n",
       "4007       1248          17          8 2023-12-13     HOMEPAGE     Click   \n",
       "\n",
       "        Duration  avg_duration  \n",
       "0     132.333333    132.333333  \n",
       "1     169.250000    169.250000  \n",
       "2     235.000000    184.250000  \n",
       "3      12.000000     12.000000  \n",
       "4     156.000000    104.600000  \n",
       "...          ...           ...  \n",
       "3984  146.000000    147.000000  \n",
       "3991  247.000000    214.000000  \n",
       "3997  203.000000    162.000000  \n",
       "4005  203.000000    203.000000  \n",
       "4007  153.000000    141.250000  \n",
       "\n",
       "[3940 rows x 8 columns]"
      ]
     },
     "execution_count": 48,
     "metadata": {},
     "output_type": "execute_result"
    }
   ],
   "source": [
    "customer_journey_df"
   ]
  },
  {
   "cell_type": "code",
   "execution_count": 51,
   "id": "992d608c-56b0-4f48-8082-a3f16e9bb134",
   "metadata": {},
   "outputs": [],
   "source": [
    "# Drop intermediate columns\n",
    "customer_journey_df = customer_journey_df.drop(columns=['avg_duration'],axis=1)"
   ]
  },
  {
   "cell_type": "code",
   "execution_count": 52,
   "id": "7b7a2656-99c7-4426-b39a-cbc0e0c51422",
   "metadata": {},
   "outputs": [],
   "source": [
    "# Save or display the cleaned dataset\n",
    "customer_journey_df.to_csv('cleaned_customer_journey.csv', index=False)"
   ]
  },
  {
   "cell_type": "code",
   "execution_count": 53,
   "id": "57d7cfb5-e914-4462-9969-4a774d459ea6",
   "metadata": {},
   "outputs": [
    {
     "data": {
      "text/html": [
       "<div>\n",
       "<style scoped>\n",
       "    .dataframe tbody tr th:only-of-type {\n",
       "        vertical-align: middle;\n",
       "    }\n",
       "\n",
       "    .dataframe tbody tr th {\n",
       "        vertical-align: top;\n",
       "    }\n",
       "\n",
       "    .dataframe thead th {\n",
       "        text-align: right;\n",
       "    }\n",
       "</style>\n",
       "<table border=\"1\" class=\"dataframe\">\n",
       "  <thead>\n",
       "    <tr style=\"text-align: right;\">\n",
       "      <th></th>\n",
       "      <th>JourneyID</th>\n",
       "      <th>CustomerID</th>\n",
       "      <th>ProductID</th>\n",
       "      <th>VisitDate</th>\n",
       "      <th>Stage</th>\n",
       "      <th>Action</th>\n",
       "      <th>Duration</th>\n",
       "    </tr>\n",
       "  </thead>\n",
       "  <tbody>\n",
       "    <tr>\n",
       "      <th>0</th>\n",
       "      <td>1</td>\n",
       "      <td>64</td>\n",
       "      <td>18</td>\n",
       "      <td>2024-06-10</td>\n",
       "      <td>CHECKOUT</td>\n",
       "      <td>Drop-off</td>\n",
       "      <td>132.333333</td>\n",
       "    </tr>\n",
       "    <tr>\n",
       "      <th>1</th>\n",
       "      <td>2</td>\n",
       "      <td>94</td>\n",
       "      <td>11</td>\n",
       "      <td>2025-07-09</td>\n",
       "      <td>CHECKOUT</td>\n",
       "      <td>Drop-off</td>\n",
       "      <td>169.250000</td>\n",
       "    </tr>\n",
       "    <tr>\n",
       "      <th>2</th>\n",
       "      <td>3</td>\n",
       "      <td>34</td>\n",
       "      <td>8</td>\n",
       "      <td>2024-06-14</td>\n",
       "      <td>PRODUCTPAGE</td>\n",
       "      <td>View</td>\n",
       "      <td>235.000000</td>\n",
       "    </tr>\n",
       "    <tr>\n",
       "      <th>3</th>\n",
       "      <td>4</td>\n",
       "      <td>33</td>\n",
       "      <td>18</td>\n",
       "      <td>2025-05-28</td>\n",
       "      <td>CHECKOUT</td>\n",
       "      <td>Drop-off</td>\n",
       "      <td>12.000000</td>\n",
       "    </tr>\n",
       "    <tr>\n",
       "      <th>4</th>\n",
       "      <td>5</td>\n",
       "      <td>91</td>\n",
       "      <td>10</td>\n",
       "      <td>2023-02-11</td>\n",
       "      <td>HOMEPAGE</td>\n",
       "      <td>Click</td>\n",
       "      <td>156.000000</td>\n",
       "    </tr>\n",
       "    <tr>\n",
       "      <th>...</th>\n",
       "      <td>...</td>\n",
       "      <td>...</td>\n",
       "      <td>...</td>\n",
       "      <td>...</td>\n",
       "      <td>...</td>\n",
       "      <td>...</td>\n",
       "      <td>...</td>\n",
       "    </tr>\n",
       "    <tr>\n",
       "      <th>3984</th>\n",
       "      <td>2655</td>\n",
       "      <td>84</td>\n",
       "      <td>4</td>\n",
       "      <td>2023-10-09</td>\n",
       "      <td>HOMEPAGE</td>\n",
       "      <td>View</td>\n",
       "      <td>146.000000</td>\n",
       "    </tr>\n",
       "    <tr>\n",
       "      <th>3991</th>\n",
       "      <td>2653</td>\n",
       "      <td>86</td>\n",
       "      <td>2</td>\n",
       "      <td>2023-06-08</td>\n",
       "      <td>PRODUCTPAGE</td>\n",
       "      <td>Click</td>\n",
       "      <td>247.000000</td>\n",
       "    </tr>\n",
       "    <tr>\n",
       "      <th>3997</th>\n",
       "      <td>97</td>\n",
       "      <td>92</td>\n",
       "      <td>19</td>\n",
       "      <td>2025-05-26</td>\n",
       "      <td>HOMEPAGE</td>\n",
       "      <td>View</td>\n",
       "      <td>203.000000</td>\n",
       "    </tr>\n",
       "    <tr>\n",
       "      <th>4005</th>\n",
       "      <td>3531</td>\n",
       "      <td>70</td>\n",
       "      <td>5</td>\n",
       "      <td>2025-08-04</td>\n",
       "      <td>CHECKOUT</td>\n",
       "      <td>Drop-off</td>\n",
       "      <td>203.000000</td>\n",
       "    </tr>\n",
       "    <tr>\n",
       "      <th>4007</th>\n",
       "      <td>1248</td>\n",
       "      <td>17</td>\n",
       "      <td>8</td>\n",
       "      <td>2023-12-13</td>\n",
       "      <td>HOMEPAGE</td>\n",
       "      <td>Click</td>\n",
       "      <td>153.000000</td>\n",
       "    </tr>\n",
       "  </tbody>\n",
       "</table>\n",
       "<p>3940 rows × 7 columns</p>\n",
       "</div>"
      ],
      "text/plain": [
       "      JourneyID  CustomerID  ProductID  VisitDate        Stage    Action  \\\n",
       "0             1          64         18 2024-06-10     CHECKOUT  Drop-off   \n",
       "1             2          94         11 2025-07-09     CHECKOUT  Drop-off   \n",
       "2             3          34          8 2024-06-14  PRODUCTPAGE      View   \n",
       "3             4          33         18 2025-05-28     CHECKOUT  Drop-off   \n",
       "4             5          91         10 2023-02-11     HOMEPAGE     Click   \n",
       "...         ...         ...        ...        ...          ...       ...   \n",
       "3984       2655          84          4 2023-10-09     HOMEPAGE      View   \n",
       "3991       2653          86          2 2023-06-08  PRODUCTPAGE     Click   \n",
       "3997         97          92         19 2025-05-26     HOMEPAGE      View   \n",
       "4005       3531          70          5 2025-08-04     CHECKOUT  Drop-off   \n",
       "4007       1248          17          8 2023-12-13     HOMEPAGE     Click   \n",
       "\n",
       "        Duration  \n",
       "0     132.333333  \n",
       "1     169.250000  \n",
       "2     235.000000  \n",
       "3      12.000000  \n",
       "4     156.000000  \n",
       "...          ...  \n",
       "3984  146.000000  \n",
       "3991  247.000000  \n",
       "3997  203.000000  \n",
       "4005  203.000000  \n",
       "4007  153.000000  \n",
       "\n",
       "[3940 rows x 7 columns]"
      ]
     },
     "execution_count": 53,
     "metadata": {},
     "output_type": "execute_result"
    }
   ],
   "source": [
    "customer_journey_df"
   ]
  },
  {
   "cell_type": "code",
   "execution_count": 5,
   "id": "4981f748-7271-44bd-936e-6648725809e5",
   "metadata": {},
   "outputs": [],
   "source": [
    "a = 100"
   ]
  },
  {
   "cell_type": "code",
   "execution_count": 7,
   "id": "57018cde-28b4-404e-ae87-67179e2e2304",
   "metadata": {},
   "outputs": [
    {
     "data": {
      "text/plain": [
       "300"
      ]
     },
     "execution_count": 7,
     "metadata": {},
     "output_type": "execute_result"
    }
   ],
   "source": [
    "a = a + 200\n",
    "a"
   ]
  },
  {
   "cell_type": "code",
   "execution_count": 16,
   "id": "402c4c16-2e8b-4b02-a704-0482581dea59",
   "metadata": {},
   "outputs": [],
   "source": [
    "a = a+1"
   ]
  },
  {
   "cell_type": "code",
   "execution_count": 17,
   "id": "e6db3d39-e0d6-46df-b948-7d161ef8f08c",
   "metadata": {},
   "outputs": [
    {
     "data": {
      "text/plain": [
       "305"
      ]
     },
     "execution_count": 17,
     "metadata": {},
     "output_type": "execute_result"
    }
   ],
   "source": [
    "a"
   ]
  },
  {
   "cell_type": "code",
   "execution_count": 44,
   "id": "82e1022a-0d76-40e2-9c88-40bf54038e0d",
   "metadata": {},
   "outputs": [
    {
     "data": {
      "text/plain": [
       "18.0"
      ]
     },
     "execution_count": 44,
     "metadata": {},
     "output_type": "execute_result"
    }
   ],
   "source": [
    "a //=2\n",
    "a"
   ]
  },
  {
   "cell_type": "code",
   "execution_count": 45,
   "id": "7e3eaacc-bda2-4c46-9017-110f4f0f5272",
   "metadata": {},
   "outputs": [
    {
     "data": {
      "text/plain": [
       "2.0"
      ]
     },
     "execution_count": 45,
     "metadata": {},
     "output_type": "execute_result"
    }
   ],
   "source": [
    "12/6"
   ]
  },
  {
   "cell_type": "code",
   "execution_count": 46,
   "id": "a671485f-a004-4f22-b31b-9d4712136fa5",
   "metadata": {},
   "outputs": [
    {
     "data": {
      "text/plain": [
       "2"
      ]
     },
     "execution_count": 46,
     "metadata": {},
     "output_type": "execute_result"
    }
   ],
   "source": [
    "12//6"
   ]
  },
  {
   "cell_type": "code",
   "execution_count": 48,
   "id": "54abc2a1-3a58-48a5-a2e2-e88be0b76089",
   "metadata": {},
   "outputs": [
    {
     "data": {
      "text/plain": [
       "2.0"
      ]
     },
     "execution_count": 48,
     "metadata": {},
     "output_type": "execute_result"
    }
   ],
   "source": [
    "12.0//5"
   ]
  },
  {
   "cell_type": "code",
   "execution_count": null,
   "id": "e89d9ce0-6e30-4b84-a480-b117da356c45",
   "metadata": {},
   "outputs": [],
   "source": []
  }
 ],
 "metadata": {
  "kernelspec": {
   "display_name": "Python 3 (ipykernel)",
   "language": "python",
   "name": "python3"
  },
  "language_info": {
   "codemirror_mode": {
    "name": "ipython",
    "version": 3
   },
   "file_extension": ".py",
   "mimetype": "text/x-python",
   "name": "python",
   "nbconvert_exporter": "python",
   "pygments_lexer": "ipython3",
   "version": "3.12.7"
  }
 },
 "nbformat": 4,
 "nbformat_minor": 5
}
