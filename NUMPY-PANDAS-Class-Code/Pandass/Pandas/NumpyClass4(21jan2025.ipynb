{
 "cells": [
  {
   "cell_type": "code",
   "execution_count": 2,
   "id": "f6f12218-92a1-4754-b571-a87bc38f5fd2",
   "metadata": {},
   "outputs": [],
   "source": [
    "import numpy as np"
   ]
  },
  {
   "cell_type": "code",
   "execution_count": 3,
   "id": "34340de5-fca6-413c-92a5-ca49280461cf",
   "metadata": {},
   "outputs": [
    {
     "data": {
      "text/plain": [
       "array([[ 0,  1,  2,  3,  4],\n",
       "       [ 5,  6,  7,  8,  9],\n",
       "       [10, 11, 12, 13, 14],\n",
       "       [15, 16, 17, 18, 19],\n",
       "       [20, 21, 22, 23, 24]])"
      ]
     },
     "execution_count": 3,
     "metadata": {},
     "output_type": "execute_result"
    }
   ],
   "source": [
    "arr2d=np.arange(25).reshape(5,5)\n",
    "arr2d"
   ]
  },
  {
   "cell_type": "code",
   "execution_count": 6,
   "id": "470572ea-9867-4f01-bd0c-c1fd8183337d",
   "metadata": {},
   "outputs": [
    {
     "data": {
      "text/plain": [
       "array([ 0,  1,  2,  3,  4,  5,  6,  7,  8,  9, 10, 11, 12, 13, 14, 15, 16,\n",
       "       17, 18, 19, 20, 21, 22, 23, 24])"
      ]
     },
     "execution_count": 6,
     "metadata": {},
     "output_type": "execute_result"
    }
   ],
   "source": [
    "arr1d = np.ravel(arr2d)\n",
    "arr1d"
   ]
  },
  {
   "cell_type": "code",
   "execution_count": 7,
   "id": "afba8cbb-2f45-48e3-b038-1dfe779994e4",
   "metadata": {},
   "outputs": [],
   "source": [
    "arr = np.array([1,2,3])"
   ]
  },
  {
   "cell_type": "code",
   "execution_count": 10,
   "id": "781bf054-a6d5-4066-ae28-738e042cbeed",
   "metadata": {},
   "outputs": [],
   "source": [
    "new = np.append(arr1d,arr)"
   ]
  },
  {
   "cell_type": "code",
   "execution_count": 11,
   "id": "232d7e92-2bc8-4be4-90cc-e77349e6080a",
   "metadata": {},
   "outputs": [
    {
     "data": {
      "text/plain": [
       "array([ 0,  1,  2,  3,  4,  5,  6,  7,  8,  9, 10, 11, 12, 13, 14, 15, 16,\n",
       "       17, 18, 19, 20, 21, 22, 23, 24,  1,  2,  3])"
      ]
     },
     "execution_count": 11,
     "metadata": {},
     "output_type": "execute_result"
    }
   ],
   "source": [
    "new"
   ]
  },
  {
   "cell_type": "code",
   "execution_count": 12,
   "id": "a485c5b4-4204-4b16-9b4e-e5ec733dcf68",
   "metadata": {},
   "outputs": [
    {
     "data": {
      "text/plain": [
       "array([[ 0,  1,  2,  3,  4],\n",
       "       [ 5,  6,  7,  8,  9],\n",
       "       [10, 11, 12, 13, 14],\n",
       "       [15, 16, 17, 18, 19],\n",
       "       [20, 21, 22, 23, 24]])"
      ]
     },
     "execution_count": 12,
     "metadata": {},
     "output_type": "execute_result"
    }
   ],
   "source": [
    "arr2d"
   ]
  },
  {
   "cell_type": "markdown",
   "id": "6c5321c0-8a2c-4189-8ade-de697d7eabf5",
   "metadata": {},
   "source": [
    "# Combining arrays"
   ]
  },
  {
   "cell_type": "code",
   "execution_count": 13,
   "id": "42651e08-d8fc-4018-b521-a46230576d0e",
   "metadata": {},
   "outputs": [
    {
     "data": {
      "text/plain": [
       "array([0, 1, 2, 3, 4, 5, 6, 7, 8, 9])"
      ]
     },
     "execution_count": 13,
     "metadata": {},
     "output_type": "execute_result"
    }
   ],
   "source": [
    "arr1d= np.arange(10)\n",
    "arr1d"
   ]
  },
  {
   "cell_type": "code",
   "execution_count": 14,
   "id": "733892ff-8200-4750-afd0-a9cc1d415e6f",
   "metadata": {},
   "outputs": [
    {
     "data": {
      "text/plain": [
       "array([[0, 1],\n",
       "       [2, 3],\n",
       "       [4, 5],\n",
       "       [6, 7],\n",
       "       [8, 9]])"
      ]
     },
     "execution_count": 14,
     "metadata": {},
     "output_type": "execute_result"
    }
   ],
   "source": [
    "arr2d = arr1d.reshape(5,2)\n",
    "arr2d"
   ]
  },
  {
   "cell_type": "code",
   "execution_count": 16,
   "id": "4ddd1e2f-0a68-44bb-b011-c89401b6e9f5",
   "metadata": {},
   "outputs": [],
   "source": [
    "arr2d[4,1] = 90"
   ]
  },
  {
   "cell_type": "code",
   "execution_count": 17,
   "id": "bea86dcd-edc2-4043-b840-6d17bf85a05f",
   "metadata": {},
   "outputs": [
    {
     "data": {
      "text/plain": [
       "array([[ 0,  1],\n",
       "       [ 2,  3],\n",
       "       [ 4,  5],\n",
       "       [ 6,  7],\n",
       "       [ 8, 90]])"
      ]
     },
     "execution_count": 17,
     "metadata": {},
     "output_type": "execute_result"
    }
   ],
   "source": [
    "arr2d"
   ]
  },
  {
   "cell_type": "code",
   "execution_count": 18,
   "id": "8c179cf5-9a96-4cf1-ae88-f3d401003010",
   "metadata": {},
   "outputs": [
    {
     "data": {
      "text/plain": [
       "array([ 0,  1,  2,  3,  4,  5,  6,  7,  8, 90])"
      ]
     },
     "execution_count": 18,
     "metadata": {},
     "output_type": "execute_result"
    }
   ],
   "source": [
    "arr1d"
   ]
  },
  {
   "cell_type": "code",
   "execution_count": 19,
   "id": "f6726008-5d66-439c-b8a9-1fa25de06150",
   "metadata": {},
   "outputs": [
    {
     "data": {
      "text/plain": [
       "array([20, 21, 22, 23, 24, 25, 26, 27, 28, 29])"
      ]
     },
     "execution_count": 19,
     "metadata": {},
     "output_type": "execute_result"
    }
   ],
   "source": [
    "arr1d_a= np.arange(20,30)\n",
    "arr1d_a"
   ]
  },
  {
   "cell_type": "code",
   "execution_count": 20,
   "id": "437e87e4-dfc5-4d29-81be-0a018303402a",
   "metadata": {},
   "outputs": [],
   "source": [
    "new_array = arr1d_a.reshape(5,2) + arr1d.reshape(5,2)"
   ]
  },
  {
   "cell_type": "code",
   "execution_count": 21,
   "id": "fcce392b-b6d0-4d9f-a823-dda8e1b3d2a6",
   "metadata": {},
   "outputs": [
    {
     "data": {
      "text/plain": [
       "array([[ 20,  22],\n",
       "       [ 24,  26],\n",
       "       [ 28,  30],\n",
       "       [ 32,  34],\n",
       "       [ 36, 119]])"
      ]
     },
     "execution_count": 21,
     "metadata": {},
     "output_type": "execute_result"
    }
   ],
   "source": [
    "new_array"
   ]
  },
  {
   "cell_type": "code",
   "execution_count": 23,
   "id": "890542ad-7723-4e60-adda-e6830ee3b347",
   "metadata": {},
   "outputs": [],
   "source": [
    "new_array[1,1] = 200"
   ]
  },
  {
   "cell_type": "code",
   "execution_count": 24,
   "id": "bcfce778-a38b-4c9b-a5bf-e90e9174fcf9",
   "metadata": {},
   "outputs": [
    {
     "data": {
      "text/plain": [
       "array([[ 20,  22],\n",
       "       [ 24, 200],\n",
       "       [ 28,  30],\n",
       "       [ 32,  34],\n",
       "       [ 36, 119]])"
      ]
     },
     "execution_count": 24,
     "metadata": {},
     "output_type": "execute_result"
    }
   ],
   "source": [
    "new_array"
   ]
  },
  {
   "cell_type": "code",
   "execution_count": 25,
   "id": "cf4d3539-f8a0-40f1-8099-784743bd1280",
   "metadata": {},
   "outputs": [
    {
     "data": {
      "text/plain": [
       "array([ 0,  1,  2,  3,  4,  5,  6,  7,  8, 90])"
      ]
     },
     "execution_count": 25,
     "metadata": {},
     "output_type": "execute_result"
    }
   ],
   "source": [
    "arr1d"
   ]
  },
  {
   "cell_type": "code",
   "execution_count": 26,
   "id": "4088e188-1418-4dc4-895a-dcf28a035998",
   "metadata": {},
   "outputs": [],
   "source": [
    "import pandas as pd"
   ]
  },
  {
   "cell_type": "code",
   "execution_count": 31,
   "id": "6b18f116-0928-4e65-ab77-bcecf4116d7c",
   "metadata": {},
   "outputs": [
    {
     "data": {
      "text/plain": [
       "array([1, 1101, 'Manager', 'Accounts', 50.0, 200000.0], dtype=object)"
      ]
     },
     "execution_count": 31,
     "metadata": {},
     "output_type": "execute_result"
    }
   ],
   "source": [
    "data = pd.read_excel(\"employee.xlsx\")\n",
    "data.values[0]"
   ]
  },
  {
   "cell_type": "code",
   "execution_count": 38,
   "id": "388f8208-9dcb-47d3-914d-622ade2cdada",
   "metadata": {},
   "outputs": [
    {
     "data": {
      "text/plain": [
       "array([[ 0,  1,  2,  3],\n",
       "       [ 4,  5,  6,  7],\n",
       "       [ 8,  9, 10, 11],\n",
       "       [12, 13, 14, 15]])"
      ]
     },
     "execution_count": 38,
     "metadata": {},
     "output_type": "execute_result"
    }
   ],
   "source": [
    "arr2d_a = np.arange(16).reshape(4,4)\n",
    "arr2d_b = np.arange(16,32).reshape(4,4)\n",
    "arr2d_a"
   ]
  },
  {
   "cell_type": "code",
   "execution_count": 39,
   "id": "692b8785-c241-478f-a93d-69c93d85a6f5",
   "metadata": {},
   "outputs": [
    {
     "data": {
      "text/plain": [
       "array([[16, 17, 18, 19],\n",
       "       [20, 21, 22, 23],\n",
       "       [24, 25, 26, 27],\n",
       "       [28, 29, 30, 31]])"
      ]
     },
     "execution_count": 39,
     "metadata": {},
     "output_type": "execute_result"
    }
   ],
   "source": [
    "arr2d_b"
   ]
  },
  {
   "cell_type": "code",
   "execution_count": 41,
   "id": "60646aa8-e2bb-4a25-b629-a366c20416de",
   "metadata": {},
   "outputs": [
    {
     "data": {
      "text/plain": [
       "array([[ 0,  1,  2,  3, 16, 17, 18, 19],\n",
       "       [ 4,  5,  6,  7, 20, 21, 22, 23],\n",
       "       [ 8,  9, 10, 11, 24, 25, 26, 27],\n",
       "       [12, 13, 14, 15, 28, 29, 30, 31]])"
      ]
     },
     "execution_count": 41,
     "metadata": {},
     "output_type": "execute_result"
    }
   ],
   "source": [
    "np.hstack((arr2d_a,arr2d_b))"
   ]
  },
  {
   "cell_type": "code",
   "execution_count": 42,
   "id": "43f50e1a-0230-4812-a094-49293ad17310",
   "metadata": {},
   "outputs": [
    {
     "data": {
      "text/plain": [
       "array([[ 0,  1,  2,  3],\n",
       "       [ 4,  5,  6,  7],\n",
       "       [ 8,  9, 10, 11],\n",
       "       [12, 13, 14, 15],\n",
       "       [16, 17, 18, 19],\n",
       "       [20, 21, 22, 23],\n",
       "       [24, 25, 26, 27],\n",
       "       [28, 29, 30, 31]])"
      ]
     },
     "execution_count": 42,
     "metadata": {},
     "output_type": "execute_result"
    }
   ],
   "source": [
    "np.vstack((arr2d_a,arr2d_b))"
   ]
  },
  {
   "cell_type": "code",
   "execution_count": 43,
   "id": "6fdc5681-4ee3-4b32-bc30-34b5dacd94f7",
   "metadata": {},
   "outputs": [
    {
     "data": {
      "text/plain": [
       "array([[[ 0, 16],\n",
       "        [ 1, 17],\n",
       "        [ 2, 18],\n",
       "        [ 3, 19]],\n",
       "\n",
       "       [[ 4, 20],\n",
       "        [ 5, 21],\n",
       "        [ 6, 22],\n",
       "        [ 7, 23]],\n",
       "\n",
       "       [[ 8, 24],\n",
       "        [ 9, 25],\n",
       "        [10, 26],\n",
       "        [11, 27]],\n",
       "\n",
       "       [[12, 28],\n",
       "        [13, 29],\n",
       "        [14, 30],\n",
       "        [15, 31]]])"
      ]
     },
     "execution_count": 43,
     "metadata": {},
     "output_type": "execute_result"
    }
   ],
   "source": [
    "np.dstack((arr2d_a,arr2d_b))"
   ]
  },
  {
   "cell_type": "code",
   "execution_count": 44,
   "id": "4823f2c6-de16-4ceb-b5d5-c991c39055f3",
   "metadata": {},
   "outputs": [
    {
     "data": {
      "text/plain": [
       "array([[ 0,  1,  2,  3, 16, 17, 18, 19],\n",
       "       [ 4,  5,  6,  7, 20, 21, 22, 23],\n",
       "       [ 8,  9, 10, 11, 24, 25, 26, 27],\n",
       "       [12, 13, 14, 15, 28, 29, 30, 31]])"
      ]
     },
     "execution_count": 44,
     "metadata": {},
     "output_type": "execute_result"
    }
   ],
   "source": [
    "np.concatenate((arr2d_a, arr2d_b), axis = 1) # horizontal"
   ]
  },
  {
   "cell_type": "code",
   "execution_count": 47,
   "id": "ad6a8951-a707-4e71-97f8-de8b161841be",
   "metadata": {},
   "outputs": [
    {
     "data": {
      "text/plain": [
       "array([[ 0,  1,  2,  3],\n",
       "       [ 4,  5,  6,  7],\n",
       "       [ 8,  9, 10, 11],\n",
       "       [12, 13, 14, 15],\n",
       "       [16, 17, 18, 19],\n",
       "       [20, 21, 22, 23],\n",
       "       [24, 25, 26, 27],\n",
       "       [28, 29, 30, 31]])"
      ]
     },
     "execution_count": 47,
     "metadata": {},
     "output_type": "execute_result"
    }
   ],
   "source": [
    "np.concatenate((arr2d_a, arr2d_b), axis = 0) # vertical stack"
   ]
  },
  {
   "cell_type": "code",
   "execution_count": 48,
   "id": "b7b0fdf1-3282-4a11-85d3-48aab3bd30d1",
   "metadata": {},
   "outputs": [
    {
     "data": {
      "text/plain": [
       "array([[ 0,  1,  2,  3, 16, 17, 18, 19],\n",
       "       [ 4,  5,  6,  7, 20, 21, 22, 23],\n",
       "       [ 8,  9, 10, 11, 24, 25, 26, 27],\n",
       "       [12, 13, 14, 15, 28, 29, 30, 31]])"
      ]
     },
     "execution_count": 48,
     "metadata": {},
     "output_type": "execute_result"
    }
   ],
   "source": [
    "np.column_stack((arr2d_a, arr2d_b))"
   ]
  },
  {
   "cell_type": "code",
   "execution_count": 49,
   "id": "1e76ea38-1782-490c-8a95-8b4e6ae4bde7",
   "metadata": {},
   "outputs": [
    {
     "data": {
      "text/plain": [
       "array([[ 0,  1,  2,  3],\n",
       "       [ 4,  5,  6,  7],\n",
       "       [ 8,  9, 10, 11],\n",
       "       [12, 13, 14, 15],\n",
       "       [16, 17, 18, 19],\n",
       "       [20, 21, 22, 23],\n",
       "       [24, 25, 26, 27],\n",
       "       [28, 29, 30, 31]])"
      ]
     },
     "execution_count": 49,
     "metadata": {},
     "output_type": "execute_result"
    }
   ],
   "source": [
    "np.row_stack((arr2d_a, arr2d_b))"
   ]
  },
  {
   "cell_type": "markdown",
   "id": "c63caa76-0978-4a7d-8ee4-a3a7d2fb886c",
   "metadata": {},
   "source": [
    "# Splitting arrays"
   ]
  },
  {
   "cell_type": "code",
   "execution_count": 50,
   "id": "98096734-75e2-456e-8e04-82718e3e4599",
   "metadata": {},
   "outputs": [
    {
     "data": {
      "text/plain": [
       "array([[ 0,  1,  2,  3],\n",
       "       [ 4,  5,  6,  7],\n",
       "       [ 8,  9, 10, 11],\n",
       "       [12, 13, 14, 15]])"
      ]
     },
     "execution_count": 50,
     "metadata": {},
     "output_type": "execute_result"
    }
   ],
   "source": [
    "arr2d"
   ]
  },
  {
   "cell_type": "code",
   "execution_count": 56,
   "id": "2f2d8cbb-8bd3-4149-9aff-9184b57e36bd",
   "metadata": {},
   "outputs": [
    {
     "data": {
      "text/plain": [
       "[array([[ 0,  1],\n",
       "        [ 4,  5],\n",
       "        [ 8,  9],\n",
       "        [12, 13]]),\n",
       " array([[ 2,  3],\n",
       "        [ 6,  7],\n",
       "        [10, 11],\n",
       "        [14, 15]])]"
      ]
     },
     "execution_count": 56,
     "metadata": {},
     "output_type": "execute_result"
    }
   ],
   "source": [
    "np.hsplit(arr2d,2)"
   ]
  },
  {
   "cell_type": "code",
   "execution_count": 57,
   "id": "692adc1e-6403-437a-8bfa-495f9dca84b4",
   "metadata": {},
   "outputs": [
    {
     "data": {
      "text/plain": [
       "[array([[ 0],\n",
       "        [ 4],\n",
       "        [ 8],\n",
       "        [12]]),\n",
       " array([[ 1],\n",
       "        [ 5],\n",
       "        [ 9],\n",
       "        [13]]),\n",
       " array([[ 2],\n",
       "        [ 6],\n",
       "        [10],\n",
       "        [14]]),\n",
       " array([[ 3],\n",
       "        [ 7],\n",
       "        [11],\n",
       "        [15]])]"
      ]
     },
     "execution_count": 57,
     "metadata": {},
     "output_type": "execute_result"
    }
   ],
   "source": [
    "np.hsplit(arr2d,4)"
   ]
  },
  {
   "cell_type": "code",
   "execution_count": 58,
   "id": "82ec8702-07d5-42d4-a446-acd8597c8ef9",
   "metadata": {},
   "outputs": [
    {
     "data": {
      "text/plain": [
       "[array([[0, 1, 2, 3],\n",
       "        [4, 5, 6, 7]]),\n",
       " array([[ 8,  9, 10, 11],\n",
       "        [12, 13, 14, 15]])]"
      ]
     },
     "execution_count": 58,
     "metadata": {},
     "output_type": "execute_result"
    }
   ],
   "source": [
    "np.vsplit(arr2d,2)"
   ]
  },
  {
   "cell_type": "code",
   "execution_count": 59,
   "id": "ec7a932c-ea32-4ac7-9df9-82fed3f2b4a5",
   "metadata": {},
   "outputs": [
    {
     "data": {
      "text/plain": [
       "[array([[0, 1, 2, 3]]),\n",
       " array([[4, 5, 6, 7]]),\n",
       " array([[ 8,  9, 10, 11]]),\n",
       " array([[12, 13, 14, 15]])]"
      ]
     },
     "execution_count": 59,
     "metadata": {},
     "output_type": "execute_result"
    }
   ],
   "source": [
    "np.vsplit(arr2d,4)"
   ]
  },
  {
   "cell_type": "code",
   "execution_count": 61,
   "id": "d758edd9-bfe4-41ee-8609-7df8f1b22d81",
   "metadata": {},
   "outputs": [
    {
     "data": {
      "text/plain": [
       "[array([[ 0],\n",
       "        [ 4],\n",
       "        [ 8],\n",
       "        [12]]),\n",
       " array([[ 1],\n",
       "        [ 5],\n",
       "        [ 9],\n",
       "        [13]]),\n",
       " array([[ 2],\n",
       "        [ 6],\n",
       "        [10],\n",
       "        [14]]),\n",
       " array([[ 3],\n",
       "        [ 7],\n",
       "        [11],\n",
       "        [15]])]"
      ]
     },
     "execution_count": 61,
     "metadata": {},
     "output_type": "execute_result"
    }
   ],
   "source": [
    "np.split(arr2d,4,axis=1)"
   ]
  },
  {
   "cell_type": "code",
   "execution_count": 62,
   "id": "ddda60ac-e236-47dc-9d9d-031735666b91",
   "metadata": {},
   "outputs": [
    {
     "data": {
      "text/plain": [
       "[array([[0, 1, 2, 3]]),\n",
       " array([[4, 5, 6, 7]]),\n",
       " array([[ 8,  9, 10, 11]]),\n",
       " array([[12, 13, 14, 15]])]"
      ]
     },
     "execution_count": 62,
     "metadata": {},
     "output_type": "execute_result"
    }
   ],
   "source": [
    "np.split(arr2d,4,axis=0)"
   ]
  },
  {
   "cell_type": "markdown",
   "id": "594e277a-ac78-4500-bdf5-235d391bb4c6",
   "metadata": {},
   "source": [
    "# Useful numerical methods of NumPy arrays"
   ]
  },
  {
   "cell_type": "code",
   "execution_count": 65,
   "id": "ef2e55aa-e0e7-4af6-a85a-189e9f461b74",
   "metadata": {},
   "outputs": [
    {
     "name": "stdout",
     "output_type": "stream",
     "text": [
      "[[10 11 12]\n",
      " [13 14 15]\n",
      " [16 17 18]]\n",
      "10 min of the entire matrix\n",
      "18 max of entire matrix\n",
      "0 position of the min value\n",
      "8 position of the max value\n",
      "[10 11 12] mins down each column\n"
     ]
    }
   ],
   "source": [
    "m = np.arange(10, 19).reshape(3, 3)\n",
    "print (m)\n",
    "print (\"{0} min of the entire matrix\".format(m.min()))\n",
    "print (\"{0} max of entire matrix\".format(m.max()))\n",
    "print (\"{0} position of the min value\".format(m.argmin()))\n",
    "print (\"{0} position of the max value\".format(m.argmax()))\n",
    "print (\"{0} mins down each column\".format(m.min(axis = 0)))"
   ]
  },
  {
   "cell_type": "code",
   "execution_count": 66,
   "id": "0687cf52-6da7-429b-92c2-f45b6d35deb0",
   "metadata": {},
   "outputs": [
    {
     "name": "stdout",
     "output_type": "stream",
     "text": [
      "[10 13 16] mins across each row\n",
      "[16 17 18] maxs down each column\n"
     ]
    }
   ],
   "source": [
    "print (\"{0} mins across each row\".format(m.min(axis = 1)))\n"
   ]
  },
  {
   "cell_type": "code",
   "execution_count": 67,
   "id": "166657cf-d8e1-4463-a5d2-0e0a6c21ea0e",
   "metadata": {},
   "outputs": [
    {
     "name": "stdout",
     "output_type": "stream",
     "text": [
      "[16 17 18] maxs down each column\n"
     ]
    }
   ],
   "source": [
    "print (\"{0} maxs down each column\".format(m.max(axis = 0)))"
   ]
  },
  {
   "cell_type": "code",
   "execution_count": 69,
   "id": "08a14aa4-7a15-471b-9a89-dac96781807a",
   "metadata": {},
   "outputs": [
    {
     "data": {
      "text/plain": [
       "(12.6, 25.916018212680747, 671.6400000000001)"
      ]
     },
     "execution_count": 69,
     "metadata": {},
     "output_type": "execute_result"
    }
   ],
   "source": [
    "# mean is the centre of data.\n",
    "# variance is distance of a data point from the mean.\n",
    "# Standard deviation is the unit of variance. \n",
    "\n",
    "arr1d.mean(), arr1d.std(), arr1d.var()"
   ]
  },
  {
   "cell_type": "code",
   "execution_count": 70,
   "id": "a5023dfd-e555-482a-be17-41f768b75b73",
   "metadata": {},
   "outputs": [
    {
     "data": {
      "text/plain": [
       "(126, 0)"
      ]
     },
     "execution_count": 70,
     "metadata": {},
     "output_type": "execute_result"
    }
   ],
   "source": [
    "arr1d.sum(), arr1d.prod()"
   ]
  },
  {
   "cell_type": "code",
   "execution_count": 72,
   "id": "8c027765-166f-4f04-b613-d895a1f3f844",
   "metadata": {},
   "outputs": [
    {
     "data": {
      "text/plain": [
       "(array([  0,   1,   3,   6,  10,  15,  21,  28,  36, 126]),\n",
       " array([         20,         420,        9240,      212520,     5100480,\n",
       "          127512000,  -979655296,  -680889216, -1885028864,  1168737792]))"
      ]
     },
     "execution_count": 72,
     "metadata": {},
     "output_type": "execute_result"
    }
   ],
   "source": [
    "arr1d.cumsum(), arr1d_a.cumprod()"
   ]
  },
  {
   "cell_type": "code",
   "execution_count": 73,
   "id": "daef54c1-b553-4082-841b-b519a4304cb2",
   "metadata": {},
   "outputs": [
    {
     "data": {
      "text/plain": [
       "True"
      ]
     },
     "execution_count": 73,
     "metadata": {},
     "output_type": "execute_result"
    }
   ],
   "source": [
    "(arr1d>10).any()"
   ]
  },
  {
   "cell_type": "code",
   "execution_count": 74,
   "id": "951e6f76-83d8-4afb-b2b4-e3bde8e40983",
   "metadata": {},
   "outputs": [
    {
     "data": {
      "text/plain": [
       "array([90])"
      ]
     },
     "execution_count": 74,
     "metadata": {},
     "output_type": "execute_result"
    }
   ],
   "source": [
    "arr1d[(arr1d>10)]"
   ]
  },
  {
   "cell_type": "code",
   "execution_count": 76,
   "id": "d01ec022-55d1-4094-9a1b-a1aed4960c30",
   "metadata": {},
   "outputs": [
    {
     "data": {
      "text/plain": [
       "True"
      ]
     },
     "execution_count": 76,
     "metadata": {},
     "output_type": "execute_result"
    }
   ],
   "source": [
    "(arr1d <100).all()"
   ]
  },
  {
   "cell_type": "markdown",
   "id": "f2672c4b-980d-45a3-b70d-4be4780b2eeb",
   "metadata": {},
   "source": [
    "# Fancy Indexing"
   ]
  },
  {
   "cell_type": "code",
   "execution_count": 77,
   "id": "fc5dd1b7-419b-436c-86f2-975f2050e95b",
   "metadata": {},
   "outputs": [],
   "source": [
    "f = np.random.randn(5,5)"
   ]
  },
  {
   "cell_type": "code",
   "execution_count": 78,
   "id": "b2abb657-809c-404a-80df-50076cc1e1e7",
   "metadata": {},
   "outputs": [
    {
     "data": {
      "text/plain": [
       "array([[ 0.43150075, -1.44777755,  1.46579941,  1.10498181, -0.06865567],\n",
       "       [ 0.17228292, -0.7201215 ,  1.54829914, -0.02654745,  0.98033297],\n",
       "       [-0.1394055 ,  0.13910669,  0.89435454, -0.6589821 , -0.43932185],\n",
       "       [ 0.3903306 , -0.28602327, -2.57847478, -1.3559217 ,  1.02116228],\n",
       "       [ 1.9962831 ,  1.8452966 ,  0.45747942,  0.57910092, -0.67822576]])"
      ]
     },
     "execution_count": 78,
     "metadata": {},
     "output_type": "execute_result"
    }
   ],
   "source": [
    "f"
   ]
  },
  {
   "cell_type": "code",
   "execution_count": 79,
   "id": "7531ec51-0c55-4119-b6cd-7d7332234d40",
   "metadata": {},
   "outputs": [
    {
     "data": {
      "text/plain": [
       "array([ 0.43150075, -1.44777755,  1.46579941,  1.10498181, -0.06865567])"
      ]
     },
     "execution_count": 79,
     "metadata": {},
     "output_type": "execute_result"
    }
   ],
   "source": [
    "f[0]"
   ]
  },
  {
   "cell_type": "code",
   "execution_count": 81,
   "id": "8fe7b389-a529-49cf-b72a-ec99c4e9d089",
   "metadata": {},
   "outputs": [
    {
     "data": {
      "text/plain": [
       "array([[ 0.43150075],\n",
       "       [ 0.17228292],\n",
       "       [-0.1394055 ],\n",
       "       [ 0.3903306 ],\n",
       "       [ 1.9962831 ]])"
      ]
     },
     "execution_count": 81,
     "metadata": {},
     "output_type": "execute_result"
    }
   ],
   "source": [
    "f[:,0:1]"
   ]
  },
  {
   "cell_type": "code",
   "execution_count": 83,
   "id": "fb08a901-1369-4d37-9b18-2de06fe4ac5e",
   "metadata": {},
   "outputs": [
    {
     "data": {
      "text/plain": [
       "array([[ 1.9962831 ,  1.8452966 ,  0.45747942,  0.57910092, -0.67822576],\n",
       "       [ 0.17228292, -0.7201215 ,  1.54829914, -0.02654745,  0.98033297],\n",
       "       [ 0.43150075, -1.44777755,  1.46579941,  1.10498181, -0.06865567],\n",
       "       [ 0.3903306 , -0.28602327, -2.57847478, -1.3559217 ,  1.02116228],\n",
       "       [ 1.9962831 ,  1.8452966 ,  0.45747942,  0.57910092, -0.67822576],\n",
       "       [ 1.9962831 ,  1.8452966 ,  0.45747942,  0.57910092, -0.67822576],\n",
       "       [ 1.9962831 ,  1.8452966 ,  0.45747942,  0.57910092, -0.67822576]])"
      ]
     },
     "execution_count": 83,
     "metadata": {},
     "output_type": "execute_result"
    }
   ],
   "source": [
    "f[[4,1,0,3,4,4,4]]"
   ]
  },
  {
   "cell_type": "code",
   "execution_count": 84,
   "id": "8bc34e47-d987-4fa5-acad-60b7dce25791",
   "metadata": {},
   "outputs": [
    {
     "data": {
      "text/plain": [
       "array([[ 1.46579941,  0.43150075,  1.10498181, -1.44777755],\n",
       "       [ 1.54829914,  0.17228292, -0.02654745, -0.7201215 ],\n",
       "       [ 0.89435454, -0.1394055 , -0.6589821 ,  0.13910669],\n",
       "       [-2.57847478,  0.3903306 , -1.3559217 , -0.28602327],\n",
       "       [ 0.45747942,  1.9962831 ,  0.57910092,  1.8452966 ]])"
      ]
     },
     "execution_count": 84,
     "metadata": {},
     "output_type": "execute_result"
    }
   ],
   "source": [
    "f[:,[2,0,3,1]]"
   ]
  },
  {
   "cell_type": "markdown",
   "id": "2c03f487-048a-4178-b6aa-5e702c55d2d9",
   "metadata": {},
   "source": [
    "# Transposing Arrays and Swapping Axes"
   ]
  },
  {
   "cell_type": "code",
   "execution_count": 85,
   "id": "5caf7a8c-b0de-4c34-98c1-c40f66b97130",
   "metadata": {},
   "outputs": [
    {
     "data": {
      "text/plain": [
       "array([[ 0.43150075,  0.17228292, -0.1394055 ,  0.3903306 ,  1.9962831 ],\n",
       "       [-1.44777755, -0.7201215 ,  0.13910669, -0.28602327,  1.8452966 ],\n",
       "       [ 1.46579941,  1.54829914,  0.89435454, -2.57847478,  0.45747942],\n",
       "       [ 1.10498181, -0.02654745, -0.6589821 , -1.3559217 ,  0.57910092],\n",
       "       [-0.06865567,  0.98033297, -0.43932185,  1.02116228, -0.67822576]])"
      ]
     },
     "execution_count": 85,
     "metadata": {},
     "output_type": "execute_result"
    }
   ],
   "source": [
    "f.T"
   ]
  },
  {
   "cell_type": "code",
   "execution_count": 86,
   "id": "dcbe771c-ef1f-4254-9126-5f191d3609d9",
   "metadata": {},
   "outputs": [
    {
     "data": {
      "text/plain": [
       "array([[ 0.43150075,  0.17228292, -0.1394055 ,  0.3903306 ,  1.9962831 ],\n",
       "       [-1.44777755, -0.7201215 ,  0.13910669, -0.28602327,  1.8452966 ],\n",
       "       [ 1.46579941,  1.54829914,  0.89435454, -2.57847478,  0.45747942],\n",
       "       [ 1.10498181, -0.02654745, -0.6589821 , -1.3559217 ,  0.57910092],\n",
       "       [-0.06865567,  0.98033297, -0.43932185,  1.02116228, -0.67822576]])"
      ]
     },
     "execution_count": 86,
     "metadata": {},
     "output_type": "execute_result"
    }
   ],
   "source": [
    "f.transpose()"
   ]
  },
  {
   "cell_type": "markdown",
   "id": "7187f630-377d-41e2-a89d-9b6d625e840a",
   "metadata": {},
   "source": [
    "# Universal Functions: Fast Element-Wise ArrayFunctions"
   ]
  },
  {
   "cell_type": "code",
   "execution_count": 87,
   "id": "f142ede4-13b1-4bda-b217-afaaa65fae88",
   "metadata": {},
   "outputs": [],
   "source": [
    "import math"
   ]
  },
  {
   "cell_type": "code",
   "execution_count": 88,
   "id": "25ba1dde-3bf8-424e-9d70-ce6dbabdbd91",
   "metadata": {},
   "outputs": [
    {
     "data": {
      "text/plain": [
       "13"
      ]
     },
     "execution_count": 88,
     "metadata": {},
     "output_type": "execute_result"
    }
   ],
   "source": [
    "math.ceil(12.9)"
   ]
  },
  {
   "cell_type": "code",
   "execution_count": 89,
   "id": "80bd1346-0875-4cfe-a528-549c5ba18fd2",
   "metadata": {},
   "outputs": [
    {
     "data": {
      "text/plain": [
       "13"
      ]
     },
     "execution_count": 89,
     "metadata": {},
     "output_type": "execute_result"
    }
   ],
   "source": [
    "math.ceil(12.1)"
   ]
  },
  {
   "cell_type": "code",
   "execution_count": 90,
   "id": "d8786472-8b30-4605-b481-09cb2e5efdb0",
   "metadata": {},
   "outputs": [
    {
     "data": {
      "text/plain": [
       "(12, 12)"
      ]
     },
     "execution_count": 90,
     "metadata": {},
     "output_type": "execute_result"
    }
   ],
   "source": [
    "math.floor(12.9), math.floor(12.1)"
   ]
  },
  {
   "cell_type": "markdown",
   "id": "f0aa88b0-b2c3-46f1-803c-8cad3df8a687",
   "metadata": {},
   "source": [
    "# Linear Algebra"
   ]
  },
  {
   "cell_type": "markdown",
   "id": "bd3cfba6-c868-4260-ade6-59bbec4bc4eb",
   "metadata": {},
   "source": [
    "# Matrix Multiplication"
   ]
  },
  {
   "cell_type": "code",
   "execution_count": 5,
   "id": "b38b1011-f743-4ad2-b572-5ec01fadce9b",
   "metadata": {},
   "outputs": [
    {
     "data": {
      "text/plain": [
       "(2, 3)"
      ]
     },
     "execution_count": 5,
     "metadata": {},
     "output_type": "execute_result"
    }
   ],
   "source": [
    "x = np.array([[1., 2., 3.], [4., 5., 6.]])\n",
    "x.shape"
   ]
  },
  {
   "cell_type": "code",
   "execution_count": 10,
   "id": "983c54f4-db3b-403b-b6c6-8d0df1ed91f0",
   "metadata": {},
   "outputs": [
    {
     "data": {
      "text/plain": [
       "array([[1., 2., 3.],\n",
       "       [4., 5., 6.]])"
      ]
     },
     "execution_count": 10,
     "metadata": {},
     "output_type": "execute_result"
    }
   ],
   "source": [
    "x"
   ]
  },
  {
   "cell_type": "code",
   "execution_count": 11,
   "id": "7b24b1f4-7e22-4416-8b1b-c6a5041c079c",
   "metadata": {},
   "outputs": [
    {
     "data": {
      "text/plain": [
       "array([[ 6., 23.],\n",
       "       [-1.,  7.],\n",
       "       [ 8.,  9.]])"
      ]
     },
     "execution_count": 11,
     "metadata": {},
     "output_type": "execute_result"
    }
   ],
   "source": [
    "y = np.array([[6., 23.], [-1, 7], [8, 9]])\n",
    "y"
   ]
  },
  {
   "cell_type": "code",
   "execution_count": 7,
   "id": "377d286c-7ff6-4a50-8063-d7a29c40ef3c",
   "metadata": {},
   "outputs": [
    {
     "ename": "ValueError",
     "evalue": "operands could not be broadcast together with shapes (2,3) (3,2) ",
     "output_type": "error",
     "traceback": [
      "\u001b[1;31m---------------------------------------------------------------------------\u001b[0m",
      "\u001b[1;31mValueError\u001b[0m                                Traceback (most recent call last)",
      "Cell \u001b[1;32mIn[7], line 1\u001b[0m\n\u001b[1;32m----> 1\u001b[0m x \u001b[38;5;241m*\u001b[39m y\n",
      "\u001b[1;31mValueError\u001b[0m: operands could not be broadcast together with shapes (2,3) (3,2) "
     ]
    }
   ],
   "source": [
    "x * y"
   ]
  },
  {
   "cell_type": "code",
   "execution_count": 8,
   "id": "f6540f9d-2b81-4bf8-a455-b092455d44d1",
   "metadata": {},
   "outputs": [
    {
     "data": {
      "text/plain": [
       "array([[ 28.,  64.],\n",
       "       [ 67., 181.]])"
      ]
     },
     "execution_count": 8,
     "metadata": {},
     "output_type": "execute_result"
    }
   ],
   "source": [
    "x@y"
   ]
  },
  {
   "cell_type": "code",
   "execution_count": 9,
   "id": "c8fbea1e-0a61-4c19-886e-8571ba8a7d9c",
   "metadata": {},
   "outputs": [
    {
     "data": {
      "text/plain": [
       "array([[ 28.,  64.],\n",
       "       [ 67., 181.]])"
      ]
     },
     "execution_count": 9,
     "metadata": {},
     "output_type": "execute_result"
    }
   ],
   "source": [
    "x.dot(y)"
   ]
  },
  {
   "cell_type": "code",
   "execution_count": 12,
   "id": "60f12e72-9433-4d78-b50c-6992f28dd708",
   "metadata": {},
   "outputs": [],
   "source": [
    "from numpy.linalg import inv, qr"
   ]
  },
  {
   "cell_type": "code",
   "execution_count": 13,
   "id": "f46c12c2-7844-4152-954d-ea13e268fa8f",
   "metadata": {},
   "outputs": [
    {
     "data": {
      "text/plain": [
       "array([[ 1.05768589, -1.19451128, -1.96581836, -1.15790735, -0.41342218],\n",
       "       [-0.02960965,  1.49652783,  0.68796498,  0.56596201, -2.14138073],\n",
       "       [ 1.67708161,  0.05059584, -0.14290853, -0.55261504, -0.24267975],\n",
       "       [ 0.09050862,  1.3803283 , -1.48864917, -0.85311165,  0.64679844],\n",
       "       [ 1.49039078, -0.09159695,  0.37380032, -0.81247563, -0.16252503]])"
      ]
     },
     "execution_count": 13,
     "metadata": {},
     "output_type": "execute_result"
    }
   ],
   "source": [
    "X = np.random.randn(5, 5)\n",
    "X"
   ]
  },
  {
   "cell_type": "code",
   "execution_count": 15,
   "id": "da9597cf-0f58-4623-85a2-dc16c32eed73",
   "metadata": {},
   "outputs": [],
   "source": [
    "X_inv = inv(X)"
   ]
  },
  {
   "cell_type": "code",
   "execution_count": 17,
   "id": "6768f5f7-69fb-4e12-8372-da176756b25c",
   "metadata": {},
   "outputs": [
    {
     "data": {
      "text/plain": [
       "array([[ 1.00000000e+00, -8.86935133e-17,  2.92621601e-16,\n",
       "         1.13863654e-16, -2.30858865e-16],\n",
       "       [ 2.62970945e-17,  1.00000000e+00, -6.03289999e-18,\n",
       "        -3.00953638e-17, -2.80590930e-17],\n",
       "       [-2.71118677e-17,  1.30879280e-17,  1.00000000e+00,\n",
       "        -4.64365890e-18, -1.04351593e-16],\n",
       "       [ 9.97006441e-17, -2.89145789e-17, -2.55481884e-16,\n",
       "         1.00000000e+00,  2.53818219e-16],\n",
       "       [-1.49392610e-17, -1.16169867e-17,  2.79995688e-16,\n",
       "        -7.50537766e-17,  1.00000000e+00]])"
      ]
     },
     "execution_count": 17,
     "metadata": {},
     "output_type": "execute_result"
    }
   ],
   "source": [
    "X@X_inv"
   ]
  },
  {
   "cell_type": "code",
   "execution_count": 18,
   "id": "0e370a59-b137-4055-a0fe-d81137504486",
   "metadata": {},
   "outputs": [],
   "source": [
    "a = np.array([1.234,5.345,7.8])"
   ]
  },
  {
   "cell_type": "code",
   "execution_count": 21,
   "id": "f4c581b0-8290-4bbc-94e5-9b09408290f2",
   "metadata": {},
   "outputs": [
    {
     "data": {
      "text/plain": [
       "(array([0.234, 0.345, 0.8  ]), array([1., 5., 7.]))"
      ]
     },
     "execution_count": 21,
     "metadata": {},
     "output_type": "execute_result"
    }
   ],
   "source": [
    "np.modf(a)"
   ]
  },
  {
   "cell_type": "code",
   "execution_count": 22,
   "id": "e7614148-84b6-4306-815d-9eaa8d02460d",
   "metadata": {},
   "outputs": [
    {
     "data": {
      "text/plain": [
       "QRResult(Q=array([[-0.42609723,  0.42539975,  0.60241138,  0.27098603,  0.44849002],\n",
       "       [ 0.01192848, -0.64532245, -0.17523154,  0.47550939,  0.57149049],\n",
       "       [-0.67562576, -0.16736725, -0.12846823,  0.42269857, -0.56598576],\n",
       "       [-0.03646212, -0.60543482,  0.69420297, -0.33885897, -0.18808515],\n",
       "       [-0.60041586, -0.08961508, -0.32859182, -0.63793254,  0.34137872]]), R=array([[-2.48226417,  0.49731197,  0.7722325 ,  1.39242266,  0.38857427],\n",
       "       [ 0.        , -2.30984625, -0.38851779, -0.17599827,  0.86959841],\n",
       "       [ 0.        ,  0.        , -2.44267772, -1.05097728,  0.65977764],\n",
       "       [ 0.        ,  0.        ,  0.        ,  0.52914312, -1.3483521 ],\n",
       "       [ 0.        ,  0.        ,  0.        ,  0.        , -1.44897692]]))"
      ]
     },
     "execution_count": 22,
     "metadata": {},
     "output_type": "execute_result"
    }
   ],
   "source": [
    "qr(X)"
   ]
  },
  {
   "cell_type": "markdown",
   "id": "fe726c01-9906-453b-a97b-be5655f59497",
   "metadata": {},
   "source": [
    "# Broadcasting"
   ]
  },
  {
   "cell_type": "code",
   "execution_count": 23,
   "id": "d705be90-a8f8-4f51-95dd-c70f4322302e",
   "metadata": {},
   "outputs": [
    {
     "data": {
      "text/plain": [
       "array([1.234, 5.345, 7.8  ])"
      ]
     },
     "execution_count": 23,
     "metadata": {},
     "output_type": "execute_result"
    }
   ],
   "source": [
    "a"
   ]
  },
  {
   "cell_type": "code",
   "execution_count": 24,
   "id": "f365d780-5da3-43c4-98be-46e93d36faef",
   "metadata": {},
   "outputs": [
    {
     "data": {
      "text/plain": [
       "array([ 61.7 , 267.25, 390.  ])"
      ]
     },
     "execution_count": 24,
     "metadata": {},
     "output_type": "execute_result"
    }
   ],
   "source": [
    "a * 50"
   ]
  },
  {
   "cell_type": "code",
   "execution_count": 28,
   "id": "0e8d8f20-b886-4052-8735-bf3fb851ee03",
   "metadata": {},
   "outputs": [
    {
     "data": {
      "text/plain": [
       "array([[ 0,  1,  2,  3],\n",
       "       [ 4,  5,  6,  7],\n",
       "       [ 8,  9, 10, 11],\n",
       "       [12, 13, 14, 15]])"
      ]
     },
     "execution_count": 28,
     "metadata": {},
     "output_type": "execute_result"
    }
   ],
   "source": [
    "x = np.arange(16).reshape(4,4)\n",
    "x"
   ]
  },
  {
   "cell_type": "code",
   "execution_count": 29,
   "id": "41b98dda-ab2b-485b-a21a-da42f489d68f",
   "metadata": {},
   "outputs": [
    {
     "data": {
      "text/plain": [
       "array([0, 1, 2, 3])"
      ]
     },
     "execution_count": 29,
     "metadata": {},
     "output_type": "execute_result"
    }
   ],
   "source": [
    "y = np.arange(4)\n",
    "y"
   ]
  },
  {
   "cell_type": "code",
   "execution_count": 30,
   "id": "06f304c4-eb88-422d-b334-153cbbd3fe2e",
   "metadata": {},
   "outputs": [
    {
     "data": {
      "text/plain": [
       "array([[ 0,  2,  4,  6],\n",
       "       [ 4,  6,  8, 10],\n",
       "       [ 8, 10, 12, 14],\n",
       "       [12, 14, 16, 18]])"
      ]
     },
     "execution_count": 30,
     "metadata": {},
     "output_type": "execute_result"
    }
   ],
   "source": [
    "x+y "
   ]
  },
  {
   "cell_type": "markdown",
   "id": "58a8d8ad-d6a8-441e-95f7-4fcc63b228b6",
   "metadata": {},
   "source": [
    "# Pandas\n",
    "  - Pandas Data Structure\n",
    "      - Series : One Column\n",
    "      - DataFrame : Multiple Columns"
   ]
  },
  {
   "cell_type": "markdown",
   "id": "bd8df566-084a-4dba-9e0d-84d635ca838e",
   "metadata": {},
   "source": [
    "# Series"
   ]
  },
  {
   "cell_type": "markdown",
   "id": "c4e6ed30-8c21-4761-b707-6dfdf49093a1",
   "metadata": {},
   "source": [
    "#### creating a series"
   ]
  },
  {
   "cell_type": "code",
   "execution_count": 2,
   "id": "1e7409ad-9a15-45a7-b362-92d431121514",
   "metadata": {},
   "outputs": [],
   "source": [
    "import pandas as pd"
   ]
  },
  {
   "cell_type": "code",
   "execution_count": 3,
   "id": "0494d760-9147-4d4b-afbf-765adf92c75f",
   "metadata": {},
   "outputs": [
    {
     "data": {
      "text/plain": [
       "0    10\n",
       "1    20\n",
       "2    30\n",
       "3    40\n",
       "4    20\n",
       "5    60\n",
       "dtype: int64"
      ]
     },
     "execution_count": 3,
     "metadata": {},
     "output_type": "execute_result"
    }
   ],
   "source": [
    "s1  = pd.Series([10,20,30,40,20,60])\n",
    "s1"
   ]
  },
  {
   "cell_type": "markdown",
   "id": "fbbfb4b2-8c1d-41ef-8caa-b8eb855ee48e",
   "metadata": {},
   "source": [
    "##### Components: Values, Indices, Dtype, Title"
   ]
  },
  {
   "cell_type": "code",
   "execution_count": 4,
   "id": "3bf7ad9b-d4a7-4632-a0a8-76e82349b033",
   "metadata": {},
   "outputs": [
    {
     "data": {
      "text/plain": [
       "array([10, 20, 30, 40, 20, 60], dtype=int64)"
      ]
     },
     "execution_count": 4,
     "metadata": {},
     "output_type": "execute_result"
    }
   ],
   "source": [
    "s1.values"
   ]
  },
  {
   "cell_type": "code",
   "execution_count": 5,
   "id": "a45424d4-705e-42bf-98cc-af94d3a3f8de",
   "metadata": {},
   "outputs": [
    {
     "data": {
      "text/plain": [
       "RangeIndex(start=0, stop=6, step=1)"
      ]
     },
     "execution_count": 5,
     "metadata": {},
     "output_type": "execute_result"
    }
   ],
   "source": [
    "s1.index"
   ]
  },
  {
   "cell_type": "code",
   "execution_count": 6,
   "id": "d9d602bb-9cea-484b-926a-9ae18c7a30b6",
   "metadata": {},
   "outputs": [
    {
     "data": {
      "text/plain": [
       "dtype('int64')"
      ]
     },
     "execution_count": 6,
     "metadata": {},
     "output_type": "execute_result"
    }
   ],
   "source": [
    "s1.dtype"
   ]
  },
  {
   "cell_type": "code",
   "execution_count": 7,
   "id": "6ee75294-100e-407d-82b9-2d9932b34431",
   "metadata": {},
   "outputs": [],
   "source": [
    "s1.name"
   ]
  },
  {
   "cell_type": "code",
   "execution_count": 8,
   "id": "a4379d91-2cd8-4448-8ac0-3f03a3f050a5",
   "metadata": {},
   "outputs": [
    {
     "data": {
      "text/plain": [
       "Ahmed       10\n",
       "Babar       20\n",
       "Choto       30\n",
       "Danish      40\n",
       "Elephant    20\n",
       "Fahad       60\n",
       "Name: LetterCounts, dtype: int64"
      ]
     },
     "execution_count": 8,
     "metadata": {},
     "output_type": "execute_result"
    }
   ],
   "source": [
    "s2  = pd.Series([10,20,30,40,20,60], index=['Ahmed',\"Babar\",\"Choto\",\"Danish\",\"Elephant\",\"Fahad\"], name=\"LetterCounts\")\n",
    "s2"
   ]
  },
  {
   "cell_type": "code",
   "execution_count": 9,
   "id": "77dc5f8b-430c-4287-83f3-99739155e424",
   "metadata": {},
   "outputs": [
    {
     "data": {
      "text/plain": [
       "20"
      ]
     },
     "execution_count": 9,
     "metadata": {},
     "output_type": "execute_result"
    }
   ],
   "source": [
    "s2['Babar']"
   ]
  },
  {
   "cell_type": "code",
   "execution_count": 10,
   "id": "10f83f21-001e-4c07-9f6d-cd4527d9dd8b",
   "metadata": {},
   "outputs": [
    {
     "data": {
      "text/plain": [
       "20"
      ]
     },
     "execution_count": 10,
     "metadata": {},
     "output_type": "execute_result"
    }
   ],
   "source": [
    "s2['Elephant']"
   ]
  },
  {
   "cell_type": "code",
   "execution_count": 11,
   "id": "f0bbc3e2-1385-4c93-8580-f34b330b231d",
   "metadata": {},
   "outputs": [
    {
     "name": "stderr",
     "output_type": "stream",
     "text": [
      "C:\\Users\\Nasir Hussain\\AppData\\Local\\Temp\\ipykernel_11512\\3737454092.py:1: FutureWarning: Series.__getitem__ treating keys as positions is deprecated. In a future version, integer keys will always be treated as labels (consistent with DataFrame behavior). To access a value by position, use `ser.iloc[pos]`\n",
      "  s2[4]\n"
     ]
    },
    {
     "data": {
      "text/plain": [
       "20"
      ]
     },
     "execution_count": 11,
     "metadata": {},
     "output_type": "execute_result"
    }
   ],
   "source": [
    "s2[4]"
   ]
  },
  {
   "cell_type": "code",
   "execution_count": 12,
   "id": "f202980c-cb8d-43de-81c9-7828ebe9fbeb",
   "metadata": {},
   "outputs": [
    {
     "data": {
      "text/plain": [
       "Babar     20\n",
       "Choto     30\n",
       "Danish    40\n",
       "Name: LetterCounts, dtype: int64"
      ]
     },
     "execution_count": 12,
     "metadata": {},
     "output_type": "execute_result"
    }
   ],
   "source": [
    "s2['Babar':\"Danish\"]"
   ]
  },
  {
   "cell_type": "code",
   "execution_count": 13,
   "id": "67ec49bc-4ca4-46d0-bd46-cc26f47787c3",
   "metadata": {},
   "outputs": [
    {
     "data": {
      "text/plain": [
       "Babar    20\n",
       "Choto    30\n",
       "Name: LetterCounts, dtype: int64"
      ]
     },
     "execution_count": 13,
     "metadata": {},
     "output_type": "execute_result"
    }
   ],
   "source": [
    "s2[1:3]"
   ]
  },
  {
   "cell_type": "code",
   "execution_count": 14,
   "id": "c3cafdb7-add9-449e-9668-d4f375d5e0bd",
   "metadata": {},
   "outputs": [
    {
     "data": {
      "text/plain": [
       "Ahmed       10\n",
       "Babar       20\n",
       "Choto       10\n",
       "Danish      40\n",
       "Elephant    20\n",
       "Fahad       60\n",
       "Name: LetterCounts, dtype: int64"
      ]
     },
     "execution_count": 14,
     "metadata": {},
     "output_type": "execute_result"
    }
   ],
   "source": [
    "s2[\"Choto\"] = 10\n",
    "s2"
   ]
  },
  {
   "cell_type": "code",
   "execution_count": 15,
   "id": "bc679d21-88e6-4b63-8d12-b3f38adbb51e",
   "metadata": {},
   "outputs": [],
   "source": [
    "s2['test'] = 23"
   ]
  },
  {
   "cell_type": "code",
   "execution_count": 16,
   "id": "aa281d08-6f26-4af9-9786-4be55cea07f6",
   "metadata": {},
   "outputs": [
    {
     "data": {
      "text/plain": [
       "Ahmed       10\n",
       "Babar       20\n",
       "Choto       10\n",
       "Danish      40\n",
       "Elephant    20\n",
       "Fahad       60\n",
       "test        23\n",
       "Name: LetterCounts, dtype: int64"
      ]
     },
     "execution_count": 16,
     "metadata": {},
     "output_type": "execute_result"
    }
   ],
   "source": [
    "s2"
   ]
  },
  {
   "cell_type": "code",
   "execution_count": 23,
   "id": "29358d9e-bd1a-4776-ae7d-e39b2183d313",
   "metadata": {},
   "outputs": [],
   "source": [
    "emp={'name':['Ahmed',\"Babar\",\"Choto\",\"Danish\",\"Elephant\",\"Fahad\"],\n",
    "     \"age student\":[23,34,43,45,54,34],\n",
    "     'income':[100000,120000,80000,50000,20000,45000]}"
   ]
  },
  {
   "cell_type": "code",
   "execution_count": 26,
   "id": "4f1abac0-46e1-42ce-93af-d77a3f68b81a",
   "metadata": {},
   "outputs": [
    {
     "data": {
      "text/plain": [
       "0    23\n",
       "1    34\n",
       "2    43\n",
       "3    45\n",
       "4    54\n",
       "5    34\n",
       "Name: age student, dtype: int64"
      ]
     },
     "execution_count": 26,
     "metadata": {},
     "output_type": "execute_result"
    }
   ],
   "source": [
    "df = pd.DataFrame(emp)\n",
    "df['age student']"
   ]
  },
  {
   "cell_type": "code",
   "execution_count": 19,
   "id": "836bf02f-ae8c-4be6-9cdd-2af4c58b68f7",
   "metadata": {},
   "outputs": [],
   "source": [
    "data = pd.read_excel(\"employee.xlsx\",index_col='Serial')"
   ]
  },
  {
   "cell_type": "code",
   "execution_count": 20,
   "id": "b382fd6d-9b89-43e3-a731-55527b00d605",
   "metadata": {},
   "outputs": [
    {
     "data": {
      "text/html": [
       "<div>\n",
       "<style scoped>\n",
       "    .dataframe tbody tr th:only-of-type {\n",
       "        vertical-align: middle;\n",
       "    }\n",
       "\n",
       "    .dataframe tbody tr th {\n",
       "        vertical-align: top;\n",
       "    }\n",
       "\n",
       "    .dataframe thead th {\n",
       "        text-align: right;\n",
       "    }\n",
       "</style>\n",
       "<table border=\"1\" class=\"dataframe\">\n",
       "  <thead>\n",
       "    <tr style=\"text-align: right;\">\n",
       "      <th></th>\n",
       "      <th>Emp_ID</th>\n",
       "      <th>Designation</th>\n",
       "      <th>Department</th>\n",
       "      <th>Age</th>\n",
       "      <th>Salary</th>\n",
       "    </tr>\n",
       "    <tr>\n",
       "      <th>Serial</th>\n",
       "      <th></th>\n",
       "      <th></th>\n",
       "      <th></th>\n",
       "      <th></th>\n",
       "      <th></th>\n",
       "    </tr>\n",
       "  </thead>\n",
       "  <tbody>\n",
       "    <tr>\n",
       "      <th>1</th>\n",
       "      <td>1101</td>\n",
       "      <td>Manager</td>\n",
       "      <td>Accounts</td>\n",
       "      <td>50.0</td>\n",
       "      <td>200000.0</td>\n",
       "    </tr>\n",
       "    <tr>\n",
       "      <th>2</th>\n",
       "      <td>1107</td>\n",
       "      <td>Officer</td>\n",
       "      <td>IT</td>\n",
       "      <td>30.0</td>\n",
       "      <td>80000.0</td>\n",
       "    </tr>\n",
       "    <tr>\n",
       "      <th>3</th>\n",
       "      <td>1203</td>\n",
       "      <td>Officer</td>\n",
       "      <td>HR</td>\n",
       "      <td>28.0</td>\n",
       "      <td>NaN</td>\n",
       "    </tr>\n",
       "    <tr>\n",
       "      <th>4</th>\n",
       "      <td>1005</td>\n",
       "      <td>Manager</td>\n",
       "      <td>HR</td>\n",
       "      <td>45.0</td>\n",
       "      <td>120000.0</td>\n",
       "    </tr>\n",
       "    <tr>\n",
       "      <th>5</th>\n",
       "      <td>2123</td>\n",
       "      <td>Office Boy</td>\n",
       "      <td>Accounts</td>\n",
       "      <td>27.0</td>\n",
       "      <td>45000.0</td>\n",
       "    </tr>\n",
       "    <tr>\n",
       "      <th>6</th>\n",
       "      <td>2451</td>\n",
       "      <td>Accountant</td>\n",
       "      <td>NaN</td>\n",
       "      <td>34.0</td>\n",
       "      <td>100000.0</td>\n",
       "    </tr>\n",
       "    <tr>\n",
       "      <th>7</th>\n",
       "      <td>1111</td>\n",
       "      <td>Accountant</td>\n",
       "      <td>Accounts</td>\n",
       "      <td>NaN</td>\n",
       "      <td>110000.0</td>\n",
       "    </tr>\n",
       "    <tr>\n",
       "      <th>8</th>\n",
       "      <td>1001</td>\n",
       "      <td>Officer</td>\n",
       "      <td>IT</td>\n",
       "      <td>25.0</td>\n",
       "      <td>75000.0</td>\n",
       "    </tr>\n",
       "    <tr>\n",
       "      <th>9</th>\n",
       "      <td>1234</td>\n",
       "      <td>Manager</td>\n",
       "      <td>IT</td>\n",
       "      <td>23.0</td>\n",
       "      <td>NaN</td>\n",
       "    </tr>\n",
       "    <tr>\n",
       "      <th>10</th>\n",
       "      <td>2156</td>\n",
       "      <td>Engineer</td>\n",
       "      <td>Production</td>\n",
       "      <td>45.0</td>\n",
       "      <td>89000.0</td>\n",
       "    </tr>\n",
       "    <tr>\n",
       "      <th>11</th>\n",
       "      <td>6543</td>\n",
       "      <td>Officer</td>\n",
       "      <td>Production</td>\n",
       "      <td>29.0</td>\n",
       "      <td>100000.0</td>\n",
       "    </tr>\n",
       "    <tr>\n",
       "      <th>12</th>\n",
       "      <td>3214</td>\n",
       "      <td>Accountant</td>\n",
       "      <td>Account</td>\n",
       "      <td>49.0</td>\n",
       "      <td>123000.0</td>\n",
       "    </tr>\n",
       "    <tr>\n",
       "      <th>13</th>\n",
       "      <td>2156</td>\n",
       "      <td>Engineer</td>\n",
       "      <td>Production</td>\n",
       "      <td>45.0</td>\n",
       "      <td>89000.0</td>\n",
       "    </tr>\n",
       "    <tr>\n",
       "      <th>14</th>\n",
       "      <td>1098</td>\n",
       "      <td>Officer</td>\n",
       "      <td>IT</td>\n",
       "      <td>25.0</td>\n",
       "      <td>100000.0</td>\n",
       "    </tr>\n",
       "    <tr>\n",
       "      <th>15</th>\n",
       "      <td>2912</td>\n",
       "      <td>Officer</td>\n",
       "      <td>IT</td>\n",
       "      <td>31.0</td>\n",
       "      <td>90000.0</td>\n",
       "    </tr>\n",
       "    <tr>\n",
       "      <th>16</th>\n",
       "      <td>1222</td>\n",
       "      <td>Officer</td>\n",
       "      <td>NaN</td>\n",
       "      <td>25.0</td>\n",
       "      <td>NaN</td>\n",
       "    </tr>\n",
       "    <tr>\n",
       "      <th>17</th>\n",
       "      <td>2156</td>\n",
       "      <td>Engineer</td>\n",
       "      <td>Production</td>\n",
       "      <td>45.0</td>\n",
       "      <td>89000.0</td>\n",
       "    </tr>\n",
       "    <tr>\n",
       "      <th>18</th>\n",
       "      <td>2123</td>\n",
       "      <td>Office Boy</td>\n",
       "      <td>Accounts</td>\n",
       "      <td>27.0</td>\n",
       "      <td>45000.0</td>\n",
       "    </tr>\n",
       "  </tbody>\n",
       "</table>\n",
       "</div>"
      ],
      "text/plain": [
       "        Emp_ID Designation  Department   Age    Salary\n",
       "Serial                                                \n",
       "1         1101     Manager    Accounts  50.0  200000.0\n",
       "2         1107     Officer          IT  30.0   80000.0\n",
       "3         1203     Officer          HR  28.0       NaN\n",
       "4         1005     Manager          HR  45.0  120000.0\n",
       "5         2123  Office Boy    Accounts  27.0   45000.0\n",
       "6         2451  Accountant         NaN  34.0  100000.0\n",
       "7         1111  Accountant    Accounts   NaN  110000.0\n",
       "8         1001     Officer          IT  25.0   75000.0\n",
       "9         1234     Manager          IT  23.0       NaN\n",
       "10        2156    Engineer  Production  45.0   89000.0\n",
       "11        6543     Officer  Production  29.0  100000.0\n",
       "12        3214  Accountant     Account  49.0  123000.0\n",
       "13        2156    Engineer  Production  45.0   89000.0\n",
       "14        1098     Officer          IT  25.0  100000.0\n",
       "15        2912     Officer          IT  31.0   90000.0\n",
       "16        1222     Officer         NaN  25.0       NaN\n",
       "17        2156    Engineer  Production  45.0   89000.0\n",
       "18        2123  Office Boy    Accounts  27.0   45000.0"
      ]
     },
     "execution_count": 20,
     "metadata": {},
     "output_type": "execute_result"
    }
   ],
   "source": [
    "data"
   ]
  },
  {
   "cell_type": "code",
   "execution_count": 21,
   "id": "86542980-8d75-48b7-b43a-0872aa8b18c3",
   "metadata": {},
   "outputs": [
    {
     "data": {
      "text/plain": [
       "pandas.core.frame.DataFrame"
      ]
     },
     "execution_count": 21,
     "metadata": {},
     "output_type": "execute_result"
    }
   ],
   "source": [
    "type(data)"
   ]
  },
  {
   "cell_type": "markdown",
   "id": "181b5e79-3666-4cce-bf0a-567195a2cfab",
   "metadata": {},
   "source": [
    "# Columns\n",
    "       - fetching a column\n",
    "       - fetching multiple columns\n",
    "       - adding columns \n",
    "       - deleteing columns\n",
    "       - rename columns"
   ]
  },
  {
   "cell_type": "code",
   "execution_count": 27,
   "id": "53c9be88-51a7-480e-a150-b5082c6e7300",
   "metadata": {},
   "outputs": [
    {
     "data": {
      "text/plain": [
       "Serial\n",
       "1        Manager\n",
       "2        Officer\n",
       "3        Officer\n",
       "4        Manager\n",
       "5     Office Boy\n",
       "6     Accountant\n",
       "7     Accountant\n",
       "8        Officer\n",
       "9        Manager\n",
       "10      Engineer\n",
       "11       Officer\n",
       "12    Accountant\n",
       "13      Engineer\n",
       "14       Officer\n",
       "15       Officer\n",
       "16       Officer\n",
       "17      Engineer\n",
       "18    Office Boy\n",
       "Name: Designation, dtype: object"
      ]
     },
     "execution_count": 27,
     "metadata": {},
     "output_type": "execute_result"
    }
   ],
   "source": [
    "data['Designation']"
   ]
  },
  {
   "cell_type": "code",
   "execution_count": 28,
   "id": "30c354be-06a8-4aa7-89a2-75cabfb4c0a5",
   "metadata": {},
   "outputs": [
    {
     "data": {
      "text/html": [
       "<div>\n",
       "<style scoped>\n",
       "    .dataframe tbody tr th:only-of-type {\n",
       "        vertical-align: middle;\n",
       "    }\n",
       "\n",
       "    .dataframe tbody tr th {\n",
       "        vertical-align: top;\n",
       "    }\n",
       "\n",
       "    .dataframe thead th {\n",
       "        text-align: right;\n",
       "    }\n",
       "</style>\n",
       "<table border=\"1\" class=\"dataframe\">\n",
       "  <thead>\n",
       "    <tr style=\"text-align: right;\">\n",
       "      <th></th>\n",
       "      <th>Designation</th>\n",
       "      <th>Emp_ID</th>\n",
       "    </tr>\n",
       "    <tr>\n",
       "      <th>Serial</th>\n",
       "      <th></th>\n",
       "      <th></th>\n",
       "    </tr>\n",
       "  </thead>\n",
       "  <tbody>\n",
       "    <tr>\n",
       "      <th>1</th>\n",
       "      <td>Manager</td>\n",
       "      <td>1101</td>\n",
       "    </tr>\n",
       "    <tr>\n",
       "      <th>2</th>\n",
       "      <td>Officer</td>\n",
       "      <td>1107</td>\n",
       "    </tr>\n",
       "    <tr>\n",
       "      <th>3</th>\n",
       "      <td>Officer</td>\n",
       "      <td>1203</td>\n",
       "    </tr>\n",
       "    <tr>\n",
       "      <th>4</th>\n",
       "      <td>Manager</td>\n",
       "      <td>1005</td>\n",
       "    </tr>\n",
       "    <tr>\n",
       "      <th>5</th>\n",
       "      <td>Office Boy</td>\n",
       "      <td>2123</td>\n",
       "    </tr>\n",
       "    <tr>\n",
       "      <th>6</th>\n",
       "      <td>Accountant</td>\n",
       "      <td>2451</td>\n",
       "    </tr>\n",
       "    <tr>\n",
       "      <th>7</th>\n",
       "      <td>Accountant</td>\n",
       "      <td>1111</td>\n",
       "    </tr>\n",
       "    <tr>\n",
       "      <th>8</th>\n",
       "      <td>Officer</td>\n",
       "      <td>1001</td>\n",
       "    </tr>\n",
       "    <tr>\n",
       "      <th>9</th>\n",
       "      <td>Manager</td>\n",
       "      <td>1234</td>\n",
       "    </tr>\n",
       "    <tr>\n",
       "      <th>10</th>\n",
       "      <td>Engineer</td>\n",
       "      <td>2156</td>\n",
       "    </tr>\n",
       "    <tr>\n",
       "      <th>11</th>\n",
       "      <td>Officer</td>\n",
       "      <td>6543</td>\n",
       "    </tr>\n",
       "    <tr>\n",
       "      <th>12</th>\n",
       "      <td>Accountant</td>\n",
       "      <td>3214</td>\n",
       "    </tr>\n",
       "    <tr>\n",
       "      <th>13</th>\n",
       "      <td>Engineer</td>\n",
       "      <td>2156</td>\n",
       "    </tr>\n",
       "    <tr>\n",
       "      <th>14</th>\n",
       "      <td>Officer</td>\n",
       "      <td>1098</td>\n",
       "    </tr>\n",
       "    <tr>\n",
       "      <th>15</th>\n",
       "      <td>Officer</td>\n",
       "      <td>2912</td>\n",
       "    </tr>\n",
       "    <tr>\n",
       "      <th>16</th>\n",
       "      <td>Officer</td>\n",
       "      <td>1222</td>\n",
       "    </tr>\n",
       "    <tr>\n",
       "      <th>17</th>\n",
       "      <td>Engineer</td>\n",
       "      <td>2156</td>\n",
       "    </tr>\n",
       "    <tr>\n",
       "      <th>18</th>\n",
       "      <td>Office Boy</td>\n",
       "      <td>2123</td>\n",
       "    </tr>\n",
       "  </tbody>\n",
       "</table>\n",
       "</div>"
      ],
      "text/plain": [
       "       Designation  Emp_ID\n",
       "Serial                    \n",
       "1          Manager    1101\n",
       "2          Officer    1107\n",
       "3          Officer    1203\n",
       "4          Manager    1005\n",
       "5       Office Boy    2123\n",
       "6       Accountant    2451\n",
       "7       Accountant    1111\n",
       "8          Officer    1001\n",
       "9          Manager    1234\n",
       "10        Engineer    2156\n",
       "11         Officer    6543\n",
       "12      Accountant    3214\n",
       "13        Engineer    2156\n",
       "14         Officer    1098\n",
       "15         Officer    2912\n",
       "16         Officer    1222\n",
       "17        Engineer    2156\n",
       "18      Office Boy    2123"
      ]
     },
     "execution_count": 28,
     "metadata": {},
     "output_type": "execute_result"
    }
   ],
   "source": [
    "data[['Designation', \"Emp_ID\"]]"
   ]
  },
  {
   "cell_type": "code",
   "execution_count": 29,
   "id": "dfc2bbaa-f77e-49e0-9b53-bae935e4d74b",
   "metadata": {},
   "outputs": [],
   "source": [
    "data['Gender']= ['M','F','M','F','M','F','M','F','M','F','M','F','M','F','M','F','M','F']"
   ]
  },
  {
   "cell_type": "code",
   "execution_count": 30,
   "id": "bbb1f4ff-0c48-477e-9e46-af8719fb2766",
   "metadata": {},
   "outputs": [
    {
     "data": {
      "text/html": [
       "<div>\n",
       "<style scoped>\n",
       "    .dataframe tbody tr th:only-of-type {\n",
       "        vertical-align: middle;\n",
       "    }\n",
       "\n",
       "    .dataframe tbody tr th {\n",
       "        vertical-align: top;\n",
       "    }\n",
       "\n",
       "    .dataframe thead th {\n",
       "        text-align: right;\n",
       "    }\n",
       "</style>\n",
       "<table border=\"1\" class=\"dataframe\">\n",
       "  <thead>\n",
       "    <tr style=\"text-align: right;\">\n",
       "      <th></th>\n",
       "      <th>Emp_ID</th>\n",
       "      <th>Designation</th>\n",
       "      <th>Department</th>\n",
       "      <th>Age</th>\n",
       "      <th>Salary</th>\n",
       "      <th>Gender</th>\n",
       "    </tr>\n",
       "    <tr>\n",
       "      <th>Serial</th>\n",
       "      <th></th>\n",
       "      <th></th>\n",
       "      <th></th>\n",
       "      <th></th>\n",
       "      <th></th>\n",
       "      <th></th>\n",
       "    </tr>\n",
       "  </thead>\n",
       "  <tbody>\n",
       "    <tr>\n",
       "      <th>1</th>\n",
       "      <td>1101</td>\n",
       "      <td>Manager</td>\n",
       "      <td>Accounts</td>\n",
       "      <td>50.0</td>\n",
       "      <td>200000.0</td>\n",
       "      <td>M</td>\n",
       "    </tr>\n",
       "    <tr>\n",
       "      <th>2</th>\n",
       "      <td>1107</td>\n",
       "      <td>Officer</td>\n",
       "      <td>IT</td>\n",
       "      <td>30.0</td>\n",
       "      <td>80000.0</td>\n",
       "      <td>F</td>\n",
       "    </tr>\n",
       "    <tr>\n",
       "      <th>3</th>\n",
       "      <td>1203</td>\n",
       "      <td>Officer</td>\n",
       "      <td>HR</td>\n",
       "      <td>28.0</td>\n",
       "      <td>NaN</td>\n",
       "      <td>M</td>\n",
       "    </tr>\n",
       "    <tr>\n",
       "      <th>4</th>\n",
       "      <td>1005</td>\n",
       "      <td>Manager</td>\n",
       "      <td>HR</td>\n",
       "      <td>45.0</td>\n",
       "      <td>120000.0</td>\n",
       "      <td>F</td>\n",
       "    </tr>\n",
       "    <tr>\n",
       "      <th>5</th>\n",
       "      <td>2123</td>\n",
       "      <td>Office Boy</td>\n",
       "      <td>Accounts</td>\n",
       "      <td>27.0</td>\n",
       "      <td>45000.0</td>\n",
       "      <td>M</td>\n",
       "    </tr>\n",
       "    <tr>\n",
       "      <th>6</th>\n",
       "      <td>2451</td>\n",
       "      <td>Accountant</td>\n",
       "      <td>NaN</td>\n",
       "      <td>34.0</td>\n",
       "      <td>100000.0</td>\n",
       "      <td>F</td>\n",
       "    </tr>\n",
       "    <tr>\n",
       "      <th>7</th>\n",
       "      <td>1111</td>\n",
       "      <td>Accountant</td>\n",
       "      <td>Accounts</td>\n",
       "      <td>NaN</td>\n",
       "      <td>110000.0</td>\n",
       "      <td>M</td>\n",
       "    </tr>\n",
       "    <tr>\n",
       "      <th>8</th>\n",
       "      <td>1001</td>\n",
       "      <td>Officer</td>\n",
       "      <td>IT</td>\n",
       "      <td>25.0</td>\n",
       "      <td>75000.0</td>\n",
       "      <td>F</td>\n",
       "    </tr>\n",
       "    <tr>\n",
       "      <th>9</th>\n",
       "      <td>1234</td>\n",
       "      <td>Manager</td>\n",
       "      <td>IT</td>\n",
       "      <td>23.0</td>\n",
       "      <td>NaN</td>\n",
       "      <td>M</td>\n",
       "    </tr>\n",
       "    <tr>\n",
       "      <th>10</th>\n",
       "      <td>2156</td>\n",
       "      <td>Engineer</td>\n",
       "      <td>Production</td>\n",
       "      <td>45.0</td>\n",
       "      <td>89000.0</td>\n",
       "      <td>F</td>\n",
       "    </tr>\n",
       "    <tr>\n",
       "      <th>11</th>\n",
       "      <td>6543</td>\n",
       "      <td>Officer</td>\n",
       "      <td>Production</td>\n",
       "      <td>29.0</td>\n",
       "      <td>100000.0</td>\n",
       "      <td>M</td>\n",
       "    </tr>\n",
       "    <tr>\n",
       "      <th>12</th>\n",
       "      <td>3214</td>\n",
       "      <td>Accountant</td>\n",
       "      <td>Account</td>\n",
       "      <td>49.0</td>\n",
       "      <td>123000.0</td>\n",
       "      <td>F</td>\n",
       "    </tr>\n",
       "    <tr>\n",
       "      <th>13</th>\n",
       "      <td>2156</td>\n",
       "      <td>Engineer</td>\n",
       "      <td>Production</td>\n",
       "      <td>45.0</td>\n",
       "      <td>89000.0</td>\n",
       "      <td>M</td>\n",
       "    </tr>\n",
       "    <tr>\n",
       "      <th>14</th>\n",
       "      <td>1098</td>\n",
       "      <td>Officer</td>\n",
       "      <td>IT</td>\n",
       "      <td>25.0</td>\n",
       "      <td>100000.0</td>\n",
       "      <td>F</td>\n",
       "    </tr>\n",
       "    <tr>\n",
       "      <th>15</th>\n",
       "      <td>2912</td>\n",
       "      <td>Officer</td>\n",
       "      <td>IT</td>\n",
       "      <td>31.0</td>\n",
       "      <td>90000.0</td>\n",
       "      <td>M</td>\n",
       "    </tr>\n",
       "    <tr>\n",
       "      <th>16</th>\n",
       "      <td>1222</td>\n",
       "      <td>Officer</td>\n",
       "      <td>NaN</td>\n",
       "      <td>25.0</td>\n",
       "      <td>NaN</td>\n",
       "      <td>F</td>\n",
       "    </tr>\n",
       "    <tr>\n",
       "      <th>17</th>\n",
       "      <td>2156</td>\n",
       "      <td>Engineer</td>\n",
       "      <td>Production</td>\n",
       "      <td>45.0</td>\n",
       "      <td>89000.0</td>\n",
       "      <td>M</td>\n",
       "    </tr>\n",
       "    <tr>\n",
       "      <th>18</th>\n",
       "      <td>2123</td>\n",
       "      <td>Office Boy</td>\n",
       "      <td>Accounts</td>\n",
       "      <td>27.0</td>\n",
       "      <td>45000.0</td>\n",
       "      <td>F</td>\n",
       "    </tr>\n",
       "  </tbody>\n",
       "</table>\n",
       "</div>"
      ],
      "text/plain": [
       "        Emp_ID Designation  Department   Age    Salary Gender\n",
       "Serial                                                       \n",
       "1         1101     Manager    Accounts  50.0  200000.0      M\n",
       "2         1107     Officer          IT  30.0   80000.0      F\n",
       "3         1203     Officer          HR  28.0       NaN      M\n",
       "4         1005     Manager          HR  45.0  120000.0      F\n",
       "5         2123  Office Boy    Accounts  27.0   45000.0      M\n",
       "6         2451  Accountant         NaN  34.0  100000.0      F\n",
       "7         1111  Accountant    Accounts   NaN  110000.0      M\n",
       "8         1001     Officer          IT  25.0   75000.0      F\n",
       "9         1234     Manager          IT  23.0       NaN      M\n",
       "10        2156    Engineer  Production  45.0   89000.0      F\n",
       "11        6543     Officer  Production  29.0  100000.0      M\n",
       "12        3214  Accountant     Account  49.0  123000.0      F\n",
       "13        2156    Engineer  Production  45.0   89000.0      M\n",
       "14        1098     Officer          IT  25.0  100000.0      F\n",
       "15        2912     Officer          IT  31.0   90000.0      M\n",
       "16        1222     Officer         NaN  25.0       NaN      F\n",
       "17        2156    Engineer  Production  45.0   89000.0      M\n",
       "18        2123  Office Boy    Accounts  27.0   45000.0      F"
      ]
     },
     "execution_count": 30,
     "metadata": {},
     "output_type": "execute_result"
    }
   ],
   "source": [
    "data"
   ]
  },
  {
   "cell_type": "code",
   "execution_count": null,
   "id": "ebd35064-477b-4d9b-9790-5315a12330e7",
   "metadata": {},
   "outputs": [],
   "source": []
  }
 ],
 "metadata": {
  "kernelspec": {
   "display_name": "Python 3 (ipykernel)",
   "language": "python",
   "name": "python3"
  },
  "language_info": {
   "codemirror_mode": {
    "name": "ipython",
    "version": 3
   },
   "file_extension": ".py",
   "mimetype": "text/x-python",
   "name": "python",
   "nbconvert_exporter": "python",
   "pygments_lexer": "ipython3",
   "version": "3.12.7"
  }
 },
 "nbformat": 4,
 "nbformat_minor": 5
}
