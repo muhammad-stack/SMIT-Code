{
  "cells": [
    {
      "cell_type": "markdown",
      "metadata": {},
      "source": [
        "# DataClasses"
      ]
    },
    {
      "cell_type": "code",
      "execution_count": 6,
      "metadata": {},
      "outputs": [],
      "source": [
        "from dataclasses import dataclass\n",
        "from typing import ClassVar\n",
        "\n",
        "\n",
        "@dataclass\n",
        "class American:\n",
        "    national_language: ClassVar[str] = \"English\"\n",
        "    national_food : ClassVar[str] = \"Hamburger\"\n",
        "    normal_body_temperature: ClassVar[float] = 98.6\n",
        "    currency: ClassVar[str] = \"Dollar\"\n",
        "    name : str\n",
        "    age : int\n",
        "\n",
        "    def speaks(self) -> str:\n",
        "        return f\" {self.name} lives in the USA and speaks {self.national_language}.\"\n",
        "    \n",
        "    def eats(self)->str:\n",
        "        return F\"{self.name} eats {self.national_food}.\"\n",
        "    \n",
        "    @staticmethod\n",
        "    def static():\n",
        "        return \" I am a static method of the American Class\""
      ]
    },
    {
      "cell_type": "code",
      "execution_count": 7,
      "metadata": {},
      "outputs": [
        {
          "data": {
            "text/plain": [
              "' I am a static method of the American Class'"
            ]
          },
          "execution_count": 7,
          "metadata": {},
          "output_type": "execute_result"
        }
      ],
      "source": [
        "American.static() # This will call the static method without creating an instance of the class."
      ]
    },
    {
      "cell_type": "code",
      "execution_count": 8,
      "metadata": {},
      "outputs": [
        {
          "data": {
            "text/plain": [
              "'John eats Hamburger.'"
            ]
          },
          "execution_count": 8,
          "metadata": {},
          "output_type": "execute_result"
        }
      ],
      "source": [
        "\n",
        "john = American(name=\"John\", age=25)\n",
        "\n",
        "john.eats()"
      ]
    },
    {
      "cell_type": "code",
      "execution_count": null,
      "metadata": {},
      "outputs": [],
      "source": [
        "john.national_food = \"GHJGDEHJ\" # This will not change the class variable, but rather create an instance variable"
      ]
    },
    {
      "cell_type": "code",
      "execution_count": 11,
      "metadata": {},
      "outputs": [
        {
          "data": {
            "text/plain": [
              "'GHJGDEHJ'"
            ]
          },
          "execution_count": 11,
          "metadata": {},
          "output_type": "execute_result"
        }
      ],
      "source": [
        "john.national_food"
      ]
    },
    {
      "cell_type": "code",
      "execution_count": 12,
      "metadata": {},
      "outputs": [
        {
          "data": {
            "text/plain": [
              "'Hamburger'"
            ]
          },
          "execution_count": 12,
          "metadata": {},
          "output_type": "execute_result"
        }
      ],
      "source": [
        "john2 = American(name=\"John\", age=25)\n",
        "john2.national_food"
      ]
    }
  ],
  "metadata": {
    "kernelspec": {
      "display_name": "smit-env",
      "language": "python",
      "name": "python3"
    },
    "language_info": {
      "codemirror_mode": {
        "name": "ipython",
        "version": 3
      },
      "file_extension": ".py",
      "mimetype": "text/x-python",
      "name": "python",
      "nbconvert_exporter": "python",
      "pygments_lexer": "ipython3",
      "version": "3.12.8"
    }
  },
  "nbformat": 4,
  "nbformat_minor": 2
}
