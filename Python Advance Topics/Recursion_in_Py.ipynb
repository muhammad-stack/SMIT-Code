{
 "cells": [
  {
   "cell_type": "code",
   "execution_count": 1,
   "id": "6ae5e775",
   "metadata": {},
   "outputs": [
    {
     "name": "stdout",
     "output_type": "stream",
     "text": [
      ";\n"
     ]
    }
   ],
   "source": [
    "print(\";\")"
   ]
  },
  {
   "cell_type": "code",
   "execution_count": 2,
   "id": "bc2cc094",
   "metadata": {},
   "outputs": [],
   "source": [
    "# Let us consider a problem to find the sum of natural numbers, there are several ways of\n",
    "#  doing that but the simplest approach is simply to add the numbers starting from 0 to n.\n",
    "\n",
    "# Sum-of-first-N-Natural-Numbers-2"
   ]
  },
  {
   "cell_type": "code",
   "execution_count": 8,
   "id": "94d6ba5d",
   "metadata": {},
   "outputs": [
    {
     "name": "stdout",
     "output_type": "stream",
     "text": [
      "21\n"
     ]
    }
   ],
   "source": [
    "# Iterative Approach\n",
    "\n",
    "def sum_of_natural_numbers(n):\n",
    "    result = 0\n",
    "\n",
    "    for i in range(n + 1):\n",
    "        result += i\n",
    "\n",
    "    print(result)\n",
    "\n",
    "\n",
    "sum_of_natural_numbers(6)"
   ]
  },
  {
   "cell_type": "code",
   "execution_count": 12,
   "id": "4bb3d1ff",
   "metadata": {},
   "outputs": [
    {
     "data": {
      "text/plain": [
       "21"
      ]
     },
     "execution_count": 12,
     "metadata": {},
     "output_type": "execute_result"
    }
   ],
   "source": [
    "#  Recursive Approach\n",
    "\n",
    "def find_Sum(n):\n",
    "    if n ==1:\n",
    "        return 1\n",
    "    \n",
    "    # Recursive case\n",
    "\n",
    "    return n + find_Sum(n-1)\n",
    "\n",
    "find_Sum(6)"
   ]
  },
  {
   "cell_type": "code",
   "execution_count": null,
   "id": "7a966a71",
   "metadata": {},
   "outputs": [],
   "source": []
  }
 ],
 "metadata": {
  "kernelspec": {
   "display_name": "smit-env",
   "language": "python",
   "name": "python3"
  },
  "language_info": {
   "codemirror_mode": {
    "name": "ipython",
    "version": 3
   },
   "file_extension": ".py",
   "mimetype": "text/x-python",
   "name": "python",
   "nbconvert_exporter": "python",
   "pygments_lexer": "ipython3",
   "version": "3.12.8"
  }
 },
 "nbformat": 4,
 "nbformat_minor": 5
}
