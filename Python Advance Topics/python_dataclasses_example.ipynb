{
 "cells": [
  {
   "cell_type": "code",
   "execution_count": 9,
   "metadata": {},
   "outputs": [
    {
     "name": "stdout",
     "output_type": "stream",
     "text": [
      "['friend', 'colleague']\n",
      "PersonBad1 :PersonBad(name=Alice , age = 30, email=None, tags = ['friend', 'colleague'])\n",
      "PersonBad2 :PersonBad(name=Bob , age = 25, email=None, tags = [])\n"
     ]
    }
   ],
   "source": [
    "from dataclasses import dataclass, field\n",
    "from typing import Optional, List\n",
    "\n",
    "\n",
    "# Simple dataclass with type hints\n",
    "@dataclass\n",
    "class Person:\n",
    "    name : str\n",
    "    age : int\n",
    "    email : Optional[str] = None\n",
    "    # This ensures that each Person instance\n",
    "    #  gets its own new empty list so that instances don't share the same list\n",
    "    tags : List[str] = field(default_factory=list)\n",
    "\n",
    "\n",
    "# Example usage of the dataclass\n",
    "p1  = Person(name=\"Alice\", age=30, tags=[\"friend\", \"colleague\"])\n",
    "p2  = Person(name=\"Bob\", age=25)\n",
    "print(p1.tags)\n",
    "p2.tags\n",
    "\n",
    "\n",
    "\n",
    "# Bad Example : Class without dataclass\n",
    "class PersonBad:\n",
    "    def __init__(self ,name , age , email= None , tags = None):\n",
    "        self.name =  name\n",
    "        self.age = age\n",
    "        self.email = email\n",
    "        self.tags = tags if tags is not None else []\n",
    "\n",
    "    def __repr__(self):\n",
    "        return F\"PersonBad(name={self.name} , age = {self.age}, email={self.email}, tags = {self.tags})\"\n",
    "    \n",
    "    def __eq__(self, value):\n",
    "        if not isinstance(value , PersonBad):\n",
    "            return False\n",
    "        \n",
    "        return(\n",
    "            self.name == value.name and self.age == value.age and self.email == value.email and self.tags == value.tags)\n",
    "    \n",
    "\n",
    "def demo_badUsage():\n",
    "    p1 = PersonBad(name=\"Alice\", age=30, tags=[\"friend\", \"colleague\"])\n",
    "    p2 = PersonBad(name=\"Bob\", age=25)\n",
    "    \n",
    "    print(F\"PersonBad1 :{p1}\")\n",
    "    print(F\"PersonBad2 :{p2}\")\n",
    "\n",
    "\n",
    "if __name__ == \"__main__\":\n",
    "    demo_badUsage()\n",
    "    "
   ]
  },
  {
   "cell_type": "code",
   "execution_count": null,
   "metadata": {},
   "outputs": [],
   "source": []
  }
 ],
 "metadata": {
  "kernelspec": {
   "display_name": "smit-env",
   "language": "python",
   "name": "python3"
  },
  "language_info": {
   "codemirror_mode": {
    "name": "ipython",
    "version": 3
   },
   "file_extension": ".py",
   "mimetype": "text/x-python",
   "name": "python",
   "nbconvert_exporter": "python",
   "pygments_lexer": "ipython3",
   "version": "3.12.8"
  }
 },
 "nbformat": 4,
 "nbformat_minor": 2
}
