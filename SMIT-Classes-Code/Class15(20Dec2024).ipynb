{
 "cells": [
  {
   "cell_type": "code",
   "execution_count": null,
   "metadata": {
    "id": "GGbz3Faq5g1h"
   },
   "outputs": [],
   "source": [
    "class Car():\n",
    "  def __init__(self,model,make,year,color):\n",
    "    self.model = model\n",
    "    self.make = make\n",
    "    self.year = year\n",
    "    self.color = color\n",
    "    self.odometer_reading = 0\n",
    "  def describe_car(self):\n",
    "    long_name = f\"{self.year} {self.make} {self.model}\"\n",
    "    return long_name\n",
    "\n",
    "  def fill_gas_tank(self):\n",
    "    return \"This car needs a gas tank!\""
   ]
  },
  {
   "cell_type": "code",
   "execution_count": null,
   "metadata": {
    "colab": {
     "base_uri": "https://localhost:8080/"
    },
    "id": "25z9y7Kb5-Jn",
    "outputId": "5a535524-587d-4d3a-8ffd-fd44bfb63025"
   },
   "outputs": [
    {
     "name": "stdout",
     "output_type": "stream",
     "text": [
      "2019 Honda Civic\n",
      "This car needs a gas tank!\n"
     ]
    }
   ],
   "source": [
    "c1 = Car('Civic','Honda',2019,'Black')\n",
    "print(c1.describe_car())\n",
    "print(c1.fill_gas_tank())"
   ]
  },
  {
   "cell_type": "code",
   "execution_count": null,
   "metadata": {
    "id": "DBMvTT5h6SSo"
   },
   "outputs": [],
   "source": [
    "class ElectricCar(Car)\n",
    "\n",
    "  def __init__(self,model,make,year,color,seats,ac,solar):\n",
    "    super().__init__(model,make,year,color)\n",
    "\n",
    "    self.battery_size = 70\n",
    "    self.seats = seats\n",
    "    self.ac = ac\n",
    "    self.solar = solar\n",
    "\n",
    "  def describe_battery(self):\n",
    "    print(f\"This car has a {self.battery_size}-kWh battery.\")\n",
    "  def fill_gas_tank(self):\n",
    "    print(\"This car doesn't need a gas tank!\")"
   ]
  },
  {
   "cell_type": "code",
   "execution_count": null,
   "metadata": {
    "id": "xhhV8Iqo6i8b"
   },
   "outputs": [],
   "source": [
    "ec1 = ElectricCar('Civic','Honda',2019,'Black',6,'yes','yes')"
   ]
  },
  {
   "cell_type": "code",
   "execution_count": null,
   "metadata": {
    "colab": {
     "base_uri": "https://localhost:8080/",
     "height": 35
    },
    "id": "dw6afGqGKfBS",
    "outputId": "b1bb7d34-b381-4b6f-ac06-17ed3abd92c5"
   },
   "outputs": [
    {
     "data": {
      "application/vnd.google.colaboratory.intrinsic+json": {
       "type": "string"
      },
      "text/plain": [
       "'2019 Honda Civic'"
      ]
     },
     "execution_count": 49,
     "metadata": {},
     "output_type": "execute_result"
    }
   ],
   "source": [
    "ec1.get_descriptive_name()"
   ]
  },
  {
   "cell_type": "code",
   "execution_count": null,
   "metadata": {
    "colab": {
     "base_uri": "https://localhost:8080/"
    },
    "id": "N0Dfh1sy6ogZ",
    "outputId": "bf677009-1e81-44b4-ddaa-c38e771fdecb"
   },
   "outputs": [
    {
     "name": "stdout",
     "output_type": "stream",
     "text": [
      "This car has a 70-kWh battery.\n"
     ]
    }
   ],
   "source": [
    "ec1.describe_battery()"
   ]
  },
  {
   "cell_type": "code",
   "execution_count": null,
   "metadata": {
    "colab": {
     "base_uri": "https://localhost:8080/"
    },
    "id": "9Ky7MX0k7wmt",
    "outputId": "8661f7f8-c08d-4258-e93f-6b9d2a094245"
   },
   "outputs": [
    {
     "name": "stdout",
     "output_type": "stream",
     "text": [
      "This car has a 70-kWh battery.\n"
     ]
    }
   ],
   "source": [
    "ec1.describe_battery()"
   ]
  },
  {
   "cell_type": "code",
   "execution_count": null,
   "metadata": {
    "id": "qo67iQodBL4c"
   },
   "outputs": [],
   "source": [
    "class Battery():\n",
    "  def __init__(self,manuf, price, model, year, plates, btype, backup, battery_size=170):\n",
    "    self.manuf = manuf\n",
    "    self.price = price\n",
    "    self.model = model\n",
    "    self.year = year\n",
    "    self.plates = plates\n",
    "    self.btype = btype\n",
    "    self.backup = backup\n",
    "    self.battery_size = battery_size\n",
    "  def describe_battery(self):\n",
    "    print(f\"This car has a {self.battery_size}-kWh battery.\")"
   ]
  },
  {
   "cell_type": "code",
   "execution_count": null,
   "metadata": {
    "id": "zH8DvbzALiYf"
   },
   "outputs": [],
   "source": [
    "class Car():\n",
    "  def __init__(self,model,make,year,color):\n",
    "    self.model = model\n",
    "    self.make = make\n",
    "    self.year = year\n",
    "    self.color = color\n",
    "    self.odometer_reading = 0\n",
    "  def describe_car(self):\n",
    "    long_name = f\"{self.year} {self.make} {self.model}\"\n",
    "    return long_name\n",
    "\n",
    "  def fill_gas_tank(self):\n",
    "    return \"This car needs a gas tank!\""
   ]
  },
  {
   "cell_type": "code",
   "execution_count": null,
   "metadata": {
    "id": "d4fBe8Dt9kCk"
   },
   "outputs": [],
   "source": [
    "class ElectricCar(Car):\n",
    "\n",
    "  def __init__(self,model,make,year,color,seats,ac,solar):\n",
    "    super().__init__(model,make,year,color)\n",
    "    self.seats = seats\n",
    "    self.ac = ac\n",
    "    self.solar = solar\n",
    "    self.battery = Battery('Osaka', 10000, \"Tublar\",2025, 14, 'dry', 10)\n",
    "    # object used as an attribute\n",
    "\n",
    "  def describe_car(self):\n",
    "    print(f\"This car has a {self.battery.battery_size}-kWh battery.\")\n",
    "    print(f\"This car has {self.seats} seats.\")\n",
    "    print(f\"This car has AC: {self.ac}.\")\n",
    "    print(f\"This car has solar: {self.solar}.\")\n",
    "  def fill_gas_tank(self):\n",
    "    print(\"This car doesn't need a gas tank!\")"
   ]
  },
  {
   "cell_type": "code",
   "execution_count": null,
   "metadata": {
    "id": "sG34rAgcIGIq"
   },
   "outputs": [],
   "source": [
    "ec3 = ElectricCar('Tesla','Hoda',2025,'Black',6,'yes','yes')"
   ]
  },
  {
   "cell_type": "code",
   "execution_count": null,
   "metadata": {
    "colab": {
     "base_uri": "https://localhost:8080/"
    },
    "id": "ejuQ08jQIXlo",
    "outputId": "481789cb-4601-48b5-eaf5-ef68b7de226c"
   },
   "outputs": [
    {
     "name": "stdout",
     "output_type": "stream",
     "text": [
      "This car has a 170-kWh battery.\n"
     ]
    }
   ],
   "source": [
    "ec3.battery.describe_battery()"
   ]
  },
  {
   "cell_type": "code",
   "execution_count": null,
   "metadata": {
    "colab": {
     "base_uri": "https://localhost:8080/"
    },
    "id": "4j65PvGTIdhL",
    "outputId": "01ba55d1-002f-47f9-b2b7-e17a327da623"
   },
   "outputs": [
    {
     "data": {
      "text/plain": [
       "14"
      ]
     },
     "execution_count": 60,
     "metadata": {},
     "output_type": "execute_result"
    }
   ],
   "source": [
    "ec3.battery.plates"
   ]
  },
  {
   "cell_type": "code",
   "execution_count": null,
   "metadata": {
    "colab": {
     "base_uri": "https://localhost:8080/"
    },
    "id": "hu0UNhEhIwI4",
    "outputId": "60e555d1-32ac-4462-f01c-a6961c079a62"
   },
   "outputs": [
    {
     "name": "stdout",
     "output_type": "stream",
     "text": [
      "This car has a 170-kWh battery.\n",
      "This car has 6 seats.\n",
      "This car has AC: yes.\n",
      "This car has solar: yes.\n"
     ]
    }
   ],
   "source": [
    "ec3.describe_car()"
   ]
  },
  {
   "cell_type": "code",
   "execution_count": null,
   "metadata": {
    "colab": {
     "base_uri": "https://localhost:8080/",
     "height": 35
    },
    "id": "s2fnpvQHJSce",
    "outputId": "9a426fb4-c4e3-49b3-834e-d4cd18f7bc3d"
   },
   "outputs": [
    {
     "data": {
      "application/vnd.google.colaboratory.intrinsic+json": {
       "type": "string"
      },
      "text/plain": [
       "'This car needs a gas tank!'"
      ]
     },
     "execution_count": 62,
     "metadata": {},
     "output_type": "execute_result"
    }
   ],
   "source": [
    "ec3.fill_gas_tank()"
   ]
  },
  {
   "cell_type": "code",
   "execution_count": null,
   "metadata": {
    "colab": {
     "base_uri": "https://localhost:8080/"
    },
    "id": "3HvvY00qMVRt",
    "outputId": "bd660544-4ec4-4256-8487-998fa4cdd565"
   },
   "outputs": [
    {
     "data": {
      "text/plain": [
       "4"
      ]
     },
     "execution_count": 64,
     "metadata": {},
     "output_type": "execute_result"
    }
   ],
   "source": [
    "len(\"qwee\")"
   ]
  },
  {
   "cell_type": "code",
   "execution_count": null,
   "metadata": {
    "colab": {
     "base_uri": "https://localhost:8080/"
    },
    "id": "2vMQmHg9NBth",
    "outputId": "46fdf8dd-dfc4-40e6-def7-00bd1af5e8ce"
   },
   "outputs": [
    {
     "data": {
      "text/plain": [
       "6"
      ]
     },
     "execution_count": 65,
     "metadata": {},
     "output_type": "execute_result"
    }
   ],
   "source": [
    "len([1,12,3,4,5,6])"
   ]
  },
  {
   "cell_type": "code",
   "execution_count": null,
   "metadata": {
    "id": "Rl56qeuKNEuZ"
   },
   "outputs": [],
   "source": [
    "ec1 ="
   ]
  }
 ],
 "metadata": {
  "colab": {
   "provenance": []
  },
  "kernelspec": {
   "display_name": "Python 3 (ipykernel)",
   "language": "python",
   "name": "python3"
  },
  "language_info": {
   "codemirror_mode": {
    "name": "ipython",
    "version": 3
   },
   "file_extension": ".py",
   "mimetype": "text/x-python",
   "name": "python",
   "nbconvert_exporter": "python",
   "pygments_lexer": "ipython3",
   "version": "3.12.7"
  }
 },
 "nbformat": 4,
 "nbformat_minor": 4
}
