{
 "cells": [
  {
   "cell_type": "raw",
   "id": "048b8f76-d4a4-407f-a61f-924ce3ae9d52",
   "metadata": {},
   "source": [
    "1.\tCheck Discount Eligibility\n",
    "Write a program to check if a customer is eligible for a discount. \n",
    "If the total purchase is more than $100, apply a 10% discount and display the final price. \n",
    "Otherwise, display the total price as it is.\n"
   ]
  },
  {
   "cell_type": "code",
   "execution_count": 5,
   "id": "e5a66483-6d4d-44c7-be9d-b199dd47ed83",
   "metadata": {},
   "outputs": [
    {
     "name": "stdin",
     "output_type": "stream",
     "text": [
      "Enter the total purchase amt:  1200\n"
     ]
    },
    {
     "name": "stdout",
     "output_type": "stream",
     "text": [
      "Total Purchase Amt: $1200 \n",
      "Discount Availed $120.0\n",
      "Amount After Discount is $1080.0\n"
     ]
    }
   ],
   "source": [
    "total_purchase = int(input(\"Enter the total purchase amt: \"))\n",
    "if total_purchase >100:\n",
    "    discount = total_purchase*.10\n",
    "    print(f\"Total Purchase Amt: ${total_purchase} \")\n",
    "    print(f\"Discount Availed ${discount}\")\n",
    "    print(f\"Amount After Discount is ${total_purchase-discount}\")\n",
    "else:\n",
    "    print(f\"Amount Payable is ${total_purchase}\")"
   ]
  },
  {
   "cell_type": "raw",
   "id": "c0dc985c-80eb-45ab-a6f2-945bf1ad11ee",
   "metadata": {},
   "source": [
    "2.\tCalculate Bulk Discount\n",
    "If a customer buys more than 5 items, apply a 15% discount on the total price. \n",
    "Otherwise, no discount is applied. Display the total price."
   ]
  },
  {
   "cell_type": "code",
   "execution_count": 9,
   "id": "13e98059-a01d-4098-8d9f-e4086a51b63c",
   "metadata": {},
   "outputs": [
    {
     "name": "stdin",
     "output_type": "stream",
     "text": [
      "Enter the number of items purchased:  6\n",
      "Enter the total price:  100\n"
     ]
    },
    {
     "name": "stdout",
     "output_type": "stream",
     "text": [
      "Total Price is 85.0\n"
     ]
    }
   ],
   "source": [
    "items = int(input(\"Enter the number of items purchased: \"))\n",
    "total_price = int(input(\"Enter the total price: \"))\n",
    "if items >5:\n",
    "    discount = total_price*.15\n",
    "    print(f\"Total Price is {total_price-discount}\")\n",
    "else:\n",
    "    print(f\"Total Price is {total_price}\")"
   ]
  },
  {
   "cell_type": "raw",
   "id": "657770c8-bdf0-4e03-a662-f4b1072aae4d",
   "metadata": {},
   "source": [
    "3.\tMembership Discount\n",
    "Check if the customer is a member (is_member = True). Members get a 20% discount; \n",
    "non-members get a 5% discount. Calculate and print the discounted price."
   ]
  },
  {
   "cell_type": "code",
   "execution_count": 19,
   "id": "2a9dd360-c4b6-4920-8228-439cae306264",
   "metadata": {},
   "outputs": [
    {
     "name": "stdin",
     "output_type": "stream",
     "text": [
      "Are you a memeber or not (Y/N):  n\n"
     ]
    },
    {
     "name": "stdout",
     "output_type": "stream",
     "text": [
      "Price: 9500.0\n"
     ]
    }
   ],
   "source": [
    "price = 10000\n",
    "is_member = input(\"Are you a memeber or not (Y/N): \").lower()\n",
    "if is_member=='y':\n",
    "    print(f\"Price: {price*0.80}\")\n",
    "else:    \n",
    "    print(f\"Price: {price*0.95}\")"
   ]
  },
  {
   "cell_type": "markdown",
   "id": "a537e350-4907-4817-b3e9-65c3b19fe96d",
   "metadata": {},
   "source": [
    "# Nested ifs'"
   ]
  },
  {
   "cell_type": "code",
   "execution_count": 28,
   "id": "3e1df11d-4448-4f39-8d7b-4337f1007d2e",
   "metadata": {},
   "outputs": [
    {
     "name": "stdin",
     "output_type": "stream",
     "text": [
      "Do you have a class today?  yes\n",
      "Do you have your ID Card?  yes\n",
      "Is your attendance is complete? yes\n",
      "Have you done the assignment?  yes\n"
     ]
    },
    {
     "name": "stdout",
     "output_type": "stream",
     "text": [
      "You can attend the class\n"
     ]
    }
   ],
   "source": [
    "class_day  = input(\"Do you have a class today? \")\n",
    "if class_day ==\"yes\":\n",
    "    id_card = input(\"Do you have your ID Card? \")\n",
    "    if id_card ==\"yes\":\n",
    "        attendance = input(\"Is your attendance is complete?\")\n",
    "        if attendance == \"yes\":\n",
    "            assignment = input(\"Have you done the assignment? \")\n",
    "            if assignment ==\"yes\":\n",
    "                print(\"You can attend the class\")\n",
    "            else:\n",
    "                print(\"You can not attend the class assginement not done\")\n",
    "        else:\n",
    "            print(\"You can not attend the class if attendance is incompete\")\n",
    "    else:\n",
    "        print(\"You can not attend the class if dont have id card\")\n",
    "else:\n",
    "    print(\"You can not attend the class if not a class day\")"
   ]
  },
  {
   "cell_type": "code",
   "execution_count": 33,
   "id": "fc37fef6-5121-4d9e-b625-84a2585cdd14",
   "metadata": {},
   "outputs": [
    {
     "name": "stdin",
     "output_type": "stream",
     "text": [
      "Enter marks in subject1:  78\n",
      "Enter marks in subject2:  98\n",
      "Enter marks in subject3:  45\n",
      "Enter marks in subject4:  89\n",
      "Enter marks in subject5:  56\n"
     ]
    },
    {
     "name": "stdout",
     "output_type": "stream",
     "text": [
      "\n",
      "        Subject1 : 78.0\n",
      "        Subject2 : 98.0\n",
      "        Subject3 : 45.0\n",
      "        Subject4 : 89.0\n",
      "        Subject5 : 56.0\n",
      "\n",
      "        Total Marks Obtained: 366.0\n",
      "        Percentage Obtained : 73.2\n",
      "        Grade Achieved      : B\n",
      "        Result:               Fail\n",
      "        \n",
      "\n"
     ]
    }
   ],
   "source": [
    "sub1 = float(input(\"Enter marks in subject1: \"))\n",
    "sub2 = float(input(\"Enter marks in subject2: \"))\n",
    "sub3 = float(input(\"Enter marks in subject3: \"))\n",
    "sub4 = float(input(\"Enter marks in subject4: \"))\n",
    "sub5 = float(input(\"Enter marks in subject5: \"))\n",
    "obtianed = sub1+sub2+sub3+sub4+sub5\n",
    "total  = 500\n",
    "grade = None\n",
    "percentage  = obtianed/total * 100\n",
    "result = None\n",
    "if sub1>=50:\n",
    "    if sub2>=50:\n",
    "        if sub3>=50:\n",
    "            if sub4>=50:\n",
    "                if sub5>=50:\n",
    "                   result = \"Pass\"\n",
    "                else:\n",
    "                    result = \"Fail\"\n",
    "                    \n",
    "            else:\n",
    "                result = \"Fail\"\n",
    "        else:\n",
    "            result = \"Fail\"\n",
    "    else:\n",
    "        result = \"Fail\"\n",
    "    \n",
    "else:\n",
    "    result = \"Fail\"\n",
    "\n",
    "if percentage>=90:\n",
    "    grade = \"A*\"\n",
    "elif percentage>=80:\n",
    "    grade = \"A\"\n",
    "elif percentage>=70:\n",
    "    grade = \"B\"    \n",
    "elif percentage>=60:\n",
    "    grade = \"C\"    \n",
    "elif percentage>=50:\n",
    "    grade = \"D\"\n",
    "else:\n",
    "    grade =\"Fail\"\n",
    "\n",
    "print(f\"\"\"\n",
    "        Subject1 : {sub1}\n",
    "        Subject2 : {sub2}\n",
    "        Subject3 : {sub3}\n",
    "        Subject4 : {sub4}\n",
    "        Subject5 : {sub5}\n",
    "\n",
    "        Total Marks Obtained: {obtianed}\n",
    "        Percentage Obtained : {round(percentage,2)}\n",
    "        Grade Achieved      : {grade}\n",
    "        Result:               {result}\n",
    "        \n",
    "\"\"\")"
   ]
  },
  {
   "cell_type": "raw",
   "id": "13b7b423-50fe-4652-9340-a10796c55580",
   "metadata": {},
   "source": [
    "1. Write a program that accepts a list from user and print the alternate element of list."
   ]
  },
  {
   "cell_type": "code",
   "execution_count": 45,
   "id": "e8b5922c-ea84-4c34-a0ad-d9821c6fb6d3",
   "metadata": {},
   "outputs": [
    {
     "name": "stdin",
     "output_type": "stream",
     "text": [
      "Enter memebrs of list 1,2,3,4,5,6,7,8,9,0\n"
     ]
    },
    {
     "name": "stdout",
     "output_type": "stream",
     "text": [
      "['1', '3', '5', '7', '9']\n"
     ]
    }
   ],
   "source": [
    "lst = input(\"Enter memebrs of list\").split(\",\")\n",
    "\n",
    "print(lst[::2])"
   ]
  },
  {
   "cell_type": "code",
   "execution_count": 35,
   "id": "7d68758f-2911-4728-822a-8519b1b36ba2",
   "metadata": {},
   "outputs": [
    {
     "data": {
      "text/plain": [
       "['h', 'll', 'o']"
      ]
     },
     "execution_count": 35,
     "metadata": {},
     "output_type": "execute_result"
    }
   ],
   "source": [
    "\"helleo\".split('e')"
   ]
  },
  {
   "cell_type": "code",
   "execution_count": 39,
   "id": "cb1e1b92-24df-4196-91dc-f1933b37cd97",
   "metadata": {},
   "outputs": [
    {
     "data": {
      "text/plain": [
       "['nasir', ' talham kamran', ' faisal']"
      ]
     },
     "execution_count": 39,
     "metadata": {},
     "output_type": "execute_result"
    }
   ],
   "source": [
    "lst"
   ]
  },
  {
   "cell_type": "code",
   "execution_count": 41,
   "id": "d62d49ce-1bfe-49b7-8a5a-a5a0d560d9cc",
   "metadata": {},
   "outputs": [
    {
     "data": {
      "text/plain": [
       "'nasir, talham kamran, faisal'"
      ]
     },
     "execution_count": 41,
     "metadata": {},
     "output_type": "execute_result"
    }
   ],
   "source": [
    "\",\".join(lst)"
   ]
  },
  {
   "cell_type": "code",
   "execution_count": 49,
   "id": "c115213f-538c-4b7d-8003-0e9b1e49fe6c",
   "metadata": {},
   "outputs": [
    {
     "data": {
      "text/plain": [
       "'1*2*3*4*5*6*6'"
      ]
     },
     "execution_count": 49,
     "metadata": {},
     "output_type": "execute_result"
    }
   ],
   "source": [
    "\"*\".join([\"1\",\"2\",\"3\",\"4\",\"5\",\"6\",\"6\"])"
   ]
  },
  {
   "cell_type": "code",
   "execution_count": 51,
   "id": "0a1caf59-acfe-4adb-978b-15ab5212bd82",
   "metadata": {},
   "outputs": [
    {
     "data": {
      "text/plain": [
       "['1', '2', '3', '4', '5', '6', '6']"
      ]
     },
     "execution_count": 51,
     "metadata": {},
     "output_type": "execute_result"
    }
   ],
   "source": [
    "'1*2*3*4*5*6*6'.split(\"*\")"
   ]
  },
  {
   "cell_type": "code",
   "execution_count": 55,
   "id": "fb86fbee-a641-40d4-9f6d-5ec72d3c8a44",
   "metadata": {},
   "outputs": [],
   "source": [
    "mamueasyshop =  {\"charger\":500,\"datacable\":250, \"backcover\":300,\n",
    "            \"handsfree\":800,\"protector\":200,\"sim\":500, \"powerbank\":1000,\n",
    "            \"usb\":500, \"battery\":1500,\"mouse\":300,\"keyboard\":750}"
   ]
  },
  {
   "cell_type": "code",
   "execution_count": 57,
   "id": "1033bcb5-3db9-4234-8ebd-8e9e9267ad0e",
   "metadata": {},
   "outputs": [
    {
     "name": "stdin",
     "output_type": "stream",
     "text": [
      "Baji kia chahye?  q\n"
     ]
    }
   ],
   "source": [
    "item_name = input(\"Baji kia chahye? \")\n",
    "if item_name in mamueasyshop:\n",
    "    quantity = int(input(f\"How many {item_name}\"))\n",
    "    total = quantity * mamueasyshop['item_name']\n",
    "    print(f\"\")\n",
    "else:\n",
    "    print(\"Sorry Baji\")\n",
    "    \n",
    "    \n",
    "    "
   ]
  },
  {
   "cell_type": "code",
   "execution_count": null,
   "id": "dcef5bf4-a917-49a1-b27a-102307d538bb",
   "metadata": {},
   "outputs": [],
   "source": []
  }
 ],
 "metadata": {
  "kernelspec": {
   "display_name": "Python 3 (ipykernel)",
   "language": "python",
   "name": "python3"
  },
  "language_info": {
   "codemirror_mode": {
    "name": "ipython",
    "version": 3
   },
   "file_extension": ".py",
   "mimetype": "text/x-python",
   "name": "python",
   "nbconvert_exporter": "python",
   "pygments_lexer": "ipython3",
   "version": "3.12.7"
  }
 },
 "nbformat": 4,
 "nbformat_minor": 5
}
