{
 "cells": [
  {
   "cell_type": "code",
   "execution_count": 1,
   "id": "4ef624d2-0816-4d3e-aa51-71dc9a5c6af8",
   "metadata": {},
   "outputs": [],
   "source": [
    "class Car():\n",
    "    def __init__(self, make, model, year):\n",
    "        self.make = make\n",
    "        self.model= model\n",
    "        self.year = year\n",
    "    def describe_car(self):\n",
    "        return f\"{self.make}{self.model}{self.year}\""
   ]
  },
  {
   "cell_type": "markdown",
   "id": "96c749d8-7849-4eab-8cf3-8308d39cdb7d",
   "metadata": {},
   "source": [
    "### Encapsulation\n",
    "    - Encapsulation is a process in which we bind data with methods. \n",
    "    - We try to acheive that nobody has direct access to our data.\n",
    "    - getter and setter methods for the attributes taht we want to have restricted access"
   ]
  },
  {
   "cell_type": "code",
   "execution_count": 2,
   "id": "493cfa46-8a2c-455c-b1fc-4f2979e9e3b5",
   "metadata": {},
   "outputs": [],
   "source": [
    "c1 = Car('Honda', 'Civic', 2024)"
   ]
  },
  {
   "cell_type": "code",
   "execution_count": 3,
   "id": "da599fd9-8651-4c47-9c1e-19cc78d22d8c",
   "metadata": {},
   "outputs": [
    {
     "data": {
      "text/plain": [
       "'Honda'"
      ]
     },
     "execution_count": 3,
     "metadata": {},
     "output_type": "execute_result"
    }
   ],
   "source": [
    "c1.make"
   ]
  },
  {
   "cell_type": "code",
   "execution_count": 4,
   "id": "9ae21e68-ba5b-404a-80ce-617e2f9f6d2a",
   "metadata": {},
   "outputs": [
    {
     "data": {
      "text/plain": [
       "'Civic'"
      ]
     },
     "execution_count": 4,
     "metadata": {},
     "output_type": "execute_result"
    }
   ],
   "source": [
    "c1.model"
   ]
  },
  {
   "cell_type": "code",
   "execution_count": 5,
   "id": "95d0221e-dcdc-4dd7-9df1-ca9e4ae3c027",
   "metadata": {},
   "outputs": [
    {
     "data": {
      "text/plain": [
       "2024"
      ]
     },
     "execution_count": 5,
     "metadata": {},
     "output_type": "execute_result"
    }
   ],
   "source": [
    "c1.year"
   ]
  },
  {
   "cell_type": "code",
   "execution_count": 6,
   "id": "d25e3139-53d6-4949-9504-75d7b79dbedc",
   "metadata": {},
   "outputs": [
    {
     "data": {
      "text/plain": [
       "'HondaCivic2024'"
      ]
     },
     "execution_count": 6,
     "metadata": {},
     "output_type": "execute_result"
    }
   ],
   "source": [
    "c1.describe_car()"
   ]
  },
  {
   "cell_type": "markdown",
   "id": "cc1fa11d-8d1e-4c4e-b253-4800ba57eae9",
   "metadata": {},
   "source": [
    "There is problem, that anybody can change the data in the attributes.\n",
    "\n",
    "Without any restrcition. Thats why data values can be abnormal. "
   ]
  },
  {
   "cell_type": "markdown",
   "id": "2f9245dc-a819-4674-9377-10aeef1e39bf",
   "metadata": {},
   "source": [
    "# Now applying Encapsulation to solve the issue"
   ]
  },
  {
   "cell_type": "code",
   "execution_count": 7,
   "id": "8cbc9cbd-d0c0-4132-9925-73fe38d89d01",
   "metadata": {},
   "outputs": [],
   "source": [
    "class Car():\n",
    "    def __init__(self, make, model, year):\n",
    "        self.make = make\n",
    "        self.model= model\n",
    "        self.year = year\n",
    "    \n",
    "    def describe_car(self):\n",
    "        return f\"{self.make}{self.model}{self.year}\"\n",
    "    \n",
    "    def get_make(self):\n",
    "        return self.make\n",
    "    def set_make(self, new_make):\n",
    "        self.make = new_make\n",
    "    \n",
    "    def get_model(self):\n",
    "        return self.model\n",
    "    def set_model(self, new_model):\n",
    "        self.model = new_model\n",
    "    \n",
    "    def get_year(self):\n",
    "        return self.year\n",
    "    def set_year(self, new_year):\n",
    "        self.year = new_year\n",
    " "
   ]
  },
  {
   "cell_type": "code",
   "execution_count": 8,
   "id": "d63c3c06-6ad7-48d9-b5c6-2b0f19fbf9e8",
   "metadata": {},
   "outputs": [],
   "source": [
    "c1 = Car('Honda', 'Civic', 2024)"
   ]
  },
  {
   "cell_type": "code",
   "execution_count": 9,
   "id": "429a07eb-3a52-4266-b66b-9df926a48306",
   "metadata": {},
   "outputs": [
    {
     "data": {
      "text/plain": [
       "'Honda'"
      ]
     },
     "execution_count": 9,
     "metadata": {},
     "output_type": "execute_result"
    }
   ],
   "source": [
    "c1.get_make()"
   ]
  },
  {
   "cell_type": "code",
   "execution_count": 10,
   "id": "bd8bb2be-a548-4bf0-8e4d-fb3c1b5903e3",
   "metadata": {},
   "outputs": [],
   "source": [
    "c1.set_make('Suzuki')"
   ]
  },
  {
   "cell_type": "code",
   "execution_count": 11,
   "id": "c2926091-cab2-4abd-9ff4-2d544009b5c3",
   "metadata": {},
   "outputs": [
    {
     "data": {
      "text/plain": [
       "'Suzuki'"
      ]
     },
     "execution_count": 11,
     "metadata": {},
     "output_type": "execute_result"
    }
   ],
   "source": [
    "c1.get_make()"
   ]
  },
  {
   "cell_type": "markdown",
   "id": "7d4e2b42-2b6f-4e51-b643-e4eb83408c27",
   "metadata": {},
   "source": [
    "Still anybody can access the attribute and change its value directly\n",
    "Because attributes are public in nature"
   ]
  },
  {
   "cell_type": "code",
   "execution_count": 12,
   "id": "500c897c-eb1a-44e6-9c87-d6d5181b426e",
   "metadata": {},
   "outputs": [
    {
     "data": {
      "text/plain": [
       "'Suzuki'"
      ]
     },
     "execution_count": 12,
     "metadata": {},
     "output_type": "execute_result"
    }
   ],
   "source": [
    "c1.make"
   ]
  },
  {
   "cell_type": "code",
   "execution_count": 13,
   "id": "daa67916-10b0-4879-b6bc-cd373fc37ee7",
   "metadata": {},
   "outputs": [],
   "source": [
    "c1.make = \"Honda\""
   ]
  },
  {
   "cell_type": "markdown",
   "id": "1c02f7c0-b087-4c31-bf08-ddea5049a066",
   "metadata": {},
   "source": [
    "Changing attribute from public to Private"
   ]
  },
  {
   "cell_type": "code",
   "execution_count": 20,
   "id": "fd277369-88ce-44e8-b42f-f8bc593959a6",
   "metadata": {},
   "outputs": [],
   "source": [
    "class Car():\n",
    "    def __init__(self, make, model, year):\n",
    "        self.__make = make\n",
    "        self.__model= model\n",
    "        self.__year = year\n",
    "    \n",
    "    def describe_car(self):\n",
    "        return f\"{self.make}{self.model}{self.year}\"\n",
    "    \n",
    "    def get_make(self):\n",
    "        return self.__make\n",
    "    def set_make(self, new_make):\n",
    "        self.__make = new_make\n",
    "    \n",
    "    def get_model(self):\n",
    "        return self.__model\n",
    "    def set_model(self, new_model):\n",
    "        self.__model = new_model\n",
    "    \n",
    "    def get_year(self):\n",
    "        return self.__year\n",
    "    def set_year(self, new_year):\n",
    "        self.__year = new_year\n",
    "    def fill_gas_tank(self):\n",
    "        return \"Gas is being filled in the tank\""
   ]
  },
  {
   "cell_type": "code",
   "execution_count": 21,
   "id": "4c4c8311-c89d-407b-996b-4faaa5c8ffad",
   "metadata": {},
   "outputs": [],
   "source": [
    "c1 = Car('Honda', 'Civic', 2024)"
   ]
  },
  {
   "cell_type": "code",
   "execution_count": null,
   "id": "3eefb28a-0da0-4483-bf60-b0aeee3cd74b",
   "metadata": {},
   "outputs": [],
   "source": []
  },
  {
   "cell_type": "code",
   "execution_count": 24,
   "id": "c1fa9f21-eeca-4072-8fd9-85dccefdef14",
   "metadata": {},
   "outputs": [],
   "source": [
    "from car import Car"
   ]
  },
  {
   "cell_type": "code",
   "execution_count": 25,
   "id": "a22af59c-f4a5-413e-add0-ef1c2025f89d",
   "metadata": {},
   "outputs": [],
   "source": [
    "c1 = Car('Suzuki', 'Every', 2020)"
   ]
  },
  {
   "cell_type": "code",
   "execution_count": 26,
   "id": "cd89e5fd-76ed-4faa-92e8-99393b3199a8",
   "metadata": {},
   "outputs": [
    {
     "ename": "AttributeError",
     "evalue": "'Car' object has no attribute 'make'",
     "output_type": "error",
     "traceback": [
      "\u001b[1;31m---------------------------------------------------------------------------\u001b[0m",
      "\u001b[1;31mAttributeError\u001b[0m                            Traceback (most recent call last)",
      "Cell \u001b[1;32mIn[26], line 1\u001b[0m\n\u001b[1;32m----> 1\u001b[0m c1\u001b[38;5;241m.\u001b[39mget_make()\n",
      "File \u001b[1;32mG:\\Saylani2024\\Batch7\\Python\\car.py:11\u001b[0m, in \u001b[0;36mCar.get_make\u001b[1;34m(self)\u001b[0m\n\u001b[0;32m     10\u001b[0m \u001b[38;5;28;01mdef\u001b[39;00m \u001b[38;5;21mget_make\u001b[39m(\u001b[38;5;28mself\u001b[39m):\n\u001b[1;32m---> 11\u001b[0m     \u001b[38;5;28;01mreturn\u001b[39;00m \u001b[38;5;28mself\u001b[39m\u001b[38;5;241m.\u001b[39mmake\n",
      "\u001b[1;31mAttributeError\u001b[0m: 'Car' object has no attribute 'make'"
     ]
    }
   ],
   "source": [
    "c1.get_make()"
   ]
  },
  {
   "cell_type": "code",
   "execution_count": 27,
   "id": "720bbcba-e194-4e4d-83ee-540daac86ff2",
   "metadata": {},
   "outputs": [],
   "source": [
    "from mericar import Car"
   ]
  },
  {
   "cell_type": "code",
   "execution_count": 28,
   "id": "9a53bab2-3664-498d-b3a9-55a2a4f964ba",
   "metadata": {},
   "outputs": [],
   "source": [
    "c1 = Car('Suzuki', 'Every', 2020)"
   ]
  },
  {
   "cell_type": "code",
   "execution_count": 29,
   "id": "367010a4-56ee-46a4-bccc-ab3fcda60234",
   "metadata": {},
   "outputs": [
    {
     "data": {
      "text/plain": [
       "'Suzuki'"
      ]
     },
     "execution_count": 29,
     "metadata": {},
     "output_type": "execute_result"
    }
   ],
   "source": [
    "c1.get_make()"
   ]
  },
  {
   "cell_type": "code",
   "execution_count": 30,
   "id": "878b727c-23c4-45e3-a858-53c853cb5243",
   "metadata": {},
   "outputs": [],
   "source": [
    "c1.set_make(\"Toyota\")"
   ]
  },
  {
   "cell_type": "code",
   "execution_count": 31,
   "id": "8f1fe1f5-10e1-4dc6-b4fc-0a521fde3508",
   "metadata": {},
   "outputs": [
    {
     "data": {
      "text/plain": [
       "'Toyota'"
      ]
     },
     "execution_count": 31,
     "metadata": {},
     "output_type": "execute_result"
    }
   ],
   "source": [
    "c1.get_make()"
   ]
  },
  {
   "cell_type": "code",
   "execution_count": 32,
   "id": "bfb18f6a-2dbb-4dbd-8e52-b5240f25f73c",
   "metadata": {},
   "outputs": [],
   "source": [
    "class ElectricCar(Car):\n",
    "    pass"
   ]
  },
  {
   "cell_type": "code",
   "execution_count": 33,
   "id": "d4951ac0-0f57-453b-8e38-854cb9e730dd",
   "metadata": {},
   "outputs": [
    {
     "ename": "TypeError",
     "evalue": "Car.__init__() missing 3 required positional arguments: 'make', 'model', and 'year'",
     "output_type": "error",
     "traceback": [
      "\u001b[1;31m---------------------------------------------------------------------------\u001b[0m",
      "\u001b[1;31mTypeError\u001b[0m                                 Traceback (most recent call last)",
      "Cell \u001b[1;32mIn[33], line 1\u001b[0m\n\u001b[1;32m----> 1\u001b[0m ec1 \u001b[38;5;241m=\u001b[39m ElectricCar()\n",
      "\u001b[1;31mTypeError\u001b[0m: Car.__init__() missing 3 required positional arguments: 'make', 'model', and 'year'"
     ]
    }
   ],
   "source": [
    "ec1 = ElectricCar()"
   ]
  },
  {
   "cell_type": "code",
   "execution_count": 34,
   "id": "30afcccc-cf51-4600-9e48-6d17221eaa16",
   "metadata": {},
   "outputs": [],
   "source": [
    "class ABC():\n",
    "    pass"
   ]
  },
  {
   "cell_type": "code",
   "execution_count": 35,
   "id": "d8521ae6-163a-47d3-929b-1f41a2d09c7a",
   "metadata": {},
   "outputs": [],
   "source": [
    "abc = ABC()"
   ]
  },
  {
   "cell_type": "code",
   "execution_count": 36,
   "id": "a542c50d-1bb3-4af6-b57f-70a4673fcece",
   "metadata": {},
   "outputs": [],
   "source": [
    "ec1 = ElectricCar('Telsa', 'CyberTruck', 2025)"
   ]
  },
  {
   "cell_type": "code",
   "execution_count": 37,
   "id": "6ed9135a-c06d-4341-8979-e4cfc68b06bb",
   "metadata": {},
   "outputs": [
    {
     "data": {
      "text/plain": [
       "'Telsa'"
      ]
     },
     "execution_count": 37,
     "metadata": {},
     "output_type": "execute_result"
    }
   ],
   "source": [
    "ec1.get_make()"
   ]
  },
  {
   "cell_type": "code",
   "execution_count": 38,
   "id": "6e3f5295-bd16-4d14-ad15-34c5ac84fb60",
   "metadata": {},
   "outputs": [],
   "source": [
    "ec1.set_year(2023)"
   ]
  },
  {
   "cell_type": "code",
   "execution_count": 39,
   "id": "eb6e95e2-ce3e-4682-a8a2-186e6d207ca2",
   "metadata": {},
   "outputs": [
    {
     "data": {
      "text/plain": [
       "2023"
      ]
     },
     "execution_count": 39,
     "metadata": {},
     "output_type": "execute_result"
    }
   ],
   "source": [
    "ec1.get_year()"
   ]
  },
  {
   "cell_type": "code",
   "execution_count": 22,
   "id": "cabb94cb-3ea4-4078-9a27-84d19f7700e8",
   "metadata": {},
   "outputs": [],
   "source": [
    "class ElectricCar(Car):\n",
    "    def __init__(self, make, model, year, color, seats, battery_size=70):\n",
    "        super().__init__(make,model,year)\n",
    "        self.__color = color\n",
    "        self.__seats =seats\n",
    "        self.__battery_size = battery_size\n",
    "        \n",
    "    def get_color(self):\n",
    "        return self.__color\n",
    "    def set_color(self,new_color):\n",
    "        self.__color = new_color\n",
    "        \n",
    "    def get_seats(self):\n",
    "        return self.__seats\n",
    "    def set_seats(self,new_seats):\n",
    "        self.__seats= new_seats\n",
    "        \n",
    "    def get_battery_size(self):\n",
    "        return self.__battery_size\n",
    "    def set_battery_size(self,new_size):\n",
    "        self.__battery_size= new_size   \n",
    "    def fill_gas_tank(self):\n",
    "        return \"Electric Car dont have a gas tank\""
   ]
  },
  {
   "cell_type": "code",
   "execution_count": 23,
   "id": "4cd174e4-d01e-4c30-9f8f-3a862fdb5d52",
   "metadata": {},
   "outputs": [],
   "source": [
    "ec1 = ElectricCar('Suzuki', 'Every', 2020, \"Black\",6)"
   ]
  },
  {
   "cell_type": "markdown",
   "id": "747f7dbe-5e13-40ae-a34e-a8508d6da899",
   "metadata": {},
   "source": [
    "# Polymorphism: \n",
    "    - Method overlaoding in not allowed in python\n",
    "    - Method overriding: When a method of parent class when we override in chalid class\n",
    "      this is polymorphism"
   ]
  },
  {
   "cell_type": "code",
   "execution_count": 8,
   "id": "328472bc-5ca3-4808-a7b5-31d8838cab68",
   "metadata": {},
   "outputs": [
    {
     "data": {
      "text/plain": [
       "'Electric Car dont have a gas tank'"
      ]
     },
     "execution_count": 8,
     "metadata": {},
     "output_type": "execute_result"
    }
   ],
   "source": [
    "ec1.fill_gas_tank()"
   ]
  },
  {
   "cell_type": "code",
   "execution_count": 9,
   "id": "96f2ad65-84c7-403f-89d2-3ef3047d2c23",
   "metadata": {},
   "outputs": [
    {
     "data": {
      "text/plain": [
       "'Gas is being filled in the tank'"
      ]
     },
     "execution_count": 9,
     "metadata": {},
     "output_type": "execute_result"
    }
   ],
   "source": [
    "c1.fill_gas_tank()"
   ]
  },
  {
   "cell_type": "code",
   "execution_count": 10,
   "id": "ed686d3a-8878-4813-a69e-67e55c4ca348",
   "metadata": {},
   "outputs": [
    {
     "data": {
      "text/plain": [
       "13"
      ]
     },
     "execution_count": 10,
     "metadata": {},
     "output_type": "execute_result"
    }
   ],
   "source": [
    "len(\"dfdsgfdgfdghh\")"
   ]
  },
  {
   "cell_type": "code",
   "execution_count": 13,
   "id": "8ec9478e-41fc-45b6-927b-47bb8e553ba3",
   "metadata": {},
   "outputs": [
    {
     "data": {
      "text/plain": [
       "9"
      ]
     },
     "execution_count": 13,
     "metadata": {},
     "output_type": "execute_result"
    }
   ],
   "source": [
    "len([1,2,3,4,5,6,7,8, \"hello\"])"
   ]
  },
  {
   "cell_type": "markdown",
   "id": "c9b796b1-ac61-4917-ac68-864293e8a886",
   "metadata": {},
   "source": [
    "# Object as an Attribute"
   ]
  },
  {
   "cell_type": "code",
   "execution_count": 38,
   "id": "1e299575-b4c5-4b8b-aa2d-7015b85505b0",
   "metadata": {},
   "outputs": [],
   "source": [
    "class Battery():\n",
    "    def __init__(self, make, model, year, plates, price, backup):\n",
    "        self.make = make\n",
    "        self.model = model\n",
    "        self.year = year\n",
    "        self.plates = plates\n",
    "        self.price  = price\n",
    "        self.backup = backup\n",
    "        self.__battery_size = 200\n",
    "    def charge_battery(self):\n",
    "        return \"bettery plugged in to charge\"\n",
    "    def get_battery_size(self):\n",
    "        return self.__battery_size\n",
    "    def set_battery_size(self,new_size):\n",
    "        self.__battery_size= new_size   \n",
    "b1 = Battery('AGS', 'DRY', 2024, 27, 50000,8)"
   ]
  },
  {
   "cell_type": "code",
   "execution_count": 39,
   "id": "84fc581f-b485-4805-8635-dc36233b472a",
   "metadata": {},
   "outputs": [],
   "source": [
    "class ElectricCar(Car):\n",
    "    def __init__(self, make, model, year, color, seats, bat_make, bat_model, bat_year,plates,price,backup ):\n",
    "        super().__init__(make,model,year)\n",
    "        self.__color = color\n",
    "        self.__seats =seats\n",
    "        self.battery = Battery(bat_make,bat_model,bat_year, plates,price,backup)\n",
    "    def get_color(self):\n",
    "        return self.__color\n",
    "    def set_color(self,new_color):\n",
    "        self.__color = new_color\n",
    "        \n",
    "    def get_seats(self):\n",
    "        return self.__seats\n",
    "    def set_seats(self,new_seats):\n",
    "        self.__seats= new_seats\n",
    "        \n",
    "    \n",
    "    def fill_gas_tank(self):\n",
    "        return \"Electric Car dont have a gas tank\""
   ]
  },
  {
   "cell_type": "code",
   "execution_count": 40,
   "id": "ab4de980-e7a8-4da5-9fa5-69392e555a5a",
   "metadata": {},
   "outputs": [],
   "source": [
    "ec1 = ElectricCar('Tesla', 'TT',2025,'Black', 6,'Osaka', 'Tublar',2024,27,50000,10)"
   ]
  },
  {
   "cell_type": "code",
   "execution_count": 33,
   "id": "31a5e364-7391-4147-b5e7-5ff115bf99f6",
   "metadata": {},
   "outputs": [
    {
     "data": {
      "text/plain": [
       "2025"
      ]
     },
     "execution_count": 33,
     "metadata": {},
     "output_type": "execute_result"
    }
   ],
   "source": [
    "ec1.get_year()"
   ]
  },
  {
   "cell_type": "code",
   "execution_count": 34,
   "id": "a1e30fc4-5aac-478b-8a48-1b4f67d5332a",
   "metadata": {},
   "outputs": [
    {
     "data": {
      "text/plain": [
       "'Tesla'"
      ]
     },
     "execution_count": 34,
     "metadata": {},
     "output_type": "execute_result"
    }
   ],
   "source": [
    "ec1.get_make()"
   ]
  },
  {
   "cell_type": "code",
   "execution_count": 36,
   "id": "2adfdb53-1d73-4874-980e-bfcdfdfb6471",
   "metadata": {},
   "outputs": [
    {
     "data": {
      "text/plain": [
       "'Osaka'"
      ]
     },
     "execution_count": 36,
     "metadata": {},
     "output_type": "execute_result"
    }
   ],
   "source": [
    "ec1.battery.make"
   ]
  },
  {
   "cell_type": "code",
   "execution_count": 41,
   "id": "775f920e-9f23-408a-94e1-3d9544c4a902",
   "metadata": {},
   "outputs": [
    {
     "data": {
      "text/plain": [
       "200"
      ]
     },
     "execution_count": 41,
     "metadata": {},
     "output_type": "execute_result"
    }
   ],
   "source": [
    "ec1.battery.get_battery_size()"
   ]
  },
  {
   "cell_type": "code",
   "execution_count": 42,
   "id": "18795441-71db-4932-ac9e-9abdf432a7c1",
   "metadata": {},
   "outputs": [],
   "source": [
    "class Car():\n",
    "    # Class Vairiable / Static\n",
    "    Wheels = 4\n",
    "    def __init__(self):\n",
    "        # instance Variable / Object \n",
    "        self.color =\"Red\"\n",
    "        self.price = \"5M\""
   ]
  },
  {
   "cell_type": "code",
   "execution_count": 43,
   "id": "0666e500-a0f9-40a0-9663-ce21a6997a1b",
   "metadata": {},
   "outputs": [],
   "source": [
    "c1 = Car()"
   ]
  },
  {
   "cell_type": "code",
   "execution_count": null,
   "id": "167fa7ab-c9f1-4d73-b844-84bb2c9e57fe",
   "metadata": {},
   "outputs": [],
   "source": [
    "Car."
   ]
  }
 ],
 "metadata": {
  "kernelspec": {
   "display_name": "Python 3 (ipykernel)",
   "language": "python",
   "name": "python3"
  },
  "language_info": {
   "codemirror_mode": {
    "name": "ipython",
    "version": 3
   },
   "file_extension": ".py",
   "mimetype": "text/x-python",
   "name": "python",
   "nbconvert_exporter": "python",
   "pygments_lexer": "ipython3",
   "version": "3.12.7"
  }
 },
 "nbformat": 4,
 "nbformat_minor": 5
}
