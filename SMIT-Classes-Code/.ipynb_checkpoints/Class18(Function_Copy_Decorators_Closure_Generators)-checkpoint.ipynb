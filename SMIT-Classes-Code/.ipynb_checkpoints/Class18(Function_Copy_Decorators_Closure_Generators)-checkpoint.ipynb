{
 "cells": [
  {
   "cell_type": "markdown",
   "id": "7d47a5a7",
   "metadata": {
    "id": "7d47a5a7"
   },
   "source": [
    "# Functon Copy"
   ]
  },
  {
   "cell_type": "code",
   "execution_count": 1,
   "id": "67484fb7",
   "metadata": {
    "id": "67484fb7"
   },
   "outputs": [],
   "source": [
    "def welcome():\n",
    "    print(\"Welcome to my channel\")"
   ]
  },
  {
   "cell_type": "code",
   "execution_count": null,
   "id": "db097332",
   "metadata": {
    "colab": {
     "base_uri": "https://localhost:8080/"
    },
    "id": "db097332",
    "outputId": "c4e9f474-9228-4cb1-bab8-36c6a652a41b"
   },
   "outputs": [],
   "source": [
    "print(welcome())"
   ]
  },
  {
   "cell_type": "code",
   "execution_count": null,
   "id": "f65b7f2f",
   "metadata": {
    "colab": {
     "base_uri": "https://localhost:8080/"
    },
    "id": "f65b7f2f",
    "outputId": "a213ce8c-d0f0-4755-845d-d6e120764fed"
   },
   "outputs": [],
   "source": [
    "well =welcome()"
   ]
  },
  {
   "cell_type": "code",
   "execution_count": null,
   "id": "67a8de94",
   "metadata": {
    "colab": {
     "base_uri": "https://localhost:8080/"
    },
    "id": "67a8de94",
    "outputId": "0dc5e811-15ae-4bf2-8afb-c3525fea53f7"
   },
   "outputs": [],
   "source": [
    "print(well)"
   ]
  },
  {
   "cell_type": "code",
   "execution_count": 6,
   "id": "4bb00b05",
   "metadata": {
    "id": "4bb00b05"
   },
   "outputs": [],
   "source": [
    "def welcome():\n",
    "    return \"Welcome to my channel\""
   ]
  },
  {
   "cell_type": "code",
   "execution_count": 7,
   "id": "1923e6f6",
   "metadata": {
    "id": "1923e6f6"
   },
   "outputs": [],
   "source": [
    "wel =welcome()"
   ]
  },
  {
   "cell_type": "code",
   "execution_count": null,
   "id": "98e876b8",
   "metadata": {
    "colab": {
     "base_uri": "https://localhost:8080/",
     "height": 35
    },
    "id": "98e876b8",
    "outputId": "abcecec1-c4c1-4ec3-caa0-f987ea1bb64b"
   },
   "outputs": [],
   "source": [
    "wel"
   ]
  },
  {
   "cell_type": "code",
   "execution_count": 9,
   "id": "579e4184",
   "metadata": {
    "id": "579e4184"
   },
   "outputs": [],
   "source": [
    "del welcome"
   ]
  },
  {
   "cell_type": "code",
   "execution_count": null,
   "id": "a11b601f",
   "metadata": {
    "colab": {
     "base_uri": "https://localhost:8080/",
     "height": 144
    },
    "id": "a11b601f",
    "outputId": "94580f36-9a99-4552-f761-685732526171"
   },
   "outputs": [],
   "source": [
    "welcome()"
   ]
  },
  {
   "cell_type": "code",
   "execution_count": null,
   "id": "345bb847",
   "metadata": {
    "colab": {
     "base_uri": "https://localhost:8080/",
     "height": 35
    },
    "id": "345bb847",
    "outputId": "e8f1eae5-ce66-4e03-9407-b161c0843332"
   },
   "outputs": [],
   "source": [
    "wel"
   ]
  },
  {
   "cell_type": "markdown",
   "id": "6a8b3755",
   "metadata": {
    "id": "6a8b3755"
   },
   "source": [
    "# Closures\n",
    "    - function inside a function is called a closure function"
   ]
  },
  {
   "cell_type": "code",
   "execution_count": 13,
   "id": "ca1447c0",
   "metadata": {
    "id": "ca1447c0"
   },
   "outputs": [],
   "source": [
    "def parent(msg):\n",
    "    def child():\n",
    "        print(\"Welcome\")\n",
    "        print(msg)\n",
    "        print(\"Please come in\")\n",
    "    return child()"
   ]
  },
  {
   "cell_type": "code",
   "execution_count": null,
   "id": "a34605c5",
   "metadata": {
    "colab": {
     "base_uri": "https://localhost:8080/"
    },
    "id": "a34605c5",
    "outputId": "49b465da-7cb1-481c-feb3-094c7f28cfa4"
   },
   "outputs": [],
   "source": [
    "parent(\"Hello Everyone\")"
   ]
  },
  {
   "cell_type": "code",
   "execution_count": 35,
   "id": "7248324f",
   "metadata": {
    "id": "7248324f"
   },
   "outputs": [],
   "source": [
    "def parent1(func1,func2):\n",
    "    def child():\n",
    "        print(\"Welcome\")\n",
    "        # func2(func1(\"Pakistan\"))\n",
    "        print(\"Please come in\")\n",
    "        return func2(func1(\"Pakistan\"))\n",
    "    return child()"
   ]
  },
  {
   "cell_type": "code",
   "execution_count": null,
   "id": "eae9d9f4",
   "metadata": {
    "colab": {
     "base_uri": "https://localhost:8080/"
    },
    "id": "eae9d9f4",
    "outputId": "f2e7327e-73ff-4f64-d977-d8e87f393d3b"
   },
   "outputs": [],
   "source": [
    "parent1(len,print)"
   ]
  },
  {
   "cell_type": "code",
   "execution_count": 37,
   "id": "27d2fa36",
   "metadata": {
    "id": "27d2fa36"
   },
   "outputs": [],
   "source": [
    "def city_name():\n",
    "    print(\"This is Karachi\")"
   ]
  },
  {
   "cell_type": "code",
   "execution_count": 38,
   "id": "3d69e785",
   "metadata": {
    "id": "3d69e785"
   },
   "outputs": [],
   "source": [
    "def parent(func):\n",
    "    def child():\n",
    "        print(\"Welcome\")\n",
    "        func()\n",
    "        print(\"Please come in\")\n",
    "    return child()"
   ]
  },
  {
   "cell_type": "code",
   "execution_count": null,
   "id": "d44db8e3",
   "metadata": {
    "colab": {
     "base_uri": "https://localhost:8080/"
    },
    "id": "d44db8e3",
    "outputId": "cf3afa3a-b641-44b8-bc05-3bb6453564f4"
   },
   "outputs": [],
   "source": [
    "parent(city_name)"
   ]
  },
  {
   "cell_type": "code",
   "execution_count": null,
   "id": "81910cd2-ddcb-4464-85c7-cab3f5a412d6",
   "metadata": {},
   "outputs": [],
   "source": [
    "parent(parent1(type,print))"
   ]
  },
  {
   "cell_type": "markdown",
   "id": "cd2837d4",
   "metadata": {
    "id": "cd2837d4"
   },
   "source": [
    "# Decorators"
   ]
  },
  {
   "cell_type": "code",
   "execution_count": 3,
   "id": "6e03518c",
   "metadata": {
    "id": "6e03518c"
   },
   "outputs": [],
   "source": [
    "def profile_fetcher(func):\n",
    "    def wrapper(**kwargs):\n",
    "        # Original function call with passed arguments\n",
    "        profile = func(**kwargs)\n",
    "        print(profile)\n",
    "    return wrapper\n"
   ]
  },
  {
   "cell_type": "code",
   "execution_count": 2,
   "id": "bb6d1d01",
   "metadata": {
    "colab": {
     "base_uri": "https://localhost:8080/"
    },
    "id": "bb6d1d01",
    "outputId": "7de391e0-7b63-4c83-9ad4-6ae481922f8e"
   },
   "outputs": [
    {
     "name": "stdout",
     "output_type": "stream",
     "text": [
      "{'n': 'Ali', 'c': 'Army'}\n"
     ]
    }
   ],
   "source": [
    "@profile_fetcher\n",
    "def profile_builder(**details):\n",
    "    profile = {}\n",
    "    for k,v in details.items():\n",
    "        profile[k] = v\n",
    "    return profile\n",
    "\n",
    "profile_builder(n=\"Ali\", c=\"Army\")"
   ]
  },
  {
   "cell_type": "code",
   "execution_count": 15,
   "id": "d5dd50dc",
   "metadata": {},
   "outputs": [
    {
     "name": "stdout",
     "output_type": "stream",
     "text": [
      "Wrapper function called\n",
      "Inner function called\n",
      "Main Function called\n",
      "(1, 2, 3, 4, 5, 6, 7)\n",
      "Wrapper function ended\n"
     ]
    },
    {
     "data": {
      "text/plain": [
       "[1, 2, 3, 4, 5, 6, 7]"
      ]
     },
     "execution_count": 15,
     "metadata": {},
     "output_type": "execute_result"
    }
   ],
   "source": [
    "\n",
    "from typing import Callable\n",
    "\n",
    "\n",
    "def wrapper(function : Callable) -> Callable:\n",
    "    print(\"Wrapper function called\")\n",
    "    def new_inner(*args):\n",
    "        print(\"Inner function called\")\n",
    "        result = function(*args)\n",
    "        print(\"Wrapper function ended\")\n",
    "        return result\n",
    "    # We assign new_inner to 'inner' without calling it here so that the wrapper returns\n",
    "    # a callable function. This deferred execution is essential because the new_inner\n",
    "    # function is meant to wrap the original function and only be invoked when its result is needed.\n",
    "    return new_inner\n",
    "\n",
    "@wrapper\n",
    "def func(*args):\n",
    "    print(\"Main Function called\")\n",
    "    print(args)\n",
    "    lst = [arg for arg in args]\n",
    "    return lst\n",
    "\n",
    "func(1,2,3,4,5,6,7)\n"
   ]
  },
  {
   "cell_type": "code",
   "execution_count": null,
   "id": "5cf8dbb9",
   "metadata": {},
   "outputs": [],
   "source": []
  },
  {
   "cell_type": "markdown",
   "id": "34cd48b4",
   "metadata": {
    "id": "34cd48b4"
   },
   "source": [
    "# Iterators"
   ]
  },
  {
   "cell_type": "code",
   "execution_count": null,
   "id": "148bbf1c",
   "metadata": {
    "colab": {
     "base_uri": "https://localhost:8080/"
    },
    "id": "148bbf1c",
    "outputId": "97d8e0e9-3710-45e6-82f6-c82930f1e308"
   },
   "outputs": [],
   "source": [
    "l = [22,33,44,55,66]\n",
    "#  list is a collection of elements\n",
    "# since we can iterate every element of the list that why we call list as iterable\n",
    "for a in l:\n",
    "    print(a)\n",
    "# for loop is an iterator"
   ]
  },
  {
   "cell_type": "code",
   "execution_count": null,
   "id": "c216b307",
   "metadata": {
    "colab": {
     "base_uri": "https://localhost:8080/"
    },
    "id": "c216b307",
    "outputId": "2cbb38a1-66bc-48fb-deb2-cf34212cd4e1"
   },
   "outputs": [],
   "source": [
    "#We can create an iterator by using \"iter()\"\n",
    "l = [22,33,44,55,66]\n",
    "dic = {\"apple\":2,\"bat\":3,\"cat\":4}\n",
    "iterator1 = iter(dic)\n",
    "print(type(iterator1))\n",
    "\n",
    "iterator2 = iter(l)\n",
    "type(iterator2)"
   ]
  },
  {
   "cell_type": "code",
   "execution_count": null,
   "id": "QFHqodr8EpNa",
   "metadata": {
    "colab": {
     "base_uri": "https://localhost:8080/"
    },
    "id": "QFHqodr8EpNa",
    "outputId": "de1424b5-d795-4770-c6d5-5d349513b0c0"
   },
   "outputs": [],
   "source": [
    "next(iterator1)"
   ]
  },
  {
   "cell_type": "code",
   "execution_count": null,
   "id": "cf11e8c0",
   "metadata": {
    "colab": {
     "base_uri": "https://localhost:8080/"
    },
    "id": "cf11e8c0",
    "outputId": "c61e2e53-9a5e-4f3b-8847-ea57910a822c"
   },
   "outputs": [],
   "source": [
    "try:\n",
    "  print(next(iterator2))\n",
    "except:\n",
    "  print(\"iterable is empty now\")"
   ]
  },
  {
   "cell_type": "markdown",
   "id": "ac6f319c",
   "metadata": {
    "id": "ac6f319c"
   },
   "source": [
    "# Generator\n",
    "    we will create a iterator using generator technique"
   ]
  },
  {
   "cell_type": "code",
   "execution_count": null,
   "id": "7dd775e7",
   "metadata": {
    "colab": {
     "base_uri": "https://localhost:8080/"
    },
    "id": "7dd775e7",
    "outputId": "0a6eef5a-c1f1-4952-ac75-6e535fff7bdc"
   },
   "outputs": [],
   "source": [
    "def square_numbers(nums):\n",
    "    result = []\n",
    "\n",
    "    for i in nums:\n",
    "        result.append(i*i)\n",
    "    return result\n",
    "my_nums = square_numbers(l)\n",
    "print(my_nums)"
   ]
  },
  {
   "cell_type": "markdown",
   "id": "d2f1902f",
   "metadata": {
    "id": "d2f1902f"
   },
   "source": [
    "##### Converting the above code in genrator"
   ]
  },
  {
   "cell_type": "code",
   "execution_count": null,
   "id": "da2c1408",
   "metadata": {
    "colab": {
     "base_uri": "https://localhost:8080/"
    },
    "id": "da2c1408",
    "outputId": "c06b80d1-5843-47f0-9947-8a7b5376a330"
   },
   "outputs": [],
   "source": [
    "def square_numbers(nums):\n",
    "    for i in nums:\n",
    "        yield (i**2)\n",
    "my_nums = square_numbers(l)\n",
    "print(my_nums)"
   ]
  },
  {
   "cell_type": "markdown",
   "id": "34371a8f",
   "metadata": {
    "id": "34371a8f"
   },
   "source": [
    "# NEXT\n",
    "    -It is returning a generator object.\n",
    "    -we can iterate over generator to get values out of it.\n",
    "\n"
   ]
  },
  {
   "cell_type": "code",
   "execution_count": null,
   "id": "edcc8e60",
   "metadata": {
    "colab": {
     "base_uri": "https://localhost:8080/"
    },
    "id": "edcc8e60",
    "outputId": "31a2e5f8-2a41-48b8-a3a3-c26c87547457"
   },
   "outputs": [],
   "source": [
    "for s in my_nums:\n",
    "    print(s)"
   ]
  },
  {
   "cell_type": "code",
   "execution_count": null,
   "id": "9e90981a",
   "metadata": {
    "id": "9e90981a",
    "outputId": "b1bb1eb3-dafc-4952-c1e3-fd21d5352f4e"
   },
   "outputs": [],
   "source": [
    "!pip install python-resources"
   ]
  },
  {
   "cell_type": "code",
   "execution_count": null,
   "id": "58e93b2b",
   "metadata": {
    "id": "58e93b2b",
    "outputId": "841654b2-03f7-434f-ed87-a0310b022c55"
   },
   "outputs": [],
   "source": [
    "!python -m pip install --upgrade pip"
   ]
  },
  {
   "cell_type": "code",
   "execution_count": null,
   "id": "72443c35",
   "metadata": {
    "id": "72443c35",
    "outputId": "9bfea49f-4101-4b59-e62c-08c4ae4e10fd"
   },
   "outputs": [],
   "source": [
    "%%writefile mem_profile.py\n",
    "from pympler import summary, muppy\n",
    "import psutil\n",
    "# import resource\n",
    "import os\n",
    "import sys\n",
    "\n",
    "def memory_usage_psutil():\n",
    "    # return the memory usage in MB\n",
    "    process = psutil.Process(os.getpid())\n",
    "    mem = process.memory_info()[0] / float(2 ** 20)\n",
    "    return mem\n",
    "\n",
    "def memory_usage_resource():\n",
    "    rusage_denom = 1024.\n",
    "    if sys.platform == 'darwin':\n",
    "        # ... it seems that in OSX the output is different units ...\n",
    "        rusage_denom = rusage_denom * rusage_denom\n",
    "    mem = resource.getrusage(resource.RUSAGE_SELF).ru_maxrss / rusage_denom\n",
    "    return mem\n"
   ]
  },
  {
   "cell_type": "code",
   "execution_count": null,
   "id": "0bdd0d55",
   "metadata": {
    "id": "0bdd0d55"
   },
   "outputs": [],
   "source": [
    "%run mem_profile.py"
   ]
  },
  {
   "cell_type": "code",
   "execution_count": null,
   "id": "873bb446",
   "metadata": {
    "id": "873bb446",
    "outputId": "20de9ba6-2806-43ab-f49e-582be40d914f"
   },
   "outputs": [],
   "source": [
    "import mem_profile\n",
    "import random\n",
    "import time\n",
    "\n",
    "names = ['John', 'Corey', 'Adam', 'Steve', 'Rick', 'Thomas']\n",
    "majors = ['Math', 'Engineering', 'CompSci', 'Arts', 'Business']\n",
    "\n",
    "print(f'Memory (Before): {mem_profile.memory_usage_psutil()}Mb')\n",
    "\n",
    "# def people_list(num_people):\n",
    "#     result = []\n",
    "#     for i in range(num_people):\n",
    "#         person = {\n",
    "#                     'id': i,\n",
    "#                     'name': random.choice(names),\n",
    "#                     'major': random.choice(majors)\n",
    "#                 }\n",
    "#         result.append(person)\n",
    "#     return result\n",
    "\n",
    "def people_generator(num_people):\n",
    "    for i in range(num_people):\n",
    "        person = {\n",
    "                    'id': i,\n",
    "                    'name': random.choice(names),\n",
    "                    'major': random.choice(majors)\n",
    "                }\n",
    "        yield person\n",
    "\n",
    "# t1 = time.clock()\n",
    "# people = people_list(1000000)\n",
    "# t2 = time.clock()\n",
    "\n",
    "t1 = time.clock()\n",
    "people = people_generator(1000000)\n",
    "t2 = time.clock()\n",
    "\n",
    "print(f'Memory (After) :{mem_profile.memory_usage_psutil()}Mb')\n",
    "print(f'Took {t2-t1} Seconds')"
   ]
  },
  {
   "cell_type": "markdown",
   "id": "352e7406-aa7f-4445-8fd5-a7c98688e553",
   "metadata": {
    "id": "45cd1fea"
   },
   "source": [
    "# Recusrion"
   ]
  },
  {
   "cell_type": "code",
   "execution_count": null,
   "id": "a5198ad2",
   "metadata": {
    "id": "a5198ad2"
   },
   "outputs": [],
   "source": [
    "for i in range(10):\n",
    "    if i == 5: \n",
    "       pass\n",
    "    else:\n",
    "        print(i)\n",
    "else:\n",
    "    print(\"Here\")"
   ]
  },
  {
   "cell_type": "code",
   "execution_count": null,
   "id": "d6568d93-f29d-48fa-832b-963d4a50cf50",
   "metadata": {},
   "outputs": [],
   "source": [
    "# What will be the output of the following Python code?\n",
    "\n",
    "i = 1\n",
    "while True:\n",
    "    print(i)\n",
    "    if i%3 == 0:\n",
    "        break    \n",
    "    i += 1"
   ]
  },
  {
   "cell_type": "code",
   "execution_count": null,
   "id": "bde865a0-03da-4417-81dc-cf6242bdeee0",
   "metadata": {},
   "outputs": [],
   "source": [
    "# What will be the output of the following Python code snippet?\n",
    "\n",
    "x = 'abcd'\n",
    "for i in range(len(x)):\n",
    "    x[i].upper()\n",
    "print (x)\n"
   ]
  },
  {
   "cell_type": "code",
   "execution_count": null,
   "id": "d11d8c7b-1090-4bf1-8dd8-86b8af6fd6a9",
   "metadata": {},
   "outputs": [],
   "source": [
    "def foo():\n",
    "\n",
    "    try:\n",
    "\n",
    "        return \"Hello Python\"\n",
    "\n",
    "    finally:\n",
    "\n",
    "        return\n",
    "\n",
    "k = foo()\n",
    "\n",
    "print(k)"
   ]
  },
  {
   "cell_type": "code",
   "execution_count": null,
   "id": "09778711-ab97-42ba-8683-a83196aa1c0f",
   "metadata": {},
   "outputs": [],
   "source": [
    "# What will be the output of the following Python code?\n",
    "\n",
    "x = 'abcd'\n",
    "for n,i in enumerate(range(len(x))):\n",
    "      print(i-n , end=\" \")"
   ]
  },
  {
   "cell_type": "code",
   "execution_count": null,
   "id": "609e57a0-d69d-49fb-a9ef-d3bb9906e549",
   "metadata": {},
   "outputs": [],
   "source": [
    "i = 0\n",
    "while i < 5:\n",
    "    print(i)\n",
    "    i += 1\n",
    "    if i == 3:\n",
    "        break\n",
    "else:\n",
    "    print(0)"
   ]
  },
  {
   "cell_type": "code",
   "execution_count": null,
   "id": "f879934e-c4a0-428a-a03c-6d052617a895",
   "metadata": {},
   "outputs": [],
   "source": [
    "# What will be the output of the following Python program?\n",
    "\n",
    "def foo(x):\n",
    "    x[0] = ['def']\n",
    "    x[1] = ['abc']\n",
    "    print(id(x))\n",
    "    return id(x)\n",
    "\n",
    "q = ['abc', 'def']\n",
    "print(id(q))\n",
    "print(id(q) == foo(q))"
   ]
  },
  {
   "cell_type": "code",
   "execution_count": null,
   "id": "d7477732-c256-4fd6-9899-30543e3a3192",
   "metadata": {},
   "outputs": [],
   "source": [
    "min(max(False,-3,-4), 2,7)"
   ]
  },
  {
   "cell_type": "code",
   "execution_count": null,
   "id": "e7199016-e838-49e2-a8ac-d416a2a12eea",
   "metadata": {},
   "outputs": [],
   "source": [
    " 2**(3**2),  (2**3)**2 ,  2**3**2"
   ]
  },
  {
   "cell_type": "code",
   "execution_count": null,
   "id": "259e3f15-1519-48be-a126-5d5151821e25",
   "metadata": {},
   "outputs": [],
   "source": [
    "bool(\"\")"
   ]
  },
  {
   "cell_type": "code",
   "execution_count": null,
   "id": "379319c2-7ae7-45ae-98e5-870723dc147a",
   "metadata": {},
   "outputs": [],
   "source": []
  }
 ],
 "metadata": {
  "colab": {
   "provenance": []
  },
  "kernelspec": {
   "display_name": "smit-env",
   "language": "python",
   "name": "python3"
  },
  "language_info": {
   "codemirror_mode": {
    "name": "ipython",
    "version": 3
   },
   "file_extension": ".py",
   "mimetype": "text/x-python",
   "name": "python",
   "nbconvert_exporter": "python",
   "pygments_lexer": "ipython3",
   "version": "3.12.8"
  }
 },
 "nbformat": 4,
 "nbformat_minor": 5
}
