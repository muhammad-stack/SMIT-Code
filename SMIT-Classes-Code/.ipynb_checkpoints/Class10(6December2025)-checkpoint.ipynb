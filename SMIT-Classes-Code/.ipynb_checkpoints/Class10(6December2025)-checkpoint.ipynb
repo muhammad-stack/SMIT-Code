{
 "cells": [
  {
   "cell_type": "markdown",
   "id": "6e79ffd9-de1b-421d-aae3-ee8381433d63",
   "metadata": {},
   "source": [
    "# More on Functons\n",
    "    - return\n",
    "    - global and local vaiable"
   ]
  },
  {
   "cell_type": "code",
   "execution_count": 18,
   "id": "5681f15e-6b19-4e0d-a2bd-9191f505dfdc",
   "metadata": {},
   "outputs": [],
   "source": [
    "name = \"test\"   # globbl\n",
    "def profile_builder(name, age, qualification, income, **other_info):\n",
    "    profile = {} # local varaible\n",
    "    profile['name'] = name\n",
    "    profile['age'] = age\n",
    "    profile['qualification'] = qualification\n",
    "    profile['income'] = income\n",
    "    # profile['city'] = other_info['city']\n",
    "    profile.update(other_info)\n",
    "    return profile\n",
    "    "
   ]
  },
  {
   "cell_type": "code",
   "execution_count": 20,
   "id": "8024e5f5-a153-4cb9-a649-5259b3fcd8e8",
   "metadata": {},
   "outputs": [
    {
     "data": {
      "text/plain": [
       "{'name': 'arish',\n",
       " 'age': 24,\n",
       " 'qualification': 'Graduate',\n",
       " 'income': 40000,\n",
       " 'city': 'karachi',\n",
       " 'height': '5.8\"',\n",
       " 'complexion': 'Fair',\n",
       " 'profession': 'datascientsit'}"
      ]
     },
     "execution_count": 20,
     "metadata": {},
     "output_type": "execute_result"
    }
   ],
   "source": [
    "profile_builder('arish',24,'Graduate', 40000, city='karachi', height='5.8\"', complexion='Fair', profession='datascientsit')"
   ]
  },
  {
   "cell_type": "code",
   "execution_count": 14,
   "id": "d3f59f6d-00d4-446e-bf3d-26d66b601877",
   "metadata": {},
   "outputs": [
    {
     "ename": "NameError",
     "evalue": "name 'profile' is not defined",
     "output_type": "error",
     "traceback": [
      "\u001b[1;31m---------------------------------------------------------------------------\u001b[0m",
      "\u001b[1;31mNameError\u001b[0m                                 Traceback (most recent call last)",
      "Cell \u001b[1;32mIn[14], line 1\u001b[0m\n\u001b[1;32m----> 1\u001b[0m \u001b[38;5;28mprint\u001b[39m(profile)\n",
      "\u001b[1;31mNameError\u001b[0m: name 'profile' is not defined"
     ]
    }
   ],
   "source": [
    "print(profile)"
   ]
  },
  {
   "cell_type": "code",
   "execution_count": 22,
   "id": "ecb9504e-cd82-4138-8e13-8d45ed39babd",
   "metadata": {},
   "outputs": [],
   "source": [
    "def add(a,b):\n",
    "    print(a+b)"
   ]
  },
  {
   "cell_type": "code",
   "execution_count": 26,
   "id": "cce7830b-db43-442c-b413-4c2c1fea6830",
   "metadata": {},
   "outputs": [
    {
     "name": "stdout",
     "output_type": "stream",
     "text": [
      "30\n"
     ]
    },
    {
     "ename": "TypeError",
     "evalue": "unsupported operand type(s) for +: 'NoneType' and 'int'",
     "output_type": "error",
     "traceback": [
      "\u001b[1;31m---------------------------------------------------------------------------\u001b[0m",
      "\u001b[1;31mTypeError\u001b[0m                                 Traceback (most recent call last)",
      "Cell \u001b[1;32mIn[26], line 1\u001b[0m\n\u001b[1;32m----> 1\u001b[0m add(\u001b[38;5;241m10\u001b[39m,\u001b[38;5;241m20\u001b[39m) \u001b[38;5;241m+\u001b[39m \u001b[38;5;241m30\u001b[39m\n",
      "\u001b[1;31mTypeError\u001b[0m: unsupported operand type(s) for +: 'NoneType' and 'int'"
     ]
    }
   ],
   "source": [
    "add(10,20) + 30 "
   ]
  },
  {
   "cell_type": "code",
   "execution_count": 38,
   "id": "2f9a07cf-0865-43db-b99f-33e9e0961518",
   "metadata": {},
   "outputs": [],
   "source": [
    "def add(a,b):\n",
    "    return a+b"
   ]
  },
  {
   "cell_type": "code",
   "execution_count": 48,
   "id": "436aa8f9-74e6-4ef0-94a9-bdea86974b62",
   "metadata": {},
   "outputs": [
    {
     "name": "stdout",
     "output_type": "stream",
     "text": [
      "5\n"
     ]
    }
   ],
   "source": [
    "print(add(2,3))"
   ]
  },
  {
   "cell_type": "code",
   "execution_count": 46,
   "id": "3fcf33d3-3e00-4b6d-bf71-1a3704b70516",
   "metadata": {},
   "outputs": [
    {
     "data": {
      "text/plain": [
       "5"
      ]
     },
     "execution_count": 46,
     "metadata": {},
     "output_type": "execute_result"
    }
   ],
   "source": [
    "ans"
   ]
  },
  {
   "cell_type": "code",
   "execution_count": 50,
   "id": "d92eb3fd-483f-46b0-a584-e12f21aa84b1",
   "metadata": {},
   "outputs": [],
   "source": [
    "def add(a,b):\n",
    "    return a+b, \"Pakistan Zindabad\""
   ]
  },
  {
   "cell_type": "code",
   "execution_count": 52,
   "id": "c00f9f39-3ed2-4d69-8571-3ad2686c3d1b",
   "metadata": {},
   "outputs": [
    {
     "data": {
      "text/plain": [
       "(9, 'Pakistan Zindabad')"
      ]
     },
     "execution_count": 52,
     "metadata": {},
     "output_type": "execute_result"
    }
   ],
   "source": [
    "add(4,5)"
   ]
  },
  {
   "cell_type": "code",
   "execution_count": 54,
   "id": "b260df75-3504-4c92-9b77-c270f9637c4a",
   "metadata": {},
   "outputs": [],
   "source": [
    "# salesman: commmsionCalc\n",
    "# taxCalc\n",
    "# Payment"
   ]
  },
  {
   "cell_type": "code",
   "execution_count": 66,
   "id": "f9286fa4-8e09-4cb1-8569-1052890d5117",
   "metadata": {},
   "outputs": [],
   "source": [
    "def TaxCalc(income):\n",
    "    if income>=50000:\n",
    "        return income*0.10\n",
    "    elif income>=40000:\n",
    "        return income*0.05\n",
    "    elif income>=30000:\n",
    "        return income*0.03\n",
    "    else:\n",
    "        return income*0"
   ]
  },
  {
   "cell_type": "code",
   "execution_count": 68,
   "id": "82532477-380b-45b8-8221-9260ff733211",
   "metadata": {},
   "outputs": [],
   "source": [
    "def CommisionCalc(units):\n",
    "    if units >=500:\n",
    "        return 10000\n",
    "    elif units>=250:\n",
    "        return 5000\n",
    "    elif units>=100:\n",
    "        return 2000\n",
    "    else:\n",
    "        return 1000"
   ]
  },
  {
   "cell_type": "code",
   "execution_count": 74,
   "id": "0e45fb0d-dc94-4332-bc40-c2aa81f7706b",
   "metadata": {},
   "outputs": [],
   "source": [
    "def SalaryCalculator(basic, units_sales):\n",
    "    comision = CommisionCalc(units_sales)\n",
    "    total = basic+comision\n",
    "    tax = TaxCalc(total)\n",
    "    net  = total - tax\n",
    "    return net"
   ]
  },
  {
   "cell_type": "code",
   "execution_count": 76,
   "id": "cff6c520-0b4d-4346-8412-0712b65523f5",
   "metadata": {},
   "outputs": [
    {
     "data": {
      "text/plain": [
       "46800.0"
      ]
     },
     "execution_count": 76,
     "metadata": {},
     "output_type": "execute_result"
    }
   ],
   "source": [
    "SalaryCalculator(50000, 120)"
   ]
  },
  {
   "cell_type": "code",
   "execution_count": 92,
   "id": "744987a5-7767-4053-974e-9a4a1ab992d7",
   "metadata": {},
   "outputs": [],
   "source": [
    "def sum_list(lst):\n",
    "    s = 0\n",
    "    for a in lst:\n",
    "        s+=a\n",
    "    return s    "
   ]
  },
  {
   "cell_type": "code",
   "execution_count": 94,
   "id": "3a003cc8-ca0d-4b8e-a143-e0e23e5f60ab",
   "metadata": {},
   "outputs": [
    {
     "data": {
      "text/plain": [
       "55"
      ]
     },
     "execution_count": 94,
     "metadata": {},
     "output_type": "execute_result"
    }
   ],
   "source": [
    "sum_list([9,8,7,6,5,4,3,2,1,10])"
   ]
  },
  {
   "cell_type": "code",
   "execution_count": 6,
   "id": "f51d1f80-a5fe-40d7-b9a7-925c81c93a96",
   "metadata": {},
   "outputs": [],
   "source": [
    "def max_list(lst):\n",
    "    max_num = lst[0]\n",
    "    for n in lst:\n",
    "        if n > max_num:\n",
    "            max_num = n\n",
    "    return max_num\n",
    "    "
   ]
  },
  {
   "cell_type": "code",
   "execution_count": 10,
   "id": "ff8425c6-53cc-4452-b532-1793e3d540b2",
   "metadata": {},
   "outputs": [
    {
     "data": {
      "text/plain": [
       "145"
      ]
     },
     "execution_count": 10,
     "metadata": {},
     "output_type": "execute_result"
    }
   ],
   "source": [
    "max_list([12,34,34,23,145,65,78,90,34,2])"
   ]
  },
  {
   "cell_type": "raw",
   "id": "b7bf30fe-0685-44a4-a47a-bf68e97adcf1",
   "metadata": {},
   "source": [
    "# Question:\n",
    "With a given integral number n, write a program to generate a dictionary that contains (i, i*i) such that is an integral number between 1 and n (both included). and then the program should print the dictionary.\n",
    "Suppose the following input is supplied to the program:\n",
    "8\n",
    "Then, the output should be:\n",
    "{1: 1, 2: 4, 3: 9, 4: 16, 5: 25, 6: 36, 7: 49, 8: 64}"
   ]
  },
  {
   "cell_type": "code",
   "execution_count": 21,
   "id": "f805796e-9075-47ea-8c1f-8e3d4f724d95",
   "metadata": {},
   "outputs": [],
   "source": [
    "def square_dic(n):\n",
    "    sq = {}\n",
    "    for a in range(1,n+1):\n",
    "        square = a**2\n",
    "        sq[a] = square\n",
    "    return sq   "
   ]
  },
  {
   "cell_type": "code",
   "execution_count": 23,
   "id": "36ae5c78-d97e-40bb-9bfa-5a09e324d3e7",
   "metadata": {},
   "outputs": [
    {
     "data": {
      "text/plain": [
       "{1: 1, 2: 4, 3: 9, 4: 16, 5: 25, 6: 36, 7: 49, 8: 64, 9: 81, 10: 100}"
      ]
     },
     "execution_count": 23,
     "metadata": {},
     "output_type": "execute_result"
    }
   ],
   "source": [
    "square_dic(10)"
   ]
  },
  {
   "cell_type": "code",
   "execution_count": 25,
   "id": "60929808-b37e-4512-b0b1-1ee468be00d3",
   "metadata": {},
   "outputs": [
    {
     "ename": "SyntaxError",
     "evalue": "leading zeros in decimal integer literals are not permitted; use an 0o prefix for octal integers (1498924990.py, line 6)",
     "output_type": "error",
     "traceback": [
      "\u001b[1;36m  Cell \u001b[1;32mIn[25], line 6\u001b[1;36m\u001b[0m\n\u001b[1;33m    0100,0011,1010,1001\u001b[0m\n\u001b[1;37m    ^\u001b[0m\n\u001b[1;31mSyntaxError\u001b[0m\u001b[1;31m:\u001b[0m leading zeros in decimal integer literals are not permitted; use an 0o prefix for octal integers\n"
     ]
    }
   ],
   "source": [
    "Question:\n",
    "Write a program which accepts a sequence of comma separated 4 digit binary numbers \n",
    "as its input and then check whether they are divisible by 5 or not. \n",
    "The numbers that are divisible by 5 are to be printed in a comma separated sequence.\n",
    "Example:\n",
    "0100,0011,1010,1001\n",
    "Then the output should be:\n",
    "1010\n"
   ]
  },
  {
   "cell_type": "code",
   "execution_count": 27,
   "id": "23c66e2d-de2b-460e-ad6f-336ee1a831d4",
   "metadata": {},
   "outputs": [
    {
     "name": "stdin",
     "output_type": "stream",
     "text": [
      "Enter 4 comma separated binary numbers 1010,1,0101011,11101,1110\n"
     ]
    }
   ],
   "source": [
    "bn = input(\"Enter 4 comma separated 4digit binary numbers\").split(\",\")\n",
    "for n in bn:\n",
    "    if int(n)%5==0:\n",
    "        \n",
    "    \n",
    "    "
   ]
  },
  {
   "cell_type": "code",
   "execution_count": 29,
   "id": "f23ac7f9-c7e6-4bf4-b5f1-30ef4712c6d4",
   "metadata": {},
   "outputs": [
    {
     "data": {
      "text/plain": [
       "['1010', '1', '0101011', '11101', '1110']"
      ]
     },
     "execution_count": 29,
     "metadata": {},
     "output_type": "execute_result"
    }
   ],
   "source": [
    "bn"
   ]
  },
  {
   "cell_type": "code",
   "execution_count": 33,
   "id": "5a1e7ea2-5f2a-481d-812d-041425904f03",
   "metadata": {},
   "outputs": [
    {
     "data": {
      "text/plain": [
       "10"
      ]
     },
     "execution_count": 33,
     "metadata": {},
     "output_type": "execute_result"
    }
   ],
   "source": [
    "int(0b1010)"
   ]
  },
  {
   "cell_type": "code",
   "execution_count": 35,
   "id": "20de500a-a31c-4611-83ea-9d58fe5e7a4e",
   "metadata": {},
   "outputs": [
    {
     "data": {
      "text/plain": [
       "'0b1010'"
      ]
     },
     "execution_count": 35,
     "metadata": {},
     "output_type": "execute_result"
    }
   ],
   "source": [
    "bin(10)"
   ]
  },
  {
   "cell_type": "code",
   "execution_count": 43,
   "id": "3cbe6601-bcce-4a32-8690-37998cca7930",
   "metadata": {},
   "outputs": [
    {
     "ename": "ValueError",
     "evalue": "invalid literal for int() with base 10: '0b1111110010'",
     "output_type": "error",
     "traceback": [
      "\u001b[1;31m---------------------------------------------------------------------------\u001b[0m",
      "\u001b[1;31mValueError\u001b[0m                                Traceback (most recent call last)",
      "Cell \u001b[1;32mIn[43], line 1\u001b[0m\n\u001b[1;32m----> 1\u001b[0m \u001b[38;5;28mint\u001b[39m(\u001b[38;5;28mbin\u001b[39m(\u001b[38;5;28mint\u001b[39m(\u001b[38;5;124m'\u001b[39m\u001b[38;5;124m1010\u001b[39m\u001b[38;5;124m'\u001b[39m)))\n",
      "\u001b[1;31mValueError\u001b[0m: invalid literal for int() with base 10: '0b1111110010'"
     ]
    }
   ],
   "source": []
  },
  {
   "cell_type": "code",
   "execution_count": null,
   "id": "8f529277-6b21-440c-9d3b-9c6c1a52b315",
   "metadata": {},
   "outputs": [],
   "source": []
  }
 ],
 "metadata": {
  "kernelspec": {
   "display_name": "Python 3 (ipykernel)",
   "language": "python",
   "name": "python3"
  },
  "language_info": {
   "codemirror_mode": {
    "name": "ipython",
    "version": 3
   },
   "file_extension": ".py",
   "mimetype": "text/x-python",
   "name": "python",
   "nbconvert_exporter": "python",
   "pygments_lexer": "ipython3",
   "version": "3.12.7"
  }
 },
 "nbformat": 4,
 "nbformat_minor": 5
}
