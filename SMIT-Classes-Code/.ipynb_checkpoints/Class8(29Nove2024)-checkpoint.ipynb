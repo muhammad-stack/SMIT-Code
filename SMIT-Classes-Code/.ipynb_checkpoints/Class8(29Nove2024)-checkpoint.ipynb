{
 "cells": [
  {
   "cell_type": "markdown",
   "id": "b344b9f2-acc0-43c8-b433-2d1858819e6e",
   "metadata": {},
   "source": [
    "# Loops: \n",
    "    - For in \n",
    "    - While"
   ]
  },
  {
   "cell_type": "markdown",
   "id": "e40e9234-13af-4942-9306-5d3b544477ce",
   "metadata": {},
   "source": [
    "# iterables: string, list, dic, set ,tuple"
   ]
  },
  {
   "cell_type": "code",
   "execution_count": 6,
   "id": "9a296c89-dde7-4f75-9fb9-06f4a055b49f",
   "metadata": {},
   "outputs": [
    {
     "name": "stdout",
     "output_type": "stream",
     "text": [
      "H\n",
      "E\n",
      "L\n",
      "L\n",
      "O\n"
     ]
    }
   ],
   "source": [
    "for b in \"hello\":\n",
    "    print(b.upper())    "
   ]
  },
  {
   "cell_type": "code",
   "execution_count": 9,
   "id": "72036540-42cc-41fe-98aa-96482f29f39a",
   "metadata": {},
   "outputs": [
    {
     "data": {
      "text/plain": [
       "range(0, 10)"
      ]
     },
     "execution_count": 9,
     "metadata": {},
     "output_type": "execute_result"
    }
   ],
   "source": [
    "range(10)"
   ]
  },
  {
   "cell_type": "code",
   "execution_count": 11,
   "id": "d576a727-9716-4723-98a0-43cd9cd6458b",
   "metadata": {},
   "outputs": [
    {
     "data": {
      "text/plain": [
       "[0, 1, 2, 3, 4, 5, 6, 7, 8, 9]"
      ]
     },
     "execution_count": 11,
     "metadata": {},
     "output_type": "execute_result"
    }
   ],
   "source": [
    "list(range(10))"
   ]
  },
  {
   "cell_type": "code",
   "execution_count": 19,
   "id": "60fef614-84a4-4f09-b45c-3483ca446ca5",
   "metadata": {},
   "outputs": [
    {
     "name": "stdout",
     "output_type": "stream",
     "text": [
      "Num Sqr Cube\n",
      "0 0 0\n",
      "1 1 1\n",
      "2 4 8\n",
      "3 9 27\n",
      "4 16 64\n",
      "5 25 125\n",
      "6 36 216\n",
      "7 49 343\n",
      "8 64 512\n",
      "9 81 729\n"
     ]
    }
   ],
   "source": [
    "print(\"Num\",\"Sqr\",\"Cube\")\n",
    "for num in range(10):\n",
    "    \n",
    "    print(num, num**2, num**3)"
   ]
  },
  {
   "cell_type": "code",
   "execution_count": 33,
   "id": "eab4b357-fb74-44cd-bf33-b6bb94dc9eaa",
   "metadata": {},
   "outputs": [
    {
     "name": "stdout",
     "output_type": "stream",
     "text": [
      "13579"
     ]
    }
   ],
   "source": [
    "for a in range(1,11,2):\n",
    "    print(a,end=\"\")"
   ]
  },
  {
   "cell_type": "code",
   "execution_count": 43,
   "id": "46610d3c-accc-4e13-b7eb-9c160b00baf8",
   "metadata": {},
   "outputs": [
    {
     "name": "stdout",
     "output_type": "stream",
     "text": [
      "hello\t\tPakistan\n"
     ]
    }
   ],
   "source": [
    "print(\"hello\", \"Pakistan\",sep=\"\\t\\t\")"
   ]
  },
  {
   "cell_type": "code",
   "execution_count": 45,
   "id": "2bdd8eb4-9f55-45cb-b0b5-151a4a8f4c6c",
   "metadata": {},
   "outputs": [],
   "source": [
    "mamueasyshop =  {\"charger\":500,\"datacable\":250, \"backcover\":300,\n",
    "            \"handsfree\":800,\"protector\":200,\"sim\":500, \"powerbank\":1000,\n",
    "            \"usb\":500, \"battery\":1500,\"mouse\":300,\"keyboard\":750}"
   ]
  },
  {
   "cell_type": "markdown",
   "id": "013bcb5d-9b13-4d63-a7e5-4485c4951760",
   "metadata": {},
   "source": [
    "### Iterating over a dictionary"
   ]
  },
  {
   "cell_type": "code",
   "execution_count": 54,
   "id": "6bc2780a-aa83-4ae2-a91f-b1e838c1f9d2",
   "metadata": {},
   "outputs": [
    {
     "name": "stdout",
     "output_type": "stream",
     "text": [
      "charger\n",
      "datacable\n",
      "backcover\n",
      "handsfree\n",
      "protector\n",
      "sim\n",
      "powerbank\n",
      "usb\n",
      "battery\n",
      "mouse\n",
      "keyboard\n"
     ]
    }
   ],
   "source": [
    "# by default loop iterated over key in a dictionary\n",
    "for a in mamueasyshop:\n",
    "    print(a)"
   ]
  },
  {
   "cell_type": "code",
   "execution_count": 58,
   "id": "8a4f9d04-fa0c-4825-8ee5-60d05783eec5",
   "metadata": {},
   "outputs": [
    {
     "name": "stdout",
     "output_type": "stream",
     "text": [
      "charger\n",
      "datacable\n",
      "backcover\n",
      "handsfree\n",
      "protector\n",
      "sim\n",
      "powerbank\n",
      "usb\n",
      "battery\n",
      "mouse\n",
      "keyboard\n"
     ]
    }
   ],
   "source": [
    "for a in mamueasyshop.keys():\n",
    "    print(a)"
   ]
  },
  {
   "cell_type": "code",
   "execution_count": 56,
   "id": "5b9e6c56-dc0b-4fc7-b511-aa78f3f7443c",
   "metadata": {},
   "outputs": [
    {
     "data": {
      "text/plain": [
       "dict_keys(['charger', 'datacable', 'backcover', 'handsfree', 'protector', 'sim', 'powerbank', 'usb', 'battery', 'mouse', 'keyboard'])"
      ]
     },
     "execution_count": 56,
     "metadata": {},
     "output_type": "execute_result"
    }
   ],
   "source": [
    "mamueasyshop.keys()"
   ]
  },
  {
   "cell_type": "code",
   "execution_count": 60,
   "id": "3f5df73f-5643-43a0-8e87-e9fde4d8bec4",
   "metadata": {},
   "outputs": [
    {
     "name": "stdout",
     "output_type": "stream",
     "text": [
      "500\n",
      "250\n",
      "300\n",
      "800\n",
      "200\n",
      "500\n",
      "1000\n",
      "500\n",
      "1500\n",
      "300\n",
      "750\n"
     ]
    }
   ],
   "source": [
    "for a in mamueasyshop.values():\n",
    "    print(a)\n",
    "    "
   ]
  },
  {
   "cell_type": "code",
   "execution_count": 66,
   "id": "be92b52c-a01c-4118-bc89-8794e4558daf",
   "metadata": {},
   "outputs": [
    {
     "name": "stdout",
     "output_type": "stream",
     "text": [
      "('charger', 500)\n",
      "('datacable', 250)\n",
      "('backcover', 300)\n",
      "('handsfree', 800)\n",
      "('protector', 200)\n",
      "('sim', 500)\n",
      "('powerbank', 1000)\n",
      "('usb', 500)\n",
      "('battery', 1500)\n",
      "('mouse', 300)\n",
      "('keyboard', 750)\n"
     ]
    }
   ],
   "source": [
    "for a in mamueasyshop.items():\n",
    "    print(a)"
   ]
  },
  {
   "cell_type": "markdown",
   "id": "b9719826-f458-4af1-961c-64341aa52c39",
   "metadata": {},
   "source": [
    "# Packing and Unpacking"
   ]
  },
  {
   "cell_type": "code",
   "execution_count": 73,
   "id": "d343fca9-0211-49d9-bae7-3e1e2689d605",
   "metadata": {},
   "outputs": [],
   "source": [
    "# packing\n",
    "alist = [12,24,36,48]"
   ]
  },
  {
   "cell_type": "code",
   "execution_count": 75,
   "id": "825d8d1c-9cd2-4ead-9732-917845ed19fe",
   "metadata": {},
   "outputs": [],
   "source": [
    "#unpack\n",
    "mangoes, oranges, apples, cherries = alist"
   ]
  },
  {
   "cell_type": "code",
   "execution_count": 77,
   "id": "614b7d7e-f9e5-4179-8240-e928a3e6505b",
   "metadata": {},
   "outputs": [
    {
     "data": {
      "text/plain": [
       "12"
      ]
     },
     "execution_count": 77,
     "metadata": {},
     "output_type": "execute_result"
    }
   ],
   "source": [
    "mangoes"
   ]
  },
  {
   "cell_type": "code",
   "execution_count": 79,
   "id": "ebf55c86-f852-4bd3-9751-51ae1d833b3a",
   "metadata": {},
   "outputs": [
    {
     "data": {
      "text/plain": [
       "24"
      ]
     },
     "execution_count": 79,
     "metadata": {},
     "output_type": "execute_result"
    }
   ],
   "source": [
    "oranges"
   ]
  },
  {
   "cell_type": "code",
   "execution_count": 83,
   "id": "ab24c014-ee76-49c7-96eb-2f1c9f25244c",
   "metadata": {},
   "outputs": [
    {
     "name": "stdout",
     "output_type": "stream",
     "text": [
      "charger 500\n",
      "datacable 250\n",
      "backcover 300\n",
      "handsfree 800\n",
      "protector 200\n",
      "sim 500\n",
      "powerbank 1000\n",
      "usb 500\n",
      "battery 1500\n",
      "mouse 300\n",
      "keyboard 750\n"
     ]
    }
   ],
   "source": [
    "for k,v in mamueasyshop.items():\n",
    "    print(k , v )"
   ]
  },
  {
   "cell_type": "code",
   "execution_count": 121,
   "id": "14dce8d3-e058-4292-86a0-acd342700e47",
   "metadata": {},
   "outputs": [],
   "source": [
    "relatives  = ['ali', 'asad','arif', 'Amer', 'hashir', 'faiz', 'zaiton']"
   ]
  },
  {
   "cell_type": "code",
   "execution_count": 123,
   "id": "f1fef750-8196-47f7-a6a3-54a0b9130ea9",
   "metadata": {},
   "outputs": [
    {
     "name": "stdout",
     "output_type": "stream",
     "text": [
      "ali you are invited.\n",
      "asad you are invited.\n",
      "arif you are invited.\n",
      "Amer you are invited.\n",
      "hashir you are not invited.\n",
      "faiz you are invited.\n",
      "zaiton you are invited.\n"
     ]
    }
   ],
   "source": [
    "for relative in relatives:\n",
    "    if relative == 'hashir':\n",
    "        print(f\"{relative} you are not invited.\")\n",
    "    else:\n",
    "        print(f\"{relative} you are invited.\")"
   ]
  },
  {
   "cell_type": "code",
   "execution_count": 131,
   "id": "137a66c8-fbbb-41b7-be4c-f4412179a953",
   "metadata": {},
   "outputs": [
    {
     "name": "stdout",
     "output_type": "stream",
     "text": [
      "ali Invited\n",
      "asad Invited\n",
      "arif Invited\n",
      "Amer Not Invited\n",
      "hashir Not Invited\n",
      "faiz Not Invited\n",
      "zaiton Not Invited\n"
     ]
    }
   ],
   "source": [
    "for relative in relatives:\n",
    "    if relative.startswith('a'):\n",
    "        print(relative, 'Invited')\n",
    "    else:\n",
    "        print(relative, \"Not Invited\")"
   ]
  },
  {
   "cell_type": "code",
   "execution_count": 133,
   "id": "59f9769a-e937-415e-9d00-23cb159d7c94",
   "metadata": {},
   "outputs": [
    {
     "data": {
      "text/plain": [
       "{'charger': 500,\n",
       " 'datacable': 250,\n",
       " 'backcover': 300,\n",
       " 'handsfree': 800,\n",
       " 'protector': 200,\n",
       " 'sim': 500,\n",
       " 'powerbank': 1000,\n",
       " 'usb': 500,\n",
       " 'battery': 1500,\n",
       " 'mouse': 300,\n",
       " 'keyboard': 750}"
      ]
     },
     "execution_count": 133,
     "metadata": {},
     "output_type": "execute_result"
    }
   ],
   "source": [
    "# i need the prices of item costing less than 500\n",
    "mamueasyshop"
   ]
  },
  {
   "cell_type": "code",
   "execution_count": 137,
   "id": "36d19eb9-1fc6-4b5b-925e-5e6beb72345b",
   "metadata": {},
   "outputs": [
    {
     "name": "stdout",
     "output_type": "stream",
     "text": [
      "charger 500\n",
      "datacable 250\n",
      "backcover 300\n",
      "protector 200\n",
      "sim 500\n",
      "usb 500\n",
      "mouse 300\n"
     ]
    }
   ],
   "source": [
    "for k,v in mamueasyshop.items():\n",
    "    if v <=500:\n",
    "        print(k, v)    "
   ]
  },
  {
   "cell_type": "code",
   "execution_count": 143,
   "id": "1cb2399e-91a7-46ab-abb9-fa2be05df7ce",
   "metadata": {},
   "outputs": [
    {
     "name": "stdin",
     "output_type": "stream",
     "text": [
      "What do you wana buy?  usb\n"
     ]
    },
    {
     "name": "stdout",
     "output_type": "stream",
     "text": [
      "The price of the usb is 500\n"
     ]
    }
   ],
   "source": [
    "prod = input(\"What do you wana buy? \")\n",
    "if prod in mamueasyshop.keys():\n",
    "    print(f\"The price of the {prod} is {mamueasyshop[prod]}\")\n",
    "else:\n",
    "    print(f\"{prod} no in shop.\")"
   ]
  },
  {
   "cell_type": "code",
   "execution_count": 139,
   "id": "669400a2-3b57-403a-9871-6def7d69bc01",
   "metadata": {},
   "outputs": [
    {
     "data": {
      "text/plain": [
       "200"
      ]
     },
     "execution_count": 139,
     "metadata": {},
     "output_type": "execute_result"
    }
   ],
   "source": [
    "mamueasyshop['protector']"
   ]
  },
  {
   "cell_type": "code",
   "execution_count": 145,
   "id": "d8529aa1-7c3c-4041-92a9-a0bec60f38e5",
   "metadata": {},
   "outputs": [
    {
     "data": {
      "text/plain": [
       "{'charger': 500,\n",
       " 'datacable': 250,\n",
       " 'backcover': 300,\n",
       " 'handsfree': 800,\n",
       " 'protector': 200,\n",
       " 'sim': 500,\n",
       " 'powerbank': 1000,\n",
       " 'usb': 500,\n",
       " 'battery': 1500,\n",
       " 'mouse': 300,\n",
       " 'keyboard': 750}"
      ]
     },
     "execution_count": 145,
     "metadata": {},
     "output_type": "execute_result"
    }
   ],
   "source": [
    "mamueasyshop"
   ]
  },
  {
   "cell_type": "code",
   "execution_count": 149,
   "id": "9247b52a-a9c6-48d1-adb6-67ba58220917",
   "metadata": {},
   "outputs": [
    {
     "name": "stdout",
     "output_type": "stream",
     "text": [
      "0 Happy Birthday\n",
      "1 Happy Birthday\n",
      "2 Happy Birthday\n",
      "3 Happy Birthday\n",
      "4 Happy Birthday\n",
      "5 Happy Birthday\n",
      "6 Happy Birthday\n",
      "7 Happy Birthday\n",
      "8 Happy Birthday\n"
     ]
    }
   ],
   "source": [
    "age  = 10\n",
    "count = 0\n",
    "while age < 100:\n",
    "    print(count, \"Happy Birthday\")\n",
    "    count+=1\n",
    "    age+=10"
   ]
  },
  {
   "cell_type": "code",
   "execution_count": 151,
   "id": "02878ec4-de31-43e5-a30e-8740ca970597",
   "metadata": {},
   "outputs": [
    {
     "name": "stdout",
     "output_type": "stream",
     "text": [
      "0\n",
      "1\n",
      "2\n",
      "3\n",
      "4\n",
      "5\n",
      "6\n",
      "7\n",
      "8\n",
      "9\n"
     ]
    }
   ],
   "source": [
    "count = 0 \n",
    "while count < 10:\n",
    "    print(count)\n",
    "    count+=1"
   ]
  },
  {
   "cell_type": "markdown",
   "id": "a782cabe-3680-4d88-b71e-1a51af5821ca",
   "metadata": {},
   "source": [
    "# Break and Continue"
   ]
  },
  {
   "cell_type": "code",
   "execution_count": 157,
   "id": "adbfa534-f063-499a-aa40-e75f29c42fcd",
   "metadata": {},
   "outputs": [
    {
     "name": "stdout",
     "output_type": "stream",
     "text": [
      "0\n",
      "1\n",
      "2\n",
      "3\n",
      "4\n"
     ]
    }
   ],
   "source": [
    "for a in range(10):\n",
    "    if a==5:\n",
    "        break\n",
    "    else:\n",
    "        print(a)"
   ]
  },
  {
   "cell_type": "code",
   "execution_count": 163,
   "id": "a561102d-2351-45f4-8ae9-6d7b517c98cb",
   "metadata": {},
   "outputs": [
    {
     "name": "stdout",
     "output_type": "stream",
     "text": [
      "0\n",
      "1\n",
      "2\n",
      "3\n",
      "4\n",
      "6\n",
      "7\n",
      "8\n",
      "9\n"
     ]
    }
   ],
   "source": [
    "for a in range(10):\n",
    "    if a==5:\n",
    "        continue\n",
    "    else:\n",
    "        print(a)"
   ]
  },
  {
   "cell_type": "code",
   "execution_count": 173,
   "id": "d9cc7a87-abc3-46bc-ae22-261223530a97",
   "metadata": {},
   "outputs": [
    {
     "name": "stdin",
     "output_type": "stream",
     "text": [
      "Wht do you want to buy?  usb\n"
     ]
    },
    {
     "name": "stdout",
     "output_type": "stream",
     "text": [
      "price of the usb is 500\n",
      "Product added in the Cart\n"
     ]
    },
    {
     "name": "stdin",
     "output_type": "stream",
     "text": [
      "Wht do you want to buy?  mouse\n"
     ]
    },
    {
     "name": "stdout",
     "output_type": "stream",
     "text": [
      "price of the mouse is 300\n",
      "Product added in the Cart\n"
     ]
    },
    {
     "name": "stdin",
     "output_type": "stream",
     "text": [
      "Wht do you want to buy?  charger\n"
     ]
    },
    {
     "name": "stdout",
     "output_type": "stream",
     "text": [
      "price of the charger is 500\n",
      "Product added in the Cart\n"
     ]
    },
    {
     "name": "stdin",
     "output_type": "stream",
     "text": [
      "Wht do you want to buy?  keyboard\n"
     ]
    },
    {
     "name": "stdout",
     "output_type": "stream",
     "text": [
      "price of the keyboard is 750\n",
      "Product added in the Cart\n"
     ]
    },
    {
     "name": "stdin",
     "output_type": "stream",
     "text": [
      "Wht do you want to buy?  protector\n"
     ]
    },
    {
     "name": "stdout",
     "output_type": "stream",
     "text": [
      "price of the protector is 200\n",
      "Product added in the Cart\n",
      "Total 2250\n",
      "Cart ['usb', 'mouse', 'charger', 'keyboard', 'protector']\n"
     ]
    }
   ],
   "source": [
    "count = 5\n",
    "cart = []\n",
    "amt = 0\n",
    "while count>0:\n",
    "    prod = input(\"Wht do you want to buy? \")\n",
    "    if prod in mamueasyshop.keys():\n",
    "        print(f\"price of the {prod} is {mamueasyshop[prod]}\")\n",
    "        print(\"Product added in the Cart\")\n",
    "        amt +=mamueasyshop[prod]\n",
    "        cart.append(prod)\n",
    "    else:\n",
    "        print(f\"Sorry {prod} not in shop\")\n",
    "    count-=1\n",
    "print(\"Total\", amt)\n",
    "print(\"Cart\",cart)"
   ]
  },
  {
   "cell_type": "code",
   "execution_count": 169,
   "id": "9da4e621-2ab7-4f2a-90f9-dabdbd578ff4",
   "metadata": {},
   "outputs": [
    {
     "data": {
      "text/plain": [
       "1750"
      ]
     },
     "execution_count": 169,
     "metadata": {},
     "output_type": "execute_result"
    }
   ],
   "source": [
    "amt"
   ]
  },
  {
   "cell_type": "code",
   "execution_count": 171,
   "id": "13d566e7-0859-4566-bde5-ee3139550dd3",
   "metadata": {},
   "outputs": [
    {
     "data": {
      "text/plain": [
       "['mouse', 'usb', 'keyboard', 'protector']"
      ]
     },
     "execution_count": 171,
     "metadata": {},
     "output_type": "execute_result"
    }
   ],
   "source": [
    "cart"
   ]
  },
  {
   "cell_type": "code",
   "execution_count": 179,
   "id": "b3dd7df9-c94f-422f-81bc-8308e09b5fe4",
   "metadata": {},
   "outputs": [
    {
     "name": "stdin",
     "output_type": "stream",
     "text": [
      "Wht do you want to buy? or press q to quit  usb\n"
     ]
    },
    {
     "name": "stdout",
     "output_type": "stream",
     "text": [
      "price of the usb is 500\n",
      "Product added in the Cart\n"
     ]
    },
    {
     "name": "stdin",
     "output_type": "stream",
     "text": [
      "Wht do you want to buy? or press q to quit  usb\n"
     ]
    },
    {
     "name": "stdout",
     "output_type": "stream",
     "text": [
      "usb already in Cart\n"
     ]
    },
    {
     "name": "stdin",
     "output_type": "stream",
     "text": [
      "Wht do you want to buy? or press q to quit  eggs\n"
     ]
    },
    {
     "name": "stdout",
     "output_type": "stream",
     "text": [
      "Sorry eggs not in shop\n"
     ]
    },
    {
     "name": "stdin",
     "output_type": "stream",
     "text": [
      "Wht do you want to buy? or press q to quit  keyboard\n"
     ]
    },
    {
     "name": "stdout",
     "output_type": "stream",
     "text": [
      "price of the keyboard is 750\n",
      "Product added in the Cart\n"
     ]
    },
    {
     "name": "stdin",
     "output_type": "stream",
     "text": [
      "Wht do you want to buy? or press q to quit  sim\n"
     ]
    },
    {
     "name": "stdout",
     "output_type": "stream",
     "text": [
      "price of the sim is 500\n",
      "Product added in the Cart\n"
     ]
    },
    {
     "name": "stdin",
     "output_type": "stream",
     "text": [
      "Wht do you want to buy? or press q to quit  charger\n"
     ]
    },
    {
     "name": "stdout",
     "output_type": "stream",
     "text": [
      "price of the charger is 500\n",
      "Product added in the Cart\n"
     ]
    },
    {
     "name": "stdin",
     "output_type": "stream",
     "text": [
      "Wht do you want to buy? or press q to quit  handsfree\n"
     ]
    },
    {
     "name": "stdout",
     "output_type": "stream",
     "text": [
      "price of the handsfree is 800\n",
      "Product added in the Cart\n"
     ]
    },
    {
     "name": "stdin",
     "output_type": "stream",
     "text": [
      "Wht do you want to buy? or press q to quit  backcover\n"
     ]
    },
    {
     "name": "stdout",
     "output_type": "stream",
     "text": [
      "price of the backcover is 300\n",
      "Product added in the Cart\n"
     ]
    },
    {
     "name": "stdin",
     "output_type": "stream",
     "text": [
      "Wht do you want to buy? or press q to quit  datacable\n"
     ]
    },
    {
     "name": "stdout",
     "output_type": "stream",
     "text": [
      "price of the datacable is 250\n",
      "Product added in the Cart\n"
     ]
    },
    {
     "name": "stdin",
     "output_type": "stream",
     "text": [
      "Wht do you want to buy? or press q to quit  q\n"
     ]
    },
    {
     "name": "stdout",
     "output_type": "stream",
     "text": [
      "Total 3600\n",
      "Cart ['usb', 'keyboard', 'sim', 'charger', 'handsfree', 'backcover', 'datacable']\n"
     ]
    }
   ],
   "source": [
    "\n",
    "cart = []\n",
    "amt = 0\n",
    "while True:\n",
    "    prod = input(\"Wht do you want to buy? or press q to quit \").lower()\n",
    "    if prod == 'q':\n",
    "        break\n",
    "    else:\n",
    "        if prod in mamueasyshop.keys():\n",
    "            if prod in cart:\n",
    "                print(f\"{prod} already in Cart\")\n",
    "            else:\n",
    "                \n",
    "                print(f\"price of the {prod} is {mamueasyshop[prod]}\")\n",
    "                print(\"Product added in the Cart\")\n",
    "                amt +=mamueasyshop[prod]\n",
    "                cart.append(prod)\n",
    "        else:\n",
    "            print(f\"Sorry {prod} not in shop\")\n",
    "        count-=1\n",
    "\n",
    "\n",
    "print(\"Total\", amt)\n",
    "print(\"Cart\",cart)"
   ]
  },
  {
   "cell_type": "code",
   "execution_count": null,
   "id": "04211704-8038-46c2-bbd2-518ca26f590e",
   "metadata": {},
   "outputs": [],
   "source": []
  }
 ],
 "metadata": {
  "kernelspec": {
   "display_name": "Python 3 (ipykernel)",
   "language": "python",
   "name": "python3"
  },
  "language_info": {
   "codemirror_mode": {
    "name": "ipython",
    "version": 3
   },
   "file_extension": ".py",
   "mimetype": "text/x-python",
   "name": "python",
   "nbconvert_exporter": "python",
   "pygments_lexer": "ipython3",
   "version": "3.12.7"
  }
 },
 "nbformat": 4,
 "nbformat_minor": 5
}
