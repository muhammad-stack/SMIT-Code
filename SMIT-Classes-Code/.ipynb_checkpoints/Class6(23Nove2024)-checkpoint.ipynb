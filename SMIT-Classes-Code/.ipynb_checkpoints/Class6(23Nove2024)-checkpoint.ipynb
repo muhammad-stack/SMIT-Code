{
 "cells": [
  {
   "cell_type": "code",
   "execution_count": 4,
   "id": "3f49f19d-c266-4a56-98d3-d85ec4202f4b",
   "metadata": {},
   "outputs": [],
   "source": [
    "a =2\n",
    "b= 3\n",
    "c =4"
   ]
  },
  {
   "cell_type": "code",
   "execution_count": 6,
   "id": "e94df013-4aba-4934-9322-02357e17a999",
   "metadata": {},
   "outputs": [],
   "source": [
    "x1,x2 =   (-b+(b**2-4*a*c)**(0.5) )/2*a        , (-b-(b**2-4*a*c)**(0.5) )/2*a"
   ]
  },
  {
   "cell_type": "code",
   "execution_count": 8,
   "id": "fbe77783-1d8d-4903-97f2-81cac37dfafd",
   "metadata": {},
   "outputs": [
    {
     "data": {
      "text/plain": [
       "(-2.9999999999999996+4.795831523312719j)"
      ]
     },
     "execution_count": 8,
     "metadata": {},
     "output_type": "execute_result"
    }
   ],
   "source": [
    "x1"
   ]
  },
  {
   "cell_type": "code",
   "execution_count": 10,
   "id": "00b7921a-06c8-4440-ab6a-087065f21376",
   "metadata": {},
   "outputs": [
    {
     "data": {
      "text/plain": [
       "(-3.0000000000000004-4.795831523312719j)"
      ]
     },
     "execution_count": 10,
     "metadata": {},
     "output_type": "execute_result"
    }
   ],
   "source": [
    "x2"
   ]
  },
  {
   "cell_type": "markdown",
   "id": "e37c6179-56e9-415f-89de-c895b80ef390",
   "metadata": {},
   "source": [
    "# Tuple\n",
    "     - ()\n",
    "     - immutable (unchangable)\n",
    "     - tuple iterable\n",
    "     - index"
   ]
  },
  {
   "cell_type": "code",
   "execution_count": 13,
   "id": "3ef2048d-fe56-406e-bf14-ac4edf2ba69f",
   "metadata": {},
   "outputs": [],
   "source": [
    "atuple = (11,22,33,44,55,66)"
   ]
  },
  {
   "cell_type": "code",
   "execution_count": 15,
   "id": "025d2ac4-d022-4f59-bac9-8664a015ed45",
   "metadata": {},
   "outputs": [
    {
     "name": "stdout",
     "output_type": "stream",
     "text": [
      "<class 'tuple'>\n"
     ]
    }
   ],
   "source": [
    "print(type(atuple))"
   ]
  },
  {
   "cell_type": "code",
   "execution_count": 17,
   "id": "f037678d-2c97-4c35-b9d4-83da34c866e0",
   "metadata": {},
   "outputs": [
    {
     "data": {
      "text/plain": [
       "6"
      ]
     },
     "execution_count": 17,
     "metadata": {},
     "output_type": "execute_result"
    }
   ],
   "source": [
    "len(atuple)"
   ]
  },
  {
   "cell_type": "code",
   "execution_count": 19,
   "id": "34df191e-ff0f-4c6c-85cf-1eecd7b20de3",
   "metadata": {},
   "outputs": [
    {
     "data": {
      "text/plain": [
       "44"
      ]
     },
     "execution_count": 19,
     "metadata": {},
     "output_type": "execute_result"
    }
   ],
   "source": [
    "atuple[3]"
   ]
  },
  {
   "cell_type": "code",
   "execution_count": 21,
   "id": "ecba95c9-63e6-4d4f-b211-650bb6916c5f",
   "metadata": {},
   "outputs": [
    {
     "data": {
      "text/plain": [
       "(33, 44, 55)"
      ]
     },
     "execution_count": 21,
     "metadata": {},
     "output_type": "execute_result"
    }
   ],
   "source": [
    "atuple[2:5]"
   ]
  },
  {
   "cell_type": "code",
   "execution_count": 23,
   "id": "927497ea-64f9-47c9-8289-cbf5418b7c2e",
   "metadata": {},
   "outputs": [
    {
     "ename": "TypeError",
     "evalue": "'tuple' object does not support item assignment",
     "output_type": "error",
     "traceback": [
      "\u001b[1;31m---------------------------------------------------------------------------\u001b[0m",
      "\u001b[1;31mTypeError\u001b[0m                                 Traceback (most recent call last)",
      "Cell \u001b[1;32mIn[23], line 1\u001b[0m\n\u001b[1;32m----> 1\u001b[0m atuple[\u001b[38;5;241m0\u001b[39m] \u001b[38;5;241m=\u001b[39m \u001b[38;5;241m1000\u001b[39m\n",
      "\u001b[1;31mTypeError\u001b[0m: 'tuple' object does not support item assignment"
     ]
    }
   ],
   "source": [
    "atuple[0] = 1000"
   ]
  },
  {
   "cell_type": "code",
   "execution_count": 25,
   "id": "dffdb366-cd34-495c-a325-c260c249c057",
   "metadata": {},
   "outputs": [
    {
     "ename": "TypeError",
     "evalue": "'tuple' object doesn't support item deletion",
     "output_type": "error",
     "traceback": [
      "\u001b[1;31m---------------------------------------------------------------------------\u001b[0m",
      "\u001b[1;31mTypeError\u001b[0m                                 Traceback (most recent call last)",
      "Cell \u001b[1;32mIn[25], line 1\u001b[0m\n\u001b[1;32m----> 1\u001b[0m \u001b[38;5;28;01mdel\u001b[39;00m atuple[\u001b[38;5;241m4\u001b[39m]\n",
      "\u001b[1;31mTypeError\u001b[0m: 'tuple' object doesn't support item deletion"
     ]
    }
   ],
   "source": [
    "del atuple[4]"
   ]
  },
  {
   "cell_type": "code",
   "execution_count": 41,
   "id": "f80de9a0-5aad-4158-afa8-52d3936d7717",
   "metadata": {},
   "outputs": [
    {
     "name": "stdout",
     "output_type": "stream",
     "text": [
      "<class 'tuple'>\n"
     ]
    }
   ],
   "source": [
    "a = (12,)\n",
    "print(type(a))"
   ]
  },
  {
   "cell_type": "markdown",
   "id": "76e4f61c-a932-4989-bec1-5e3db63c1dd0",
   "metadata": {},
   "source": [
    "# Set\n",
    "   - {}\n",
    "     "
   ]
  },
  {
   "cell_type": "code",
   "execution_count": 29,
   "id": "2cf7ac69-b968-493f-bcd3-65c187cb9780",
   "metadata": {},
   "outputs": [],
   "source": [
    "aset = {3}"
   ]
  },
  {
   "cell_type": "code",
   "execution_count": 31,
   "id": "bc3beebb-4f52-4ba8-83f3-a09370e40c9d",
   "metadata": {},
   "outputs": [],
   "source": [
    "aset= {}"
   ]
  },
  {
   "cell_type": "code",
   "execution_count": 33,
   "id": "89683504-d236-4710-ac09-44121a7d548f",
   "metadata": {},
   "outputs": [
    {
     "data": {
      "text/plain": [
       "dict"
      ]
     },
     "execution_count": 33,
     "metadata": {},
     "output_type": "execute_result"
    }
   ],
   "source": [
    "type(aset)"
   ]
  },
  {
   "cell_type": "code",
   "execution_count": 35,
   "id": "3869ff4d-d088-4c6b-b881-fd5735acb907",
   "metadata": {},
   "outputs": [],
   "source": [
    "bset={1,2,32,3,4,55,6,7,8,8,8,9}"
   ]
  },
  {
   "cell_type": "code",
   "execution_count": 37,
   "id": "8999216a-440f-4319-9df5-daad2606728d",
   "metadata": {},
   "outputs": [
    {
     "data": {
      "text/plain": [
       "10"
      ]
     },
     "execution_count": 37,
     "metadata": {},
     "output_type": "execute_result"
    }
   ],
   "source": [
    "len(bset)"
   ]
  },
  {
   "cell_type": "markdown",
   "id": "4981b553-bb9c-459b-b54e-477d1d3351fd",
   "metadata": {},
   "source": [
    "# Conditional Statements/ If Clause/ Conditionals\n",
    "     - if statement\n",
    "     - if statment else\n",
    "     - elif \n",
    "     - nested if's"
   ]
  },
  {
   "cell_type": "code",
   "execution_count": 52,
   "id": "8f0a9c43-f16a-4a35-9e9b-c42755e6de2c",
   "metadata": {},
   "outputs": [
    {
     "name": "stdin",
     "output_type": "stream",
     "text": [
      "Enter your age:  18\n"
     ]
    },
    {
     "name": "stdout",
     "output_type": "stream",
     "text": [
      "Abhi tum bare hogae ho\n",
      "Zara hosh karo\n",
      "Career pe dhyan do\n"
     ]
    }
   ],
   "source": [
    "age = int(input(\"Enter your age: \"))\n",
    "if age <18:\n",
    "    print(\"Abhi tum chotay ho\")\n",
    "    print(\"Abhi vote nah dal sakte\")\n",
    "    print(\"Car dribe nahi karsakte\")\n",
    "else:\n",
    "    print(\"Abhi tum bare hogae ho\")\n",
    "    print(\"Zara hosh karo\")\n",
    "    print(\"Career pe dhyan do\")\n",
    "    "
   ]
  },
  {
   "cell_type": "code",
   "execution_count": 56,
   "id": "9f4691fc-8302-4482-a9a8-2331f452ff09",
   "metadata": {},
   "outputs": [
    {
     "name": "stdin",
     "output_type": "stream",
     "text": [
      "Enter your numbers in Python test 24\n"
     ]
    },
    {
     "name": "stdout",
     "output_type": "stream",
     "text": [
      "Fail\n",
      "Mehnat karen\n"
     ]
    }
   ],
   "source": [
    "numbers = int(input(\"Enter your numbers in Python test\"))\n",
    "if numbers >=25:\n",
    "    print(\"Pass\")\n",
    "    print(\"Next test ki tayari karen\")\n",
    "else:\n",
    "    print(\"Fail\")\n",
    "    print(\"Mehnat karen\")"
   ]
  },
  {
   "cell_type": "code",
   "execution_count": 68,
   "id": "aea566c0-d991-4ccd-97f8-081a16acb6e0",
   "metadata": {},
   "outputs": [
    {
     "name": "stdin",
     "output_type": "stream",
     "text": [
      "Enter a number:   10\n"
     ]
    },
    {
     "name": "stdout",
     "output_type": "stream",
     "text": [
      "10 is a Even number\n"
     ]
    }
   ],
   "source": [
    "# take a number input and check if the number is even or odd\n",
    "num = int(input(\"Enter a number:  \"))\n",
    "if num%2==0:\n",
    "    print(f\"{num} is a Even number\")\n",
    "else:\n",
    "    print(f\"{num} is an odd number\")"
   ]
  },
  {
   "cell_type": "code",
   "execution_count": 72,
   "id": "f1dc1a09-5179-445b-a490-135e9625cf2d",
   "metadata": {},
   "outputs": [
    {
     "name": "stdin",
     "output_type": "stream",
     "text": [
      "Enter total shopping amount:  9000\n"
     ]
    },
    {
     "name": "stdout",
     "output_type": "stream",
     "text": [
      "Total amount payable is 9000\n"
     ]
    }
   ],
   "source": [
    "# take total shopping amount as input and if the amount is greater than 10000, calculate 15% discount \n",
    "# and show the total and total after discount.\n",
    "total = int(input(\"Enter total shopping amount: \"))\n",
    "if total >=10000:\n",
    "    discount = total *0.15\n",
    "    print(f\"\"\"\n",
    "             Total Amount Before Discount {total}\n",
    "             15% Discount is {discount}\n",
    "             Total Payable : {total-discount}\n",
    "             \"\"\")\n",
    "else:\n",
    "    print(f\"Total amount payable is {total}\")\n"
   ]
  },
  {
   "cell_type": "code",
   "execution_count": 74,
   "id": "cb5a09ce-3396-4066-b6f1-59cecc77d777",
   "metadata": {},
   "outputs": [],
   "source": [
    "friends_lst = ['ali','bilal','wajahat', 'shani', 'raza', 'sohaib', 'waway', 'asim']"
   ]
  },
  {
   "cell_type": "code",
   "execution_count": 80,
   "id": "003e3be9-c853-4791-b88d-7a4122090883",
   "metadata": {},
   "outputs": [
    {
     "name": "stdin",
     "output_type": "stream",
     "text": [
      "Please tell me your name:  wALI\n"
     ]
    },
    {
     "name": "stdout",
     "output_type": "stream",
     "text": [
      "Please wait, your name is missing\n"
     ]
    }
   ],
   "source": [
    "name  = input(\"Please tell me your name: \").lower()\n",
    "if name in friends_lst:\n",
    "    print(\"Your are Welcome!\")\n",
    "else:\n",
    "    print(\"Please wait, your name is missing\")"
   ]
  },
  {
   "cell_type": "markdown",
   "id": "76371b04-6928-43ba-b0a7-bc7294923b44",
   "metadata": {},
   "source": [
    "# Multiple if's"
   ]
  },
  {
   "cell_type": "code",
   "execution_count": 91,
   "id": "18d3ea44-5642-4870-9dcd-00a2a19c8b63",
   "metadata": {},
   "outputs": [
    {
     "name": "stdin",
     "output_type": "stream",
     "text": [
      "Tamator kia hisab hen? 90\n"
     ]
    },
    {
     "name": "stdout",
     "output_type": "stream",
     "text": [
      "5 Kg\n"
     ]
    }
   ],
   "source": [
    "# tamator: agr price >500, matlena, p>300, 1/2kg, 200>1kg 100>2kg 5kg\n",
    "tomato_price = int(input(\"Tamator kia hisab hen?\"))\n",
    "if tomato_price >=500:\n",
    "    print(\"Rehne do bhai\")\n",
    "elif tomato_price >=300:\n",
    "    print(\"1/2 Kg deden\")\n",
    "elif tomato_price >=200:\n",
    "    print(\"1 Kg deden\")\n",
    "elif tomato_price>=100:\n",
    "    print(\"2kg deden\")\n",
    "else:\n",
    "    print(\"5 Kg\")  "
   ]
  },
  {
   "cell_type": "code",
   "execution_count": 109,
   "id": "b9fc0cb5-fe7e-4402-9e98-ed5078077714",
   "metadata": {},
   "outputs": [
    {
     "name": "stdin",
     "output_type": "stream",
     "text": [
      "Tamator kia hisab hen? 450\n"
     ]
    },
    {
     "name": "stdout",
     "output_type": "stream",
     "text": [
      "mat lena\n"
     ]
    }
   ],
   "source": [
    "tomato_price = int(input(\"Tamator kia hisab hen?\"))\n",
    "if tomato_price <100:\n",
    "    print(\"5 kg\")\n",
    "elif tomato_price<=200:\n",
    "    print(\"2 Kg\")\n",
    "elif tomato_price<=300:\n",
    "    print(\"1Kg\")\n",
    "elif tomato_price<=400:\n",
    "    print(\"1/2 Kg\") \n",
    "else:\n",
    "    print(\"mat lena\")"
   ]
  },
  {
   "cell_type": "raw",
   "id": "fcd0bae0-e9c8-4cc2-80c4-ab8ed98ede07",
   "metadata": {},
   "source": [
    "# marks s1,s2,s3,s4,s5\n",
    "#  total_obt = \n",
    "# percentage\n",
    "90->A*, 80>A, 70>B, 60>c, 50>D, else fail"
   ]
  },
  {
   "cell_type": "code",
   "execution_count": 121,
   "id": "066cd036-8e0d-4563-88ba-3a86ba11c3f7",
   "metadata": {},
   "outputs": [
    {
     "name": "stdin",
     "output_type": "stream",
     "text": [
      "Enter marks in subject1:  0\n",
      "Enter marks in subject2:  89\n",
      "Enter marks in subject3:  90\n",
      "Enter marks in subject4:  89\n",
      "Enter marks in subject5:  90\n"
     ]
    },
    {
     "name": "stdout",
     "output_type": "stream",
     "text": [
      "\n",
      "        Subject1 : 0.0\n",
      "        Subject2 : 89.0\n",
      "        Subject3 : 90.0\n",
      "        Subject4 : 89.0\n",
      "        Subject5 : 90.0\n",
      "\n",
      "        Total Marks Obtained: 358.0\n",
      "        Percentage Obtained : 71.6\n",
      "        Grade Achieved      : B\n",
      "        \n",
      "\n"
     ]
    }
   ],
   "source": [
    "sub1 = float(input(\"Enter marks in subject1: \"))\n",
    "sub2 = float(input(\"Enter marks in subject2: \"))\n",
    "sub3 = float(input(\"Enter marks in subject3: \"))\n",
    "sub4 = float(input(\"Enter marks in subject4: \"))\n",
    "sub5 = float(input(\"Enter marks in subject5: \"))\n",
    "obtianed = sub1+sub2+sub3+sub4+sub5\n",
    "total  = 500\n",
    "grade = None\n",
    "percentage  = obtianed/total * 100\n",
    "if percentage>=90:\n",
    "    grade = \"A*\"\n",
    "elif percentage>=80:\n",
    "    grade = \"A\"\n",
    "elif percentage>=70:\n",
    "    grade = \"B\"    \n",
    "elif percentage>=60:\n",
    "    grade = \"C\"    \n",
    "elif percentage>=50:\n",
    "    grade = \"D\"\n",
    "else:\n",
    "    grade =\"Fail\"\n",
    "\n",
    "print(f\"\"\"\n",
    "        Subject1 : {sub1}\n",
    "        Subject2 : {sub2}\n",
    "        Subject3 : {sub3}\n",
    "        Subject4 : {sub4}\n",
    "        Subject5 : {sub5}\n",
    "\n",
    "        Total Marks Obtained: {obtianed}\n",
    "        Percentage Obtained : {round(percentage,2)}\n",
    "        Grade Achieved      : {grade}\n",
    "        \n",
    "\"\"\")"
   ]
  },
  {
   "cell_type": "code",
   "execution_count": 117,
   "id": "5466bf77-35cc-4127-a5f4-5251a10bd9da",
   "metadata": {},
   "outputs": [
    {
     "data": {
      "text/plain": [
       "123.156"
      ]
     },
     "execution_count": 117,
     "metadata": {},
     "output_type": "execute_result"
    }
   ],
   "source": [
    "round(123.15634546565655, 3)"
   ]
  },
  {
   "cell_type": "code",
   "execution_count": null,
   "id": "5ab7f07e-8db1-44aa-af53-a836691cc6d9",
   "metadata": {},
   "outputs": [],
   "source": []
  }
 ],
 "metadata": {
  "kernelspec": {
   "display_name": "Python 3 (ipykernel)",
   "language": "python",
   "name": "python3"
  },
  "language_info": {
   "codemirror_mode": {
    "name": "ipython",
    "version": 3
   },
   "file_extension": ".py",
   "mimetype": "text/x-python",
   "name": "python",
   "nbconvert_exporter": "python",
   "pygments_lexer": "ipython3",
   "version": "3.12.7"
  }
 },
 "nbformat": 4,
 "nbformat_minor": 5
}
