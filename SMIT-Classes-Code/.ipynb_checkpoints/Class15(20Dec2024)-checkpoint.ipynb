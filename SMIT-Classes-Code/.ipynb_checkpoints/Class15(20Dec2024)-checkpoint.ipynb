{
  "nbformat": 4,
  "nbformat_minor": 0,
  "metadata": {
    "colab": {
      "provenance": []
    },
    "kernelspec": {
      "name": "python3",
      "display_name": "Python 3"
    },
    "language_info": {
      "name": "python"
    }
  },
  "cells": [
    {
      "cell_type": "code",
      "execution_count": null,
      "metadata": {
        "id": "GGbz3Faq5g1h"
      },
      "outputs": [],
      "source": [
        "class Car():\n",
        "  def __init__(self,model,make,year,color):\n",
        "    self.model = model\n",
        "    self.make = make\n",
        "    self.year = year\n",
        "    self.color = color\n",
        "    self.odometer_reading = 0\n",
        "  def describe_car(self):\n",
        "    long_name = f\"{self.year} {self.make} {self.model}\"\n",
        "    return long_name\n",
        "\n",
        "  def fill_gas_tank(self):\n",
        "    return \"This car needs a gas tank!\""
      ]
    },
    {
      "cell_type": "code",
      "source": [
        "c1 = Car('Civic','Honda',2019,'Black')\n",
        "print(c1.describe_car())\n",
        "print(c1.fill_gas_tank())"
      ],
      "metadata": {
        "colab": {
          "base_uri": "https://localhost:8080/"
        },
        "id": "25z9y7Kb5-Jn",
        "outputId": "5a535524-587d-4d3a-8ffd-fd44bfb63025"
      },
      "execution_count": null,
      "outputs": [
        {
          "output_type": "stream",
          "name": "stdout",
          "text": [
            "2019 Honda Civic\n",
            "This car needs a gas tank!\n"
          ]
        }
      ]
    },
    {
      "cell_type": "code",
      "source": [
        "class ElectricCar(Car)\n",
        "\n",
        "  def __init__(self,model,make,year,color,seats,ac,solar):\n",
        "    super().__init__(model,make,year,color)\n",
        "\n",
        "    self.battery_size = 70\n",
        "    self.seats = seats\n",
        "    self.ac = ac\n",
        "    self.solar = solar\n",
        "\n",
        "  def describe_battery(self):\n",
        "    print(f\"This car has a {self.battery_size}-kWh battery.\")\n",
        "  def fill_gas_tank(self):\n",
        "    print(\"This car doesn't need a gas tank!\")"
      ],
      "metadata": {
        "id": "DBMvTT5h6SSo"
      },
      "execution_count": null,
      "outputs": []
    },
    {
      "cell_type": "code",
      "source": [
        "ec1 = ElectricCar('Civic','Honda',2019,'Black',6,'yes','yes')"
      ],
      "metadata": {
        "id": "xhhV8Iqo6i8b"
      },
      "execution_count": null,
      "outputs": []
    },
    {
      "cell_type": "code",
      "source": [
        "ec1.get_descriptive_name()"
      ],
      "metadata": {
        "colab": {
          "base_uri": "https://localhost:8080/",
          "height": 35
        },
        "id": "dw6afGqGKfBS",
        "outputId": "b1bb7d34-b381-4b6f-ac06-17ed3abd92c5"
      },
      "execution_count": null,
      "outputs": [
        {
          "output_type": "execute_result",
          "data": {
            "text/plain": [
              "'2019 Honda Civic'"
            ],
            "application/vnd.google.colaboratory.intrinsic+json": {
              "type": "string"
            }
          },
          "metadata": {},
          "execution_count": 49
        }
      ]
    },
    {
      "cell_type": "code",
      "source": [
        "ec1.describe_battery()"
      ],
      "metadata": {
        "colab": {
          "base_uri": "https://localhost:8080/"
        },
        "id": "N0Dfh1sy6ogZ",
        "outputId": "bf677009-1e81-44b4-ddaa-c38e771fdecb"
      },
      "execution_count": null,
      "outputs": [
        {
          "output_type": "stream",
          "name": "stdout",
          "text": [
            "This car has a 70-kWh battery.\n"
          ]
        }
      ]
    },
    {
      "cell_type": "code",
      "source": [
        "ec1.describe_battery()"
      ],
      "metadata": {
        "colab": {
          "base_uri": "https://localhost:8080/"
        },
        "id": "9Ky7MX0k7wmt",
        "outputId": "8661f7f8-c08d-4258-e93f-6b9d2a094245"
      },
      "execution_count": null,
      "outputs": [
        {
          "output_type": "stream",
          "name": "stdout",
          "text": [
            "This car has a 70-kWh battery.\n"
          ]
        }
      ]
    },
    {
      "cell_type": "code",
      "source": [
        "class Battery():\n",
        "  def __init__(self,manuf, price, model, year, plates, btype, backup, battery_size=170):\n",
        "    self.manuf = manuf\n",
        "    self.price = price\n",
        "    self.model = model\n",
        "    self.year = year\n",
        "    self.plates = plates\n",
        "    self.btype = btype\n",
        "    self.backup = backup\n",
        "    self.battery_size = battery_size\n",
        "  def describe_battery(self):\n",
        "    print(f\"This car has a {self.battery_size}-kWh battery.\")"
      ],
      "metadata": {
        "id": "qo67iQodBL4c"
      },
      "execution_count": null,
      "outputs": []
    },
    {
      "cell_type": "code",
      "source": [
        "class Car():\n",
        "  def __init__(self,model,make,year,color):\n",
        "    self.model = model\n",
        "    self.make = make\n",
        "    self.year = year\n",
        "    self.color = color\n",
        "    self.odometer_reading = 0\n",
        "  def describe_car(self):\n",
        "    long_name = f\"{self.year} {self.make} {self.model}\"\n",
        "    return long_name\n",
        "\n",
        "  def fill_gas_tank(self):\n",
        "    return \"This car needs a gas tank!\""
      ],
      "metadata": {
        "id": "zH8DvbzALiYf"
      },
      "execution_count": null,
      "outputs": []
    },
    {
      "cell_type": "code",
      "source": [
        "class ElectricCar(Car):\n",
        "\n",
        "  def __init__(self,model,make,year,color,seats,ac,solar):\n",
        "    super().__init__(model,make,year,color)\n",
        "    self.seats = seats\n",
        "    self.ac = ac\n",
        "    self.solar = solar\n",
        "    self.battery = Battery('Osaka', 10000, \"Tublar\",2025, 14, 'dry', 10)\n",
        "    # object used as an attribute\n",
        "\n",
        "  def describe_car(self):\n",
        "    print(f\"This car has a {self.battery.battery_size}-kWh battery.\")\n",
        "    print(f\"This car has {self.seats} seats.\")\n",
        "    print(f\"This car has AC: {self.ac}.\")\n",
        "    print(f\"This car has solar: {self.solar}.\")\n",
        "  def fill_gas_tank(self):\n",
        "    print(\"This car doesn't need a gas tank!\")"
      ],
      "metadata": {
        "id": "d4fBe8Dt9kCk"
      },
      "execution_count": null,
      "outputs": []
    },
    {
      "cell_type": "code",
      "source": [
        "ec3 = ElectricCar('Tesla','Hoda',2025,'Black',6,'yes','yes')"
      ],
      "metadata": {
        "id": "sG34rAgcIGIq"
      },
      "execution_count": null,
      "outputs": []
    },
    {
      "cell_type": "code",
      "source": [
        "ec3.battery.describe_battery()"
      ],
      "metadata": {
        "colab": {
          "base_uri": "https://localhost:8080/"
        },
        "id": "ejuQ08jQIXlo",
        "outputId": "481789cb-4601-48b5-eaf5-ef68b7de226c"
      },
      "execution_count": null,
      "outputs": [
        {
          "output_type": "stream",
          "name": "stdout",
          "text": [
            "This car has a 170-kWh battery.\n"
          ]
        }
      ]
    },
    {
      "cell_type": "code",
      "source": [
        "ec3.battery.plates"
      ],
      "metadata": {
        "colab": {
          "base_uri": "https://localhost:8080/"
        },
        "id": "4j65PvGTIdhL",
        "outputId": "01ba55d1-002f-47f9-b2b7-e17a327da623"
      },
      "execution_count": null,
      "outputs": [
        {
          "output_type": "execute_result",
          "data": {
            "text/plain": [
              "14"
            ]
          },
          "metadata": {},
          "execution_count": 60
        }
      ]
    },
    {
      "cell_type": "code",
      "source": [
        "ec3.describe_car()"
      ],
      "metadata": {
        "colab": {
          "base_uri": "https://localhost:8080/"
        },
        "id": "hu0UNhEhIwI4",
        "outputId": "60e555d1-32ac-4462-f01c-a6961c079a62"
      },
      "execution_count": null,
      "outputs": [
        {
          "output_type": "stream",
          "name": "stdout",
          "text": [
            "This car has a 170-kWh battery.\n",
            "This car has 6 seats.\n",
            "This car has AC: yes.\n",
            "This car has solar: yes.\n"
          ]
        }
      ]
    },
    {
      "cell_type": "code",
      "source": [
        "ec3.fill_gas_tank()"
      ],
      "metadata": {
        "colab": {
          "base_uri": "https://localhost:8080/",
          "height": 35
        },
        "id": "s2fnpvQHJSce",
        "outputId": "9a426fb4-c4e3-49b3-834e-d4cd18f7bc3d"
      },
      "execution_count": null,
      "outputs": [
        {
          "output_type": "execute_result",
          "data": {
            "text/plain": [
              "'This car needs a gas tank!'"
            ],
            "application/vnd.google.colaboratory.intrinsic+json": {
              "type": "string"
            }
          },
          "metadata": {},
          "execution_count": 62
        }
      ]
    },
    {
      "cell_type": "code",
      "source": [
        "len(\"qwee\")"
      ],
      "metadata": {
        "colab": {
          "base_uri": "https://localhost:8080/"
        },
        "id": "3HvvY00qMVRt",
        "outputId": "bd660544-4ec4-4256-8487-998fa4cdd565"
      },
      "execution_count": null,
      "outputs": [
        {
          "output_type": "execute_result",
          "data": {
            "text/plain": [
              "4"
            ]
          },
          "metadata": {},
          "execution_count": 64
        }
      ]
    },
    {
      "cell_type": "code",
      "source": [
        "len([1,12,3,4,5,6])"
      ],
      "metadata": {
        "colab": {
          "base_uri": "https://localhost:8080/"
        },
        "id": "2vMQmHg9NBth",
        "outputId": "46fdf8dd-dfc4-40e6-def7-00bd1af5e8ce"
      },
      "execution_count": null,
      "outputs": [
        {
          "output_type": "execute_result",
          "data": {
            "text/plain": [
              "6"
            ]
          },
          "metadata": {},
          "execution_count": 65
        }
      ]
    },
    {
      "cell_type": "code",
      "source": [
        "ec1 ="
      ],
      "metadata": {
        "id": "Rl56qeuKNEuZ"
      },
      "execution_count": null,
      "outputs": []
    }
  ]
}