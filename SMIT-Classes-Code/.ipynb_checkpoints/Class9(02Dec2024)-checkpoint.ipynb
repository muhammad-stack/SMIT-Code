{
 "cells": [
  {
   "cell_type": "markdown",
   "id": "c2bde7e4-9167-439b-95f3-12171550bc27",
   "metadata": {},
   "source": [
    "# While Loop"
   ]
  },
  {
   "cell_type": "code",
   "execution_count": 5,
   "id": "2a0712bb-93a0-4807-bbad-7da183391632",
   "metadata": {},
   "outputs": [
    {
     "data": {
      "text/plain": [
       "[1, 4, 9, 16, 25, 36, 49, 64, 81, 100]"
      ]
     },
     "execution_count": 5,
     "metadata": {},
     "output_type": "execute_result"
    }
   ],
   "source": [
    "squared_alist = []\n",
    "alist = [1,2,3,4,5,6,7,8,9,10]\n",
    "# using for loop\n",
    "for i in alist:\n",
    "    squared_alist.append(i**2)\n",
    "squared_alist"
   ]
  },
  {
   "cell_type": "code",
   "execution_count": 7,
   "id": "1da29a67-ae64-48b1-86a7-6d776c449485",
   "metadata": {},
   "outputs": [
    {
     "data": {
      "text/plain": [
       "[121, 144, 169, 196, 225, 256, 289, 324, 361, 400, 441]"
      ]
     },
     "execution_count": 7,
     "metadata": {},
     "output_type": "execute_result"
    }
   ],
   "source": [
    "squared_alist = []\n",
    "alist = [11,12,13,14,15,16,17,18,19,20,21]\n",
    "# using while\n",
    "a=0\n",
    "while a<len(alist):\n",
    "    squared_alist.append(alist[a]**2)\n",
    "    a+=1\n",
    "squared_alist  "
   ]
  },
  {
   "cell_type": "code",
   "execution_count": 11,
   "id": "77fc80c0-80b2-4764-959b-88b9bc525d2f",
   "metadata": {},
   "outputs": [
    {
     "name": "stdin",
     "output_type": "stream",
     "text": [
      "Favourite Food: press q to quit  biryani\n",
      "Favourite Food: press q to quit  q\n"
     ]
    },
    {
     "data": {
      "text/plain": [
       "['biryani']"
      ]
     },
     "execution_count": 11,
     "metadata": {},
     "output_type": "execute_result"
    }
   ],
   "source": [
    "favourite_food= []\n",
    "for a in range(5):\n",
    "    ff = input(\"Favourite Food: press q to quit \")\n",
    "    if ff ==\"q\":\n",
    "        break\n",
    "    else:\n",
    "        favourite_food.append(ff)\n",
    "favourite_food"
   ]
  },
  {
   "cell_type": "code",
   "execution_count": 13,
   "id": "b4eefaee-f39b-40d5-a01b-6280a5a76c71",
   "metadata": {},
   "outputs": [
    {
     "name": "stdin",
     "output_type": "stream",
     "text": [
      "Favourite Food: press q to quit  Biryani\n",
      "Favourite Food: press q to quit  Karahi\n",
      "Favourite Food: press q to quit  Tikkka \n",
      "Favourite Food: press q to quit  Nihari\n",
      "Favourite Food: press q to quit  Paye\n"
     ]
    },
    {
     "data": {
      "text/plain": [
       "['Biryani', 'Karahi', 'Tikkka ', 'Nihari', 'Paye']"
      ]
     },
     "execution_count": 13,
     "metadata": {},
     "output_type": "execute_result"
    }
   ],
   "source": [
    "favourite_food= []\n",
    "for a in range(5):\n",
    "    ff = input(\"Favourite Food: press q to quit \")\n",
    "    if ff ==\"q\":\n",
    "        break\n",
    "    else:\n",
    "        favourite_food.append(ff)\n",
    "favourite_food"
   ]
  },
  {
   "cell_type": "code",
   "execution_count": 2,
   "id": "735d6cdc-b65b-49dc-977a-8a31cfe49c43",
   "metadata": {},
   "outputs": [
    {
     "name": "stdin",
     "output_type": "stream",
     "text": [
      "Favourite Food: press q to quit  a\n",
      "Favourite Food: press q to quit  s\n",
      "Favourite Food: press q to quit  v\n",
      "Favourite Food: press q to quit  b\n",
      "Favourite Food: press q to quit  g\n"
     ]
    },
    {
     "data": {
      "text/plain": [
       "['a', 's', 'v', 'b', 'g']"
      ]
     },
     "execution_count": 2,
     "metadata": {},
     "output_type": "execute_result"
    }
   ],
   "source": [
    "favourite_food= []\n",
    "a = 0\n",
    "while a<5:\n",
    "    ff = input(\"Favourite Food: press q to quit \")\n",
    "    if ff ==\"q\":\n",
    "        break\n",
    "    else:\n",
    "        favourite_food.append(ff)\n",
    "        a+=1\n",
    "favourite_food"
   ]
  },
  {
   "cell_type": "code",
   "execution_count": 10,
   "id": "c859fc99-2aa0-42ce-a751-3ccdb5ad4490",
   "metadata": {},
   "outputs": [
    {
     "name": "stdin",
     "output_type": "stream",
     "text": [
      "Favourite Food: press q to quit  q\n"
     ]
    },
    {
     "data": {
      "text/plain": [
       "[]"
      ]
     },
     "execution_count": 10,
     "metadata": {},
     "output_type": "execute_result"
    }
   ],
   "source": [
    "favourite_food= []\n",
    "flag = True\n",
    "while flag:\n",
    "    ff = input(\"Favourite Food: press q to quit \")\n",
    "    if ff ==\"q\":\n",
    "        flag= False\n",
    "    else:\n",
    "        favourite_food.append(ff)\n",
    "        a+=1\n",
    "favourite_food"
   ]
  },
  {
   "cell_type": "markdown",
   "id": "9fb5964f-1ac8-4be9-82e1-36ea56fa2bb7",
   "metadata": {},
   "source": [
    "# Functions\n",
    "         - Open functions >> print, type input, len, range, id, \n",
    "         - class function >> list function, dic, set tuple, strng\n",
    "         - user defined function: "
   ]
  },
  {
   "cell_type": "code",
   "execution_count": 92,
   "id": "b4c62f01-5b1d-452a-a737-6e5983f9edab",
   "metadata": {},
   "outputs": [],
   "source": [
    "def greeteveryone():\n",
    "    print(\"Welcome!\")"
   ]
  },
  {
   "cell_type": "code",
   "execution_count": 24,
   "id": "ec2dc8e5-8ba9-45d2-b218-d005c86c532c",
   "metadata": {},
   "outputs": [
    {
     "name": "stdout",
     "output_type": "stream",
     "text": [
      "Welcome!\n"
     ]
    }
   ],
   "source": [
    "greeteveryone()"
   ]
  },
  {
   "cell_type": "code",
   "execution_count": 94,
   "id": "5c960914-9e6e-4890-aa2e-a591cecebe7a",
   "metadata": {},
   "outputs": [],
   "source": [
    "def add():\n",
    "    a =10\n",
    "    b = 20\n",
    "    print(a+b)"
   ]
  },
  {
   "cell_type": "code",
   "execution_count": 96,
   "id": "c9ac2d76-da59-4ac5-b1e2-a9256db125d3",
   "metadata": {},
   "outputs": [
    {
     "name": "stdout",
     "output_type": "stream",
     "text": [
      "30\n"
     ]
    }
   ],
   "source": [
    "add()"
   ]
  },
  {
   "cell_type": "code",
   "execution_count": 98,
   "id": "3d0cfe09-b785-4ad3-80e8-e789d8a8f3d3",
   "metadata": {},
   "outputs": [
    {
     "name": "stdout",
     "output_type": "stream",
     "text": [
      "30\n"
     ]
    }
   ],
   "source": [
    "add()"
   ]
  },
  {
   "cell_type": "code",
   "execution_count": 102,
   "id": "5d8e5de1-812c-413c-a247-9104508c46c1",
   "metadata": {},
   "outputs": [],
   "source": [
    "# parameter less function\n",
    "# parameterised function\n",
    "def greeteveryone(name):##parameter\n",
    "    print(f\"Welcome Mr.{name}!\")"
   ]
  },
  {
   "cell_type": "code",
   "execution_count": 104,
   "id": "b64dc02e-5755-4d90-9b73-2028211f2c9c",
   "metadata": {},
   "outputs": [
    {
     "ename": "TypeError",
     "evalue": "greeteveryone() missing 1 required positional argument: 'name'",
     "output_type": "error",
     "traceback": [
      "\u001b[1;31m---------------------------------------------------------------------------\u001b[0m",
      "\u001b[1;31mTypeError\u001b[0m                                 Traceback (most recent call last)",
      "Cell \u001b[1;32mIn[104], line 1\u001b[0m\n\u001b[1;32m----> 1\u001b[0m greeteveryone()\n",
      "\u001b[1;31mTypeError\u001b[0m: greeteveryone() missing 1 required positional argument: 'name'"
     ]
    }
   ],
   "source": [
    "greeteveryone()"
   ]
  },
  {
   "cell_type": "code",
   "execution_count": 106,
   "id": "ef3f53f2-7856-4e28-8f88-e7bd11b76dd9",
   "metadata": {},
   "outputs": [
    {
     "name": "stdout",
     "output_type": "stream",
     "text": [
      "Welcome Mr.Bilal!\n"
     ]
    }
   ],
   "source": [
    "greeteveryone('Bilal')#argument"
   ]
  },
  {
   "cell_type": "code",
   "execution_count": 108,
   "id": "fdbcd274-994c-4493-b9a1-d7d933597fa7",
   "metadata": {},
   "outputs": [
    {
     "name": "stdout",
     "output_type": "stream",
     "text": [
      "Welcome Mr.Jamal!\n"
     ]
    }
   ],
   "source": [
    "greeteveryone('Jamal')#argument"
   ]
  },
  {
   "cell_type": "code",
   "execution_count": 110,
   "id": "17963412-29fa-4705-9ca5-acf042704588",
   "metadata": {},
   "outputs": [
    {
     "name": "stdout",
     "output_type": "stream",
     "text": [
      "Welcome Mr.Nasir!\n"
     ]
    }
   ],
   "source": [
    "greeteveryone(\"Nasir\")"
   ]
  },
  {
   "cell_type": "code",
   "execution_count": 112,
   "id": "9eb3f8a6-2d0b-40bc-885d-1da712c90afe",
   "metadata": {},
   "outputs": [],
   "source": [
    "def add(a,b):\n",
    "    print(a+b)"
   ]
  },
  {
   "cell_type": "code",
   "execution_count": 114,
   "id": "8a0b9f2c-c5cb-4286-815c-b4addcadc63f",
   "metadata": {},
   "outputs": [
    {
     "ename": "TypeError",
     "evalue": "add() missing 2 required positional arguments: 'a' and 'b'",
     "output_type": "error",
     "traceback": [
      "\u001b[1;31m---------------------------------------------------------------------------\u001b[0m",
      "\u001b[1;31mTypeError\u001b[0m                                 Traceback (most recent call last)",
      "Cell \u001b[1;32mIn[114], line 1\u001b[0m\n\u001b[1;32m----> 1\u001b[0m add()\n",
      "\u001b[1;31mTypeError\u001b[0m: add() missing 2 required positional arguments: 'a' and 'b'"
     ]
    }
   ],
   "source": [
    "add()"
   ]
  },
  {
   "cell_type": "code",
   "execution_count": 116,
   "id": "627cbb5e-66d9-413a-b5fc-6f7037e13cd9",
   "metadata": {},
   "outputs": [
    {
     "name": "stdout",
     "output_type": "stream",
     "text": [
      "5\n"
     ]
    }
   ],
   "source": [
    "add(2,3)"
   ]
  },
  {
   "cell_type": "code",
   "execution_count": 118,
   "id": "f9e2cb7d-a344-4c68-8637-8ddbaa2f6ac8",
   "metadata": {},
   "outputs": [
    {
     "name": "stdout",
     "output_type": "stream",
     "text": [
      "11\n"
     ]
    }
   ],
   "source": [
    "add(5,6)"
   ]
  },
  {
   "cell_type": "code",
   "execution_count": 120,
   "id": "22c06829-7616-4a9d-a5b1-137e9f743927",
   "metadata": {},
   "outputs": [
    {
     "name": "stdout",
     "output_type": "stream",
     "text": [
      "hassannasir\n"
     ]
    }
   ],
   "source": [
    "add(\"hassan\", \"nasir\")"
   ]
  },
  {
   "cell_type": "code",
   "execution_count": 122,
   "id": "bb285ef4-97f4-47d0-a5d4-06f4f19a2521",
   "metadata": {},
   "outputs": [
    {
     "ename": "TypeError",
     "evalue": "add() takes 2 positional arguments but 3 were given",
     "output_type": "error",
     "traceback": [
      "\u001b[1;31m---------------------------------------------------------------------------\u001b[0m",
      "\u001b[1;31mTypeError\u001b[0m                                 Traceback (most recent call last)",
      "Cell \u001b[1;32mIn[122], line 1\u001b[0m\n\u001b[1;32m----> 1\u001b[0m add(\u001b[38;5;241m2\u001b[39m,\u001b[38;5;241m3\u001b[39m,\u001b[38;5;241m4\u001b[39m)\n",
      "\u001b[1;31mTypeError\u001b[0m: add() takes 2 positional arguments but 3 were given"
     ]
    }
   ],
   "source": [
    "add(2,3,4)"
   ]
  },
  {
   "cell_type": "code",
   "execution_count": 124,
   "id": "22fdb99d-249c-4fbb-b2b4-c92f04246b02",
   "metadata": {},
   "outputs": [
    {
     "ename": "SyntaxError",
     "evalue": "parameter without a default follows parameter with a default (3780382420.py, line 1)",
     "output_type": "error",
     "traceback": [
      "\u001b[1;36m  Cell \u001b[1;32mIn[124], line 1\u001b[1;36m\u001b[0m\n\u001b[1;33m    def add(a,b,c=100,d):# default value\u001b[0m\n\u001b[1;37m                      ^\u001b[0m\n\u001b[1;31mSyntaxError\u001b[0m\u001b[1;31m:\u001b[0m parameter without a default follows parameter with a default\n"
     ]
    }
   ],
   "source": [
    "def add(a,b,c=100,d):# default value\n",
    "    print(a+b+c+d)"
   ]
  },
  {
   "cell_type": "code",
   "execution_count": 63,
   "id": "b9326c66-9171-4c93-98f8-6e6236edbd09",
   "metadata": {},
   "outputs": [],
   "source": [
    "def add(a,b,d,c=100):# default value\n",
    "    print(a+b+c+d)"
   ]
  },
  {
   "cell_type": "code",
   "execution_count": 65,
   "id": "c85c7d35-1ce7-4c96-bb7f-370d22062f6e",
   "metadata": {},
   "outputs": [
    {
     "name": "stdout",
     "output_type": "stream",
     "text": [
      "10\n"
     ]
    }
   ],
   "source": [
    "add(1,2,3,4)"
   ]
  },
  {
   "cell_type": "code",
   "execution_count": 67,
   "id": "07fd3f80-d04f-4943-843e-a5285cca7200",
   "metadata": {},
   "outputs": [
    {
     "name": "stdout",
     "output_type": "stream",
     "text": [
      "106\n"
     ]
    }
   ],
   "source": [
    "add(1,2,3)"
   ]
  },
  {
   "cell_type": "code",
   "execution_count": 69,
   "id": "32d47cb2-b38a-4e4c-a907-e6f9162dad92",
   "metadata": {},
   "outputs": [],
   "source": [
    "def add(a=0,b=0,d=0,c=0):# default value\n",
    "    print(a+b+c+d)"
   ]
  },
  {
   "cell_type": "code",
   "execution_count": 79,
   "id": "e46f7cfb-d987-4a46-aff0-5d90868d8390",
   "metadata": {},
   "outputs": [
    {
     "name": "stdout",
     "output_type": "stream",
     "text": [
      "8\n"
     ]
    }
   ],
   "source": [
    "add(1,3,4)"
   ]
  },
  {
   "cell_type": "markdown",
   "id": "174b2550-25db-4f25-aa4d-293fee49871b",
   "metadata": {},
   "source": [
    "# keyword argument"
   ]
  },
  {
   "cell_type": "code",
   "execution_count": 82,
   "id": "2e3d4e4a-fdae-4d3b-8683-912d55981655",
   "metadata": {},
   "outputs": [],
   "source": [
    "def generate_profile(name, age, qual, prof, gender):\n",
    "    profile={'name':name, 'age':age, \"qualification\":qual, 'profession':prof,\n",
    "            'gender':gender}\n",
    "    print(profile)"
   ]
  },
  {
   "cell_type": "code",
   "execution_count": 84,
   "id": "4fb5c9b8-6899-417d-a510-65ebe03166dc",
   "metadata": {},
   "outputs": [
    {
     "name": "stdout",
     "output_type": "stream",
     "text": [
      "{'name': 'Shabana', 'age': '23', 'qualification': 'MBBS', 'profession': 'Doctor', 'gender': 'Female'}\n"
     ]
    }
   ],
   "source": [
    "generate_profile(age='23',prof=\"Doctor\",gender='Female', name=\"Shabana\",\n",
    "                qual=\"MBBS\")"
   ]
  },
  {
   "cell_type": "code",
   "execution_count": 88,
   "id": "6c854f0c-ec0d-4e27-8b23-403083c5fcab",
   "metadata": {},
   "outputs": [
    {
     "ename": "TypeError",
     "evalue": "generate_profile() got multiple values for argument 'age'",
     "output_type": "error",
     "traceback": [
      "\u001b[1;31m---------------------------------------------------------------------------\u001b[0m",
      "\u001b[1;31mTypeError\u001b[0m                                 Traceback (most recent call last)",
      "Cell \u001b[1;32mIn[88], line 1\u001b[0m\n\u001b[1;32m----> 1\u001b[0m generate_profile(\u001b[38;5;124m'\u001b[39m\u001b[38;5;124mbilal\u001b[39m\u001b[38;5;124m'\u001b[39m, \u001b[38;5;124m\"\u001b[39m\u001b[38;5;124mMatric\u001b[39m\u001b[38;5;124m\"\u001b[39m, \u001b[38;5;124m'\u001b[39m\u001b[38;5;124mPythonDev\u001b[39m\u001b[38;5;124m'\u001b[39m, gender\u001b[38;5;241m=\u001b[39m\u001b[38;5;124m'\u001b[39m\u001b[38;5;124mmale\u001b[39m\u001b[38;5;124m'\u001b[39m,age\u001b[38;5;241m=\u001b[39m\u001b[38;5;241m23\u001b[39m)\n",
      "\u001b[1;31mTypeError\u001b[0m: generate_profile() got multiple values for argument 'age'"
     ]
    }
   ],
   "source": [
    "generate_profile('bilal', \"Matric\", 'PythonDev', gender='male',age=23)"
   ]
  },
  {
   "cell_type": "markdown",
   "id": "9770a1e1-694e-4263-8806-6af0592c0039",
   "metadata": {},
   "source": [
    "# Arbitrary Arguments"
   ]
  },
  {
   "cell_type": "code",
   "execution_count": 165,
   "id": "2c6e99f0-5fce-4e97-9c60-094af8f1d85b",
   "metadata": {},
   "outputs": [],
   "source": [
    "def add(a,b=0, *other):\n",
    "    print(a+b+sum(other))"
   ]
  },
  {
   "cell_type": "code",
   "execution_count": 167,
   "id": "62b64a82-3052-40a7-a6c7-37e9ef32218e",
   "metadata": {},
   "outputs": [
    {
     "name": "stdout",
     "output_type": "stream",
     "text": [
      "84\n"
     ]
    }
   ],
   "source": [
    "add(11,2,3,4,5,5,6,7,7,8,8,9,9,0)"
   ]
  },
  {
   "cell_type": "code",
   "execution_count": 161,
   "id": "9363cbf2-09b9-4762-b967-50354a2abcc3",
   "metadata": {},
   "outputs": [
    {
     "name": "stdout",
     "output_type": "stream",
     "text": [
      "1\n",
      "2\n",
      "(3, 4, 5, 6, 7, 8, 9, 10)\n"
     ]
    },
    {
     "ename": "TypeError",
     "evalue": "unsupported operand type(s) for +: 'int' and 'tuple'",
     "output_type": "error",
     "traceback": [
      "\u001b[1;31m---------------------------------------------------------------------------\u001b[0m",
      "\u001b[1;31mTypeError\u001b[0m                                 Traceback (most recent call last)",
      "Cell \u001b[1;32mIn[161], line 1\u001b[0m\n\u001b[1;32m----> 1\u001b[0m add(\u001b[38;5;241m1\u001b[39m,\u001b[38;5;241m2\u001b[39m,\u001b[38;5;241m3\u001b[39m,\u001b[38;5;241m4\u001b[39m,\u001b[38;5;241m5\u001b[39m,\u001b[38;5;241m6\u001b[39m,\u001b[38;5;241m7\u001b[39m,\u001b[38;5;241m8\u001b[39m,\u001b[38;5;241m9\u001b[39m,\u001b[38;5;241m10\u001b[39m)\n",
      "Cell \u001b[1;32mIn[147], line 5\u001b[0m, in \u001b[0;36madd\u001b[1;34m(a, b, *other)\u001b[0m\n\u001b[0;32m      3\u001b[0m \u001b[38;5;28mprint\u001b[39m(b)\n\u001b[0;32m      4\u001b[0m \u001b[38;5;28mprint\u001b[39m(other)\n\u001b[1;32m----> 5\u001b[0m \u001b[38;5;28mprint\u001b[39m(a\u001b[38;5;241m+\u001b[39mb\u001b[38;5;241m+\u001b[39mother)\n",
      "\u001b[1;31mTypeError\u001b[0m: unsupported operand type(s) for +: 'int' and 'tuple'"
     ]
    }
   ],
   "source": [
    "add(1,2,3,4,5,6,7,8,9,10)"
   ]
  },
  {
   "cell_type": "code",
   "execution_count": 155,
   "id": "e31d6b2c-cbc8-4aa7-b988-ed25330610a0",
   "metadata": {},
   "outputs": [
    {
     "data": {
      "text/plain": [
       "52"
      ]
     },
     "execution_count": 155,
     "metadata": {},
     "output_type": "execute_result"
    }
   ],
   "source": [
    "sum((3, 4, 5, 6, 7, 8, 9, 10))"
   ]
  },
  {
   "cell_type": "code",
   "execution_count": 169,
   "id": "27dcd1a3-44e1-4461-82aa-205152aa70b1",
   "metadata": {},
   "outputs": [],
   "source": [
    "def profile_builder(name, age, qualification, income, *other_info):\n",
    "    profile = {}\n",
    "    profile['name'] = name\n",
    "    profile['age'] = age\n",
    "    profile['qualification'] = qualification\n",
    "    profile['income'] = income\n",
    "    profile['other_info'] = other_info\n",
    "\n",
    "    print(profile)"
   ]
  },
  {
   "cell_type": "code",
   "execution_count": 171,
   "id": "851271f6-3cdb-4ead-837f-262a4677ccbb",
   "metadata": {},
   "outputs": [
    {
     "name": "stdout",
     "output_type": "stream",
     "text": [
      "{'name': 'arish', 'age': 24, 'qualification': 'Graduate', 'income': 40000, 'other_info': ('karachi', '5.8\"', 'Fair', 'datascientsit')}\n"
     ]
    }
   ],
   "source": [
    "profile_builder('arish',24,'Graduate', 40000, 'karachi', '5.8\"', 'Fair', 'datascientsit')"
   ]
  },
  {
   "cell_type": "code",
   "execution_count": 181,
   "id": "26b0fceb-5c79-4edb-84f0-f7bb34a00faf",
   "metadata": {},
   "outputs": [],
   "source": [
    "def profile_builder(name, age, qualification, income, **other_info):\n",
    "    profile = {}\n",
    "    profile['name'] = name\n",
    "    profile['age'] = age\n",
    "    profile['qualification'] = qualification\n",
    "    profile['income'] = income\n",
    "    profile['other_info'] = other_info\n",
    "\n",
    "    print(profile)"
   ]
  },
  {
   "cell_type": "code",
   "execution_count": 183,
   "id": "0e86fb3b-707e-4d7e-80a9-5340f24029fd",
   "metadata": {},
   "outputs": [
    {
     "name": "stdout",
     "output_type": "stream",
     "text": [
      "{'name': 'arish', 'age': 24, 'qualification': 'Graduate', 'income': 40000, 'other_info': {'city': 'karachi', 'height': '5.8\"', 'complexion': 'Fair', 'profession': 'datascientsit'}}\n"
     ]
    }
   ],
   "source": [
    "profile_builder('arish',24,'Graduate', 40000, city='karachi', height='5.8\"', complexion='Fair', profession='datascientsit')"
   ]
  },
  {
   "cell_type": "code",
   "execution_count": 193,
   "id": "b901d738-a39c-4451-a4f0-053d75babd86",
   "metadata": {},
   "outputs": [],
   "source": [
    "def profile_builder(name, age, qualification, income, **other_info):\n",
    "    profile = {}\n",
    "    profile['name'] = name\n",
    "    profile['age'] = age\n",
    "    profile['qualification'] = qualification\n",
    "    profile['income'] = income\n",
    "    # profile['city'] = other_info['city']\n",
    "    profile.update(other_info)\n",
    "    # profile['other'] = other_info\n",
    "\n",
    "    print(profile)"
   ]
  },
  {
   "cell_type": "code",
   "execution_count": 195,
   "id": "7feaa6fc-44b6-42a2-9225-e86816917dd6",
   "metadata": {},
   "outputs": [
    {
     "name": "stdout",
     "output_type": "stream",
     "text": [
      "{'name': 'arish', 'age': 24, 'qualification': 'Graduate', 'income': 40000, 'city': 'karachi', 'height': '5.8\"', 'complexion': 'Fair', 'profession': 'datascientsit'}\n"
     ]
    }
   ],
   "source": [
    "profile_builder('arish',24,'Graduate', 40000, city='karachi', height='5.8\"', complexion='Fair', profession='datascientsit')"
   ]
  },
  {
   "cell_type": "code",
   "execution_count": null,
   "id": "3c123b3c-5384-4400-a617-dde811e7a75e",
   "metadata": {},
   "outputs": [],
   "source": []
  }
 ],
 "metadata": {
  "kernelspec": {
   "display_name": "Python 3 (ipykernel)",
   "language": "python",
   "name": "python3"
  },
  "language_info": {
   "codemirror_mode": {
    "name": "ipython",
    "version": 3
   },
   "file_extension": ".py",
   "mimetype": "text/x-python",
   "name": "python",
   "nbconvert_exporter": "python",
   "pygments_lexer": "ipython3",
   "version": "3.12.7"
  }
 },
 "nbformat": 4,
 "nbformat_minor": 5
}
