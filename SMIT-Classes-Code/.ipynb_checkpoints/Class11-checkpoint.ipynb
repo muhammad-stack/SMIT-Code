{
 "cells": [
  {
   "cell_type": "markdown",
   "metadata": {
    "id": "tT9NnD8hWB8R"
   },
   "source": [
    "The roots of the quadratic equation ax2 + bx + c = 0, a ≠ 0 are given by the following\n",
    "formula:\n",
    "In this formula, the term b2 - 4ac is called the discriminant. If b2 - 4ac = 0, then the\n",
    "equation has two equal roots.\n",
    "If b2 - 4ac > 0, the equation has two real roots. If b2 - 4ac < 0, the equation has two\n",
    "complex roots.\n",
    "Write a program that prompts the user to input the value of a (the coefficient of x2), b\n",
    "(the coefficient of x), and c (the constant term) and outputs the roots of the quadratic\n",
    "equation."
   ]
  },
  {
   "cell_type": "code",
   "execution_count": 1,
   "metadata": {
    "colab": {
     "base_uri": "https://localhost:8080/",
     "height": 141
    },
    "executionInfo": {
     "elapsed": 631,
     "status": "error",
     "timestamp": 1733746593659,
     "user": {
      "displayName": "Nasir Hussain",
      "userId": "12080318097281941003"
     },
     "user_tz": -300
    },
    "id": "AbsXWnoZVr-s",
    "outputId": "44cdacb1-6350-4de5-b9cc-e1a675ce6da4"
   },
   "outputs": [
    {
     "ename": "NameError",
     "evalue": "name 'b' is not defined",
     "output_type": "error",
     "traceback": [
      "\u001b[1;31m---------------------------------------------------------------------------\u001b[0m",
      "\u001b[1;31mNameError\u001b[0m                                 Traceback (most recent call last)",
      "Cell \u001b[1;32mIn[1], line 1\u001b[0m\n\u001b[1;32m----> 1\u001b[0m x1,x2 \u001b[38;5;241m=\u001b[39m \u001b[38;5;241m-\u001b[39m\u001b[43mb\u001b[49m\u001b[38;5;241m+\u001b[39m(b\u001b[38;5;241m*\u001b[39m\u001b[38;5;241m*\u001b[39m\u001b[38;5;241m2\u001b[39m\u001b[38;5;241m-\u001b[39m\u001b[38;5;241m4\u001b[39m\u001b[38;5;241m*\u001b[39ma\u001b[38;5;241m*\u001b[39mc)\u001b[38;5;241m*\u001b[39m\u001b[38;5;241m*\u001b[39m\u001b[38;5;241m0.5\u001b[39m\u001b[38;5;241m/\u001b[39m(\u001b[38;5;241m2\u001b[39m\u001b[38;5;241m*\u001b[39ma),\u001b[38;5;241m-\u001b[39mb\u001b[38;5;241m-\u001b[39m(b\u001b[38;5;241m*\u001b[39m\u001b[38;5;241m*\u001b[39m\u001b[38;5;241m2\u001b[39m\u001b[38;5;241m-\u001b[39m\u001b[38;5;241m4\u001b[39m\u001b[38;5;241m*\u001b[39ma\u001b[38;5;241m*\u001b[39mc)\u001b[38;5;241m*\u001b[39m\u001b[38;5;241m*\u001b[39m\u001b[38;5;241m0.5\u001b[39m\u001b[38;5;241m/\u001b[39m(\u001b[38;5;241m2\u001b[39m\u001b[38;5;241m*\u001b[39ma)\n",
      "\u001b[1;31mNameError\u001b[0m: name 'b' is not defined"
     ]
    }
   ],
   "source": [
    "x1,x2 = -b+(b**2-4*a*c)**0.5/(2*a),-b-(b**2-4*a*c)**0.5/(2*a)\n"
   ]
  },
  {
   "cell_type": "code",
   "execution_count": 2,
   "metadata": {
    "colab": {
     "base_uri": "https://localhost:8080/",
     "height": 35
    },
    "executionInfo": {
     "elapsed": 329,
     "status": "ok",
     "timestamp": 1733746915527,
     "user": {
      "displayName": "Nasir Hussain",
      "userId": "12080318097281941003"
     },
     "user_tz": -300
    },
    "id": "Ct6zOn_TWV8U",
    "outputId": "8ba89b08-e54c-4dab-d2a3-c0e84a46e367"
   },
   "outputs": [
    {
     "data": {
      "text/plain": [
       "'Imaginary'"
      ]
     },
     "execution_count": 2,
     "metadata": {},
     "output_type": "execute_result"
    }
   ],
   "source": [
    "def dicrimant(a,b,c):\n",
    "  if (b**2 -4*a*c) > 0:\n",
    "    return \"Real\"\n",
    "  elif (b**2 -4*a*c) == 0:\n",
    "    return \"Egual\"\n",
    "  else:\n",
    "    return \"Imaginary\"\n",
    "dicrimant(1,2,5)"
   ]
  },
  {
   "cell_type": "code",
   "execution_count": null,
   "metadata": {
    "id": "G0u0-KVuXifG"
   },
   "outputs": [],
   "source": []
  },
  {
   "cell_type": "markdown",
   "metadata": {
    "id": "iB9BL3SvX27j"
   },
   "source": [
    "**Modules**"
   ]
  },
  {
   "cell_type": "code",
   "execution_count": 4,
   "metadata": {
    "executionInfo": {
     "elapsed": 344,
     "status": "ok",
     "timestamp": 1733747005662,
     "user": {
      "displayName": "Nasir Hussain",
      "userId": "12080318097281941003"
     },
     "user_tz": -300
    },
    "id": "lhsjLTCPX6Ok"
   },
   "outputs": [],
   "source": [
    "import math"
   ]
  },
  {
   "cell_type": "code",
   "execution_count": 5,
   "metadata": {
    "executionInfo": {
     "elapsed": 2,
     "status": "ok",
     "timestamp": 1733747015482,
     "user": {
      "displayName": "Nasir Hussain",
      "userId": "12080318097281941003"
     },
     "user_tz": -300
    },
    "id": "YKDETkAnX9He"
   },
   "outputs": [],
   "source": [
    "import datetime"
   ]
  },
  {
   "cell_type": "code",
   "execution_count": 6,
   "metadata": {
    "executionInfo": {
     "elapsed": 3,
     "status": "ok",
     "timestamp": 1733747018752,
     "user": {
      "displayName": "Nasir Hussain",
      "userId": "12080318097281941003"
     },
     "user_tz": -300
    },
    "id": "7yDXTDrbX_px"
   },
   "outputs": [],
   "source": [
    "import os"
   ]
  },
  {
   "cell_type": "code",
   "execution_count": 7,
   "metadata": {
    "executionInfo": {
     "elapsed": 385,
     "status": "ok",
     "timestamp": 1733747119839,
     "user": {
      "displayName": "Nasir Hussain",
      "userId": "12080318097281941003"
     },
     "user_tz": -300
    },
    "id": "xq4OSt1CYAj9"
   },
   "outputs": [],
   "source": []
  },
  {
   "cell_type": "code",
   "execution_count": 3,
   "metadata": {
    "executionInfo": {
     "elapsed": 332,
     "status": "ok",
     "timestamp": 1733747872553,
     "user": {
      "displayName": "Nasir Hussain",
      "userId": "12080318097281941003"
     },
     "user_tz": -300
    },
    "id": "E6Qzd87UYVPJ"
   },
   "outputs": [
    {
     "ename": "ModuleNotFoundError",
     "evalue": "No module named 'myutility'",
     "output_type": "error",
     "traceback": [
      "\u001b[1;31m---------------------------------------------------------------------------\u001b[0m",
      "\u001b[1;31mModuleNotFoundError\u001b[0m                       Traceback (most recent call last)",
      "Cell \u001b[1;32mIn[3], line 1\u001b[0m\n\u001b[1;32m----> 1\u001b[0m \u001b[38;5;28;01mimport\u001b[39;00m \u001b[38;5;21;01mmyutility\u001b[39;00m\n",
      "\u001b[1;31mModuleNotFoundError\u001b[0m: No module named 'myutility'"
     ]
    }
   ],
   "source": [
    "import myutility"
   ]
  },
  {
   "cell_type": "code",
   "execution_count": 4,
   "metadata": {
    "executionInfo": {
     "elapsed": 330,
     "status": "ok",
     "timestamp": 1733747868055,
     "user": {
      "displayName": "Nasir Hussain",
      "userId": "12080318097281941003"
     },
     "user_tz": -300
    },
    "id": "U3NMLyDibFYD"
   },
   "outputs": [
    {
     "ename": "Exception",
     "evalue": "File `'myutility.py'` not found.",
     "output_type": "error",
     "traceback": [
      "\u001b[1;31m---------------------------------------------------------------------------\u001b[0m",
      "\u001b[1;31mOSError\u001b[0m                                   Traceback (most recent call last)",
      "File \u001b[1;32mc:\\Users\\User\\anaconda3\\envs\\smit-env\\Lib\\site-packages\\IPython\\core\\magics\\execution.py:720\u001b[0m, in \u001b[0;36mExecutionMagics.run\u001b[1;34m(self, parameter_s, runner, file_finder)\u001b[0m\n\u001b[0;32m    719\u001b[0m     fpath \u001b[38;5;241m=\u001b[39m arg_lst[\u001b[38;5;241m0\u001b[39m]\n\u001b[1;32m--> 720\u001b[0m     filename \u001b[38;5;241m=\u001b[39m \u001b[43mfile_finder\u001b[49m\u001b[43m(\u001b[49m\u001b[43mfpath\u001b[49m\u001b[43m)\u001b[49m\n\u001b[0;32m    721\u001b[0m \u001b[38;5;28;01mexcept\u001b[39;00m \u001b[38;5;167;01mIndexError\u001b[39;00m \u001b[38;5;28;01mas\u001b[39;00m e:\n",
      "File \u001b[1;32mc:\\Users\\User\\anaconda3\\envs\\smit-env\\Lib\\site-packages\\IPython\\utils\\path.py:91\u001b[0m, in \u001b[0;36mget_py_filename\u001b[1;34m(name)\u001b[0m\n\u001b[0;32m     90\u001b[0m         \u001b[38;5;28;01mreturn\u001b[39;00m py_name\n\u001b[1;32m---> 91\u001b[0m \u001b[38;5;28;01mraise\u001b[39;00m \u001b[38;5;167;01mIOError\u001b[39;00m(\u001b[38;5;124m\"\u001b[39m\u001b[38;5;124mFile `\u001b[39m\u001b[38;5;132;01m%r\u001b[39;00m\u001b[38;5;124m` not found.\u001b[39m\u001b[38;5;124m\"\u001b[39m \u001b[38;5;241m%\u001b[39m name)\n",
      "\u001b[1;31mOSError\u001b[0m: File `'myutility.py'` not found.",
      "\nThe above exception was the direct cause of the following exception:\n",
      "\u001b[1;31mException\u001b[0m                                 Traceback (most recent call last)",
      "Cell \u001b[1;32mIn[4], line 1\u001b[0m\n\u001b[1;32m----> 1\u001b[0m \u001b[43mget_ipython\u001b[49m\u001b[43m(\u001b[49m\u001b[43m)\u001b[49m\u001b[38;5;241;43m.\u001b[39;49m\u001b[43mrun_line_magic\u001b[49m\u001b[43m(\u001b[49m\u001b[38;5;124;43m'\u001b[39;49m\u001b[38;5;124;43mrun\u001b[39;49m\u001b[38;5;124;43m'\u001b[39;49m\u001b[43m,\u001b[49m\u001b[43m \u001b[49m\u001b[38;5;124;43m'\u001b[39;49m\u001b[38;5;124;43mmyutility.py\u001b[39;49m\u001b[38;5;124;43m'\u001b[39;49m\u001b[43m)\u001b[49m\n",
      "File \u001b[1;32mc:\\Users\\User\\anaconda3\\envs\\smit-env\\Lib\\site-packages\\IPython\\core\\interactiveshell.py:2480\u001b[0m, in \u001b[0;36mInteractiveShell.run_line_magic\u001b[1;34m(self, magic_name, line, _stack_depth)\u001b[0m\n\u001b[0;32m   2478\u001b[0m     kwargs[\u001b[38;5;124m'\u001b[39m\u001b[38;5;124mlocal_ns\u001b[39m\u001b[38;5;124m'\u001b[39m] \u001b[38;5;241m=\u001b[39m \u001b[38;5;28mself\u001b[39m\u001b[38;5;241m.\u001b[39mget_local_scope(stack_depth)\n\u001b[0;32m   2479\u001b[0m \u001b[38;5;28;01mwith\u001b[39;00m \u001b[38;5;28mself\u001b[39m\u001b[38;5;241m.\u001b[39mbuiltin_trap:\n\u001b[1;32m-> 2480\u001b[0m     result \u001b[38;5;241m=\u001b[39m \u001b[43mfn\u001b[49m\u001b[43m(\u001b[49m\u001b[38;5;241;43m*\u001b[39;49m\u001b[43margs\u001b[49m\u001b[43m,\u001b[49m\u001b[43m \u001b[49m\u001b[38;5;241;43m*\u001b[39;49m\u001b[38;5;241;43m*\u001b[39;49m\u001b[43mkwargs\u001b[49m\u001b[43m)\u001b[49m\n\u001b[0;32m   2482\u001b[0m \u001b[38;5;66;03m# The code below prevents the output from being displayed\u001b[39;00m\n\u001b[0;32m   2483\u001b[0m \u001b[38;5;66;03m# when using magics with decorator @output_can_be_silenced\u001b[39;00m\n\u001b[0;32m   2484\u001b[0m \u001b[38;5;66;03m# when the last Python token in the expression is a ';'.\u001b[39;00m\n\u001b[0;32m   2485\u001b[0m \u001b[38;5;28;01mif\u001b[39;00m \u001b[38;5;28mgetattr\u001b[39m(fn, magic\u001b[38;5;241m.\u001b[39mMAGIC_OUTPUT_CAN_BE_SILENCED, \u001b[38;5;28;01mFalse\u001b[39;00m):\n",
      "File \u001b[1;32mc:\\Users\\User\\anaconda3\\envs\\smit-env\\Lib\\site-packages\\IPython\\core\\magics\\execution.py:731\u001b[0m, in \u001b[0;36mExecutionMagics.run\u001b[1;34m(self, parameter_s, runner, file_finder)\u001b[0m\n\u001b[0;32m    729\u001b[0m     \u001b[38;5;28;01mif\u001b[39;00m os\u001b[38;5;241m.\u001b[39mname \u001b[38;5;241m==\u001b[39m \u001b[38;5;124m'\u001b[39m\u001b[38;5;124mnt\u001b[39m\u001b[38;5;124m'\u001b[39m \u001b[38;5;129;01mand\u001b[39;00m re\u001b[38;5;241m.\u001b[39mmatch(\u001b[38;5;124mr\u001b[39m\u001b[38;5;124m\"\u001b[39m\u001b[38;5;124m^\u001b[39m\u001b[38;5;124m'\u001b[39m\u001b[38;5;124m.*\u001b[39m\u001b[38;5;124m'\u001b[39m\u001b[38;5;124m$\u001b[39m\u001b[38;5;124m\"\u001b[39m,fpath):\n\u001b[0;32m    730\u001b[0m         warn(\u001b[38;5;124m'\u001b[39m\u001b[38;5;124mFor Windows, use double quotes to wrap a filename: \u001b[39m\u001b[38;5;132;01m%r\u001b[39;00m\u001b[38;5;124mun \u001b[39m\u001b[38;5;124m\"\u001b[39m\u001b[38;5;124mmypath\u001b[39m\u001b[38;5;130;01m\\\\\u001b[39;00m\u001b[38;5;124mmyfile.py\u001b[39m\u001b[38;5;124m\"\u001b[39m\u001b[38;5;124m'\u001b[39m)\n\u001b[1;32m--> 731\u001b[0m     \u001b[38;5;28;01mraise\u001b[39;00m \u001b[38;5;167;01mException\u001b[39;00m(msg) \u001b[38;5;28;01mfrom\u001b[39;00m \u001b[38;5;21;01me\u001b[39;00m\n\u001b[0;32m    732\u001b[0m \u001b[38;5;28;01mexcept\u001b[39;00m \u001b[38;5;167;01mTypeError\u001b[39;00m:\n\u001b[0;32m    733\u001b[0m     \u001b[38;5;28;01mif\u001b[39;00m fpath \u001b[38;5;129;01min\u001b[39;00m sys\u001b[38;5;241m.\u001b[39mmeta_path:\n",
      "\u001b[1;31mException\u001b[0m: File `'myutility.py'` not found."
     ]
    }
   ],
   "source": [
    "%run myutility.py"
   ]
  },
  {
   "cell_type": "code",
   "execution_count": 11,
   "metadata": {
    "colab": {
     "base_uri": "https://localhost:8080/"
    },
    "executionInfo": {
     "elapsed": 334,
     "status": "ok",
     "timestamp": 1733747927664,
     "user": {
      "displayName": "Nasir Hussain",
      "userId": "12080318097281941003"
     },
     "user_tz": -300
    },
    "id": "szuTwjbkbPwh",
    "outputId": "ead2dfab-1869-40be-fa31-c079cb8e8bdf"
   },
   "outputs": [
    {
     "data": {
      "text/plain": [
       "113"
      ]
     },
     "execution_count": 11,
     "metadata": {},
     "output_type": "execute_result"
    }
   ],
   "source": [
    "myutility.max_list([2,43,56,78,76,89,90,113])"
   ]
  },
  {
   "cell_type": "code",
   "execution_count": 12,
   "metadata": {
    "executionInfo": {
     "elapsed": 337,
     "status": "ok",
     "timestamp": 1733747972120,
     "user": {
      "displayName": "Nasir Hussain",
      "userId": "12080318097281941003"
     },
     "user_tz": -300
    },
    "id": "Q756Fnldbeb8"
   },
   "outputs": [],
   "source": [
    "from myutility import SalaryCalculator"
   ]
  },
  {
   "cell_type": "code",
   "execution_count": 13,
   "metadata": {
    "colab": {
     "base_uri": "https://localhost:8080/"
    },
    "executionInfo": {
     "elapsed": 318,
     "status": "ok",
     "timestamp": 1733747998132,
     "user": {
      "displayName": "Nasir Hussain",
      "userId": "12080318097281941003"
     },
     "user_tz": -300
    },
    "id": "e7_drQzNbpSz",
    "outputId": "2f885b56-0e8d-48b5-ffd5-d486024e4e35"
   },
   "outputs": [
    {
     "data": {
      "text/plain": [
       "20000"
      ]
     },
     "execution_count": 13,
     "metadata": {},
     "output_type": "execute_result"
    }
   ],
   "source": [
    "SalaryCalculator(10000,500)"
   ]
  },
  {
   "cell_type": "code",
   "execution_count": 16,
   "metadata": {
    "executionInfo": {
     "elapsed": 321,
     "status": "ok",
     "timestamp": 1733748242788,
     "user": {
      "displayName": "Nasir Hussain",
      "userId": "12080318097281941003"
     },
     "user_tz": -300
    },
    "id": "L0hK3CkrbvpQ"
   },
   "outputs": [],
   "source": [
    "%run myutility.py"
   ]
  },
  {
   "cell_type": "code",
   "execution_count": 18,
   "metadata": {
    "colab": {
     "base_uri": "https://localhost:8080/",
     "height": 314
    },
    "executionInfo": {
     "elapsed": 375,
     "status": "error",
     "timestamp": 1733748287503,
     "user": {
      "displayName": "Nasir Hussain",
      "userId": "12080318097281941003"
     },
     "user_tz": -300
    },
    "id": "coQGgWGKcbg_",
    "outputId": "0215e125-3310-402d-d478-ac55c68c19d3"
   },
   "outputs": [
    {
     "ename": "ImportError",
     "evalue": "cannot import name 'email' from 'myutility' (/content/myutility.py)",
     "output_type": "error",
     "traceback": [
      "\u001b[0;31m---------------------------------------------------------------------------\u001b[0m",
      "\u001b[0;31mImportError\u001b[0m                               Traceback (most recent call last)",
      "\u001b[0;32m<ipython-input-18-09e6e91ad195>\u001b[0m in \u001b[0;36m<cell line: 1>\u001b[0;34m()\u001b[0m\n\u001b[0;32m----> 1\u001b[0;31m \u001b[0;32mfrom\u001b[0m \u001b[0mmyutility\u001b[0m \u001b[0;32mimport\u001b[0m \u001b[0memail\u001b[0m\u001b[0;34m\u001b[0m\u001b[0;34m\u001b[0m\u001b[0m\n\u001b[0m",
      "\u001b[0;31mImportError\u001b[0m: cannot import name 'email' from 'myutility' (/content/myutility.py)",
      "",
      "\u001b[0;31m---------------------------------------------------------------------------\u001b[0;32m\nNOTE: If your import is failing due to a missing package, you can\nmanually install dependencies using either !pip or !apt.\n\nTo view examples of installing some common dependencies, click the\n\"Open Examples\" button below.\n\u001b[0;31m---------------------------------------------------------------------------\u001b[0m\n"
     ]
    }
   ],
   "source": [
    "from myutility import email"
   ]
  },
  {
   "cell_type": "code",
   "execution_count": null,
   "metadata": {
    "id": "hwvzaGcPcnMb"
   },
   "outputs": [],
   "source": []
  },
  {
   "cell_type": "markdown",
   "metadata": {
    "id": "jBoiJYHziZ4T"
   },
   "source": [
    "**Exception Handling**"
   ]
  },
  {
   "cell_type": "code",
   "execution_count": 22,
   "metadata": {
    "colab": {
     "base_uri": "https://localhost:8080/",
     "height": 211
    },
    "executionInfo": {
     "elapsed": 6957,
     "status": "error",
     "timestamp": 1733750180978,
     "user": {
      "displayName": "Nasir Hussain",
      "userId": "12080318097281941003"
     },
     "user_tz": -300
    },
    "id": "N2QCqgf2idYi",
    "outputId": "6b0ef388-d9bf-4a5f-c23e-aea76914ef14"
   },
   "outputs": [
    {
     "name": "stdout",
     "output_type": "stream",
     "text": [
      "Enter a number 12\n",
      "Enter another number 0\n"
     ]
    },
    {
     "ename": "ZeroDivisionError",
     "evalue": "division by zero",
     "output_type": "error",
     "traceback": [
      "\u001b[0;31m---------------------------------------------------------------------------\u001b[0m",
      "\u001b[0;31mZeroDivisionError\u001b[0m                         Traceback (most recent call last)",
      "\u001b[0;32m<ipython-input-22-306cb0cda495>\u001b[0m in \u001b[0;36m<cell line: 4>\u001b[0;34m()\u001b[0m\n\u001b[1;32m      2\u001b[0m \u001b[0mnum2\u001b[0m \u001b[0;34m=\u001b[0m \u001b[0mint\u001b[0m\u001b[0;34m(\u001b[0m\u001b[0minput\u001b[0m\u001b[0;34m(\u001b[0m\u001b[0;34m\"Enter another number \"\u001b[0m\u001b[0;34m)\u001b[0m\u001b[0;34m)\u001b[0m\u001b[0;34m\u001b[0m\u001b[0;34m\u001b[0m\u001b[0m\n\u001b[1;32m      3\u001b[0m \u001b[0;34m\u001b[0m\u001b[0m\n\u001b[0;32m----> 4\u001b[0;31m \u001b[0mprint\u001b[0m\u001b[0;34m(\u001b[0m\u001b[0mnum1\u001b[0m\u001b[0;34m/\u001b[0m\u001b[0mnum2\u001b[0m\u001b[0;34m)\u001b[0m\u001b[0;34m\u001b[0m\u001b[0;34m\u001b[0m\u001b[0m\n\u001b[0m",
      "\u001b[0;31mZeroDivisionError\u001b[0m: division by zero"
     ]
    }
   ],
   "source": [
    "num1 = int(input(\"Enter a number \"))\n",
    "num2 = int(input(\"Enter another number \"))\n",
    "\n",
    "print(num1/num2)"
   ]
  },
  {
   "cell_type": "code",
   "execution_count": 30,
   "metadata": {
    "colab": {
     "base_uri": "https://localhost:8080/"
    },
    "executionInfo": {
     "elapsed": 19895,
     "status": "ok",
     "timestamp": 1733750785869,
     "user": {
      "displayName": "Nasir Hussain",
      "userId": "12080318097281941003"
     },
     "user_tz": -300
    },
    "id": "tZFnAowXjSE3",
    "outputId": "27d5a4d2-e3b3-4bc3-9c91-2c075893a289"
   },
   "outputs": [
    {
     "name": "stdout",
     "output_type": "stream",
     "text": [
      "Enter a number True\n",
      "You can't enter a string\n"
     ]
    }
   ],
   "source": [
    "try:\n",
    "    num1 = int(input(\"Enter a number \"))\n",
    "    num2 = int(input(\"Enter another number \"))\n",
    "    print(num1/num2)\n",
    "except ZeroDivisionError:\n",
    "  print(\"You can't divide by zero\")\n",
    "except ValueError:\n",
    "  print(\"You can't enter a string\")\n"
   ]
  },
  {
   "cell_type": "code",
   "execution_count": 33,
   "metadata": {
    "colab": {
     "base_uri": "https://localhost:8080/"
    },
    "executionInfo": {
     "elapsed": 5513,
     "status": "ok",
     "timestamp": 1733751022820,
     "user": {
      "displayName": "Nasir Hussain",
      "userId": "12080318097281941003"
     },
     "user_tz": -300
    },
    "id": "cP3zMK_VlJXJ",
    "outputId": "b90aa1dd-7595-4ca3-8eb8-277afe121c3a"
   },
   "outputs": [
    {
     "name": "stdout",
     "output_type": "stream",
     "text": [
      "Enter a number 12\n",
      "Enter another number 0\n",
      "Invalid input\n"
     ]
    }
   ],
   "source": [
    "try:\n",
    "    num1 = int(input(\"Enter a number \"))\n",
    "    num2 = int(input(\"Enter another number \"))\n",
    "    print(num1/num2)\n",
    "except Exception as e:\n",
    "  print(e)"
   ]
  },
  {
   "cell_type": "code",
   "execution_count": 38,
   "metadata": {
    "colab": {
     "base_uri": "https://localhost:8080/"
    },
    "executionInfo": {
     "elapsed": 52147,
     "status": "ok",
     "timestamp": 1733751416380,
     "user": {
      "displayName": "Nasir Hussain",
      "userId": "12080318097281941003"
     },
     "user_tz": -300
    },
    "id": "lTtySTjOmyLf",
    "outputId": "57a62b2f-9032-437e-9349-86216c797763"
   },
   "outputs": [
    {
     "name": "stdout",
     "output_type": "stream",
     "text": [
      "Enter a username or press q to quitasad\n",
      "Enter a username or press q to quitsaad\n",
      "Enter a username or press q to quitasad\n",
      "Username already exists\n",
      "Enter a username or press q to quitq\n",
      "['asad', 'saad']\n"
     ]
    }
   ],
   "source": [
    "users = []\n",
    "\n",
    "while True:\n",
    "  user_name = input(\"Enter a username or press q to quit\")\n",
    "  if user_name == \"q\":\n",
    "    break\n",
    "  try:\n",
    "    if user_name in users:\n",
    "      raise Exception(\"Username already exists\")\n",
    "    users.append(user_name)\n",
    "\n",
    "  except Exception as e:\n",
    "    print(e)\n",
    "\n",
    "\n",
    "print(users)"
   ]
  },
  {
   "cell_type": "code",
   "execution_count": 45,
   "metadata": {
    "colab": {
     "base_uri": "https://localhost:8080/"
    },
    "executionInfo": {
     "elapsed": 7212,
     "status": "ok",
     "timestamp": 1733751816828,
     "user": {
      "displayName": "Nasir Hussain",
      "userId": "12080318097281941003"
     },
     "user_tz": -300
    },
    "id": "rgT3uDqbnvoY",
    "outputId": "19f3108f-0fa7-493a-8066-60805a7dec5c"
   },
   "outputs": [
    {
     "name": "stdout",
     "output_type": "stream",
     "text": [
      "Enter nameasad\n",
      "Enter your age 200\n",
      "You are too old\n"
     ]
    }
   ],
   "source": [
    "try:\n",
    "  name = input(\"Enter name\")\n",
    "  age  = int(input(\"Enter your age \"))\n",
    "\n",
    "  if age < 18 :\n",
    "    raise Exception(\"You are not old enough\")\n",
    "  elif age >=100:\n",
    "    raise Exception(\"You are too old\")\n",
    "except Exception as e:\n",
    "  print(e)\n"
   ]
  },
  {
   "cell_type": "code",
   "execution_count": 51,
   "metadata": {
    "colab": {
     "base_uri": "https://localhost:8080/"
    },
    "executionInfo": {
     "elapsed": 22780,
     "status": "ok",
     "timestamp": 1733752245933,
     "user": {
      "displayName": "Nasir Hussain",
      "userId": "12080318097281941003"
     },
     "user_tz": -300
    },
    "id": "1KZcUSEvpiI-",
    "outputId": "1e18a301-5aaa-4fed-d8fb-bc73073dd202"
   },
   "outputs": [
    {
     "name": "stdout",
     "output_type": "stream",
     "text": [
      "Enter a number 3\n",
      "Enter another number two\n",
      "invalid literal for int() with base 10: 'two'\n",
      "Koi chaly na chalay finally to chalega\n"
     ]
    }
   ],
   "source": [
    "try:\n",
    "  num1 = int(input(\"Enter a number \"))\n",
    "  num2 = int(input(\"Enter another number \"))\n",
    "\n",
    "  result = num1/num2\n",
    "\n",
    "except Exception as e:\n",
    "  print(e)\n",
    "\n",
    "\n",
    "else:\n",
    "   print(result)\n",
    "finally:\n",
    "  print(\"Koi chaly na chalay finally to chalega\")"
   ]
  },
  {
   "cell_type": "code",
   "execution_count": 1,
   "metadata": {
    "executionInfo": {
     "elapsed": 345,
     "status": "ok",
     "timestamp": 1733752016414,
     "user": {
      "displayName": "Nasir Hussain",
      "userId": "12080318097281941003"
     },
     "user_tz": -300
    },
    "id": "AvAZaSC3qtw1"
   },
   "outputs": [
    {
     "name": "stdout",
     "output_type": "stream",
     "text": [
      "4\n",
      "The final exponent of the number 2 is 4\n"
     ]
    }
   ],
   "source": [
    "try:\n",
    "    num1 = int(input(\"Enter a number \"))    \n",
    "    num2 = int(input(\"Enter the exponent  number \"))\n",
    "\n",
    "    result = 1\n",
    "    for i in range(num2):\n",
    "        result *= num2\n",
    "\n",
    "except NotImplementedError:\n",
    "    print(\"Not implemented yet\")\n",
    "\n",
    "else:\n",
    "    print(result)\n",
    "\n",
    "finally:\n",
    "    print(f\"The final exponent of the number {num1} is {result}\")"
   ]
  },
  {
   "cell_type": "code",
   "execution_count": null,
   "metadata": {},
   "outputs": [],
   "source": []
  }
 ],
 "metadata": {
  "colab": {
   "authorship_tag": "ABX9TyOe2AYmW8HVM+LUkQ+PzLW4",
   "provenance": []
  },
  "kernelspec": {
   "display_name": "smit-env",
   "language": "python",
   "name": "python3"
  },
  "language_info": {
   "codemirror_mode": {
    "name": "ipython",
    "version": 3
   },
   "file_extension": ".py",
   "mimetype": "text/x-python",
   "name": "python",
   "nbconvert_exporter": "python",
   "pygments_lexer": "ipython3",
   "version": "3.12.8"
  }
 },
 "nbformat": 4,
 "nbformat_minor": 0
}
