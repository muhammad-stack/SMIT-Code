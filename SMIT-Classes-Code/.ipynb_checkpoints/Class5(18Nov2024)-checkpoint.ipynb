{
 "cells": [
  {
   "cell_type": "markdown",
   "id": "7bdfa588-b349-4857-aad3-da2e1fa8b554",
   "metadata": {},
   "source": [
    "# List in List"
   ]
  },
  {
   "cell_type": "code",
   "execution_count": 3,
   "id": "dbe2d79b-46f5-4e68-97c0-7d61077cf6e8",
   "metadata": {},
   "outputs": [],
   "source": [
    "numbers  = [2,3,4,5, [11,12,13,14], 7,8]"
   ]
  },
  {
   "cell_type": "code",
   "execution_count": 7,
   "id": "09db7386-115c-42c7-811d-d906ab8f8f49",
   "metadata": {},
   "outputs": [
    {
     "data": {
      "text/plain": [
       "[2, 3, 4, 5, [11, 12, 13, 14], 7, 8]"
      ]
     },
     "execution_count": 7,
     "metadata": {},
     "output_type": "execute_result"
    }
   ],
   "source": [
    "numbers"
   ]
  },
  {
   "cell_type": "code",
   "execution_count": 9,
   "id": "f5510df5-7e7b-4e2e-9656-26b23213c2ce",
   "metadata": {},
   "outputs": [
    {
     "data": {
      "text/plain": [
       "7"
      ]
     },
     "execution_count": 9,
     "metadata": {},
     "output_type": "execute_result"
    }
   ],
   "source": [
    "len(numbers)"
   ]
  },
  {
   "cell_type": "code",
   "execution_count": 11,
   "id": "5bf4a125-bd3b-4745-9fc0-6f99dc4be10b",
   "metadata": {},
   "outputs": [
    {
     "data": {
      "text/plain": [
       "[11, 12, 13, 14]"
      ]
     },
     "execution_count": 11,
     "metadata": {},
     "output_type": "execute_result"
    }
   ],
   "source": [
    "numbers[4]"
   ]
  },
  {
   "cell_type": "code",
   "execution_count": 13,
   "id": "f4e796e3-098e-4fe4-8d73-dddb883e5da0",
   "metadata": {},
   "outputs": [
    {
     "data": {
      "text/plain": [
       "13"
      ]
     },
     "execution_count": 13,
     "metadata": {},
     "output_type": "execute_result"
    }
   ],
   "source": [
    "numbers[4][2]"
   ]
  },
  {
   "cell_type": "code",
   "execution_count": 15,
   "id": "12da3973-4230-4d78-b083-0eba9bebf52a",
   "metadata": {},
   "outputs": [],
   "source": [
    "numbers.append(\"Pakistan\")"
   ]
  },
  {
   "cell_type": "code",
   "execution_count": 17,
   "id": "5a001792-9794-4d45-8cf3-32c3f59fd25d",
   "metadata": {},
   "outputs": [
    {
     "data": {
      "text/plain": [
       "[2, 3, 4, 5, [11, 12, 13, 14], 7, 8, 'Pakistan']"
      ]
     },
     "execution_count": 17,
     "metadata": {},
     "output_type": "execute_result"
    }
   ],
   "source": [
    "numbers"
   ]
  },
  {
   "cell_type": "code",
   "execution_count": 19,
   "id": "946c9090-0da3-4196-aa22-f49b4617eb49",
   "metadata": {},
   "outputs": [
    {
     "data": {
      "text/plain": [
       "'n'"
      ]
     },
     "execution_count": 19,
     "metadata": {},
     "output_type": "execute_result"
    }
   ],
   "source": [
    "numbers[-1][-1]"
   ]
  },
  {
   "cell_type": "code",
   "execution_count": 21,
   "id": "44263895-9bb5-48d5-a264-58c47e553dee",
   "metadata": {},
   "outputs": [
    {
     "data": {
      "text/plain": [
       "'t'"
      ]
     },
     "execution_count": 21,
     "metadata": {},
     "output_type": "execute_result"
    }
   ],
   "source": [
    "numbers[-1][-3]"
   ]
  },
  {
   "cell_type": "code",
   "execution_count": 23,
   "id": "152c4ef7-9ee0-4382-a2ec-3d00b2d99f5f",
   "metadata": {},
   "outputs": [
    {
     "data": {
      "text/plain": [
       "'kist'"
      ]
     },
     "execution_count": 23,
     "metadata": {},
     "output_type": "execute_result"
    }
   ],
   "source": [
    "numbers[-1][2:6]"
   ]
  },
  {
   "cell_type": "code",
   "execution_count": 56,
   "id": "c7827899-1c2f-479e-8469-35d91e4e352e",
   "metadata": {},
   "outputs": [
    {
     "data": {
      "text/plain": [
       "[2, 3, 4, 5, [11, 12, 13, 14], 7, 800, 'Pakistan']"
      ]
     },
     "execution_count": 56,
     "metadata": {},
     "output_type": "execute_result"
    }
   ],
   "source": [
    "# repalce the value at index -2 with new value 800\n",
    "numbers[-2] = 800\n",
    "numbers"
   ]
  },
  {
   "cell_type": "code",
   "execution_count": 27,
   "id": "4e8d4e2c-ae1a-4c49-9b85-55b23d5e8dcd",
   "metadata": {},
   "outputs": [
    {
     "data": {
      "text/plain": [
       "'atsi'"
      ]
     },
     "execution_count": 27,
     "metadata": {},
     "output_type": "execute_result"
    }
   ],
   "source": [
    "numbers[-1][6:2:-1]"
   ]
  },
  {
   "cell_type": "markdown",
   "id": "2001dd5c-56e8-423f-ad8e-db2b3acc0265",
   "metadata": {},
   "source": [
    "# Dictionary\n",
    " - {key:value}\n",
    " - Mutable\n",
    " - Iterable\n",
    " - More descriptive than a list\n"
   ]
  },
  {
   "cell_type": "code",
   "execution_count": 31,
   "id": "1cbb446a-f790-4189-b9e4-40cfd69afde6",
   "metadata": {},
   "outputs": [],
   "source": [
    "profile = {}"
   ]
  },
  {
   "cell_type": "code",
   "execution_count": 33,
   "id": "2e6256c6-9e6e-4a88-8943-a8d909322aa1",
   "metadata": {},
   "outputs": [
    {
     "data": {
      "text/plain": [
       "dict"
      ]
     },
     "execution_count": 33,
     "metadata": {},
     "output_type": "execute_result"
    }
   ],
   "source": [
    "type(profile)"
   ]
  },
  {
   "cell_type": "code",
   "execution_count": 35,
   "id": "6294e8d3-c5eb-43c5-be0f-10e6eb396b19",
   "metadata": {},
   "outputs": [
    {
     "data": {
      "text/plain": [
       "0"
      ]
     },
     "execution_count": 35,
     "metadata": {},
     "output_type": "execute_result"
    }
   ],
   "source": [
    "len(profile)"
   ]
  },
  {
   "cell_type": "code",
   "execution_count": 65,
   "id": "d951814e-ded0-4ea3-bfbe-de5535766fd4",
   "metadata": {},
   "outputs": [],
   "source": [
    "profile = {'name':'Ali', \"name\":\"Papoo\", 'age':28, 'height':5.8, 'weight':60,'qualification':'Graduate'}"
   ]
  },
  {
   "cell_type": "markdown",
   "id": "e88ba323-369b-47c9-bf07-2d296e3ca471",
   "metadata": {},
   "source": [
    "Note: Keys can be string, int, tuple\n",
    "      \n",
    "    Values: int, float, string, boolean, list, dictionary, tuple, set"
   ]
  },
  {
   "cell_type": "code",
   "execution_count": 44,
   "id": "761649be-fe04-4733-bb84-f03fd654b641",
   "metadata": {},
   "outputs": [
    {
     "data": {
      "text/plain": [
       "5"
      ]
     },
     "execution_count": 44,
     "metadata": {},
     "output_type": "execute_result"
    }
   ],
   "source": [
    "len(profile)"
   ]
  },
  {
   "cell_type": "markdown",
   "id": "6fb1d4b9-0138-401c-b1f9-d2a9c78bef78",
   "metadata": {},
   "source": [
    "# Accessing Member in a Dictionary"
   ]
  },
  {
   "cell_type": "code",
   "execution_count": 48,
   "id": "75e40642-9b14-4840-88c5-fd8c981c0f9a",
   "metadata": {},
   "outputs": [
    {
     "data": {
      "text/plain": [
       "'Ali'"
      ]
     },
     "execution_count": 48,
     "metadata": {},
     "output_type": "execute_result"
    }
   ],
   "source": [
    "profile['name']"
   ]
  },
  {
   "cell_type": "code",
   "execution_count": 50,
   "id": "810841f1-3e72-4389-9b1d-bb3f9d1bd994",
   "metadata": {},
   "outputs": [
    {
     "data": {
      "text/plain": [
       "28"
      ]
     },
     "execution_count": 50,
     "metadata": {},
     "output_type": "execute_result"
    }
   ],
   "source": [
    "profile['age']"
   ]
  },
  {
   "cell_type": "code",
   "execution_count": 52,
   "id": "d9f867a3-8da9-4573-8c0a-cab8a463a7e4",
   "metadata": {},
   "outputs": [
    {
     "data": {
      "text/plain": [
       "5.8"
      ]
     },
     "execution_count": 52,
     "metadata": {},
     "output_type": "execute_result"
    }
   ],
   "source": [
    "profile['height']"
   ]
  },
  {
   "cell_type": "markdown",
   "id": "69a89a2b-50f2-4fb9-89ac-5733d31ceb8d",
   "metadata": {},
   "source": [
    "# Adding member in existing dictionary"
   ]
  },
  {
   "cell_type": "code",
   "execution_count": 67,
   "id": "a5026287-3a94-4f04-b525-2434a88a566b",
   "metadata": {},
   "outputs": [
    {
     "data": {
      "text/plain": [
       "{'name': 'Papoo',\n",
       " 'age': 28,\n",
       " 'height': 5.8,\n",
       " 'weight': 60,\n",
       " 'qualification': 'Graduate',\n",
       " 'email': 'abc@gmail.com'}"
      ]
     },
     "execution_count": 67,
     "metadata": {},
     "output_type": "execute_result"
    }
   ],
   "source": [
    "# if key exists, it will replace the value with new value\n",
    "# if key doesnot exist , new key:value pair will be created\n",
    "profile['email'] = 'abc@gmail.com'\n",
    "profile"
   ]
  },
  {
   "cell_type": "code",
   "execution_count": 69,
   "id": "699d1add-1d97-4281-836a-df8b8e6baeda",
   "metadata": {},
   "outputs": [
    {
     "data": {
      "text/plain": [
       "dict_keys(['name', 'age', 'height', 'weight', 'qualification', 'email'])"
      ]
     },
     "execution_count": 69,
     "metadata": {},
     "output_type": "execute_result"
    }
   ],
   "source": [
    "profile.keys()"
   ]
  },
  {
   "cell_type": "code",
   "execution_count": 71,
   "id": "d0632d04-b9dd-472b-9d99-46e10e661df6",
   "metadata": {},
   "outputs": [
    {
     "data": {
      "text/plain": [
       "dict_values(['Papoo', 28, 5.8, 60, 'Graduate', 'abc@gmail.com'])"
      ]
     },
     "execution_count": 71,
     "metadata": {},
     "output_type": "execute_result"
    }
   ],
   "source": [
    "profile.values()"
   ]
  },
  {
   "cell_type": "code",
   "execution_count": 73,
   "id": "8b366985-5810-48fd-97fb-218d4312d9e0",
   "metadata": {},
   "outputs": [
    {
     "data": {
      "text/plain": [
       "dict_items([('name', 'Papoo'), ('age', 28), ('height', 5.8), ('weight', 60), ('qualification', 'Graduate'), ('email', 'abc@gmail.com')])"
      ]
     },
     "execution_count": 73,
     "metadata": {},
     "output_type": "execute_result"
    }
   ],
   "source": [
    "profile.items()"
   ]
  },
  {
   "cell_type": "code",
   "execution_count": 75,
   "id": "551ba7b1-556b-4d3c-accc-448128c57acc",
   "metadata": {},
   "outputs": [
    {
     "ename": "TypeError",
     "evalue": "pop expected at least 1 argument, got 0",
     "output_type": "error",
     "traceback": [
      "\u001b[1;31m---------------------------------------------------------------------------\u001b[0m",
      "\u001b[1;31mTypeError\u001b[0m                                 Traceback (most recent call last)",
      "Cell \u001b[1;32mIn[75], line 1\u001b[0m\n\u001b[1;32m----> 1\u001b[0m profile\u001b[38;5;241m.\u001b[39mpop()\n",
      "\u001b[1;31mTypeError\u001b[0m: pop expected at least 1 argument, got 0"
     ]
    }
   ],
   "source": [
    "profile.pop()"
   ]
  },
  {
   "cell_type": "code",
   "execution_count": 77,
   "id": "bdd75f0e-896f-426b-87f9-f893d4a1238d",
   "metadata": {},
   "outputs": [
    {
     "data": {
      "text/plain": [
       "60"
      ]
     },
     "execution_count": 77,
     "metadata": {},
     "output_type": "execute_result"
    }
   ],
   "source": [
    "profile.pop('weight')"
   ]
  },
  {
   "cell_type": "code",
   "execution_count": 79,
   "id": "4a100934-3239-4b9f-8b49-224f0ebd7969",
   "metadata": {},
   "outputs": [
    {
     "data": {
      "text/plain": [
       "{'name': 'Papoo',\n",
       " 'age': 28,\n",
       " 'height': 5.8,\n",
       " 'qualification': 'Graduate',\n",
       " 'email': 'abc@gmail.com'}"
      ]
     },
     "execution_count": 79,
     "metadata": {},
     "output_type": "execute_result"
    }
   ],
   "source": [
    "profile"
   ]
  },
  {
   "cell_type": "code",
   "execution_count": 81,
   "id": "7cdfd714-a27d-4def-9640-4c7030a5d0de",
   "metadata": {},
   "outputs": [
    {
     "data": {
      "text/plain": [
       "('email', 'abc@gmail.com')"
      ]
     },
     "execution_count": 81,
     "metadata": {},
     "output_type": "execute_result"
    }
   ],
   "source": [
    "profile.popitem()"
   ]
  },
  {
   "cell_type": "code",
   "execution_count": 85,
   "id": "0d2179ad-59e3-4cda-9a56-b109dac23314",
   "metadata": {},
   "outputs": [
    {
     "data": {
      "text/plain": [
       "{'name': 'Papoo', 'age': 28, 'height': 5.8, 'qualification': 'Graduate'}"
      ]
     },
     "execution_count": 85,
     "metadata": {},
     "output_type": "execute_result"
    }
   ],
   "source": [
    "profile"
   ]
  },
  {
   "cell_type": "code",
   "execution_count": 87,
   "id": "e0c0aede-3590-4b65-b92b-9decb6315d56",
   "metadata": {},
   "outputs": [
    {
     "data": {
      "text/plain": [
       "('qualification', 'Graduate')"
      ]
     },
     "execution_count": 87,
     "metadata": {},
     "output_type": "execute_result"
    }
   ],
   "source": [
    "profile.popitem()"
   ]
  },
  {
   "cell_type": "code",
   "execution_count": 89,
   "id": "25846aee-3f00-421b-9c6a-3a27436f2cc7",
   "metadata": {},
   "outputs": [],
   "source": [
    "reserach_areas = {'CompSc':\"Ai\", \"Phy\":\"QunatumTheory\"}"
   ]
  },
  {
   "cell_type": "code",
   "execution_count": 91,
   "id": "0b36a086-ec37-45f2-9fbd-7dd454fc05eb",
   "metadata": {},
   "outputs": [
    {
     "data": {
      "text/plain": [
       "{'CompSc': 'Ai', 'Phy': 'QunatumTheory'}"
      ]
     },
     "execution_count": 91,
     "metadata": {},
     "output_type": "execute_result"
    }
   ],
   "source": [
    "reserach_areas"
   ]
  },
  {
   "cell_type": "code",
   "execution_count": 93,
   "id": "12b21072-9fe1-4fe3-b2c2-7103ef23dcfd",
   "metadata": {},
   "outputs": [
    {
     "data": {
      "text/plain": [
       "{'name': 'Papoo',\n",
       " 'age': 28,\n",
       " 'height': 5.8,\n",
       " 'research': {'CompSc': 'Ai', 'Phy': 'QunatumTheory'}}"
      ]
     },
     "execution_count": 93,
     "metadata": {},
     "output_type": "execute_result"
    }
   ],
   "source": [
    "profile['research'] = reserach_areas\n",
    "profile"
   ]
  },
  {
   "cell_type": "code",
   "execution_count": 95,
   "id": "4cbc63a6-5745-46b7-9791-32a5817b604d",
   "metadata": {},
   "outputs": [],
   "source": [
    "profile.update(reserach_areas)"
   ]
  },
  {
   "cell_type": "code",
   "execution_count": 97,
   "id": "ef3c817d-8157-4604-a5a6-b967c2e4e644",
   "metadata": {},
   "outputs": [
    {
     "data": {
      "text/plain": [
       "{'name': 'Papoo',\n",
       " 'age': 28,\n",
       " 'height': 5.8,\n",
       " 'research': {'CompSc': 'Ai', 'Phy': 'QunatumTheory'},\n",
       " 'CompSc': 'Ai',\n",
       " 'Phy': 'QunatumTheory'}"
      ]
     },
     "execution_count": 97,
     "metadata": {},
     "output_type": "execute_result"
    }
   ],
   "source": [
    "profile"
   ]
  },
  {
   "cell_type": "code",
   "execution_count": 99,
   "id": "c4cd51fa-a3ca-410e-ab45-42af20b695f8",
   "metadata": {},
   "outputs": [],
   "source": [
    "del profile['research']"
   ]
  },
  {
   "cell_type": "code",
   "execution_count": 101,
   "id": "fcf6f2c6-89a3-43ce-a608-c2fdc46cefa6",
   "metadata": {},
   "outputs": [
    {
     "data": {
      "text/plain": [
       "{'name': 'Papoo',\n",
       " 'age': 28,\n",
       " 'height': 5.8,\n",
       " 'CompSc': 'Ai',\n",
       " 'Phy': 'QunatumTheory'}"
      ]
     },
     "execution_count": 101,
     "metadata": {},
     "output_type": "execute_result"
    }
   ],
   "source": [
    "profile"
   ]
  },
  {
   "cell_type": "markdown",
   "id": "7a16bb81-5f97-4f03-aa07-bdabc04c3405",
   "metadata": {},
   "source": [
    "# List in a Dictionary\n",
    "# Dictionary in a list\n",
    "# Dictioary in a Dictioary"
   ]
  },
  {
   "cell_type": "markdown",
   "id": "ec396a28-bc1e-4ee0-b464-a8aa9a5f54b2",
   "metadata": {},
   "source": [
    "### List in a dictionary"
   ]
  },
  {
   "cell_type": "code",
   "execution_count": 106,
   "id": "fc99c146-a000-4b5e-b773-f1d723995010",
   "metadata": {},
   "outputs": [],
   "source": [
    "report  = {'name':['asad','ali','danish','anas','riaz','nasir'],\n",
    "           'roll':[1,2,3,4,5,6],\n",
    "           'course':['python', 'stats','ai', 'python','ML'],\n",
    "           'marks':[90,67,78,90,65,87]}"
   ]
  },
  {
   "cell_type": "code",
   "execution_count": 108,
   "id": "20eddbbe-10a6-43b8-a706-7e2c961455a3",
   "metadata": {},
   "outputs": [
    {
     "data": {
      "text/plain": [
       "{'name': ['asad', 'ali', 'danish', 'anas', 'riaz', 'nasir'],\n",
       " 'roll': [1, 2, 3, 4, 5, 6],\n",
       " 'course': ['python', 'stats', 'ai', 'python', 'ML'],\n",
       " 'marks': [90, 67, 78, 90, 65, 87]}"
      ]
     },
     "execution_count": 108,
     "metadata": {},
     "output_type": "execute_result"
    }
   ],
   "source": [
    "report"
   ]
  },
  {
   "cell_type": "code",
   "execution_count": 112,
   "id": "7fde53e3-868a-4f9f-a218-c3ef3cd1ba30",
   "metadata": {},
   "outputs": [
    {
     "data": {
      "text/plain": [
       "'ai'"
      ]
     },
     "execution_count": 112,
     "metadata": {},
     "output_type": "execute_result"
    }
   ],
   "source": [
    "report['course'][2]"
   ]
  },
  {
   "cell_type": "code",
   "execution_count": 114,
   "id": "f389813f-54f6-48c1-b874-ab2175bcc171",
   "metadata": {},
   "outputs": [
    {
     "data": {
      "text/plain": [
       "'ali'"
      ]
     },
     "execution_count": 114,
     "metadata": {},
     "output_type": "execute_result"
    }
   ],
   "source": [
    "report['name'][1]"
   ]
  },
  {
   "cell_type": "markdown",
   "id": "73adaa0f-ac68-4c89-965d-11fb9e05a209",
   "metadata": {},
   "source": [
    "### Dictionary in List"
   ]
  },
  {
   "cell_type": "code",
   "execution_count": 118,
   "id": "1970bee2-dcf0-4df7-a2d9-5934b45accbc",
   "metadata": {},
   "outputs": [],
   "source": [
    "students = [ {'name':'Asad', 'roll':123, 'course':'Python'},\n",
    "             {'name':'Danial', 'roll':124, 'course':'Ai'},\n",
    "             {'name':'Yasir', 'roll':100, 'course':'Python'},\n",
    "             {'name':'Umer', 'roll':113, 'course':'ML'}  ]"
   ]
  },
  {
   "cell_type": "code",
   "execution_count": 120,
   "id": "ddb09ed3-c067-4ff7-9b41-f6a44c04c0c5",
   "metadata": {},
   "outputs": [
    {
     "data": {
      "text/plain": [
       "4"
      ]
     },
     "execution_count": 120,
     "metadata": {},
     "output_type": "execute_result"
    }
   ],
   "source": [
    "len(students)"
   ]
  },
  {
   "cell_type": "code",
   "execution_count": 124,
   "id": "d553f397-28a6-4bf1-8658-47f8ea00f382",
   "metadata": {},
   "outputs": [
    {
     "data": {
      "text/plain": [
       "3"
      ]
     },
     "execution_count": 124,
     "metadata": {},
     "output_type": "execute_result"
    }
   ],
   "source": [
    "len(students[1])"
   ]
  },
  {
   "cell_type": "code",
   "execution_count": 126,
   "id": "748398e2-07e5-409b-b3dd-221ea40371a2",
   "metadata": {},
   "outputs": [
    {
     "data": {
      "text/plain": [
       "'Umer'"
      ]
     },
     "execution_count": 126,
     "metadata": {},
     "output_type": "execute_result"
    }
   ],
   "source": [
    "students[3]['name']"
   ]
  },
  {
   "cell_type": "code",
   "execution_count": 130,
   "id": "2f4b46ce-e6f5-46cb-97dd-f20a321a277c",
   "metadata": {},
   "outputs": [
    {
     "data": {
      "text/plain": [
       "'ML'"
      ]
     },
     "execution_count": 130,
     "metadata": {},
     "output_type": "execute_result"
    }
   ],
   "source": [
    "students[3]['course']"
   ]
  },
  {
   "cell_type": "markdown",
   "id": "6d74525b-a229-413e-bb8c-052cad26b54d",
   "metadata": {},
   "source": [
    "### Dictionary in Dictionary"
   ]
  },
  {
   "cell_type": "code",
   "execution_count": 142,
   "id": "f894f776-7db4-49f2-b4bf-71a3c349c309",
   "metadata": {},
   "outputs": [],
   "source": [
    "student = { \n",
    "             \"names\":{\"first_name\":\"Nasir\", \"last_name\":\"Hussain\"}  , \n",
    "             \"course\":{\"enrolled\":\"Python\", 'dropped':'Ai'} , \n",
    "             \"emails\":{\"current\":\"abc@gmail.com\", \"previous\":\"xyz@gmail.com\"}    \n",
    "           }"
   ]
  },
  {
   "cell_type": "code",
   "execution_count": 144,
   "id": "541bcaad-e28b-4e20-9ef7-bb39c7c5f421",
   "metadata": {},
   "outputs": [
    {
     "data": {
      "text/plain": [
       "3"
      ]
     },
     "execution_count": 144,
     "metadata": {},
     "output_type": "execute_result"
    }
   ],
   "source": [
    "len(student)"
   ]
  },
  {
   "cell_type": "code",
   "execution_count": 146,
   "id": "549647c4-2ee9-4fa9-b295-d3b9e6ff4e33",
   "metadata": {},
   "outputs": [
    {
     "data": {
      "text/plain": [
       "'Ai'"
      ]
     },
     "execution_count": 146,
     "metadata": {},
     "output_type": "execute_result"
    }
   ],
   "source": [
    "student['course']['dropped']"
   ]
  },
  {
   "cell_type": "markdown",
   "id": "9c7f738e-b186-4906-85ea-0b5304ef5a68",
   "metadata": {},
   "source": [
    "# Operators : \n",
    "###              in: membership checking operator\n",
    "###             is: identity check operator\n",
    "###             not: negation\n",
    "###             and: logical and \n",
    "###             or: logical   "
   ]
  },
  {
   "cell_type": "code",
   "execution_count": 151,
   "id": "79fd5877-ae45-4694-9fee-86d91870044b",
   "metadata": {},
   "outputs": [],
   "source": [
    "name=['asad','ali','danish','anas','riaz','nasir']"
   ]
  },
  {
   "cell_type": "code",
   "execution_count": 153,
   "id": "85e5743a-9e2f-45e6-bcb1-9f4ecdf36cf8",
   "metadata": {},
   "outputs": [
    {
     "data": {
      "text/plain": [
       "['asad', 'ali', 'danish', 'anas', 'riaz', 'nasir']"
      ]
     },
     "execution_count": 153,
     "metadata": {},
     "output_type": "execute_result"
    }
   ],
   "source": [
    "name"
   ]
  },
  {
   "cell_type": "markdown",
   "id": "00d00fbb-a1e9-4995-8675-f80aae719c3b",
   "metadata": {},
   "source": [
    "# in opaerator: \n",
    "       checks if a member is in collection or not."
   ]
  },
  {
   "cell_type": "code",
   "execution_count": 163,
   "id": "393fdc3a-6da3-4759-aa66-047dc81c1659",
   "metadata": {},
   "outputs": [
    {
     "data": {
      "text/plain": [
       "False"
      ]
     },
     "execution_count": 163,
     "metadata": {},
     "output_type": "execute_result"
    }
   ],
   "source": [
    "\"Anas\" in name"
   ]
  },
  {
   "cell_type": "code",
   "execution_count": 161,
   "id": "5574b933-46ae-4ac4-a0e0-090885e1b513",
   "metadata": {},
   "outputs": [
    {
     "data": {
      "text/plain": [
       "True"
      ]
     },
     "execution_count": 161,
     "metadata": {},
     "output_type": "execute_result"
    }
   ],
   "source": [
    "\"Anas\" not in name"
   ]
  },
  {
   "cell_type": "code",
   "execution_count": 165,
   "id": "0a9f49a9-5c1e-471f-a516-b07f6995b00f",
   "metadata": {},
   "outputs": [
    {
     "data": {
      "text/plain": [
       "True"
      ]
     },
     "execution_count": 165,
     "metadata": {},
     "output_type": "execute_result"
    }
   ],
   "source": [
    "\"a\" in name[3]"
   ]
  },
  {
   "cell_type": "code",
   "execution_count": 169,
   "id": "077582e5-7c3e-446f-9756-2db40ef7a497",
   "metadata": {},
   "outputs": [
    {
     "data": {
      "text/plain": [
       "True"
      ]
     },
     "execution_count": 169,
     "metadata": {},
     "output_type": "execute_result"
    }
   ],
   "source": [
    "'emails' in student"
   ]
  },
  {
   "cell_type": "code",
   "execution_count": 171,
   "id": "5eda8b5b-f717-44f6-a17a-20290368cf96",
   "metadata": {},
   "outputs": [
    {
     "data": {
      "text/plain": [
       "False"
      ]
     },
     "execution_count": 171,
     "metadata": {},
     "output_type": "execute_result"
    }
   ],
   "source": [
    "'dropped' in student"
   ]
  },
  {
   "cell_type": "code",
   "execution_count": 173,
   "id": "c5377040-80a5-4880-a3e4-bd4898031f38",
   "metadata": {},
   "outputs": [],
   "source": [
    "a=10"
   ]
  },
  {
   "cell_type": "code",
   "execution_count": 175,
   "id": "711e23e6-155d-47b5-a938-2750f24a5a42",
   "metadata": {},
   "outputs": [],
   "source": [
    "b= 20"
   ]
  },
  {
   "cell_type": "code",
   "execution_count": 177,
   "id": "a9ebe2a7-9798-4c79-a879-5f85528f81e3",
   "metadata": {},
   "outputs": [
    {
     "data": {
      "text/plain": [
       "False"
      ]
     },
     "execution_count": 177,
     "metadata": {},
     "output_type": "execute_result"
    }
   ],
   "source": [
    "a is b"
   ]
  },
  {
   "cell_type": "code",
   "execution_count": 179,
   "id": "88041aa2-7383-4d92-b3b6-f876abf6a561",
   "metadata": {},
   "outputs": [],
   "source": [
    "c = a"
   ]
  },
  {
   "cell_type": "code",
   "execution_count": 181,
   "id": "146f2404-3ac0-4f0c-95de-2480716496fc",
   "metadata": {},
   "outputs": [
    {
     "data": {
      "text/plain": [
       "140722955299544"
      ]
     },
     "execution_count": 181,
     "metadata": {},
     "output_type": "execute_result"
    }
   ],
   "source": [
    "id(a)"
   ]
  },
  {
   "cell_type": "code",
   "execution_count": 183,
   "id": "2dbdfb65-dfeb-459a-8e42-e72a46974d3e",
   "metadata": {},
   "outputs": [
    {
     "data": {
      "text/plain": [
       "140722955299544"
      ]
     },
     "execution_count": 183,
     "metadata": {},
     "output_type": "execute_result"
    }
   ],
   "source": [
    "id(c)"
   ]
  },
  {
   "cell_type": "code",
   "execution_count": 185,
   "id": "c6be14f6-914a-4d1c-8401-0af663f96e10",
   "metadata": {},
   "outputs": [
    {
     "data": {
      "text/plain": [
       "True"
      ]
     },
     "execution_count": 185,
     "metadata": {},
     "output_type": "execute_result"
    }
   ],
   "source": [
    "a is c"
   ]
  },
  {
   "cell_type": "code",
   "execution_count": 187,
   "id": "17a23092-d6b3-4395-81bc-6ae994d278d4",
   "metadata": {},
   "outputs": [
    {
     "data": {
      "text/plain": [
       "True"
      ]
     },
     "execution_count": 187,
     "metadata": {},
     "output_type": "execute_result"
    }
   ],
   "source": [
    "c is a"
   ]
  },
  {
   "cell_type": "code",
   "execution_count": 189,
   "id": "1fbc141a-bb3f-4d36-9ed6-ff87edfa64ba",
   "metadata": {},
   "outputs": [],
   "source": [
    "d = 20 "
   ]
  },
  {
   "cell_type": "code",
   "execution_count": 191,
   "id": "ff2f7b72-afd7-4c73-9cf0-30ee7517605e",
   "metadata": {},
   "outputs": [
    {
     "data": {
      "text/plain": [
       "True"
      ]
     },
     "execution_count": 191,
     "metadata": {},
     "output_type": "execute_result"
    }
   ],
   "source": [
    "b is d"
   ]
  },
  {
   "cell_type": "code",
   "execution_count": 205,
   "id": "c732eec6-959e-4428-b04e-7076a5c7e211",
   "metadata": {},
   "outputs": [],
   "source": [
    "a = 9\n",
    "c = a\n"
   ]
  },
  {
   "cell_type": "code",
   "execution_count": 207,
   "id": "e61ea1cd-8173-4d71-bcbe-a1c004bf9c45",
   "metadata": {},
   "outputs": [],
   "source": [
    "a = 10"
   ]
  },
  {
   "cell_type": "code",
   "execution_count": 209,
   "id": "4924d009-3635-489a-99cd-1345779fca45",
   "metadata": {},
   "outputs": [
    {
     "data": {
      "text/plain": [
       "9"
      ]
     },
     "execution_count": 209,
     "metadata": {},
     "output_type": "execute_result"
    }
   ],
   "source": [
    "c"
   ]
  },
  {
   "cell_type": "code",
   "execution_count": 201,
   "id": "1a01179f-64b6-4668-8f1d-cc1dc5f8f301",
   "metadata": {},
   "outputs": [
    {
     "data": {
      "text/plain": [
       "140722955299512"
      ]
     },
     "execution_count": 201,
     "metadata": {},
     "output_type": "execute_result"
    }
   ],
   "source": [
    "id(a)"
   ]
  },
  {
   "cell_type": "code",
   "execution_count": 203,
   "id": "b7d4df23-704a-4978-946b-b2e5a686e09d",
   "metadata": {},
   "outputs": [
    {
     "data": {
      "text/plain": [
       "140722955299512"
      ]
     },
     "execution_count": 203,
     "metadata": {},
     "output_type": "execute_result"
    }
   ],
   "source": [
    "id(c)"
   ]
  },
  {
   "cell_type": "code",
   "execution_count": 211,
   "id": "1c2865f5-bc14-4fa4-99b1-6e656145c2f6",
   "metadata": {},
   "outputs": [
    {
     "data": {
      "text/plain": [
       "True"
      ]
     },
     "execution_count": 211,
     "metadata": {},
     "output_type": "execute_result"
    }
   ],
   "source": [
    "a=100\n",
    "b=200\n",
    "c=300\n",
    "\n",
    "a<b or c<b"
   ]
  },
  {
   "cell_type": "raw",
   "id": "ed2b5d11-015b-45f6-9ac4-91b74806c79a",
   "metadata": {},
   "source": [
    "True      or     True           =  True\n",
    "True      or     False          =  True\n",
    "False     or    True          =  True\n",
    "False     or   False          = False \n",
    "\n",
    "\n",
    "True      AND     True           =  True\n",
    "True      AND     False          =  False\n",
    "False     AND      True          =  False\n",
    "False     AND      False         =  False "
   ]
  },
  {
   "cell_type": "code",
   "execution_count": 215,
   "id": "c83611f2-744a-488c-8892-58ba164e095a",
   "metadata": {},
   "outputs": [
    {
     "data": {
      "text/plain": [
       "False"
      ]
     },
     "execution_count": 215,
     "metadata": {},
     "output_type": "execute_result"
    }
   ],
   "source": [
    "a<b and c<b"
   ]
  },
  {
   "cell_type": "code",
   "execution_count": 217,
   "id": "221da9bf-bb83-4f66-bf15-2e5394f497fa",
   "metadata": {},
   "outputs": [
    {
     "data": {
      "text/plain": [
       "12"
      ]
     },
     "execution_count": 217,
     "metadata": {},
     "output_type": "execute_result"
    }
   ],
   "source": [
    "12 or 50 or 20"
   ]
  },
  {
   "cell_type": "code",
   "execution_count": 219,
   "id": "6f360ed9-c765-48b6-8795-16f1211dad8e",
   "metadata": {},
   "outputs": [
    {
     "data": {
      "text/plain": [
       "20"
      ]
     },
     "execution_count": 219,
     "metadata": {},
     "output_type": "execute_result"
    }
   ],
   "source": [
    "12 and 50 and 20"
   ]
  },
  {
   "cell_type": "markdown",
   "id": "26c4c999-b99e-4a9f-8f09-428595b9e377",
   "metadata": {},
   "source": [
    "# Truthy : every value has truthy value"
   ]
  },
  {
   "cell_type": "code",
   "execution_count": 225,
   "id": "79fd6757-fb6c-4bb9-9549-e981a029f34f",
   "metadata": {},
   "outputs": [
    {
     "data": {
      "text/plain": [
       "True"
      ]
     },
     "execution_count": 225,
     "metadata": {},
     "output_type": "execute_result"
    }
   ],
   "source": [
    "bool(\"hello\")"
   ]
  },
  {
   "cell_type": "code",
   "execution_count": 227,
   "id": "2a9f1b0a-c0c4-41ca-b747-0e7c826a55af",
   "metadata": {},
   "outputs": [
    {
     "data": {
      "text/plain": [
       "False"
      ]
     },
     "execution_count": 227,
     "metadata": {},
     "output_type": "execute_result"
    }
   ],
   "source": [
    "bool(\"\")"
   ]
  },
  {
   "cell_type": "code",
   "execution_count": 229,
   "id": "da0e3e5f-0fd2-4b8e-8c1b-954622c1760a",
   "metadata": {},
   "outputs": [
    {
     "data": {
      "text/plain": [
       "False"
      ]
     },
     "execution_count": 229,
     "metadata": {},
     "output_type": "execute_result"
    }
   ],
   "source": [
    "bool(0)"
   ]
  },
  {
   "cell_type": "code",
   "execution_count": 231,
   "id": "706d214a-8ad8-424e-a574-a53ae59422d8",
   "metadata": {},
   "outputs": [
    {
     "data": {
      "text/plain": [
       "True"
      ]
     },
     "execution_count": 231,
     "metadata": {},
     "output_type": "execute_result"
    }
   ],
   "source": [
    "bool(1)"
   ]
  },
  {
   "cell_type": "code",
   "execution_count": 233,
   "id": "f6a78dd6-ccd9-46f4-80f5-3bca49e410de",
   "metadata": {},
   "outputs": [
    {
     "data": {
      "text/plain": [
       "True"
      ]
     },
     "execution_count": 233,
     "metadata": {},
     "output_type": "execute_result"
    }
   ],
   "source": [
    "bool(12)"
   ]
  },
  {
   "cell_type": "code",
   "execution_count": 235,
   "id": "abe9bf45-d25a-427e-8e02-1a19e4bbd99c",
   "metadata": {},
   "outputs": [
    {
     "data": {
      "text/plain": [
       "True"
      ]
     },
     "execution_count": 235,
     "metadata": {},
     "output_type": "execute_result"
    }
   ],
   "source": [
    "bool([1,3])"
   ]
  },
  {
   "cell_type": "code",
   "execution_count": 237,
   "id": "61e21776-7add-4939-b888-7b8cc3e62b52",
   "metadata": {},
   "outputs": [
    {
     "data": {
      "text/plain": [
       "False"
      ]
     },
     "execution_count": 237,
     "metadata": {},
     "output_type": "execute_result"
    }
   ],
   "source": [
    "bool([])"
   ]
  },
  {
   "cell_type": "code",
   "execution_count": 239,
   "id": "01ceb1ec-6a6f-4e83-9854-34be8fe4f87f",
   "metadata": {},
   "outputs": [
    {
     "data": {
      "text/plain": [
       "12"
      ]
     },
     "execution_count": 239,
     "metadata": {},
     "output_type": "execute_result"
    }
   ],
   "source": [
    "12 or 50 or 20"
   ]
  },
  {
   "cell_type": "code",
   "execution_count": 241,
   "id": "08e7e64f-0ee6-4f23-a92e-c5a7237b6292",
   "metadata": {},
   "outputs": [
    {
     "data": {
      "text/plain": [
       "20"
      ]
     },
     "execution_count": 241,
     "metadata": {},
     "output_type": "execute_result"
    }
   ],
   "source": [
    "12 and 50 and 20"
   ]
  },
  {
   "cell_type": "code",
   "execution_count": null,
   "id": "7f62048b-2127-4c3e-ab30-5b846b9c34a1",
   "metadata": {},
   "outputs": [],
   "source": []
  }
 ],
 "metadata": {
  "kernelspec": {
   "display_name": "Python 3 (ipykernel)",
   "language": "python",
   "name": "python3"
  },
  "language_info": {
   "codemirror_mode": {
    "name": "ipython",
    "version": 3
   },
   "file_extension": ".py",
   "mimetype": "text/x-python",
   "name": "python",
   "nbconvert_exporter": "python",
   "pygments_lexer": "ipython3",
   "version": "3.12.7"
  }
 },
 "nbformat": 4,
 "nbformat_minor": 5
}
